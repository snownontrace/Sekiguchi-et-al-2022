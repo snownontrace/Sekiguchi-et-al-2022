{
 "cells": [
  {
   "cell_type": "code",
   "execution_count": 1,
   "metadata": {},
   "outputs": [
    {
     "name": "stdout",
     "output_type": "stream",
     "text": [
      "mkdir: ../jupyter_figures: File exists\n"
     ]
    }
   ],
   "source": [
    "import sys, os, glob, warnings, logging\n",
    "import numpy as np\n",
    "import pandas as pd\n",
    "import matplotlib\n",
    "import matplotlib.pyplot as plt\n",
    "import seaborn as sns\n",
    "from scipy import stats\n",
    "from sw_plotting import change_bar_width, plotCountBar\n",
    "from sw_utilities import tukeyTest\n",
    "\n",
    "logging.basicConfig(stream=sys.stdout, format='%(asctime)s - %(levelname)s - %(message)s', level=logging.ERROR)\n",
    "# logging.basicConfig(stream=sys.stdout, format='%(asctime)s - %(levelname)s - %(message)s', level=logging.INFO)\n",
    "# logging.basicConfig(stream=sys.stdout, format='%(asctime)s - %(levelname)s - %(message)s', level=logging.DEBUG)\n",
    "\n",
    "# ignore warnings\n",
    "warnings.filterwarnings('ignore')\n",
    "\n",
    "# plotting configuration\n",
    "font = {'family' : 'Arial',\n",
    "        'size'   : 7}\n",
    "matplotlib.rc('font', **font)\n",
    "plt.rcParams['svg.fonttype'] = 'none'\n",
    "\n",
    "# Make a folder if it is not already there to store exported figures\n",
    "!mkdir ../jupyter_figures\n"
   ]
  },
  {
   "cell_type": "code",
   "execution_count": 2,
   "metadata": {},
   "outputs": [
    {
     "data": {
      "text/html": [
       "<div>\n",
       "<style scoped>\n",
       "    .dataframe tbody tr th:only-of-type {\n",
       "        vertical-align: middle;\n",
       "    }\n",
       "\n",
       "    .dataframe tbody tr th {\n",
       "        vertical-align: top;\n",
       "    }\n",
       "\n",
       "    .dataframe thead th {\n",
       "        text-align: right;\n",
       "    }\n",
       "</style>\n",
       "<table border=\"1\" class=\"dataframe\">\n",
       "  <thead>\n",
       "    <tr style=\"text-align: right;\">\n",
       "      <th></th>\n",
       "      <th>index</th>\n",
       "      <th>file_name</th>\n",
       "      <th>mean_intensity</th>\n",
       "      <th>groups</th>\n",
       "      <th>gland_id</th>\n",
       "      <th>sample_id</th>\n",
       "    </tr>\n",
       "  </thead>\n",
       "  <tbody>\n",
       "    <tr>\n",
       "      <th>0</th>\n",
       "      <td>0</td>\n",
       "      <td>epi1-1.nd2</td>\n",
       "      <td>1.256417</td>\n",
       "      <td>sg-Control</td>\n",
       "      <td>1</td>\n",
       "      <td>sg-Control_1</td>\n",
       "    </tr>\n",
       "    <tr>\n",
       "      <th>1</th>\n",
       "      <td>1</td>\n",
       "      <td>epi1-2.nd2</td>\n",
       "      <td>0.953481</td>\n",
       "      <td>sg-Control</td>\n",
       "      <td>1</td>\n",
       "      <td>sg-Control_1</td>\n",
       "    </tr>\n",
       "    <tr>\n",
       "      <th>2</th>\n",
       "      <td>2</td>\n",
       "      <td>epi1-3.nd2</td>\n",
       "      <td>0.941935</td>\n",
       "      <td>sg-Control</td>\n",
       "      <td>1</td>\n",
       "      <td>sg-Control_1</td>\n",
       "    </tr>\n",
       "    <tr>\n",
       "      <th>3</th>\n",
       "      <td>3</td>\n",
       "      <td>epi2-1.nd2</td>\n",
       "      <td>1.059278</td>\n",
       "      <td>sg-Control</td>\n",
       "      <td>2</td>\n",
       "      <td>sg-Control_2</td>\n",
       "    </tr>\n",
       "    <tr>\n",
       "      <th>4</th>\n",
       "      <td>4</td>\n",
       "      <td>epi2-2.nd2</td>\n",
       "      <td>0.841262</td>\n",
       "      <td>sg-Control</td>\n",
       "      <td>2</td>\n",
       "      <td>sg-Control_2</td>\n",
       "    </tr>\n",
       "  </tbody>\n",
       "</table>\n",
       "</div>"
      ],
      "text/plain": [
       "   index   file_name  mean_intensity      groups gland_id     sample_id\n",
       "0      0  epi1-1.nd2        1.256417  sg-Control        1  sg-Control_1\n",
       "1      1  epi1-2.nd2        0.953481  sg-Control        1  sg-Control_1\n",
       "2      2  epi1-3.nd2        0.941935  sg-Control        1  sg-Control_1\n",
       "3      3  epi2-1.nd2        1.059278  sg-Control        2  sg-Control_2\n",
       "4      4  epi2-2.nd2        0.841262  sg-Control        2  sg-Control_2"
      ]
     },
     "execution_count": 2,
     "metadata": {},
     "output_type": "execute_result"
    }
   ],
   "source": [
    "input_folder = '../data/190523-CRISPR-KO-SMG-IF-HSP47/'\n",
    "# Read in 1st dataset\n",
    "\n",
    "df0 = pd.read_csv(input_folder+'190523-LV-188-control-anti-Hsp47-647-anti-Col4-red-mean-intensity-5478.txt')\n",
    "\n",
    "# average measurements on different z slices for the same image stack\n",
    "df = df0.groupby('file_name').describe()['mean_intensity']['mean'].reset_index()\n",
    "df.rename(columns={'mean': 'mean_intensity'}, inplace=True)\n",
    "\n",
    "# annotate groups and samples (2 epi buds, 3 and 4 FOVs each, 21 z slices per image stack)\n",
    "df['groups'] = ['sg-Control']*len(df)\n",
    "df['gland_id'] = ['1']*3 + ['2']*4\n",
    "df['sample_id'] = [df.groups[i] + '_' + df.gland_id[i] for i in range(len(df))]\n",
    "\n",
    "# pass to new variable\n",
    "df1 = df\n",
    "\n",
    "# Read in 2nd dataset\n",
    "df0 = pd.read_csv(input_folder+'190523-LV-228-anti-Hsp47-647-anti-Col4-red-mean-intensity-4974.txt')\n",
    "\n",
    "# average measurements on different z slices for the same image stack\n",
    "df = df0.groupby('file_name').describe()['mean_intensity']['mean'].reset_index()\n",
    "df.rename(columns={'mean': 'mean_intensity'}, inplace=True)\n",
    "\n",
    "# annotate groups and samples (2 epi buds, 3 and 4 FOVs each, 21 z slices per image stack)\n",
    "df['groups'] = ['sg1-Serpinh1']*len(df)\n",
    "df['gland_id'] = ['1']*3 + ['2']*4\n",
    "df['sample_id'] = [df.groups[i] + '_' + df.gland_id[i] for i in range(len(df))]\n",
    "\n",
    "# pass to new variable\n",
    "df2 = df\n",
    "\n",
    "# Read in 3rd dataset\n",
    "df0 = pd.read_csv(input_folder+'190523-LV-229-anti-Hsp47-647-anti-Col4-red-mean-intensity-7337.txt')\n",
    "\n",
    "# average measurements on different z slices for the same image stack\n",
    "df = df0.groupby('file_name').describe()['mean_intensity']['mean'].reset_index()\n",
    "df.rename(columns={'mean': 'mean_intensity'}, inplace=True)\n",
    "\n",
    "# annotate groups and samples (2 epi buds, 2 FOVs each, 21 z slices per image stack)\n",
    "df['groups'] = ['sg2-Serpinh1']*len(df)\n",
    "df['gland_id'] = ['1']*2 + ['2']*2\n",
    "df['sample_id'] = [df.groups[i] + '_' + df.gland_id[i] for i in range(len(df))]\n",
    "\n",
    "# pass to new variable\n",
    "df3 = df\n",
    "\n",
    "# Read in 4th dataset\n",
    "df0 = pd.read_csv(input_folder+'190523-LV-230-anti-Hsp47-647-anti-Col4-red-mean-intensity-4549.txt')\n",
    "\n",
    "# average measurements on different z slices for the same image stack\n",
    "df = df0.groupby('file_name').describe()['mean_intensity']['mean'].reset_index()\n",
    "df.rename(columns={'mean': 'mean_intensity'}, inplace=True)\n",
    "\n",
    "# annotate groups and samples (2 epi buds, 3 FOVs each)\n",
    "df['groups'] = ['sg3-Serpinh1']*len(df)\n",
    "df['gland_id'] = ['1']*3 + ['2']*3\n",
    "df['sample_id'] = [df.groups[i] + '_' + df.gland_id[i] for i in range(len(df))]\n",
    "\n",
    "# pass to new variable\n",
    "df4 = df\n",
    "\n",
    "# Concatenate the 2 dataframes and reset the index\n",
    "df = pd.concat([df1, df2, df3, df4])\n",
    "df.reset_index(inplace=True)\n",
    "\n",
    "# Normalize intensities by the average of sg-Control\n",
    "df['mean_intensity'] = df['mean_intensity'] / df1.mean_intensity.mean()\n",
    "\n",
    "# Check the header\n",
    "df.head()\n"
   ]
  },
  {
   "cell_type": "code",
   "execution_count": 3,
   "metadata": {},
   "outputs": [
    {
     "data": {
      "text/plain": [
       "<AxesSubplot:xlabel='groups', ylabel='mean_intensity'>"
      ]
     },
     "execution_count": 3,
     "metadata": {},
     "output_type": "execute_result"
    },
    {
     "data": {
      "image/png": "[encoded data removed]",
      "text/plain": [
       "<Figure size 432x288 with 1 Axes>"
      ]
     },
     "metadata": {
      "needs_background": "light"
     },
     "output_type": "display_data"
    }
   ],
   "source": [
    "# quick visulization\n",
    "sns.swarmplot(df.groups, df.mean_intensity)\n",
    "# sns.barplot(df.groups, df.mean_intensity)"
   ]
  },
  {
   "cell_type": "code",
   "execution_count": 4,
   "metadata": {},
   "outputs": [
    {
     "name": "stdout",
     "output_type": "stream",
     "text": [
      "Summary of test:\n",
      "       Multiple Comparison of Means - Tukey HSD, FWER=0.05       \n",
      "================================================================\n",
      "   group1       group2    meandiff p-adj   lower   upper  reject\n",
      "----------------------------------------------------------------\n",
      "  sg-Control sg1-Serpinh1  -0.8044  0.001 -0.9773 -0.6315   True\n",
      "  sg-Control sg2-Serpinh1   -0.636  0.001 -0.8388 -0.4332   True\n",
      "  sg-Control sg3-Serpinh1  -0.7357  0.001 -0.9157 -0.5557   True\n",
      "sg1-Serpinh1 sg2-Serpinh1   0.1684 0.1256 -0.0344  0.3712  False\n",
      "sg1-Serpinh1 sg3-Serpinh1   0.0687 0.6934 -0.1112  0.2487  False\n",
      "sg2-Serpinh1 sg3-Serpinh1  -0.0997 0.5477 -0.3085  0.1091  False\n",
      "----------------------------------------------------------------\n",
      "p values of all pair-wise tests:\n",
      " [0.001      0.001      0.001      0.12562561 0.69336076 0.54766578]\n"
     ]
    },
    {
     "data": {
      "text/plain": [
       "<statsmodels.sandbox.stats.multicomp.TukeyHSDResults at 0x7f84c9a104c0>"
      ]
     },
     "execution_count": 4,
     "metadata": {},
     "output_type": "execute_result"
    }
   ],
   "source": [
    "# df.head()\n",
    "tukeyTest(df.mean_intensity, df.groups)"
   ]
  },
  {
   "cell_type": "code",
   "execution_count": 5,
   "metadata": {},
   "outputs": [
    {
     "data": {
      "image/png": "[encoded data removed]",
      "text/plain": [
       "<Figure size 240x420 with 1 Axes>"
      ]
     },
     "metadata": {
      "needs_background": "light"
     },
     "output_type": "display_data"
    }
   ],
   "source": [
    "# Swarm plot of 4 categories\n",
    "\n",
    "outputPrefix = '190523-HSP47-epi-ROI-swarm'\n",
    "outputFigPath = \"../jupyter_figures/\" + outputPrefix + \".svg\"\n",
    "\n",
    "fig_width=0.8\n",
    "fig_height=1.4\n",
    "fig = plt.figure(figsize=(fig_width,fig_height), dpi=300)\n",
    "ax = fig.add_axes([0.1, 0.1, 0.8, 0.8])\n",
    "\n",
    "ax = sns.swarmplot(x='groups', y='mean_intensity', data=df,\n",
    "                   hue='gland_id',\n",
    "#                    palette={'1': 'red', '2': 'green', '3': 'blue', '4': yellow', '5': 'purple'},\n",
    "#                    color=\"blue\",\n",
    "                   size=2.0, alpha=.8)\n",
    "\n",
    "ax = sns.barplot(x='groups', y='mean_intensity', data=df,\n",
    "                 color=\".7\", alpha=1.0,\n",
    "                 errwidth=.7, errcolor=\"k\", capsize=.2, ci='sd')\n",
    "\n",
    "plt.ylim(0, 1.8)\n",
    "# plt.yticks([0, 4, 8])\n",
    "\n",
    "plt.xlabel(None)\n",
    "plt.ylabel(\"Mean HSP47 intensity\")\n",
    "\n",
    "# make the bar width narrower\n",
    "change_bar_width(ax, .5)\n",
    "\n",
    "# rotate x tick labels\n",
    "x_labels = ax.get_xticklabels()\n",
    "ax.set_xticklabels(labels=x_labels, rotation=45, ha=\"right\")\n",
    "\n",
    "# Remove legend (symbols representing orgnoids)\n",
    "ax.get_legend().remove()\n",
    "\n",
    "for o in fig.findobj():\n",
    "    o.set_clip_on(False)\n",
    "for o in ax.findobj():\n",
    "    o.set_clip_on(False)\n",
    "\n",
    "if outputFigPath is not None:\n",
    "    plt.savefig(outputFigPath)\n"
   ]
  },
  {
   "cell_type": "code",
   "execution_count": 6,
   "metadata": {},
   "outputs": [
    {
     "data": {
      "text/html": [
       "<div>\n",
       "<style scoped>\n",
       "    .dataframe tbody tr th:only-of-type {\n",
       "        vertical-align: middle;\n",
       "    }\n",
       "\n",
       "    .dataframe tbody tr th {\n",
       "        vertical-align: top;\n",
       "    }\n",
       "\n",
       "    .dataframe thead th {\n",
       "        text-align: right;\n",
       "    }\n",
       "</style>\n",
       "<table border=\"1\" class=\"dataframe\">\n",
       "  <thead>\n",
       "    <tr style=\"text-align: right;\">\n",
       "      <th></th>\n",
       "      <th>count</th>\n",
       "      <th>mean</th>\n",
       "      <th>std</th>\n",
       "      <th>min</th>\n",
       "      <th>25%</th>\n",
       "      <th>50%</th>\n",
       "      <th>75%</th>\n",
       "      <th>max</th>\n",
       "    </tr>\n",
       "    <tr>\n",
       "      <th>groups</th>\n",
       "      <th></th>\n",
       "      <th></th>\n",
       "      <th></th>\n",
       "      <th></th>\n",
       "      <th></th>\n",
       "      <th></th>\n",
       "      <th></th>\n",
       "      <th></th>\n",
       "    </tr>\n",
       "  </thead>\n",
       "  <tbody>\n",
       "    <tr>\n",
       "      <th>sg-Control</th>\n",
       "      <td>7.0</td>\n",
       "      <td>1.000000</td>\n",
       "      <td>0.133765</td>\n",
       "      <td>0.841262</td>\n",
       "      <td>0.930510</td>\n",
       "      <td>0.953481</td>\n",
       "      <td>1.043909</td>\n",
       "      <td>1.256417</td>\n",
       "    </tr>\n",
       "    <tr>\n",
       "      <th>sg1-Serpinh1</th>\n",
       "      <td>7.0</td>\n",
       "      <td>0.195582</td>\n",
       "      <td>0.109826</td>\n",
       "      <td>0.077105</td>\n",
       "      <td>0.099136</td>\n",
       "      <td>0.168279</td>\n",
       "      <td>0.302483</td>\n",
       "      <td>0.320450</td>\n",
       "    </tr>\n",
       "    <tr>\n",
       "      <th>sg2-Serpinh1</th>\n",
       "      <td>4.0</td>\n",
       "      <td>0.363992</td>\n",
       "      <td>0.120840</td>\n",
       "      <td>0.232612</td>\n",
       "      <td>0.310126</td>\n",
       "      <td>0.349433</td>\n",
       "      <td>0.403299</td>\n",
       "      <td>0.524491</td>\n",
       "    </tr>\n",
       "    <tr>\n",
       "      <th>sg3-Serpinh1</th>\n",
       "      <td>6.0</td>\n",
       "      <td>0.264319</td>\n",
       "      <td>0.093387</td>\n",
       "      <td>0.185096</td>\n",
       "      <td>0.209514</td>\n",
       "      <td>0.219051</td>\n",
       "      <td>0.304585</td>\n",
       "      <td>0.423285</td>\n",
       "    </tr>\n",
       "  </tbody>\n",
       "</table>\n",
       "</div>"
      ],
      "text/plain": [
       "              count      mean       std       min       25%       50%  \\\n",
       "groups                                                                  \n",
       "sg-Control      7.0  1.000000  0.133765  0.841262  0.930510  0.953481   \n",
       "sg1-Serpinh1    7.0  0.195582  0.109826  0.077105  0.099136  0.168279   \n",
       "sg2-Serpinh1    4.0  0.363992  0.120840  0.232612  0.310126  0.349433   \n",
       "sg3-Serpinh1    6.0  0.264319  0.093387  0.185096  0.209514  0.219051   \n",
       "\n",
       "                   75%       max  \n",
       "groups                            \n",
       "sg-Control    1.043909  1.256417  \n",
       "sg1-Serpinh1  0.302483  0.320450  \n",
       "sg2-Serpinh1  0.403299  0.524491  \n",
       "sg3-Serpinh1  0.304585  0.423285  "
      ]
     },
     "execution_count": 6,
     "metadata": {},
     "output_type": "execute_result"
    }
   ],
   "source": [
    "# get descriptive stats for all groups\n",
    "df.groupby('groups').describe()['mean_intensity']"
   ]
  },
  {
   "cell_type": "code",
   "execution_count": null,
   "metadata": {},
   "outputs": [],
   "source": []
  }
 ],
 "metadata": {
  "kernelspec": {
   "display_name": "Python 3 (ipykernel)",
   "language": "python",
   "name": "python3"
  },
  "language_info": {
   "codemirror_mode": {
    "name": "ipython",
    "version": 3
   },
   "file_extension": ".py",
   "mimetype": "text/x-python",
   "name": "python",
   "nbconvert_exporter": "python",
   "pygments_lexer": "ipython3",
   "version": "3.9.5"
  }
 },
 "nbformat": 4,
 "nbformat_minor": 4
}
