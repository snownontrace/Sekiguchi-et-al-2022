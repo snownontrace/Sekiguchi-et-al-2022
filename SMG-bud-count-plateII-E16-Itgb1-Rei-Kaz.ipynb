{
 "cells": [
  {
   "cell_type": "code",
   "execution_count": 1,
   "metadata": {},
   "outputs": [
    {
     "name": "stdout",
     "output_type": "stream",
     "text": [
      "mkdir: ../jupyter_figures: File exists\n"
     ]
    }
   ],
   "source": [
    "import sys, os, glob, warnings, logging\n",
    "import numpy as np\n",
    "import pandas as pd\n",
    "import matplotlib\n",
    "import matplotlib.pyplot as plt\n",
    "import seaborn as sns\n",
    "from sw_plotting import change_bar_width, plotCountBar\n",
    "from sw_utilities import tukeyTest, getCountDFbyPrefix\n",
    "\n",
    "# logging.basicConfig(stream=sys.stdout, format='%(asctime)s - %(levelname)s - %(message)s', level=logging.DEBUG)\n",
    "# logging.basicConfig(stream=sys.stdout, format='%(asctime)s - %(levelname)s - %(message)s', level=logging.INFO)\n",
    "logging.basicConfig(stream=sys.stdout, format='%(asctime)s - %(levelname)s - %(message)s', level=logging.ERROR)\n",
    "\n",
    "# ignore warnings\n",
    "warnings.filterwarnings('ignore')\n",
    "\n",
    "# plotting configuration\n",
    "font = {'family' : 'Arial',\n",
    "        'size'   : 7}\n",
    "matplotlib.rc('font', **font)\n",
    "plt.rcParams['svg.fonttype'] = 'none'\n",
    "\n",
    "# Make a folder if it is not already there to store exported figures\n",
    "!mkdir ../jupyter_figures\n"
   ]
  },
  {
   "cell_type": "code",
   "execution_count": 9,
   "metadata": {},
   "outputs": [],
   "source": [
    "# Read in the count data by Kaz\n",
    "\n",
    "datasetPrefix = '20220513-plateII-day0-E16'\n",
    "datasetFolder = '../data/220509-30-for-bud-count-Kaz/count-all-planes/'\n",
    "df = getCountDFbyPrefix(datasetPrefix, datasetFolder)\n",
    "\n",
    "# - For Itgb1 KO\n",
    "# - Plate C, mouse 1, by Shaohe\n",
    "# - D2-D6, LV-188\n",
    "# - D7-D11, LV-401\n",
    "# - E2-E6, LV-402\n",
    "# - E7-E11, LV-403\n",
    "\n",
    "groups = [\"sg-Control\"]*5 + [\"sg1-Itgb1\"]*5 + [\"sg2-Itgb1\"]*5 + [\"sg3-Itgb1\"]*5\n",
    "df[\"groups\"] = groups\n",
    "\n",
    "df[\"file_name_trimmed\"] = [i[:-12] for i in df.file_name]\n",
    "\n",
    "# This is day 0\n",
    "df.rename(columns={'counts': 'counts_d0'}, inplace=True)\n",
    "\n",
    "df0 = df"
   ]
  },
  {
   "cell_type": "code",
   "execution_count": 10,
   "metadata": {},
   "outputs": [],
   "source": [
    "# Read in the count data by Kaz\n",
    "\n",
    "datasetPrefix = '20220517-plateII-day4-endpoint'\n",
    "datasetFolder = '../data/220509-30-for-bud-count-Kaz/count-single-plane/'\n",
    "df = getCountDFbyPrefix(datasetPrefix, datasetFolder)\n",
    "\n",
    "# - For Itgb1 KO\n",
    "# - Plate C, mouse 1, by Shaohe\n",
    "# - D2-D6, LV-188\n",
    "# - D7-D11, LV-401\n",
    "# - E2-E6, LV-402\n",
    "# - E7-E11, LV-403 -- note that E05, E10 and E11 have no images (out of fields of view)\n",
    "\n",
    "groups = [\"sg-Control\"]*5 + [\"sg1-Itgb1\"]*5 + [\"sg2-Itgb1\"]*4 + [\"sg3-Itgb1\"]*3\n",
    "df[\"groups\"] = groups\n",
    "\n",
    "df[\"file_name_trimmed\"] = [i[:-12] for i in df.file_name]\n",
    "\n",
    "# This is day 4\n",
    "df.rename(columns={'counts': 'counts_d4'}, inplace=True)\n",
    "\n",
    "df4 = df"
   ]
  },
  {
   "cell_type": "code",
   "execution_count": 12,
   "metadata": {
    "tags": []
   },
   "outputs": [
    {
     "name": "stdout",
     "output_type": "stream",
     "text": [
      "Summary of test:\n",
      "     Multiple Comparison of Means - Tukey HSD, FWER=0.05    \n",
      "===========================================================\n",
      "  group1     group2  meandiff p-adj   lower   upper  reject\n",
      "-----------------------------------------------------------\n",
      "sg-Control sg1-Itgb1   -0.631 0.5915 -2.0942  0.8321  False\n",
      "sg-Control sg2-Itgb1  -0.6372  0.624 -2.1891  0.9147  False\n",
      "sg-Control sg3-Itgb1    -1.84 0.0312 -3.5296 -0.1505   True\n",
      " sg1-Itgb1 sg2-Itgb1  -0.0062    0.9 -1.5581  1.5457  False\n",
      " sg1-Itgb1 sg3-Itgb1   -1.209 0.2039 -2.8985  0.4805  False\n",
      " sg2-Itgb1 sg3-Itgb1  -1.2028 0.2381 -2.9697  0.5641  False\n",
      "-----------------------------------------------------------\n",
      "p values of all pair-wise tests:\n",
      " [0.59151963 0.62403806 0.03123855 0.9        0.20391924 0.23810282]\n"
     ]
    },
    {
     "data": {
      "image/png": "[encoded data removed]",
      "text/plain": [
       "<Figure size 432x288 with 1 Axes>"
      ]
     },
     "metadata": {
      "needs_background": "light"
     },
     "output_type": "display_data"
    }
   ],
   "source": [
    "df = df0.merge(df4, on=['file_name_trimmed', 'groups'], how='inner')\n",
    "df['ratio_d4_to_d0'] = df['counts_d4'] / df['counts_d0']\n",
    "\n",
    "# Inspect raw data if curious about how they look\n",
    "ax = sns.swarmplot(df.groups, df.ratio_d4_to_d0)\n",
    "\n",
    "# Perform a Tukey test across groups\n",
    "tukeyTest(df.ratio_d4_to_d0, df.groups)\n",
    "\n",
    "# Use different variables to hold counting data by Kaz or Rei\n",
    "df_Kaz = df"
   ]
  },
  {
   "cell_type": "code",
   "execution_count": 13,
   "metadata": {},
   "outputs": [],
   "source": [
    "# Read in the count data by Rei\n",
    "\n",
    "datasetPrefix = '20220513-plateII-day0-E16'\n",
    "datasetFolder = '../data/220509-30-for-bud-count-Rei/count-all-planes/'\n",
    "df = getCountDFbyPrefix(datasetPrefix, datasetFolder)\n",
    "\n",
    "# - For Itgb1 KO\n",
    "# - Plate C, mouse 1, by Shaohe\n",
    "# - D2-D6, LV-188\n",
    "# - D7-D11, LV-401\n",
    "# - E2-E6, LV-402\n",
    "# - E7-E11, LV-403\n",
    "\n",
    "groups = [\"sg-Control\"]*5 + [\"sg1-Itgb1\"]*5 + [\"sg2-Itgb1\"]*5 + [\"sg3-Itgb1\"]*5\n",
    "df[\"groups\"] = groups\n",
    "\n",
    "df[\"file_name_trimmed\"] = [i[:-12] for i in df.file_name]\n",
    "\n",
    "# This is day 0\n",
    "df.rename(columns={'counts': 'counts_d0'}, inplace=True)\n",
    "\n",
    "df0 = df"
   ]
  },
  {
   "cell_type": "code",
   "execution_count": 14,
   "metadata": {},
   "outputs": [],
   "source": [
    "# Read in the count data by Rei\n",
    "\n",
    "datasetPrefix = '20220517-plateII-day4-endpoint'\n",
    "datasetFolder = '../data/220509-30-for-bud-count-Rei/count-single-plane/'\n",
    "df = getCountDFbyPrefix(datasetPrefix, datasetFolder)\n",
    "\n",
    "# - For Itgb1 KO\n",
    "# - Plate C, mouse 1, by Shaohe\n",
    "# - D2-D6, LV-188\n",
    "# - D7-D11, LV-401\n",
    "# - E2-E6, LV-402\n",
    "# - E7-E11, LV-403 -- note that E05, E10 and E11 have no images (out of fields of view)\n",
    "\n",
    "groups = [\"sg-Control\"]*5 + [\"sg1-Itgb1\"]*5 + [\"sg2-Itgb1\"]*4 + [\"sg3-Itgb1\"]*3\n",
    "df[\"groups\"] = groups\n",
    "\n",
    "df[\"file_name_trimmed\"] = [i[:-12] for i in df.file_name]\n",
    "\n",
    "# This is day 4\n",
    "df.rename(columns={'counts': 'counts_d4'}, inplace=True)\n",
    "\n",
    "df4 = df"
   ]
  },
  {
   "cell_type": "code",
   "execution_count": 15,
   "metadata": {
    "tags": []
   },
   "outputs": [
    {
     "name": "stdout",
     "output_type": "stream",
     "text": [
      "Summary of test:\n",
      "    Multiple Comparison of Means - Tukey HSD, FWER=0.05    \n",
      "==========================================================\n",
      "  group1     group2  meandiff p-adj   lower  upper  reject\n",
      "----------------------------------------------------------\n",
      "sg-Control sg1-Itgb1   0.2153    0.9 -1.5147 1.9452  False\n",
      "sg-Control sg2-Itgb1    0.093    0.9 -1.7419 1.9279  False\n",
      "sg-Control sg3-Itgb1  -0.6625 0.7482 -2.6601 1.3351  False\n",
      " sg1-Itgb1 sg2-Itgb1  -0.1223    0.9 -1.9572 1.7126  False\n",
      " sg1-Itgb1 sg3-Itgb1  -0.8778 0.5787 -2.8754 1.1198  False\n",
      " sg2-Itgb1 sg3-Itgb1  -0.7555  0.701 -2.8446 1.3336  False\n",
      "----------------------------------------------------------\n",
      "p values of all pair-wise tests:\n",
      " [0.9        0.9        0.74816209 0.9        0.57873111 0.70104521]\n"
     ]
    },
    {
     "data": {
      "image/png": "[encoded data removed]",
      "text/plain": [
       "<Figure size 432x288 with 1 Axes>"
      ]
     },
     "metadata": {
      "needs_background": "light"
     },
     "output_type": "display_data"
    }
   ],
   "source": [
    "df = df0.merge(df4, on=['file_name_trimmed', 'groups'], how='inner')\n",
    "df['ratio_d4_to_d0'] = df['counts_d4'] / df['counts_d0']\n",
    "\n",
    "# Inspect raw data if curious about how they look\n",
    "ax = sns.swarmplot(df.groups, df.ratio_d4_to_d0)\n",
    "\n",
    "# Perform a Tukey test across groups\n",
    "tukeyTest(df.ratio_d4_to_d0, df.groups)\n",
    "\n",
    "# Use different variables to hold counting data by Kaz or Rei\n",
    "df_Rei = df"
   ]
  },
  {
   "cell_type": "code",
   "execution_count": 17,
   "metadata": {},
   "outputs": [
    {
     "data": {
      "text/html": [
       "<div>\n",
       "<style scoped>\n",
       "    .dataframe tbody tr th:only-of-type {\n",
       "        vertical-align: middle;\n",
       "    }\n",
       "\n",
       "    .dataframe tbody tr th {\n",
       "        vertical-align: top;\n",
       "    }\n",
       "\n",
       "    .dataframe thead th {\n",
       "        text-align: right;\n",
       "    }\n",
       "</style>\n",
       "<table border=\"1\" class=\"dataframe\">\n",
       "  <thead>\n",
       "    <tr style=\"text-align: right;\">\n",
       "      <th></th>\n",
       "      <th>file_name_x_x</th>\n",
       "      <th>scrambled_file_name_x_x</th>\n",
       "      <th>counts_d0_Kaz</th>\n",
       "      <th>groups</th>\n",
       "      <th>file_name_trimmed</th>\n",
       "      <th>file_name_y_x</th>\n",
       "      <th>scrambled_file_name_y_x</th>\n",
       "      <th>counts_d4_Kaz</th>\n",
       "      <th>ratio_d4_to_d0_Kaz</th>\n",
       "      <th>file_name_x_y</th>\n",
       "      <th>scrambled_file_name_x_y</th>\n",
       "      <th>counts_d0_Rei</th>\n",
       "      <th>file_name_y_y</th>\n",
       "      <th>scrambled_file_name_y_y</th>\n",
       "      <th>counts_d4_Rei</th>\n",
       "      <th>ratio_d4_to_d0_Rei</th>\n",
       "    </tr>\n",
       "  </thead>\n",
       "  <tbody>\n",
       "    <tr>\n",
       "      <th>0</th>\n",
       "      <td>Plate07152021_WellD02_ChannelMono_Seq0000.nd2</td>\n",
       "      <td>3836dff533d6ea602f0bd8db521dbaea.nd2</td>\n",
       "      <td>8</td>\n",
       "      <td>sg-Control</td>\n",
       "      <td>Plate07152021_WellD02_ChannelMono</td>\n",
       "      <td>Plate07152021_WellD02_ChannelMono_Seq0000.nd2</td>\n",
       "      <td>7e67ff81feefc59cf7bbf90152f416bb.nd2</td>\n",
       "      <td>34</td>\n",
       "      <td>4.250000</td>\n",
       "      <td>Plate07152021_WellD02_ChannelMono_Seq0000.nd2</td>\n",
       "      <td>3836dff533d6ea602f0bd8db521dbaea.nd2</td>\n",
       "      <td>8</td>\n",
       "      <td>Plate07152021_WellD02_ChannelMono_Seq0000.nd2</td>\n",
       "      <td>7e67ff81feefc59cf7bbf90152f416bb.nd2</td>\n",
       "      <td>36</td>\n",
       "      <td>4.500000</td>\n",
       "    </tr>\n",
       "    <tr>\n",
       "      <th>1</th>\n",
       "      <td>Plate07152021_WellD03_ChannelMono_Seq0001.nd2</td>\n",
       "      <td>6bbc522ff27e518d9aa86f2bd56333dc.nd2</td>\n",
       "      <td>6</td>\n",
       "      <td>sg-Control</td>\n",
       "      <td>Plate07152021_WellD03_ChannelMono</td>\n",
       "      <td>Plate07152021_WellD03_ChannelMono_Seq0001.nd2</td>\n",
       "      <td>c0d178a9f3c5ae9593de03380ce855b1.nd2</td>\n",
       "      <td>29</td>\n",
       "      <td>4.833333</td>\n",
       "      <td>Plate07152021_WellD03_ChannelMono_Seq0001.nd2</td>\n",
       "      <td>6bbc522ff27e518d9aa86f2bd56333dc.nd2</td>\n",
       "      <td>8</td>\n",
       "      <td>Plate07152021_WellD03_ChannelMono_Seq0001.nd2</td>\n",
       "      <td>c0d178a9f3c5ae9593de03380ce855b1.nd2</td>\n",
       "      <td>22</td>\n",
       "      <td>2.750000</td>\n",
       "    </tr>\n",
       "    <tr>\n",
       "      <th>2</th>\n",
       "      <td>Plate07152021_WellD04_ChannelMono_Seq0002.nd2</td>\n",
       "      <td>e2f18bb02c432d39358cd96a30974f59.nd2</td>\n",
       "      <td>10</td>\n",
       "      <td>sg-Control</td>\n",
       "      <td>Plate07152021_WellD04_ChannelMono</td>\n",
       "      <td>Plate07152021_WellD04_ChannelMono_Seq0003.nd2</td>\n",
       "      <td>3d7c7aca765240f0872d4690077d75c3.nd2</td>\n",
       "      <td>32</td>\n",
       "      <td>3.200000</td>\n",
       "      <td>Plate07152021_WellD04_ChannelMono_Seq0002.nd2</td>\n",
       "      <td>e2f18bb02c432d39358cd96a30974f59.nd2</td>\n",
       "      <td>12</td>\n",
       "      <td>Plate07152021_WellD04_ChannelMono_Seq0003.nd2</td>\n",
       "      <td>3d7c7aca765240f0872d4690077d75c3.nd2</td>\n",
       "      <td>33</td>\n",
       "      <td>2.750000</td>\n",
       "    </tr>\n",
       "    <tr>\n",
       "      <th>3</th>\n",
       "      <td>Plate07152021_WellD05_ChannelMono_Seq0003.nd2</td>\n",
       "      <td>9ae52b8c0b689672c30ce94c59fec432.nd2</td>\n",
       "      <td>13</td>\n",
       "      <td>sg-Control</td>\n",
       "      <td>Plate07152021_WellD05_ChannelMono</td>\n",
       "      <td>Plate07152021_WellD05_ChannelMono_Seq0000.nd2</td>\n",
       "      <td>c7cfd42c92b27ab38a15a55d8b3f1d97.nd2</td>\n",
       "      <td>38</td>\n",
       "      <td>2.923077</td>\n",
       "      <td>Plate07152021_WellD05_ChannelMono_Seq0003.nd2</td>\n",
       "      <td>9ae52b8c0b689672c30ce94c59fec432.nd2</td>\n",
       "      <td>11</td>\n",
       "      <td>Plate07152021_WellD05_ChannelMono_Seq0000.nd2</td>\n",
       "      <td>c7cfd42c92b27ab38a15a55d8b3f1d97.nd2</td>\n",
       "      <td>38</td>\n",
       "      <td>3.454545</td>\n",
       "    </tr>\n",
       "    <tr>\n",
       "      <th>4</th>\n",
       "      <td>Plate07152021_WellD06_ChannelMono_Seq0004.nd2</td>\n",
       "      <td>dfe92768263447130e6a36aeb744bdf0.nd2</td>\n",
       "      <td>10</td>\n",
       "      <td>sg-Control</td>\n",
       "      <td>Plate07152021_WellD06_ChannelMono</td>\n",
       "      <td>Plate07152021_WellD06_ChannelMono_Seq0001.nd2</td>\n",
       "      <td>1c0539bf960d35bdcda0bc39185dbde5.nd2</td>\n",
       "      <td>36</td>\n",
       "      <td>3.600000</td>\n",
       "      <td>Plate07152021_WellD06_ChannelMono_Seq0004.nd2</td>\n",
       "      <td>dfe92768263447130e6a36aeb744bdf0.nd2</td>\n",
       "      <td>11</td>\n",
       "      <td>Plate07152021_WellD06_ChannelMono_Seq0001.nd2</td>\n",
       "      <td>1c0539bf960d35bdcda0bc39185dbde5.nd2</td>\n",
       "      <td>24</td>\n",
       "      <td>2.181818</td>\n",
       "    </tr>\n",
       "  </tbody>\n",
       "</table>\n",
       "</div>"
      ],
      "text/plain": [
       "                                   file_name_x_x  \\\n",
       "0  Plate07152021_WellD02_ChannelMono_Seq0000.nd2   \n",
       "1  Plate07152021_WellD03_ChannelMono_Seq0001.nd2   \n",
       "2  Plate07152021_WellD04_ChannelMono_Seq0002.nd2   \n",
       "3  Plate07152021_WellD05_ChannelMono_Seq0003.nd2   \n",
       "4  Plate07152021_WellD06_ChannelMono_Seq0004.nd2   \n",
       "\n",
       "                scrambled_file_name_x_x  counts_d0_Kaz      groups  \\\n",
       "0  3836dff533d6ea602f0bd8db521dbaea.nd2              8  sg-Control   \n",
       "1  6bbc522ff27e518d9aa86f2bd56333dc.nd2              6  sg-Control   \n",
       "2  e2f18bb02c432d39358cd96a30974f59.nd2             10  sg-Control   \n",
       "3  9ae52b8c0b689672c30ce94c59fec432.nd2             13  sg-Control   \n",
       "4  dfe92768263447130e6a36aeb744bdf0.nd2             10  sg-Control   \n",
       "\n",
       "                   file_name_trimmed  \\\n",
       "0  Plate07152021_WellD02_ChannelMono   \n",
       "1  Plate07152021_WellD03_ChannelMono   \n",
       "2  Plate07152021_WellD04_ChannelMono   \n",
       "3  Plate07152021_WellD05_ChannelMono   \n",
       "4  Plate07152021_WellD06_ChannelMono   \n",
       "\n",
       "                                   file_name_y_x  \\\n",
       "0  Plate07152021_WellD02_ChannelMono_Seq0000.nd2   \n",
       "1  Plate07152021_WellD03_ChannelMono_Seq0001.nd2   \n",
       "2  Plate07152021_WellD04_ChannelMono_Seq0003.nd2   \n",
       "3  Plate07152021_WellD05_ChannelMono_Seq0000.nd2   \n",
       "4  Plate07152021_WellD06_ChannelMono_Seq0001.nd2   \n",
       "\n",
       "                scrambled_file_name_y_x  counts_d4_Kaz  ratio_d4_to_d0_Kaz  \\\n",
       "0  7e67ff81feefc59cf7bbf90152f416bb.nd2             34            4.250000   \n",
       "1  c0d178a9f3c5ae9593de03380ce855b1.nd2             29            4.833333   \n",
       "2  3d7c7aca765240f0872d4690077d75c3.nd2             32            3.200000   \n",
       "3  c7cfd42c92b27ab38a15a55d8b3f1d97.nd2             38            2.923077   \n",
       "4  1c0539bf960d35bdcda0bc39185dbde5.nd2             36            3.600000   \n",
       "\n",
       "                                   file_name_x_y  \\\n",
       "0  Plate07152021_WellD02_ChannelMono_Seq0000.nd2   \n",
       "1  Plate07152021_WellD03_ChannelMono_Seq0001.nd2   \n",
       "2  Plate07152021_WellD04_ChannelMono_Seq0002.nd2   \n",
       "3  Plate07152021_WellD05_ChannelMono_Seq0003.nd2   \n",
       "4  Plate07152021_WellD06_ChannelMono_Seq0004.nd2   \n",
       "\n",
       "                scrambled_file_name_x_y  counts_d0_Rei  \\\n",
       "0  3836dff533d6ea602f0bd8db521dbaea.nd2              8   \n",
       "1  6bbc522ff27e518d9aa86f2bd56333dc.nd2              8   \n",
       "2  e2f18bb02c432d39358cd96a30974f59.nd2             12   \n",
       "3  9ae52b8c0b689672c30ce94c59fec432.nd2             11   \n",
       "4  dfe92768263447130e6a36aeb744bdf0.nd2             11   \n",
       "\n",
       "                                   file_name_y_y  \\\n",
       "0  Plate07152021_WellD02_ChannelMono_Seq0000.nd2   \n",
       "1  Plate07152021_WellD03_ChannelMono_Seq0001.nd2   \n",
       "2  Plate07152021_WellD04_ChannelMono_Seq0003.nd2   \n",
       "3  Plate07152021_WellD05_ChannelMono_Seq0000.nd2   \n",
       "4  Plate07152021_WellD06_ChannelMono_Seq0001.nd2   \n",
       "\n",
       "                scrambled_file_name_y_y  counts_d4_Rei  ratio_d4_to_d0_Rei  \n",
       "0  7e67ff81feefc59cf7bbf90152f416bb.nd2             36            4.500000  \n",
       "1  c0d178a9f3c5ae9593de03380ce855b1.nd2             22            2.750000  \n",
       "2  3d7c7aca765240f0872d4690077d75c3.nd2             33            2.750000  \n",
       "3  c7cfd42c92b27ab38a15a55d8b3f1d97.nd2             38            3.454545  \n",
       "4  1c0539bf960d35bdcda0bc39185dbde5.nd2             24            2.181818  "
      ]
     },
     "execution_count": 17,
     "metadata": {},
     "output_type": "execute_result"
    }
   ],
   "source": [
    "# Merge the two data set and compare the countings of Rei and Kaz\n",
    "df_Kaz.rename(columns={'counts_d0': 'counts_d0_Kaz'}, inplace=True)\n",
    "df_Kaz.rename(columns={'counts_d4': 'counts_d4_Kaz'}, inplace=True)\n",
    "df_Kaz.rename(columns={'ratio_d4_to_d0': 'ratio_d4_to_d0_Kaz'}, inplace=True)\n",
    "\n",
    "df_Rei.rename(columns={'counts_d0': 'counts_d0_Rei'}, inplace=True)\n",
    "df_Rei.rename(columns={'counts_d4': 'counts_d4_Rei'}, inplace=True)\n",
    "df_Rei.rename(columns={'ratio_d4_to_d0': 'ratio_d4_to_d0_Rei'}, inplace=True)\n",
    "\n",
    "df = df_Kaz.merge(df_Rei, on=['file_name_trimmed', 'groups'])\n",
    "df.head()"
   ]
  },
  {
   "cell_type": "code",
   "execution_count": 18,
   "metadata": {},
   "outputs": [
    {
     "data": {
      "text/plain": [
       "[<matplotlib.lines.Line2D at 0x7fc369482250>]"
      ]
     },
     "execution_count": 18,
     "metadata": {},
     "output_type": "execute_result"
    },
    {
     "data": {
      "image/png": "[encoded data removed]",
      "text/plain": [
       "<Figure size 432x288 with 1 Axes>"
      ]
     },
     "metadata": {
      "needs_background": "light"
     },
     "output_type": "display_data"
    }
   ],
   "source": [
    "# plt.plot(df.ratio_d4_to_d0_Kaz, df.ratio_d4_to_d0_Rei, 'ok')\n",
    "plt.plot(df.counts_d4_Kaz, df.counts_d4_Rei, 'ok')"
   ]
  },
  {
   "cell_type": "code",
   "execution_count": 19,
   "metadata": {},
   "outputs": [
    {
     "data": {
      "text/plain": [
       "[<matplotlib.lines.Line2D at 0x7fc370bfb4d0>]"
      ]
     },
     "execution_count": 19,
     "metadata": {},
     "output_type": "execute_result"
    },
    {
     "data": {
      "image/png": "[encoded data removed]",
      "text/plain": [
       "<Figure size 432x288 with 1 Axes>"
      ]
     },
     "metadata": {
      "needs_background": "light"
     },
     "output_type": "display_data"
    }
   ],
   "source": [
    "# plt.plot(df.ratio_d4_to_d0_Kaz, df.ratio_d4_to_d0_Rei, 'ok')\n",
    "plt.plot(df.counts_d0_Kaz, df.counts_d0_Rei, 'ok')"
   ]
  },
  {
   "cell_type": "code",
   "execution_count": 20,
   "metadata": {},
   "outputs": [],
   "source": [
    "df['counts_d0'] = (df['counts_d0_Rei'] + df['counts_d0_Kaz']) / 2\n",
    "df['counts_d4'] = (df['counts_d4_Rei'] + df['counts_d4_Kaz']) / 2\n",
    "df['ratio_d4_to_d0'] = df['counts_d4'] / df['counts_d0']"
   ]
  },
  {
   "cell_type": "code",
   "execution_count": 21,
   "metadata": {},
   "outputs": [
    {
     "name": "stdout",
     "output_type": "stream",
     "text": [
      "Summary of test:\n",
      "    Multiple Comparison of Means - Tukey HSD, FWER=0.05    \n",
      "==========================================================\n",
      "  group1     group2  meandiff p-adj   lower  upper  reject\n",
      "----------------------------------------------------------\n",
      "sg-Control sg1-Itgb1  -0.2006    0.9 -1.4694 1.0683  False\n",
      "sg-Control sg2-Itgb1  -0.2426    0.9 -1.5884 1.1032  False\n",
      "sg-Control sg3-Itgb1  -1.3202 0.0834 -2.7853  0.145  False\n",
      " sg1-Itgb1 sg2-Itgb1   -0.042    0.9 -1.3878 1.3038  False\n",
      " sg1-Itgb1 sg3-Itgb1  -1.1196  0.163 -2.5847 0.3455  False\n",
      " sg2-Itgb1 sg3-Itgb1  -1.0776 0.2156 -2.6099 0.4547  False\n",
      "----------------------------------------------------------\n",
      "p values of all pair-wise tests:\n",
      " [0.9        0.9        0.08335644 0.9        0.16301455 0.21558639]\n"
     ]
    },
    {
     "data": {
      "text/plain": [
       "<statsmodels.sandbox.stats.multicomp.TukeyHSDResults at 0x7fc3a0060e10>"
      ]
     },
     "execution_count": 21,
     "metadata": {},
     "output_type": "execute_result"
    },
    {
     "data": {
      "image/png": "[encoded data removed]",
      "text/plain": [
       "<Figure size 432x288 with 1 Axes>"
      ]
     },
     "metadata": {
      "needs_background": "light"
     },
     "output_type": "display_data"
    }
   ],
   "source": [
    "# Inspect raw data if curious about how they look\n",
    "ax = sns.swarmplot(df.groups, df.ratio_d4_to_d0)\n",
    "\n",
    "# Perform a Tukey test across groups\n",
    "tukeyTest(df.ratio_d4_to_d0, df.groups)\n"
   ]
  },
  {
   "cell_type": "code",
   "execution_count": 24,
   "metadata": {},
   "outputs": [
    {
     "data": {
      "image/png": "[encoded data removed]",
      "text/plain": [
       "<Figure size 360x450 with 1 Axes>"
      ]
     },
     "metadata": {
      "needs_background": "light"
     },
     "output_type": "display_data"
    }
   ],
   "source": [
    "# Make plot for figure\n",
    "\n",
    "fig_width, fig_height = 1.2, 1.5 # inches\n",
    "line_width = .8\n",
    "output_prefix = '220517-plateII-E16-d4-d0-Itgb1-no-blast'\n",
    "outputFigPath = '../jupyter_figures/' + output_prefix + '.svg'\n",
    "# outputFigPath = '../jupyter_figures/' + output_prefix + '.tif'\n",
    "\n",
    "fig = plt.figure(figsize=(fig_width,fig_height), dpi=300)\n",
    "ax = fig.add_axes([0.28, 0.35, 0.67, 0.6])\n",
    "\n",
    "# palette_dict = {'sg-Control': 'black', 'sg1-Itgb1': 'blue', 'sg2-Itgb1': 'red'}\n",
    "\n",
    "sns.swarmplot(data = df,\n",
    "              x = 'groups', y = 'ratio_d4_to_d0',\n",
    "              size = 2\n",
    "             )\n",
    "sns.barplot(data = df,\n",
    "            x = 'groups', y = 'ratio_d4_to_d0',\n",
    "            ci = 'sd',\n",
    "            color=\".7\", # This a nicer looking lighter gray to my own taste\n",
    "            errwidth=.7, errcolor=\"k\", capsize=.2)\n",
    "\n",
    "change_bar_width(ax, .5)\n",
    "\n",
    "# rotate x tick labels if necessary\n",
    "x_labels = ax.get_xticklabels()\n",
    "ax.set_xticklabels(labels=x_labels, rotation=45, ha=\"right\")\n",
    "\n",
    "plt.xlabel(\"\")\n",
    "plt.ylabel(\"Bud ratio\")\n",
    "\n",
    "# ax.get_legend().remove()\n",
    "\n",
    "for o in fig.findobj():\n",
    "    o.set_clip_on(False)\n",
    "for o in ax.findobj():\n",
    "    o.set_clip_on(False)\n",
    "\n",
    "plt.savefig(outputFigPath)"
   ]
  },
  {
   "cell_type": "code",
   "execution_count": null,
   "metadata": {},
   "outputs": [],
   "source": []
  }
 ],
 "metadata": {
  "kernelspec": {
   "display_name": "Python 3",
   "language": "python",
   "name": "python3"
  },
  "language_info": {
   "codemirror_mode": {
    "name": "ipython",
    "version": 3
   },
   "file_extension": ".py",
   "mimetype": "text/x-python",
   "name": "python",
   "nbconvert_exporter": "python",
   "pygments_lexer": "ipython3",
   "version": "3.7.6"
  }
 },
 "nbformat": 4,
 "nbformat_minor": 4
}
