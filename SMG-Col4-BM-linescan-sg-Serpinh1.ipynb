{
 "cells": [
  {
   "cell_type": "code",
   "execution_count": 1,
   "metadata": {},
   "outputs": [
    {
     "name": "stdout",
     "output_type": "stream",
     "text": [
      "mkdir: ../jupyter_figures: File exists\n"
     ]
    }
   ],
   "source": [
    "import sys, os, glob, warnings, logging\n",
    "import numpy as np\n",
    "import pandas as pd\n",
    "import matplotlib\n",
    "import matplotlib.pyplot as plt\n",
    "import seaborn as sns\n",
    "from scipy import stats\n",
    "from sw_plotting import change_bar_width\n",
    "from sw_utilities import tukeyTest\n",
    "\n",
    "# logging.basicConfig(stream=sys.stdout, format='%(asctime)s - %(levelname)s - %(message)s', level=logging.DEBUG)\n",
    "logging.basicConfig(stream=sys.stdout, format='%(asctime)s - %(levelname)s - %(message)s', level=logging.INFO)\n",
    "\n",
    "# ignore warnings\n",
    "warnings.filterwarnings('ignore')\n",
    "\n",
    "# plotting configuration\n",
    "font = {'family' : 'Arial',\n",
    "        'size'   : 7}\n",
    "matplotlib.rc('font', **font)\n",
    "plt.rcParams['svg.fonttype'] = 'none'\n",
    "\n",
    "# Make a folder if it is not already there to store exported figures\n",
    "!mkdir ../jupyter_figures\n"
   ]
  },
  {
   "cell_type": "code",
   "execution_count": 2,
   "metadata": {},
   "outputs": [],
   "source": [
    "def get_linescan_data(folder, sgRNA, time_d, n_edges=5):\n",
    "    '''\n",
    "    Read in linescan data and annotate with meta data\n",
    "    \n",
    "    Inputs:\n",
    "    -------\n",
    "        - folder: the folder that contains the linescan output csv file\n",
    "        - sgRNA: which sgRNA was used for the treatment of this group\n",
    "        - time_d: how many days after culture the samples were collected\n",
    "        - n_edges: how many edges were quantified per sample\n",
    "        \n",
    "    Outputs:\n",
    "        - df: pandas data frame with linescan data and annotation data\n",
    "        \n",
    "    '''\n",
    "    \n",
    "    linescan_files = glob.glob(os.path.join(folder, '*.txt'))\n",
    "\n",
    "    if len(linescan_files) > 1:\n",
    "        print('There are more than 1 output file in', folder)\n",
    "        print('The newest one will be used.')\n",
    "        linescan_files = sorted(linescan_files,\n",
    "                                key = os.path.getmtime)\n",
    "        \n",
    "    df = pd.read_csv(linescan_files[-1])\n",
    "    \n",
    "    # annotate data\n",
    "    assert len(df) % 5 == 0\n",
    "    n_organoids = int(len(df) / 5)\n",
    "    \n",
    "    sample_ids = []\n",
    "    organoid_ids = []\n",
    "    for i in range(n_organoids):\n",
    "        for j in range(n_edges):\n",
    "            sample_ids.append(sgRNA + '_' + str(i+1))\n",
    "            organoid_ids.append( str(i+1) )\n",
    "    \n",
    "    df['sample_id'] = sample_ids\n",
    "    df['organoid_id'] = organoid_ids\n",
    "    df['sgRNA'] = [sgRNA]*len(df)\n",
    "    df['time_d'] = time_d\n",
    "    df['groups'] = [sgRNA + '_' + str(time_d)]*len(df)\n",
    "    \n",
    "    return df"
   ]
  },
  {
   "cell_type": "code",
   "execution_count": 3,
   "metadata": {},
   "outputs": [],
   "source": [
    "input_folder = '../data/190503-Serpinh1-KO-Col4-IF/line-scans-across-BM/'\n",
    "folders = glob.glob(os.path.join(input_folder, '*line-scan-output' + os.path.sep))"
   ]
  },
  {
   "cell_type": "code",
   "execution_count": 9,
   "metadata": {},
   "outputs": [],
   "source": [
    "dfs = []\n",
    "for folder in folders:\n",
    "    if folder.endswith(os.path.sep):\n",
    "        folder = folder[:-1]\n",
    "    sgRNA = os.path.basename(folder).split('-')[4]\n",
    "    time_d = 4\n",
    "    dfs.append(get_linescan_data(folder, sgRNA, time_d, n_edges=5))"
   ]
  },
  {
   "cell_type": "code",
   "execution_count": 10,
   "metadata": {},
   "outputs": [],
   "source": [
    "df = pd.concat(dfs)\n",
    "df.reset_index(drop=True, inplace=True)"
   ]
  },
  {
   "cell_type": "code",
   "execution_count": 11,
   "metadata": {},
   "outputs": [
    {
     "data": {
      "text/html": [
       "<div>\n",
       "<style scoped>\n",
       "    .dataframe tbody tr th:only-of-type {\n",
       "        vertical-align: middle;\n",
       "    }\n",
       "\n",
       "    .dataframe tbody tr th {\n",
       "        vertical-align: top;\n",
       "    }\n",
       "\n",
       "    .dataframe thead th {\n",
       "        text-align: right;\n",
       "    }\n",
       "</style>\n",
       "<table border=\"1\" class=\"dataframe\">\n",
       "  <thead>\n",
       "    <tr style=\"text-align: right;\">\n",
       "      <th></th>\n",
       "      <th>file_name</th>\n",
       "      <th>id</th>\n",
       "      <th>Col4_AUC</th>\n",
       "      <th>Col4_peak_height</th>\n",
       "      <th>z_position</th>\n",
       "      <th>sample_id</th>\n",
       "      <th>organoid_id</th>\n",
       "      <th>sgRNA</th>\n",
       "      <th>time_d</th>\n",
       "      <th>groups</th>\n",
       "    </tr>\n",
       "  </thead>\n",
       "  <tbody>\n",
       "    <tr>\n",
       "      <th>140</th>\n",
       "      <td>6-z-20</td>\n",
       "      <td>1</td>\n",
       "      <td>4412.8010</td>\n",
       "      <td>264.1396</td>\n",
       "      <td>1</td>\n",
       "      <td>230_6</td>\n",
       "      <td>6</td>\n",
       "      <td>230</td>\n",
       "      <td>4</td>\n",
       "      <td>230_4</td>\n",
       "    </tr>\n",
       "    <tr>\n",
       "      <th>141</th>\n",
       "      <td>6-z-20</td>\n",
       "      <td>2</td>\n",
       "      <td>-352.2645</td>\n",
       "      <td>149.3963</td>\n",
       "      <td>1</td>\n",
       "      <td>230_6</td>\n",
       "      <td>6</td>\n",
       "      <td>230</td>\n",
       "      <td>4</td>\n",
       "      <td>230_4</td>\n",
       "    </tr>\n",
       "    <tr>\n",
       "      <th>142</th>\n",
       "      <td>6-z-20</td>\n",
       "      <td>3</td>\n",
       "      <td>10439.8835</td>\n",
       "      <td>747.3499</td>\n",
       "      <td>1</td>\n",
       "      <td>230_6</td>\n",
       "      <td>6</td>\n",
       "      <td>230</td>\n",
       "      <td>4</td>\n",
       "      <td>230_4</td>\n",
       "    </tr>\n",
       "    <tr>\n",
       "      <th>143</th>\n",
       "      <td>6-z-20</td>\n",
       "      <td>4</td>\n",
       "      <td>5193.4890</td>\n",
       "      <td>560.5394</td>\n",
       "      <td>1</td>\n",
       "      <td>230_6</td>\n",
       "      <td>6</td>\n",
       "      <td>230</td>\n",
       "      <td>4</td>\n",
       "      <td>230_4</td>\n",
       "    </tr>\n",
       "    <tr>\n",
       "      <th>144</th>\n",
       "      <td>6-z-20</td>\n",
       "      <td>5</td>\n",
       "      <td>16010.0167</td>\n",
       "      <td>1289.1151</td>\n",
       "      <td>1</td>\n",
       "      <td>230_6</td>\n",
       "      <td>6</td>\n",
       "      <td>230</td>\n",
       "      <td>4</td>\n",
       "      <td>230_4</td>\n",
       "    </tr>\n",
       "  </tbody>\n",
       "</table>\n",
       "</div>"
      ],
      "text/plain": [
       "    file_name  id    Col4_AUC  Col4_peak_height  z_position sample_id  \\\n",
       "140    6-z-20   1   4412.8010          264.1396           1     230_6   \n",
       "141    6-z-20   2   -352.2645          149.3963           1     230_6   \n",
       "142    6-z-20   3  10439.8835          747.3499           1     230_6   \n",
       "143    6-z-20   4   5193.4890          560.5394           1     230_6   \n",
       "144    6-z-20   5  16010.0167         1289.1151           1     230_6   \n",
       "\n",
       "    organoid_id sgRNA  time_d groups  \n",
       "140           6   230       4  230_4  \n",
       "141           6   230       4  230_4  \n",
       "142           6   230       4  230_4  \n",
       "143           6   230       4  230_4  \n",
       "144           6   230       4  230_4  "
      ]
     },
     "execution_count": 11,
     "metadata": {},
     "output_type": "execute_result"
    }
   ],
   "source": [
    "df.tail()"
   ]
  },
  {
   "cell_type": "code",
   "execution_count": 12,
   "metadata": {},
   "outputs": [],
   "source": [
    "# normalize to the average of control\n",
    "ctrl_average = df[df.sgRNA=='188'].Col4_peak_height.mean()\n",
    "df['Col4_normed'] = df['Col4_peak_height'] / ctrl_average"
   ]
  },
  {
   "cell_type": "code",
   "execution_count": 29,
   "metadata": {},
   "outputs": [
    {
     "data": {
      "image/png": "[encoded data removed]",
      "text/plain": [
       "<Figure size 240x360 with 1 Axes>"
      ]
     },
     "metadata": {
      "needs_background": "light"
     },
     "output_type": "display_data"
    }
   ],
   "source": [
    "# Swarm plot of 4 categories\n",
    "\n",
    "outputPrefix = '190503-IF-Col4-across-BM-sg-Serpinh1-bar-swarm'\n",
    "outputFigPath = \"../jupyter_figures/\" + outputPrefix + \".svg\"\n",
    "\n",
    "fig_width = 0.8\n",
    "fig_height = 1.2\n",
    "\n",
    "fig = plt.figure(figsize=(fig_width,fig_height), dpi=300)\n",
    "ax = fig.add_axes([0.1, 0.1, 0.8, 0.8])\n",
    "# ax = fig.add_axes([0.35, 0.4, 0.6, 0.55])\n",
    "\n",
    "ax = sns.swarmplot(x='sgRNA', y='Col4_normed', data=df,\n",
    "                   hue='organoid_id',\n",
    "#                    palette={'1': 'red', '2': 'green', '3': 'blue', '4': yellow', '5': 'purple'},\n",
    "                   # color=\"blue\",\n",
    "                   alpha=0.5,\n",
    "                   size=1.0 )\n",
    "\n",
    "ax = sns.barplot(x='sgRNA', y='Col4_normed', data=df,\n",
    "                 color=\".7\", alpha=1.0,\n",
    "                 errwidth=.7, errcolor=\"k\", capsize=.2, ci='sd')\n",
    "\n",
    "# plt.ylim(0, 1.7)\n",
    "plt.ylim(0, 4.5)\n",
    "# plt.yticks([0, 3, 6])\n",
    "\n",
    "plt.xlabel(None)\n",
    "# plt.ylabel(r\"$\\beta$1-integrin intensity\")\n",
    "plt.ylabel('Collagen IV intensity')\n",
    "\n",
    "# make the bar width narrower\n",
    "change_bar_width(ax, .5)\n",
    "\n",
    "# rotate x tick labels\n",
    "# x_labels = ax.get_xticklabels()\n",
    "x_labels = ['sg-Control', 'sg1-Serpinh1', 'sg2-Serpinh1', 'sg3-Serpinh1']\n",
    "ax.set_xticklabels(labels=x_labels, rotation=45, ha=\"right\")\n",
    "\n",
    "ax.get_legend().remove()\n",
    "\n",
    "for o in fig.findobj():\n",
    "    o.set_clip_on(False)\n",
    "for o in ax.findobj():\n",
    "    o.set_clip_on(False)\n",
    "\n",
    "if outputFigPath is not None:\n",
    "    plt.savefig(outputFigPath)\n"
   ]
  },
  {
   "cell_type": "code",
   "execution_count": 15,
   "metadata": {},
   "outputs": [
    {
     "name": "stdout",
     "output_type": "stream",
     "text": [
      "188 n = 45\n",
      "228 n = 20\n",
      "229 n = 50\n",
      "230 n = 30\n"
     ]
    }
   ],
   "source": [
    "for i in df.sgRNA.unique():\n",
    "    print(i, 'n =', len(df[df.sgRNA==i]))"
   ]
  },
  {
   "cell_type": "code",
   "execution_count": 16,
   "metadata": {},
   "outputs": [
    {
     "name": "stdout",
     "output_type": "stream",
     "text": [
      "Summary of test:\n",
      " Multiple Comparison of Means - Tukey HSD, FWER=0.05\n",
      "===================================================\n",
      "group1 group2 meandiff p-adj   lower  upper  reject\n",
      "---------------------------------------------------\n",
      "   188    228   0.0793    0.9 -0.3308 0.4894  False\n",
      "   188    229   0.0246    0.9  -0.289 0.3381  False\n",
      "   188    230  -0.1449 0.6983 -0.5046 0.2148  False\n",
      "   228    229  -0.0547    0.9 -0.4585  0.349  False\n",
      "   228    230  -0.2242 0.5441 -0.6647 0.2164  False\n",
      "   229    230  -0.1694  0.585 -0.5219  0.183  False\n",
      "---------------------------------------------------\n",
      "p values of all pair-wise tests:\n",
      " [0.9        0.9        0.6983394  0.9        0.5441151  0.58498304]\n"
     ]
    },
    {
     "data": {
      "text/plain": [
       "<statsmodels.sandbox.stats.multicomp.TukeyHSDResults at 0x7fcad81d9550>"
      ]
     },
     "execution_count": 16,
     "metadata": {},
     "output_type": "execute_result"
    }
   ],
   "source": [
    "tukeyTest(df.Col4_normed, df.sgRNA)"
   ]
  },
  {
   "cell_type": "code",
   "execution_count": 17,
   "metadata": {},
   "outputs": [
    {
     "data": {
      "text/plain": [
       "'../data/190503-Serpinh1-KO-Col4-IF/line-scans-across-BM/190503-Cas9-E13p5epi-LV-188-antiHSP47-405-anti-Col4-647-temp-BM-line-scan-output/'"
      ]
     },
     "execution_count": 17,
     "metadata": {},
     "output_type": "execute_result"
    }
   ],
   "source": [
    "folders[0]"
   ]
  },
  {
   "cell_type": "code",
   "execution_count": 28,
   "metadata": {},
   "outputs": [
    {
     "data": {
      "image/png": "[encoded data removed]",
      "text/plain": [
       "<Figure size 150x150 with 1 Axes>"
      ]
     },
     "metadata": {
      "needs_background": "light"
     },
     "output_type": "display_data"
    }
   ],
   "source": [
    "# Example linescan profile\n",
    "\n",
    "raw_BM_linescan_files = glob.glob(os.path.join(folders[0], 'raw-BM-linescan-profile-record', '*a6int.txt'))\n",
    "i = 5\n",
    "df_example = pd.read_csv(raw_BM_linescan_files[i])\n",
    "\n",
    "df_example['pixels'] = list(range(len(df_example)))\n",
    "\n",
    "outputPrefix = '190503-Col4-across-BM-line-scan-example'\n",
    "outputFigPath = \"../jupyter_figures/\" + outputPrefix + \".svg\"\n",
    "\n",
    "fig_width=0.5\n",
    "fig_height=0.5\n",
    "fig = plt.figure(figsize=(fig_width,fig_height), dpi=300)\n",
    "ax = fig.add_axes([0.1, 0.1, 0.8, 0.8])\n",
    "\n",
    "plt.plot(df_example.pixels, df_example.Col4_intensity, color='#00d000')\n",
    "\n",
    "for o in fig.findobj():\n",
    "    o.set_clip_on(False)\n",
    "for o in ax.findobj():\n",
    "    o.set_clip_on(False)\n",
    "\n",
    "if outputFigPath is not None:\n",
    "    plt.savefig(outputFigPath)\n"
   ]
  },
  {
   "cell_type": "code",
   "execution_count": 30,
   "metadata": {},
   "outputs": [
    {
     "name": "stdout",
     "output_type": "stream",
     "text": [
      "188 n = 45\n",
      "228 n = 20\n",
      "229 n = 50\n",
      "230 n = 30\n"
     ]
    }
   ],
   "source": [
    "for i in df.sgRNA.unique():\n",
    "    print(i, 'n =', len(df[df.sgRNA==i]))"
   ]
  },
  {
   "cell_type": "code",
   "execution_count": null,
   "metadata": {},
   "outputs": [],
   "source": []
  }
 ],
 "metadata": {
  "kernelspec": {
   "display_name": "Python 3 (ipykernel)",
   "language": "python",
   "name": "python3"
  },
  "language_info": {
   "codemirror_mode": {
    "name": "ipython",
    "version": 3
   },
   "file_extension": ".py",
   "mimetype": "text/x-python",
   "name": "python",
   "nbconvert_exporter": "python",
   "pygments_lexer": "ipython3",
   "version": "3.9.5"
  }
 },
 "nbformat": 4,
 "nbformat_minor": 4
}
