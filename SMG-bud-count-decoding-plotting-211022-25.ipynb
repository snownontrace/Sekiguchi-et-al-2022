{
 "cells": [
  {
   "cell_type": "code",
   "execution_count": 1,
   "metadata": {},
   "outputs": [
    {
     "name": "stdout",
     "output_type": "stream",
     "text": [
      "mkdir: ../jupyter_figures: File exists\n"
     ]
    }
   ],
   "source": [
    "import sys, os, glob, warnings, logging\n",
    "import numpy as np\n",
    "import pandas as pd\n",
    "import matplotlib\n",
    "import matplotlib.pyplot as plt\n",
    "import seaborn as sns\n",
    "from sw_plotting import change_bar_width, plotCountBar\n",
    "from sw_utilities import tukeyTest, getCountDFbyPrefix\n",
    "\n",
    "# logging.basicConfig(stream=sys.stdout, format='%(asctime)s - %(levelname)s - %(message)s', level=logging.DEBUG)\n",
    "# logging.basicConfig(stream=sys.stdout, format='%(asctime)s - %(levelname)s - %(message)s', level=logging.INFO)\n",
    "logging.basicConfig(stream=sys.stdout, format='%(asctime)s - %(levelname)s - %(message)s', level=logging.ERROR)\n",
    "\n",
    "# ignore warnings\n",
    "warnings.filterwarnings('ignore')\n",
    "\n",
    "# plotting configuration\n",
    "font = {'family' : 'Arial',\n",
    "        'size'   : 7}\n",
    "matplotlib.rc('font', **font)\n",
    "plt.rcParams['svg.fonttype'] = 'none'\n",
    "\n",
    "# Make a folder if it is not already there to store exported figures\n",
    "!mkdir ../jupyter_figures\n"
   ]
  },
  {
   "cell_type": "code",
   "execution_count": 2,
   "metadata": {},
   "outputs": [],
   "source": [
    "# Read in the raw data sets to plot\n",
    "\n",
    "datasetPrefix = \"phase-z-to-split-splitPositions\"\n",
    "df = getCountDFbyPrefix(datasetPrefix, datasetFolder='../data/211022-25-E13-Cas9-bud-LV-188-401-402-phase-contrast/')\n"
   ]
  },
  {
   "cell_type": "code",
   "execution_count": 3,
   "metadata": {},
   "outputs": [],
   "source": [
    "# Annotate the data set\n",
    "#\n",
    "# sg-Control: LV-188\n",
    "# sg1-Itgb1: LV-401\n",
    "# sg2-Itgb1: LV-402\n",
    "\n",
    "# groups = [\"1\"]*10 + [\"2\"]*10 + [\"3\"]*10 + \\\n",
    "#          [\"4\"]*10 + [\"5\"]*10 + [\"6\"]*10 + \\\n",
    "#          [\"7\"]*9 + [\"8\"]*9 + [\"9\"]*9\n",
    "# df[\"groups\"] = groups\n",
    "\n",
    "sgRNA = [\"sg-Control\"]*30 + [\"sg1-Itgb1\"]*30 + [\"sg2-Itgb1\"]*27\n",
    "df[\"sgRNA\"] = sgRNA\n",
    "\n",
    "treatment = ([\"NA\"]*7 + [\"blasticidin\"]*3)*3 + \\\n",
    "            ([\"NA\"]*7 + [\"blasticidin\"]*3)*3 + \\\n",
    "            ([\"NA\"]*6 + [\"blasticidin\"]*3)*3\n",
    "df[\"treatment\"] = treatment\n",
    "\n",
    "time_h = [\"23\"]*10 + [\"43\"]*10 + [\"71\"]*10 + \\\n",
    "         [\"23\"]*10 + [\"43\"]*10 + [\"71\"]*10 + \\\n",
    "         [\"23\"]*9 + [\"43\"]*9 + [\"71\"]*9\n",
    "df[\"time_h\"] = time_h\n",
    "\n",
    "# change time_h to integer\n",
    "df = df.astype({'time_h': 'int64'})\n",
    "\n",
    "sample_id = list(range(1,11))*3 + list(range(11,21))*3 + list(range(21,30))*3\n",
    "df[\"sample_id\"] = sample_id\n",
    "\n",
    "groups = [sgRNA[i]+'_'+time_h[i]+'_'+treatment[i] for i in range(len(sgRNA))]\n",
    "df[\"groups\"] = groups\n",
    "\n",
    "sg_treatment = [sgRNA[i]+'_'+treatment[i] for i in range(len(sgRNA))]\n",
    "df[\"sg_treatment\"] = sg_treatment\n",
    "\n",
    "# # Inspect raw data if curious about how they look\n",
    "# sns.swarmplot(df.groups, df.counts)\n",
    "\n",
    "# # Perform a Tukey test across groups\n",
    "# tukeyTest(df.counts, df.groups)"
   ]
  },
  {
   "cell_type": "code",
   "execution_count": 4,
   "metadata": {},
   "outputs": [],
   "source": [
    "df_NA = df[df.treatment=='NA']\n",
    "df_blast = df[df.treatment=='blasticidin']"
   ]
  },
  {
   "cell_type": "code",
   "execution_count": 5,
   "metadata": {},
   "outputs": [
    {
     "data": {
      "image/png": "[encoded data removed]",
      "text/plain": [
       "<Figure size 300x360 with 1 Axes>"
      ]
     },
     "metadata": {
      "needs_background": "light"
     },
     "output_type": "display_data"
    }
   ],
   "source": [
    "# Make plot for figure\n",
    "\n",
    "fig_width, fig_height = 1.0, 1.2 # inches\n",
    "line_width = .8\n",
    "output_prefix = '211022-25-E13-Cas9-bud-no-blast'\n",
    "outputFigPath = '../jupyter_figures/' + output_prefix + '.svg'\n",
    "# outputFigPath = '../jupyter_figures/' + output_prefix + '.tif'\n",
    "\n",
    "fig = plt.figure(figsize=(fig_width,fig_height), dpi=300)\n",
    "ax = fig.add_axes([0.35, 0.3, 0.6, 0.65])\n",
    "\n",
    "palette_dict = {'sg-Control': 'black', 'sg1-Itgb1': 'blue', 'sg2-Itgb1': 'red'}\n",
    "\n",
    "sns.lineplot(data = df_NA,\n",
    "             x = 'time_h', y = 'counts', hue = 'sgRNA',\n",
    "             size = line_width+.2,\n",
    "             palette = palette_dict,\n",
    "             ci = 'sd',\n",
    "             err_style = \"bars\",\n",
    "             err_kws = {'capsize': 2,\n",
    "                        'elinewidth': line_width,\n",
    "                        'capthick': line_width}\n",
    "            )\n",
    "\n",
    "y_max = 22\n",
    "plt.ylim([0,y_max])\n",
    "plt.yticks(np.arange(0,y_max,5))\n",
    "\n",
    "plt.xlim([12,80])\n",
    "plt.xticks([23,43,71])\n",
    "\n",
    "plt.xlabel(\"Time (h)\")\n",
    "plt.ylabel(\"Bud count\")\n",
    "\n",
    "ax.get_legend().remove()\n",
    "\n",
    "for o in fig.findobj():\n",
    "    o.set_clip_on(False)\n",
    "for o in ax.findobj():\n",
    "    o.set_clip_on(False)\n",
    "\n",
    "plt.savefig(outputFigPath)"
   ]
  },
  {
   "cell_type": "code",
   "execution_count": 6,
   "metadata": {},
   "outputs": [
    {
     "data": {
      "image/png": "[encoded data removed]",
      "text/plain": [
       "<Figure size 300x360 with 1 Axes>"
      ]
     },
     "metadata": {
      "needs_background": "light"
     },
     "output_type": "display_data"
    }
   ],
   "source": [
    "# Make plot for figure\n",
    "\n",
    "fig_width, fig_height = 1.0, 1.2 # inches\n",
    "line_width = .8\n",
    "output_prefix = '211022-25-E13-Cas9-bud-with-blast'\n",
    "outputFigPath = '../jupyter_figures/' + output_prefix + '.svg'\n",
    "# outputFigPath = '../jupyter_figures/' + output_prefix + '.tif'\n",
    "\n",
    "fig = plt.figure(figsize=(fig_width,fig_height), dpi=300)\n",
    "ax = fig.add_axes([0.35, 0.3, 0.6, 0.65])\n",
    "\n",
    "palette_dict = {'sg-Control': 'black', 'sg1-Itgb1': 'blue', 'sg2-Itgb1': 'red'}\n",
    "\n",
    "sns.lineplot(data = df_blast,\n",
    "             x = 'time_h', y = 'counts', hue = 'sgRNA',\n",
    "             size = line_width+.2,\n",
    "             palette = palette_dict,\n",
    "#              err_style = 'band',\n",
    "             ci = 'sd',\n",
    "             err_style = \"bars\",\n",
    "             err_kws = {'capsize': 2,\n",
    "                        'elinewidth': line_width,\n",
    "                        'capthick': line_width}\n",
    "            )\n",
    "\n",
    "y_max = 32\n",
    "plt.ylim([0,y_max])\n",
    "plt.yticks(np.arange(0,y_max,10))\n",
    "\n",
    "plt.xlim([12,80])\n",
    "plt.xticks([23,43,71])\n",
    "\n",
    "plt.xlabel(\"Time (h)\")\n",
    "plt.ylabel(\"Bud count\")\n",
    "\n",
    "ax.get_legend().remove()\n",
    "\n",
    "for o in fig.findobj():\n",
    "    o.set_clip_on(False)\n",
    "for o in ax.findobj():\n",
    "    o.set_clip_on(False)\n",
    "\n",
    "plt.savefig(outputFigPath)"
   ]
  },
  {
   "cell_type": "code",
   "execution_count": 7,
   "metadata": {},
   "outputs": [
    {
     "data": {
      "text/html": [
       "<div>\n",
       "<style scoped>\n",
       "    .dataframe tbody tr th:only-of-type {\n",
       "        vertical-align: middle;\n",
       "    }\n",
       "\n",
       "    .dataframe tbody tr th {\n",
       "        vertical-align: top;\n",
       "    }\n",
       "\n",
       "    .dataframe thead th {\n",
       "        text-align: right;\n",
       "    }\n",
       "</style>\n",
       "<table border=\"1\" class=\"dataframe\">\n",
       "  <thead>\n",
       "    <tr style=\"text-align: right;\">\n",
       "      <th></th>\n",
       "      <th>file_name</th>\n",
       "      <th>scrambled_file_name</th>\n",
       "      <th>counts</th>\n",
       "      <th>sgRNA</th>\n",
       "      <th>treatment</th>\n",
       "      <th>time_h</th>\n",
       "      <th>sample_id</th>\n",
       "      <th>groups</th>\n",
       "      <th>sg_treatment</th>\n",
       "    </tr>\n",
       "  </thead>\n",
       "  <tbody>\n",
       "    <tr>\n",
       "      <th>0</th>\n",
       "      <td>LV-188-D02-D11-23h-z-Ph-00.tif</td>\n",
       "      <td>4ea9ca61f133ff2eeb6d4a95be8e8725.tif</td>\n",
       "      <td>7</td>\n",
       "      <td>sg-Control</td>\n",
       "      <td>NA</td>\n",
       "      <td>23</td>\n",
       "      <td>1</td>\n",
       "      <td>sg-Control_23_NA</td>\n",
       "      <td>sg-Control_NA</td>\n",
       "    </tr>\n",
       "    <tr>\n",
       "      <th>1</th>\n",
       "      <td>LV-188-D02-D11-23h-z-Ph-01.tif</td>\n",
       "      <td>d19cf2132198299b70047b211c6559a5.tif</td>\n",
       "      <td>4</td>\n",
       "      <td>sg-Control</td>\n",
       "      <td>NA</td>\n",
       "      <td>23</td>\n",
       "      <td>2</td>\n",
       "      <td>sg-Control_23_NA</td>\n",
       "      <td>sg-Control_NA</td>\n",
       "    </tr>\n",
       "    <tr>\n",
       "      <th>2</th>\n",
       "      <td>LV-188-D02-D11-23h-z-Ph-02.tif</td>\n",
       "      <td>7de296dfa4ae0b494225773bce4a55f8.tif</td>\n",
       "      <td>6</td>\n",
       "      <td>sg-Control</td>\n",
       "      <td>NA</td>\n",
       "      <td>23</td>\n",
       "      <td>3</td>\n",
       "      <td>sg-Control_23_NA</td>\n",
       "      <td>sg-Control_NA</td>\n",
       "    </tr>\n",
       "    <tr>\n",
       "      <th>3</th>\n",
       "      <td>LV-188-D02-D11-23h-z-Ph-03.tif</td>\n",
       "      <td>4e9c3e22a59c02d7e7fbc7b5e8b37991.tif</td>\n",
       "      <td>7</td>\n",
       "      <td>sg-Control</td>\n",
       "      <td>NA</td>\n",
       "      <td>23</td>\n",
       "      <td>4</td>\n",
       "      <td>sg-Control_23_NA</td>\n",
       "      <td>sg-Control_NA</td>\n",
       "    </tr>\n",
       "    <tr>\n",
       "      <th>4</th>\n",
       "      <td>LV-188-D02-D11-23h-z-Ph-04.tif</td>\n",
       "      <td>3225048ff43f29e2defce0a771e5ef8f.tif</td>\n",
       "      <td>8</td>\n",
       "      <td>sg-Control</td>\n",
       "      <td>NA</td>\n",
       "      <td>23</td>\n",
       "      <td>5</td>\n",
       "      <td>sg-Control_23_NA</td>\n",
       "      <td>sg-Control_NA</td>\n",
       "    </tr>\n",
       "  </tbody>\n",
       "</table>\n",
       "</div>"
      ],
      "text/plain": [
       "                        file_name                   scrambled_file_name  \\\n",
       "0  LV-188-D02-D11-23h-z-Ph-00.tif  4ea9ca61f133ff2eeb6d4a95be8e8725.tif   \n",
       "1  LV-188-D02-D11-23h-z-Ph-01.tif  d19cf2132198299b70047b211c6559a5.tif   \n",
       "2  LV-188-D02-D11-23h-z-Ph-02.tif  7de296dfa4ae0b494225773bce4a55f8.tif   \n",
       "3  LV-188-D02-D11-23h-z-Ph-03.tif  4e9c3e22a59c02d7e7fbc7b5e8b37991.tif   \n",
       "4  LV-188-D02-D11-23h-z-Ph-04.tif  3225048ff43f29e2defce0a771e5ef8f.tif   \n",
       "\n",
       "   counts       sgRNA treatment  time_h  sample_id            groups  \\\n",
       "0       7  sg-Control        NA      23          1  sg-Control_23_NA   \n",
       "1       4  sg-Control        NA      23          2  sg-Control_23_NA   \n",
       "2       6  sg-Control        NA      23          3  sg-Control_23_NA   \n",
       "3       7  sg-Control        NA      23          4  sg-Control_23_NA   \n",
       "4       8  sg-Control        NA      23          5  sg-Control_23_NA   \n",
       "\n",
       "    sg_treatment  \n",
       "0  sg-Control_NA  \n",
       "1  sg-Control_NA  \n",
       "2  sg-Control_NA  \n",
       "3  sg-Control_NA  \n",
       "4  sg-Control_NA  "
      ]
     },
     "execution_count": 7,
     "metadata": {},
     "output_type": "execute_result"
    }
   ],
   "source": [
    "# Calculate the bud ratios\n",
    "\n",
    "df.head()"
   ]
  },
  {
   "cell_type": "code",
   "execution_count": 8,
   "metadata": {},
   "outputs": [],
   "source": [
    "df_23h = df[df.time_h==23]\n",
    "df_23h.reset_index(inplace=True)\n",
    "\n",
    "df_43h = df[df.time_h==43]\n",
    "df_43h.reset_index(inplace=True)\n",
    "\n",
    "df_71h = df[df.time_h==71]\n",
    "df_71h.reset_index(inplace=True)"
   ]
  },
  {
   "cell_type": "code",
   "execution_count": 9,
   "metadata": {},
   "outputs": [],
   "source": [
    "ratios = df_43h.counts / df_23h.counts\n",
    "df_71h['ratios_d2_to_d1'] = ratios\n",
    "\n",
    "ratios = df_71h.counts / df_43h.counts\n",
    "df_71h['ratios_d3_to_d2'] = ratios\n",
    "\n",
    "ratios = df_71h.counts / df_23h.counts\n",
    "df_71h['ratios_d3_to_d1'] = ratios"
   ]
  },
  {
   "cell_type": "code",
   "execution_count": 10,
   "metadata": {},
   "outputs": [],
   "source": [
    "df_71h_NA = df_71h[df_71h.treatment=='NA']"
   ]
  },
  {
   "cell_type": "code",
   "execution_count": 11,
   "metadata": {},
   "outputs": [
    {
     "data": {
      "image/png": "[encoded data removed]",
      "text/plain": [
       "<Figure size 360x450 with 1 Axes>"
      ]
     },
     "metadata": {
      "needs_background": "light"
     },
     "output_type": "display_data"
    }
   ],
   "source": [
    "# Make plot for figure\n",
    "\n",
    "fig_width, fig_height = 1.2, 1.5 # inches\n",
    "line_width = .8\n",
    "output_prefix = '211022-25-E13-Cas9-bud-ratios-d3-d2-no-blast'\n",
    "outputFigPath = '../jupyter_figures/' + output_prefix + '.svg'\n",
    "# outputFigPath = '../jupyter_figures/' + output_prefix + '.tif'\n",
    "\n",
    "fig = plt.figure(figsize=(fig_width,fig_height), dpi=300)\n",
    "ax = fig.add_axes([0.28, 0.35, 0.67, 0.6])\n",
    "\n",
    "palette_dict = {'sg-Control': 'black', 'sg1-Itgb1': 'blue', 'sg2-Itgb1': 'red'}\n",
    "\n",
    "sns.swarmplot(data = df_71h_NA,\n",
    "              x = 'sgRNA', y = 'ratios_d3_to_d2', hue = 'sgRNA',\n",
    "              size = 2,\n",
    "              palette = palette_dict,\n",
    "             )\n",
    "sns.barplot(data = df_71h_NA,\n",
    "            x = 'sgRNA', y = 'ratios_d3_to_d2',\n",
    "            ci = 'sd',\n",
    "            color=\".7\", # This a nicer looking lighter gray to my own taste\n",
    "            errwidth=.7, errcolor=\"k\", capsize=.2)\n",
    "\n",
    "change_bar_width(ax, .5)\n",
    "\n",
    "plt.xlabel(\"\")\n",
    "plt.ylabel(\"Bud ratio\")\n",
    "\n",
    "ax.get_legend().remove()\n",
    "\n",
    "# rotate x tick labels if necessary\n",
    "x_labels = ax.get_xticklabels()\n",
    "ax.set_xticklabels(labels=x_labels, rotation=45, ha=\"right\")\n",
    "\n",
    "for o in fig.findobj():\n",
    "    o.set_clip_on(False)\n",
    "for o in ax.findobj():\n",
    "    o.set_clip_on(False)\n",
    "\n",
    "plt.savefig(outputFigPath)"
   ]
  },
  {
   "cell_type": "code",
   "execution_count": 12,
   "metadata": {},
   "outputs": [
    {
     "data": {
      "image/png": "[encoded data removed]",
      "text/plain": [
       "<Figure size 360x450 with 1 Axes>"
      ]
     },
     "metadata": {
      "needs_background": "light"
     },
     "output_type": "display_data"
    }
   ],
   "source": [
    "# Make plot for figure\n",
    "\n",
    "fig_width, fig_height = 1.2, 1.5 # inches\n",
    "line_width = .8\n",
    "output_prefix = '211022-25-E13-Cas9-bud-ratios-d3-d1-no-blast'\n",
    "outputFigPath = '../jupyter_figures/' + output_prefix + '.svg'\n",
    "# outputFigPath = '../jupyter_figures/' + output_prefix + '.tif'\n",
    "\n",
    "fig = plt.figure(figsize=(fig_width,fig_height), dpi=300)\n",
    "ax = fig.add_axes([0.28, 0.35, 0.67, 0.6])\n",
    "\n",
    "palette_dict = {'sg-Control': 'black', 'sg1-Itgb1': 'blue', 'sg2-Itgb1': 'red'}\n",
    "\n",
    "sns.swarmplot(data = df_71h_NA,\n",
    "              x = 'sgRNA', y = 'ratios_d3_to_d1', hue = 'sgRNA',\n",
    "              size = 2,\n",
    "              palette = palette_dict,\n",
    "             )\n",
    "sns.barplot(data = df_71h_NA,\n",
    "            x = 'sgRNA', y = 'ratios_d3_to_d1',\n",
    "            ci = 'sd',\n",
    "            color=\".7\", # This a nicer looking lighter gray to my own taste\n",
    "            errwidth=.7, errcolor=\"k\", capsize=.2)\n",
    "\n",
    "change_bar_width(ax, .5)\n",
    "\n",
    "# rotate x tick labels if necessary\n",
    "x_labels = ax.get_xticklabels()\n",
    "ax.set_xticklabels(labels=x_labels, rotation=45, ha=\"right\")\n",
    "\n",
    "plt.xlabel(\"\")\n",
    "plt.ylabel(\"Bud ratio\")\n",
    "\n",
    "ax.get_legend().remove()\n",
    "\n",
    "for o in fig.findobj():\n",
    "    o.set_clip_on(False)\n",
    "for o in ax.findobj():\n",
    "    o.set_clip_on(False)\n",
    "\n",
    "plt.savefig(outputFigPath)"
   ]
  },
  {
   "cell_type": "code",
   "execution_count": 13,
   "metadata": {},
   "outputs": [
    {
     "name": "stdout",
     "output_type": "stream",
     "text": [
      "Summary of test:\n",
      "     Multiple Comparison of Means - Tukey HSD, FWER=0.05    \n",
      "===========================================================\n",
      "  group1     group2  meandiff p-adj   lower   upper  reject\n",
      "-----------------------------------------------------------\n",
      "sg-Control sg1-Itgb1  -0.5228 0.2478 -1.3292  0.2836  False\n",
      "sg-Control sg2-Itgb1  -1.0408 0.0143 -1.8802 -0.2015   True\n",
      " sg1-Itgb1 sg2-Itgb1  -0.5181 0.2798 -1.3574  0.3213  False\n",
      "-----------------------------------------------------------\n",
      "p values of all pair-wise tests:\n",
      " [0.24784029 0.01432459 0.27979362]\n"
     ]
    },
    {
     "data": {
      "text/plain": [
       "<statsmodels.sandbox.stats.multicomp.TukeyHSDResults at 0x7ff1d007c040>"
      ]
     },
     "execution_count": 13,
     "metadata": {},
     "output_type": "execute_result"
    }
   ],
   "source": [
    "tukeyTest(df_71h_NA.ratios_d3_to_d1, df_71h_NA.sgRNA)\n"
   ]
  },
  {
   "cell_type": "code",
   "execution_count": 14,
   "metadata": {},
   "outputs": [
    {
     "name": "stdout",
     "output_type": "stream",
     "text": [
      "Summary of test:\n",
      "            Multiple Comparison of Means - Tukey HSD, FWER=0.05           \n",
      "=========================================================================\n",
      "     group1           group2      meandiff p-adj   lower    upper  reject\n",
      "-------------------------------------------------------------------------\n",
      "sg-Control_23_NA sg-Control_43_NA   3.1429 0.0542   -0.031  6.3167  False\n",
      "sg-Control_23_NA sg-Control_71_NA   7.8571  0.001   4.6833  11.031   True\n",
      "sg-Control_23_NA  sg1-Itgb1_23_NA   0.7143    0.9  -2.4596  3.8881  False\n",
      "sg-Control_23_NA  sg1-Itgb1_43_NA   2.8571 0.1092  -0.3167   6.031  False\n",
      "sg-Control_23_NA  sg1-Itgb1_71_NA      6.0  0.001   2.8262  9.1738   True\n",
      "sg-Control_23_NA  sg2-Itgb1_23_NA  -0.0238    0.9  -3.3272  3.2796  False\n",
      "sg-Control_23_NA  sg2-Itgb1_43_NA   1.3095    0.9  -1.9939   4.613  False\n",
      "sg-Control_23_NA  sg2-Itgb1_71_NA   1.6429 0.7696  -1.6606  4.9463  False\n",
      "sg-Control_43_NA sg-Control_71_NA   4.7143  0.001   1.5404  7.8881   True\n",
      "sg-Control_43_NA  sg1-Itgb1_23_NA  -2.4286 0.2668  -5.6024  0.7453  False\n",
      "sg-Control_43_NA  sg1-Itgb1_43_NA  -0.2857    0.9  -3.4596  2.8881  False\n",
      "sg-Control_43_NA  sg1-Itgb1_71_NA   2.8571 0.1092  -0.3167   6.031  False\n",
      "sg-Control_43_NA  sg2-Itgb1_23_NA  -3.1667 0.0701  -6.4701  0.1368  False\n",
      "sg-Control_43_NA  sg2-Itgb1_43_NA  -1.8333 0.6615  -5.1368  1.4701  False\n",
      "sg-Control_43_NA  sg2-Itgb1_71_NA     -1.5 0.8508  -4.8034  1.8034  False\n",
      "sg-Control_71_NA  sg1-Itgb1_23_NA  -7.1429  0.001 -10.3167  -3.969   True\n",
      "sg-Control_71_NA  sg1-Itgb1_43_NA     -5.0  0.001  -8.1738 -1.8262   True\n",
      "sg-Control_71_NA  sg1-Itgb1_71_NA  -1.8571 0.6049   -5.031  1.3167  False\n",
      "sg-Control_71_NA  sg2-Itgb1_23_NA   -7.881  0.001 -11.1844 -4.5775   True\n",
      "sg-Control_71_NA  sg2-Itgb1_43_NA  -6.5476  0.001  -9.8511 -3.2442   True\n",
      "sg-Control_71_NA  sg2-Itgb1_71_NA  -6.2143  0.001  -9.5177 -2.9109   True\n",
      " sg1-Itgb1_23_NA  sg1-Itgb1_43_NA   2.1429 0.4324   -1.031  5.3167  False\n",
      " sg1-Itgb1_23_NA  sg1-Itgb1_71_NA   5.2857  0.001   2.1119  8.4596   True\n",
      " sg1-Itgb1_23_NA  sg2-Itgb1_23_NA  -0.7381    0.9  -4.0415  2.5653  False\n",
      " sg1-Itgb1_23_NA  sg2-Itgb1_43_NA   0.5952    0.9  -2.7082  3.8987  False\n",
      " sg1-Itgb1_23_NA  sg2-Itgb1_71_NA   0.9286    0.9  -2.3749   4.232  False\n",
      " sg1-Itgb1_43_NA  sg1-Itgb1_71_NA   3.1429 0.0542   -0.031  6.3167  False\n",
      " sg1-Itgb1_43_NA  sg2-Itgb1_23_NA   -2.881 0.1331  -6.1844  0.4225  False\n",
      " sg1-Itgb1_43_NA  sg2-Itgb1_43_NA  -1.5476 0.8237  -4.8511  1.7558  False\n",
      " sg1-Itgb1_43_NA  sg2-Itgb1_71_NA  -1.2143    0.9  -4.5177  2.0891  False\n",
      " sg1-Itgb1_71_NA  sg2-Itgb1_23_NA  -6.0238  0.001  -9.3272 -2.7204   True\n",
      " sg1-Itgb1_71_NA  sg2-Itgb1_43_NA  -4.6905  0.001  -7.9939  -1.387   True\n",
      " sg1-Itgb1_71_NA  sg2-Itgb1_71_NA  -4.3571 0.0025  -7.6606 -1.0537   True\n",
      " sg2-Itgb1_23_NA  sg2-Itgb1_43_NA   1.3333    0.9  -2.0948  4.7615  False\n",
      " sg2-Itgb1_23_NA  sg2-Itgb1_71_NA   1.6667 0.7905  -1.7615  5.0948  False\n",
      " sg2-Itgb1_43_NA  sg2-Itgb1_71_NA   0.3333    0.9  -3.0948  3.7615  False\n",
      "-------------------------------------------------------------------------\n",
      "p values of all pair-wise tests:\n",
      " [0.0542145  0.001      0.9        0.1091716  0.001      0.9\n",
      " 0.9        0.76963792 0.001      0.26684379 0.9        0.1091716\n",
      " 0.0700703  0.66147335 0.85075759 0.001      0.001      0.604891\n",
      " 0.001      0.001      0.001      0.43244761 0.001      0.9\n",
      " 0.9        0.9        0.0542145  0.13311147 0.82371792 0.9\n",
      " 0.001      0.001      0.00254542 0.9        0.79054456 0.9       ]\n"
     ]
    },
    {
     "data": {
      "text/plain": [
       "<statsmodels.sandbox.stats.multicomp.TukeyHSDResults at 0x7ff21025da60>"
      ]
     },
     "execution_count": 14,
     "metadata": {},
     "output_type": "execute_result"
    }
   ],
   "source": [
    "tukeyTest(df_NA.counts, df_NA.groups)\n"
   ]
  },
  {
   "cell_type": "code",
   "execution_count": 15,
   "metadata": {},
   "outputs": [
    {
     "name": "stdout",
     "output_type": "stream",
     "text": [
      "Summary of test:\n",
      "                     Multiple Comparison of Means - Tukey HSD, FWER=0.05                    \n",
      "===========================================================================================\n",
      "          group1                    group2          meandiff p-adj   lower    upper  reject\n",
      "-------------------------------------------------------------------------------------------\n",
      "sg-Control_23_blasticidin sg-Control_43_blasticidin   3.6667 0.6505  -3.3841 10.7175  False\n",
      "sg-Control_23_blasticidin sg-Control_71_blasticidin  12.6667  0.001   5.6159 19.7175   True\n",
      "sg-Control_23_blasticidin  sg1-Itgb1_23_blasticidin  -1.6667    0.9  -8.7175  5.3841  False\n",
      "sg-Control_23_blasticidin  sg1-Itgb1_43_blasticidin      0.0    0.9  -7.0508  7.0508  False\n",
      "sg-Control_23_blasticidin  sg1-Itgb1_71_blasticidin      3.0 0.8276  -4.0508 10.0508  False\n",
      "sg-Control_23_blasticidin  sg2-Itgb1_23_blasticidin  -1.6667    0.9  -8.7175  5.3841  False\n",
      "sg-Control_23_blasticidin  sg2-Itgb1_43_blasticidin      0.0    0.9  -7.0508  7.0508  False\n",
      "sg-Control_23_blasticidin  sg2-Itgb1_71_blasticidin  -0.6667    0.9  -7.7175  6.3841  False\n",
      "sg-Control_43_blasticidin sg-Control_71_blasticidin      9.0  0.007   1.9492 16.0508   True\n",
      "sg-Control_43_blasticidin  sg1-Itgb1_23_blasticidin  -5.3333 0.2329 -12.3841  1.7175  False\n",
      "sg-Control_43_blasticidin  sg1-Itgb1_43_blasticidin  -3.6667 0.6505 -10.7175  3.3841  False\n",
      "sg-Control_43_blasticidin  sg1-Itgb1_71_blasticidin  -0.6667    0.9  -7.7175  6.3841  False\n",
      "sg-Control_43_blasticidin  sg2-Itgb1_23_blasticidin  -5.3333 0.2329 -12.3841  1.7175  False\n",
      "sg-Control_43_blasticidin  sg2-Itgb1_43_blasticidin  -3.6667 0.6505 -10.7175  3.3841  False\n",
      "sg-Control_43_blasticidin  sg2-Itgb1_71_blasticidin  -4.3333  0.473 -11.3841  2.7175  False\n",
      "sg-Control_71_blasticidin  sg1-Itgb1_23_blasticidin -14.3333  0.001 -21.3841 -7.2825   True\n",
      "sg-Control_71_blasticidin  sg1-Itgb1_43_blasticidin -12.6667  0.001 -19.7175 -5.6159   True\n",
      "sg-Control_71_blasticidin  sg1-Itgb1_71_blasticidin  -9.6667 0.0035 -16.7175 -2.6159   True\n",
      "sg-Control_71_blasticidin  sg2-Itgb1_23_blasticidin -14.3333  0.001 -21.3841 -7.2825   True\n",
      "sg-Control_71_blasticidin  sg2-Itgb1_43_blasticidin -12.6667  0.001 -19.7175 -5.6159   True\n",
      "sg-Control_71_blasticidin  sg2-Itgb1_71_blasticidin -13.3333  0.001 -20.3841 -6.2825   True\n",
      " sg1-Itgb1_23_blasticidin  sg1-Itgb1_43_blasticidin   1.6667    0.9  -5.3841  8.7175  False\n",
      " sg1-Itgb1_23_blasticidin  sg1-Itgb1_71_blasticidin   4.6667 0.3823  -2.3841 11.7175  False\n",
      " sg1-Itgb1_23_blasticidin  sg2-Itgb1_23_blasticidin      0.0    0.9  -7.0508  7.0508  False\n",
      " sg1-Itgb1_23_blasticidin  sg2-Itgb1_43_blasticidin   1.6667    0.9  -5.3841  8.7175  False\n",
      " sg1-Itgb1_23_blasticidin  sg2-Itgb1_71_blasticidin      1.0    0.9  -6.0508  8.0508  False\n",
      " sg1-Itgb1_43_blasticidin  sg1-Itgb1_71_blasticidin      3.0 0.8276  -4.0508 10.0508  False\n",
      " sg1-Itgb1_43_blasticidin  sg2-Itgb1_23_blasticidin  -1.6667    0.9  -8.7175  5.3841  False\n",
      " sg1-Itgb1_43_blasticidin  sg2-Itgb1_43_blasticidin      0.0    0.9  -7.0508  7.0508  False\n",
      " sg1-Itgb1_43_blasticidin  sg2-Itgb1_71_blasticidin  -0.6667    0.9  -7.7175  6.3841  False\n",
      " sg1-Itgb1_71_blasticidin  sg2-Itgb1_23_blasticidin  -4.6667 0.3823 -11.7175  2.3841  False\n",
      " sg1-Itgb1_71_blasticidin  sg2-Itgb1_43_blasticidin     -3.0 0.8276 -10.0508  4.0508  False\n",
      " sg1-Itgb1_71_blasticidin  sg2-Itgb1_71_blasticidin  -3.6667 0.6505 -10.7175  3.3841  False\n",
      " sg2-Itgb1_23_blasticidin  sg2-Itgb1_43_blasticidin   1.6667    0.9  -5.3841  8.7175  False\n",
      " sg2-Itgb1_23_blasticidin  sg2-Itgb1_71_blasticidin      1.0    0.9  -6.0508  8.0508  False\n",
      " sg2-Itgb1_43_blasticidin  sg2-Itgb1_71_blasticidin  -0.6667    0.9  -7.7175  6.3841  False\n",
      "-------------------------------------------------------------------------------------------\n",
      "p values of all pair-wise tests:\n",
      " [0.6504584  0.001      0.9        0.9        0.82764555 0.9\n",
      " 0.9        0.9        0.00699635 0.23290921 0.6504584  0.9\n",
      " 0.23290921 0.6504584  0.47297169 0.001      0.001      0.00352237\n",
      " 0.001      0.001      0.001      0.9        0.38229887 0.9\n",
      " 0.9        0.9        0.82764555 0.9        0.9        0.9\n",
      " 0.38229887 0.82764555 0.6504584  0.9        0.9        0.9       ]\n"
     ]
    },
    {
     "data": {
      "text/plain": [
       "<statsmodels.sandbox.stats.multicomp.TukeyHSDResults at 0x7ff242776700>"
      ]
     },
     "execution_count": 15,
     "metadata": {},
     "output_type": "execute_result"
    }
   ],
   "source": [
    "tukeyTest(df_blast.counts, df_blast.groups)"
   ]
  },
  {
   "cell_type": "code",
   "execution_count": null,
   "metadata": {},
   "outputs": [],
   "source": []
  }
 ],
 "metadata": {
  "kernelspec": {
   "display_name": "Python 3",
   "language": "python",
   "name": "python3"
  },
  "language_info": {
   "codemirror_mode": {
    "name": "ipython",
    "version": 3
   },
   "file_extension": ".py",
   "mimetype": "text/x-python",
   "name": "python",
   "nbconvert_exporter": "python",
   "pygments_lexer": "ipython3",
   "version": "3.7.6"
  }
 },
 "nbformat": 4,
 "nbformat_minor": 4
}
