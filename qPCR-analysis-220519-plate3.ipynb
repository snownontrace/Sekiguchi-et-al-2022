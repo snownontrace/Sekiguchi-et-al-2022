{
 "cells": [
  {
   "cell_type": "code",
   "execution_count": 1,
   "id": "ec1f6d73-3ad7-4908-89d5-2f7ca6735fbf",
   "metadata": {},
   "outputs": [
    {
     "name": "stdout",
     "output_type": "stream",
     "text": [
      "mkdir: ../jupyter_figures: File exists\n"
     ]
    }
   ],
   "source": [
    "import sys, os, glob, warnings, logging\n",
    "import numpy as np\n",
    "import pandas as pd\n",
    "import matplotlib\n",
    "import matplotlib.pyplot as plt\n",
    "import seaborn as sns\n",
    "from scipy import stats\n",
    "from sw_plotting import change_bar_width\n",
    "from sw_utilities import tukeyTest\n",
    "\n",
    "logging.basicConfig(stream=sys.stdout, format='%(asctime)s - %(levelname)s - %(message)s', level=logging.ERROR)\n",
    "# logging.basicConfig(stream=sys.stdout, format='%(asctime)s - %(levelname)s - %(message)s', level=logging.INFO)\n",
    "# logging.basicConfig(stream=sys.stdout, format='%(asctime)s - %(levelname)s - %(message)s', level=logging.DEBUG)\n",
    "\n",
    "# ignore warnings\n",
    "warnings.filterwarnings('ignore')\n",
    "\n",
    "# plotting configuration\n",
    "font = {'family' : 'Arial',\n",
    "        'size'   : 7}\n",
    "matplotlib.rc('font', **font)\n",
    "plt.rcParams['svg.fonttype'] = 'none'\n",
    "\n",
    "# Make a folder if it is not already there to store exported figures\n",
    "!mkdir ../jupyter_figures\n"
   ]
  },
  {
   "cell_type": "code",
   "execution_count": 2,
   "id": "fce22ff0-6ea3-4ae3-a494-4c5d857f556a",
   "metadata": {},
   "outputs": [],
   "source": [
    "def get_plate_data(plate_id, data_folder='../data/qPCR-data'):\n",
    "    ''' Given a plate id:\n",
    "          1. Locate the annotation csv file and the quantification Cq results csv file\n",
    "          2. Extract useful data, merge and return the data frame\n",
    "    '''\n",
    "    annotation_files = glob.glob(os.path.join(data_folder, '*'+plate_id+'*annotation.csv'))\n",
    "    assert len(annotation_files) == 1\n",
    "    annotation_file = annotation_files[0]\n",
    "    \n",
    "    exported_csv_folders = glob.glob(os.path.join(data_folder, '*'+plate_id+'*'+os.path.sep))\n",
    "    assert len(exported_csv_folders) == 1\n",
    "    exported_csv_folder = exported_csv_folders[0]\n",
    "    \n",
    "    data_files = glob.glob(os.path.join(exported_csv_folder, '*Quantification Cq Results.csv'))\n",
    "    assert len(data_files) == 1\n",
    "    data_file = data_files[0]\n",
    "    \n",
    "    df = pd.read_csv(annotation_file)\n",
    "    df_annotation = df[['Well', 'Sample', 'Primer']]\n",
    "    \n",
    "    df = pd.read_csv(data_file)\n",
    "    df_data = df[['Well', 'Cq']]\n",
    "    \n",
    "    df = df_annotation.merge(df_data, on='Well')\n",
    "    df.dropna(inplace=True)\n",
    "    \n",
    "    return df\n",
    "\n",
    "def get_expression_data(df, test_primer, ref_primer='Rps29 v1'):\n",
    "    ''' From the data frame containing qPCR data and annotation, \n",
    "        calculate average values of replicates and deltaCq values of each sample\n",
    "        \n",
    "    '''\n",
    "    for i in ['Well', 'Sample', 'Primer', 'Cq']:\n",
    "        assert i in df.columns\n",
    "    \n",
    "    df_ref = df[df.Primer==ref_primer]\n",
    "    df_ref.rename(columns={'Cq': 'Cq_ref'}, inplace=True)\n",
    "    \n",
    "    df_test = df[df.Primer==test_primer]\n",
    "    df_test.rename(columns={'Cq': 'Cq_test'}, inplace=True)\n",
    "    \n",
    "    # calculate average values of technical replicates\n",
    "    df_ref_mean = df_ref.groupby('Sample').mean()\n",
    "    df_ref_mean.reset_index(inplace=True)\n",
    "    \n",
    "    df_test_mean = df_test.groupby('Sample').mean()\n",
    "    df_test_mean.reset_index(inplace=True)\n",
    "    \n",
    "    df = df_ref_mean.merge(df_test_mean, on='Sample')\n",
    "    df['deltaCq'] = df.Cq_test - df.Cq_ref\n",
    "    df['relExp'] = 2**(-df.deltaCq)\n",
    "    df['Group'] = [df.Sample[i][:-2] for i in range(len(df))]\n",
    "    \n",
    "    return df\n"
   ]
  },
  {
   "cell_type": "code",
   "execution_count": 3,
   "id": "8039bdac-a9af-476c-badb-5289af4d1124",
   "metadata": {},
   "outputs": [],
   "source": [
    "df = get_plate_data('220519-plate3')"
   ]
  },
  {
   "cell_type": "code",
   "execution_count": 4,
   "id": "1b2ee0f1-bf59-490b-adad-6e9e49655d87",
   "metadata": {},
   "outputs": [],
   "source": [
    "df_sg3 = get_expression_data(df, test_primer='Serpinh1 sg3 v1')"
   ]
  },
  {
   "cell_type": "code",
   "execution_count": 5,
   "id": "9483fab3-5af0-47df-9bdd-4542791ee78a",
   "metadata": {},
   "outputs": [
    {
     "data": {
      "text/html": [
       "<div>\n",
       "<style scoped>\n",
       "    .dataframe tbody tr th:only-of-type {\n",
       "        vertical-align: middle;\n",
       "    }\n",
       "\n",
       "    .dataframe tbody tr th {\n",
       "        vertical-align: top;\n",
       "    }\n",
       "\n",
       "    .dataframe thead th {\n",
       "        text-align: right;\n",
       "    }\n",
       "</style>\n",
       "<table border=\"1\" class=\"dataframe\">\n",
       "  <thead>\n",
       "    <tr style=\"text-align: right;\">\n",
       "      <th></th>\n",
       "      <th>Sample</th>\n",
       "      <th>Cq_ref</th>\n",
       "      <th>Cq_test</th>\n",
       "      <th>deltaCq</th>\n",
       "      <th>relExp</th>\n",
       "      <th>Group</th>\n",
       "    </tr>\n",
       "  </thead>\n",
       "  <tbody>\n",
       "    <tr>\n",
       "      <th>0</th>\n",
       "      <td>A-188-1</td>\n",
       "      <td>19.267236</td>\n",
       "      <td>24.720419</td>\n",
       "      <td>5.453183</td>\n",
       "      <td>0.022826</td>\n",
       "      <td>A-188</td>\n",
       "    </tr>\n",
       "    <tr>\n",
       "      <th>1</th>\n",
       "      <td>A-188-2</td>\n",
       "      <td>19.347161</td>\n",
       "      <td>24.778090</td>\n",
       "      <td>5.430929</td>\n",
       "      <td>0.023181</td>\n",
       "      <td>A-188</td>\n",
       "    </tr>\n",
       "    <tr>\n",
       "      <th>2</th>\n",
       "      <td>A-188-3</td>\n",
       "      <td>19.163274</td>\n",
       "      <td>24.564533</td>\n",
       "      <td>5.401259</td>\n",
       "      <td>0.023662</td>\n",
       "      <td>A-188</td>\n",
       "    </tr>\n",
       "    <tr>\n",
       "      <th>3</th>\n",
       "      <td>A-188-4</td>\n",
       "      <td>19.316662</td>\n",
       "      <td>25.509558</td>\n",
       "      <td>6.192897</td>\n",
       "      <td>0.013669</td>\n",
       "      <td>A-188</td>\n",
       "    </tr>\n",
       "    <tr>\n",
       "      <th>4</th>\n",
       "      <td>A-188-5</td>\n",
       "      <td>20.583479</td>\n",
       "      <td>28.142526</td>\n",
       "      <td>7.559047</td>\n",
       "      <td>0.005303</td>\n",
       "      <td>A-188</td>\n",
       "    </tr>\n",
       "    <tr>\n",
       "      <th>5</th>\n",
       "      <td>A-230-1</td>\n",
       "      <td>19.368765</td>\n",
       "      <td>26.272487</td>\n",
       "      <td>6.903722</td>\n",
       "      <td>0.008352</td>\n",
       "      <td>A-230</td>\n",
       "    </tr>\n",
       "    <tr>\n",
       "      <th>6</th>\n",
       "      <td>A-230-2</td>\n",
       "      <td>19.581540</td>\n",
       "      <td>27.146657</td>\n",
       "      <td>7.565117</td>\n",
       "      <td>0.005280</td>\n",
       "      <td>A-230</td>\n",
       "    </tr>\n",
       "    <tr>\n",
       "      <th>7</th>\n",
       "      <td>A-230-3</td>\n",
       "      <td>19.592097</td>\n",
       "      <td>26.250663</td>\n",
       "      <td>6.658566</td>\n",
       "      <td>0.009899</td>\n",
       "      <td>A-230</td>\n",
       "    </tr>\n",
       "    <tr>\n",
       "      <th>8</th>\n",
       "      <td>A-230-4</td>\n",
       "      <td>20.074441</td>\n",
       "      <td>27.008938</td>\n",
       "      <td>6.934496</td>\n",
       "      <td>0.008175</td>\n",
       "      <td>A-230</td>\n",
       "    </tr>\n",
       "    <tr>\n",
       "      <th>9</th>\n",
       "      <td>A-230-5</td>\n",
       "      <td>19.517504</td>\n",
       "      <td>26.675124</td>\n",
       "      <td>7.157621</td>\n",
       "      <td>0.007004</td>\n",
       "      <td>A-230</td>\n",
       "    </tr>\n",
       "  </tbody>\n",
       "</table>\n",
       "</div>"
      ],
      "text/plain": [
       "    Sample     Cq_ref    Cq_test   deltaCq    relExp  Group\n",
       "0  A-188-1  19.267236  24.720419  5.453183  0.022826  A-188\n",
       "1  A-188-2  19.347161  24.778090  5.430929  0.023181  A-188\n",
       "2  A-188-3  19.163274  24.564533  5.401259  0.023662  A-188\n",
       "3  A-188-4  19.316662  25.509558  6.192897  0.013669  A-188\n",
       "4  A-188-5  20.583479  28.142526  7.559047  0.005303  A-188\n",
       "5  A-230-1  19.368765  26.272487  6.903722  0.008352  A-230\n",
       "6  A-230-2  19.581540  27.146657  7.565117  0.005280  A-230\n",
       "7  A-230-3  19.592097  26.250663  6.658566  0.009899  A-230\n",
       "8  A-230-4  20.074441  27.008938  6.934496  0.008175  A-230\n",
       "9  A-230-5  19.517504  26.675124  7.157621  0.007004  A-230"
      ]
     },
     "execution_count": 5,
     "metadata": {},
     "output_type": "execute_result"
    }
   ],
   "source": [
    "df_sg3"
   ]
  },
  {
   "cell_type": "code",
   "execution_count": 14,
   "id": "7955050f-e7fc-4af3-96fa-2db15c886fb8",
   "metadata": {},
   "outputs": [
    {
     "data": {
      "text/plain": [
       "<AxesSubplot:xlabel='Group', ylabel='relExp'>"
      ]
     },
     "execution_count": 14,
     "metadata": {},
     "output_type": "execute_result"
    },
    {
     "data": {
      "image/png": "[encoded data removed]",
      "text/plain": [
       "<Figure size 432x288 with 1 Axes>"
      ]
     },
     "metadata": {
      "needs_background": "light"
     },
     "output_type": "display_data"
    }
   ],
   "source": [
    "sns.barplot(data=df_sg3, x='Group', y='relExp')\n",
    "# sns.scatterplot(data=df_sg3, x='Group', y='relExp')"
   ]
  },
  {
   "cell_type": "code",
   "execution_count": 17,
   "id": "c1d300a0-9a64-46db-8708-fef06045dd3d",
   "metadata": {},
   "outputs": [
    {
     "data": {
      "text/plain": [
       "(0.0, 0.03)"
      ]
     },
     "execution_count": 17,
     "metadata": {},
     "output_type": "execute_result"
    },
    {
     "data": {
      "image/png": "[encoded data removed]",
      "text/plain": [
       "<Figure size 432x288 with 1 Axes>"
      ]
     },
     "metadata": {
      "needs_background": "light"
     },
     "output_type": "display_data"
    }
   ],
   "source": [
    "# sns.barplot(data=df_sg3, x='Group', y='relExp')\n",
    "ax = sns.scatterplot(data=df_sg3, x='Group', y='relExp')\n",
    "ax.set_ylim([0,0.03])"
   ]
  },
  {
   "cell_type": "code",
   "execution_count": 7,
   "id": "53509368-3c93-49d9-834d-1cdc4cfd7086",
   "metadata": {},
   "outputs": [
    {
     "name": "stdout",
     "output_type": "stream",
     "text": [
      "Summary of test:\n",
      " Multiple Comparison of Means - Tukey HSD, FWER=0.05 \n",
      "====================================================\n",
      "group1 group2 meandiff p-adj   lower   upper  reject\n",
      "----------------------------------------------------\n",
      " A-188  A-230    -0.01 0.0271 -0.0185 -0.0015   True\n",
      "----------------------------------------------------\n",
      "p values of all pair-wise tests:\n",
      " [0.02707536]\n"
     ]
    },
    {
     "data": {
      "text/plain": [
       "<statsmodels.sandbox.stats.multicomp.TukeyHSDResults at 0x7fe8e8f07190>"
      ]
     },
     "execution_count": 7,
     "metadata": {},
     "output_type": "execute_result"
    }
   ],
   "source": [
    "df_temp = df_sg3\n",
    "tukeyTest(df_temp.relExp, df_temp.Group)"
   ]
  },
  {
   "cell_type": "code",
   "execution_count": null,
   "id": "65177ef3-7301-48fb-9c31-d3b80dd8b932",
   "metadata": {},
   "outputs": [],
   "source": []
  }
 ],
 "metadata": {
  "kernelspec": {
   "display_name": "Python 3 (ipykernel)",
   "language": "python",
   "name": "python3"
  },
  "language_info": {
   "codemirror_mode": {
    "name": "ipython",
    "version": 3
   },
   "file_extension": ".py",
   "mimetype": "text/x-python",
   "name": "python",
   "nbconvert_exporter": "python",
   "pygments_lexer": "ipython3",
   "version": "3.9.5"
  }
 },
 "nbformat": 4,
 "nbformat_minor": 5
}
