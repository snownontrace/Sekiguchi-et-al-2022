{
 "cells": [
  {
   "cell_type": "code",
   "execution_count": 12,
   "metadata": {},
   "outputs": [
    {
     "name": "stdout",
     "output_type": "stream",
     "text": [
      "mkdir: ../jupyter_figures: File exists\n"
     ]
    }
   ],
   "source": [
    "import sys, os, glob, warnings, logging\n",
    "import numpy as np\n",
    "import pandas as pd\n",
    "import matplotlib\n",
    "import matplotlib.pyplot as plt\n",
    "import seaborn as sns\n",
    "from sw_plotting import change_bar_width, plotCountBar\n",
    "from sw_utilities import tukeyTest, getCountDFbyPrefix, get_annotated_countDF\n",
    "\n",
    "# logging.basicConfig(stream=sys.stdout, format='%(asctime)s - %(levelname)s - %(message)s', level=logging.DEBUG)\n",
    "# logging.basicConfig(stream=sys.stdout, format='%(asctime)s - %(levelname)s - %(message)s', level=logging.INFO)\n",
    "logging.basicConfig(stream=sys.stdout, format='%(asctime)s - %(levelname)s - %(message)s', level=logging.ERROR)\n",
    "\n",
    "# ignore warnings\n",
    "warnings.filterwarnings('ignore')\n",
    "\n",
    "# plotting configuration\n",
    "font = {'family' : 'Arial',\n",
    "        'size'   : 7}\n",
    "matplotlib.rc('font', **font)\n",
    "plt.rcParams['svg.fonttype'] = 'none'\n",
    "\n",
    "# Make a folder if it is not already there to store exported figures\n",
    "!mkdir ../jupyter_figures\n"
   ]
  },
  {
   "cell_type": "code",
   "execution_count": 13,
   "metadata": {},
   "outputs": [],
   "source": [
    "# Read in the count data by Kaz\n",
    "\n",
    "datasetPrefix = '20220513-plateI-day0'\n",
    "datasetFolder = '../data/220509-30-for-bud-count-Kaz/sg-Itgb1-E16-blast/'\n",
    "df = getCountDFbyPrefix(datasetPrefix, datasetFolder)\n",
    "\n",
    "# - For Itgb1 KO\n",
    "# - Plate I, by Shaohe, add blasticidin\n",
    "# - D2-D6, LV-188\n",
    "# - D7-D11, LV-401\n",
    "# - E2-E6, LV-402\n",
    "# - E7-E11, LV-403\n",
    "\n",
    "groups = [\"sg-Control\"]*5 + [\"sg1-Itgb1\"]*5 + [\"sg2-Itgb1\"]*5 + [\"sg3-Itgb1\"]*5\n",
    "df[\"groups\"] = groups\n",
    "\n",
    "# This is day 0\n",
    "df.rename(columns={'counts': 'counts_d0'}, inplace=True)\n",
    "\n",
    "df0 = df"
   ]
  },
  {
   "cell_type": "code",
   "execution_count": 14,
   "metadata": {},
   "outputs": [],
   "source": [
    "# Read in the count data by Kaz\n",
    "\n",
    "datasetPrefix = '20220517-plateI-day4'\n",
    "datasetFolder = '../data/220509-30-for-bud-count-Kaz/sg-Itgb1-E16-blast/'\n",
    "df = getCountDFbyPrefix(datasetPrefix, datasetFolder)\n",
    "\n",
    "# - For Itgb1 KO\n",
    "# - Plate I, by Shaohe, add blasticidin\n",
    "# - D2-D6, LV-188\n",
    "# - D7-D11, LV-401\n",
    "# - E2-E6, LV-402\n",
    "# - E7-E11, LV-403\n",
    "\n",
    "groups = [\"sg-Control\"]*5 + [\"sg1-Itgb1\"]*5 + [\"sg2-Itgb1\"]*5 + [\"sg3-Itgb1\"]*5\n",
    "df[\"groups\"] = groups\n",
    "\n",
    "# This is day 4\n",
    "df.rename(columns={'counts': 'counts_d4'}, inplace=True)\n",
    "\n",
    "df4 = df"
   ]
  },
  {
   "cell_type": "code",
   "execution_count": 17,
   "metadata": {},
   "outputs": [
    {
     "name": "stdout",
     "output_type": "stream",
     "text": [
      "Summary of test:\n",
      "     Multiple Comparison of Means - Tukey HSD, FWER=0.05    \n",
      "===========================================================\n",
      "  group1     group2  meandiff p-adj   lower   upper  reject\n",
      "-----------------------------------------------------------\n",
      "sg-Control sg1-Itgb1  -2.2255 0.0076  -3.899 -0.5519   True\n",
      "sg-Control sg2-Itgb1  -2.9836  0.001 -4.6572 -1.3101   True\n",
      "sg-Control sg3-Itgb1  -2.6088  0.002 -4.2823 -0.9353   True\n",
      " sg1-Itgb1 sg2-Itgb1  -0.7582 0.5719 -2.4317  0.9154  False\n",
      " sg1-Itgb1 sg3-Itgb1  -0.3833    0.9 -2.0569  1.2902  False\n",
      " sg2-Itgb1 sg3-Itgb1   0.3748    0.9 -1.2987  2.0484  False\n",
      "-----------------------------------------------------------\n",
      "p values of all pair-wise tests:\n",
      " [0.00762699 0.001      0.00201628 0.5719299  0.9        0.9       ]\n"
     ]
    },
    {
     "data": {
      "image/png": "[encoded data removed]",
      "text/plain": [
       "<Figure size 432x288 with 1 Axes>"
      ]
     },
     "metadata": {
      "needs_background": "light"
     },
     "output_type": "display_data"
    }
   ],
   "source": [
    "df = df0.merge(df4, on=['file_name', 'groups'])\n",
    "df['ratio_d4_to_d0'] = df['counts_d4'] / df['counts_d0']\n",
    "\n",
    "# Inspect raw data if curious about how they look\n",
    "ax = sns.swarmplot(df.groups, df.ratio_d4_to_d0)\n",
    "\n",
    "# Perform a Tukey test across groups\n",
    "tukeyTest(df.ratio_d4_to_d0, df.groups)\n",
    "\n",
    "# Use different variables to hold counting data by Kaz or Rei\n",
    "df_Kaz = df"
   ]
  },
  {
   "cell_type": "code",
   "execution_count": 18,
   "metadata": {},
   "outputs": [],
   "source": [
    "# Read in the count data by Rei\n",
    "\n",
    "datasetPrefix = '20220513-plateI-day0'\n",
    "datasetFolder = '../data/220509-30-for-bud-count-Rei/sg-Itgb1-E16-blast/'\n",
    "df = getCountDFbyPrefix(datasetPrefix, datasetFolder)\n",
    "\n",
    "# - For Itgb1 KO\n",
    "# - Plate C, mouse 1, by Shaohe\n",
    "# - D2-D6, LV-188\n",
    "# - D7-D11, LV-401\n",
    "# - E2-E6, LV-402\n",
    "# - E7-E11, LV-403\n",
    "\n",
    "groups = [\"sg-Control\"]*5 + [\"sg1-Itgb1\"]*5 + [\"sg2-Itgb1\"]*5 + [\"sg3-Itgb1\"]*5\n",
    "df[\"groups\"] = groups\n",
    "\n",
    "# This is day 0\n",
    "df.rename(columns={'counts': 'counts_d0'}, inplace=True)\n",
    "\n",
    "df0 = df"
   ]
  },
  {
   "cell_type": "code",
   "execution_count": 19,
   "metadata": {},
   "outputs": [],
   "source": [
    "# Read in the count data by Rei\n",
    "\n",
    "datasetPrefix = '20220517-plateI-day4'\n",
    "datasetFolder = '../data/220509-30-for-bud-count-Rei/sg-Itgb1-E16-blast/'\n",
    "df = getCountDFbyPrefix(datasetPrefix, datasetFolder)\n",
    "\n",
    "# - For Itgb1 KO\n",
    "# - Plate C, mouse 1, by Shaohe\n",
    "# - D2-D6, LV-188\n",
    "# - D7-D11, LV-401\n",
    "# - E2-E6, LV-402\n",
    "# - E7-E11, LV-403\n",
    "\n",
    "groups = [\"sg-Control\"]*5 + [\"sg1-Itgb1\"]*5 + [\"sg2-Itgb1\"]*5 + [\"sg3-Itgb1\"]*5\n",
    "df[\"groups\"] = groups\n",
    "\n",
    "# This is day 4\n",
    "df.rename(columns={'counts': 'counts_d4'}, inplace=True)\n",
    "\n",
    "df4 = df"
   ]
  },
  {
   "cell_type": "code",
   "execution_count": 20,
   "metadata": {},
   "outputs": [
    {
     "name": "stdout",
     "output_type": "stream",
     "text": [
      "Summary of test:\n",
      "     Multiple Comparison of Means - Tukey HSD, FWER=0.05     \n",
      "============================================================\n",
      "  group1     group2  meandiff p-adj   lower    upper  reject\n",
      "------------------------------------------------------------\n",
      "sg-Control sg1-Itgb1  -5.6765 0.0508 -11.3685  0.0155  False\n",
      "sg-Control sg2-Itgb1  -7.0152 0.0134 -12.7073 -1.3232   True\n",
      "sg-Control sg3-Itgb1  -7.3127 0.0099 -13.0048 -1.6207   True\n",
      " sg1-Itgb1 sg2-Itgb1  -1.3387    0.9  -7.0308  4.3533  False\n",
      " sg1-Itgb1 sg3-Itgb1  -1.6362 0.8273  -7.3282  4.0558  False\n",
      " sg2-Itgb1 sg3-Itgb1  -0.2975    0.9  -5.9895  5.3945  False\n",
      "------------------------------------------------------------\n",
      "p values of all pair-wise tests:\n",
      " [0.05075264 0.01341764 0.00991211 0.9        0.82726046 0.9       ]\n"
     ]
    },
    {
     "data": {
      "image/png": "[encoded data removed]",
      "text/plain": [
       "<Figure size 432x288 with 1 Axes>"
      ]
     },
     "metadata": {
      "needs_background": "light"
     },
     "output_type": "display_data"
    }
   ],
   "source": [
    "df = df0.merge(df4, on=['file_name', 'groups'])\n",
    "df['ratio_d4_to_d0'] = df['counts_d4'] / df['counts_d0']\n",
    "\n",
    "# Inspect raw data if curious about how they look\n",
    "ax = sns.swarmplot(df.groups, df.ratio_d4_to_d0)\n",
    "\n",
    "# Perform a Tukey test across groups\n",
    "tukeyTest(df.ratio_d4_to_d0, df.groups)\n",
    "\n",
    "# Use different variables to hold counting data by Kaz or Rei\n",
    "df_Rei = df"
   ]
  },
  {
   "cell_type": "code",
   "execution_count": 21,
   "metadata": {},
   "outputs": [
    {
     "data": {
      "text/html": [
       "<div>\n",
       "<style scoped>\n",
       "    .dataframe tbody tr th:only-of-type {\n",
       "        vertical-align: middle;\n",
       "    }\n",
       "\n",
       "    .dataframe tbody tr th {\n",
       "        vertical-align: top;\n",
       "    }\n",
       "\n",
       "    .dataframe thead th {\n",
       "        text-align: right;\n",
       "    }\n",
       "</style>\n",
       "<table border=\"1\" class=\"dataframe\">\n",
       "  <thead>\n",
       "    <tr style=\"text-align: right;\">\n",
       "      <th></th>\n",
       "      <th>file_name</th>\n",
       "      <th>scrambled_file_name_x_x</th>\n",
       "      <th>counts_d0_Kaz</th>\n",
       "      <th>groups</th>\n",
       "      <th>scrambled_file_name_y_x</th>\n",
       "      <th>counts_d4_Kaz</th>\n",
       "      <th>ratio_d4_to_d0_Kaz</th>\n",
       "      <th>scrambled_file_name_x_y</th>\n",
       "      <th>counts_d0_Rei</th>\n",
       "      <th>scrambled_file_name_y_y</th>\n",
       "      <th>counts_d4_Rei</th>\n",
       "      <th>ratio_d4_to_d0_Rei</th>\n",
       "    </tr>\n",
       "  </thead>\n",
       "  <tbody>\n",
       "    <tr>\n",
       "      <th>0</th>\n",
       "      <td>Plate07152021_WellD02_ChannelMono_Seq0000.nd2</td>\n",
       "      <td>346f30cabbdda2ab706a80f5d3d12407.nd2</td>\n",
       "      <td>3</td>\n",
       "      <td>sg-Control</td>\n",
       "      <td>069261f8006cfcbb20320bdff2aba1ec.nd2</td>\n",
       "      <td>21</td>\n",
       "      <td>7.000000</td>\n",
       "      <td>346f30cabbdda2ab706a80f5d3d12407.nd2</td>\n",
       "      <td>1</td>\n",
       "      <td>069261f8006cfcbb20320bdff2aba1ec.nd2</td>\n",
       "      <td>20</td>\n",
       "      <td>20.000000</td>\n",
       "    </tr>\n",
       "    <tr>\n",
       "      <th>1</th>\n",
       "      <td>Plate07152021_WellD03_ChannelMono_Seq0001.nd2</td>\n",
       "      <td>1475877d3d7146aaf4789f735c1e504d.nd2</td>\n",
       "      <td>4</td>\n",
       "      <td>sg-Control</td>\n",
       "      <td>268f675ba180336022880af8c7629f3b.nd2</td>\n",
       "      <td>21</td>\n",
       "      <td>5.250000</td>\n",
       "      <td>1475877d3d7146aaf4789f735c1e504d.nd2</td>\n",
       "      <td>3</td>\n",
       "      <td>268f675ba180336022880af8c7629f3b.nd2</td>\n",
       "      <td>17</td>\n",
       "      <td>5.666667</td>\n",
       "    </tr>\n",
       "    <tr>\n",
       "      <th>2</th>\n",
       "      <td>Plate07152021_WellD04_ChannelMono_Seq0002.nd2</td>\n",
       "      <td>227a5cc1e88ac7380136473bf9f6b8df.nd2</td>\n",
       "      <td>7</td>\n",
       "      <td>sg-Control</td>\n",
       "      <td>c90ce29d4ecf6d98ba9d47b329548fb5.nd2</td>\n",
       "      <td>35</td>\n",
       "      <td>5.000000</td>\n",
       "      <td>227a5cc1e88ac7380136473bf9f6b8df.nd2</td>\n",
       "      <td>4</td>\n",
       "      <td>c90ce29d4ecf6d98ba9d47b329548fb5.nd2</td>\n",
       "      <td>34</td>\n",
       "      <td>8.500000</td>\n",
       "    </tr>\n",
       "    <tr>\n",
       "      <th>3</th>\n",
       "      <td>Plate07152021_WellD05_ChannelMono_Seq0003.nd2</td>\n",
       "      <td>284ced130d0cf9ff3537a14be689072b.nd2</td>\n",
       "      <td>4</td>\n",
       "      <td>sg-Control</td>\n",
       "      <td>47cfb993d1e26d3aec78875faf1fa2f3.nd2</td>\n",
       "      <td>17</td>\n",
       "      <td>4.250000</td>\n",
       "      <td>284ced130d0cf9ff3537a14be689072b.nd2</td>\n",
       "      <td>2</td>\n",
       "      <td>47cfb993d1e26d3aec78875faf1fa2f3.nd2</td>\n",
       "      <td>18</td>\n",
       "      <td>9.000000</td>\n",
       "    </tr>\n",
       "    <tr>\n",
       "      <th>4</th>\n",
       "      <td>Plate07152021_WellD06_ChannelMono_Seq0004.nd2</td>\n",
       "      <td>d55b016654394aed8fb7d54ed8e35cec.nd2</td>\n",
       "      <td>7</td>\n",
       "      <td>sg-Control</td>\n",
       "      <td>197e829b537eb7c76f67b7bb70e0d347.nd2</td>\n",
       "      <td>23</td>\n",
       "      <td>3.285714</td>\n",
       "      <td>d55b016654394aed8fb7d54ed8e35cec.nd2</td>\n",
       "      <td>5</td>\n",
       "      <td>197e829b537eb7c76f67b7bb70e0d347.nd2</td>\n",
       "      <td>23</td>\n",
       "      <td>4.600000</td>\n",
       "    </tr>\n",
       "  </tbody>\n",
       "</table>\n",
       "</div>"
      ],
      "text/plain": [
       "                                       file_name  \\\n",
       "0  Plate07152021_WellD02_ChannelMono_Seq0000.nd2   \n",
       "1  Plate07152021_WellD03_ChannelMono_Seq0001.nd2   \n",
       "2  Plate07152021_WellD04_ChannelMono_Seq0002.nd2   \n",
       "3  Plate07152021_WellD05_ChannelMono_Seq0003.nd2   \n",
       "4  Plate07152021_WellD06_ChannelMono_Seq0004.nd2   \n",
       "\n",
       "                scrambled_file_name_x_x  counts_d0_Kaz      groups  \\\n",
       "0  346f30cabbdda2ab706a80f5d3d12407.nd2              3  sg-Control   \n",
       "1  1475877d3d7146aaf4789f735c1e504d.nd2              4  sg-Control   \n",
       "2  227a5cc1e88ac7380136473bf9f6b8df.nd2              7  sg-Control   \n",
       "3  284ced130d0cf9ff3537a14be689072b.nd2              4  sg-Control   \n",
       "4  d55b016654394aed8fb7d54ed8e35cec.nd2              7  sg-Control   \n",
       "\n",
       "                scrambled_file_name_y_x  counts_d4_Kaz  ratio_d4_to_d0_Kaz  \\\n",
       "0  069261f8006cfcbb20320bdff2aba1ec.nd2             21            7.000000   \n",
       "1  268f675ba180336022880af8c7629f3b.nd2             21            5.250000   \n",
       "2  c90ce29d4ecf6d98ba9d47b329548fb5.nd2             35            5.000000   \n",
       "3  47cfb993d1e26d3aec78875faf1fa2f3.nd2             17            4.250000   \n",
       "4  197e829b537eb7c76f67b7bb70e0d347.nd2             23            3.285714   \n",
       "\n",
       "                scrambled_file_name_x_y  counts_d0_Rei  \\\n",
       "0  346f30cabbdda2ab706a80f5d3d12407.nd2              1   \n",
       "1  1475877d3d7146aaf4789f735c1e504d.nd2              3   \n",
       "2  227a5cc1e88ac7380136473bf9f6b8df.nd2              4   \n",
       "3  284ced130d0cf9ff3537a14be689072b.nd2              2   \n",
       "4  d55b016654394aed8fb7d54ed8e35cec.nd2              5   \n",
       "\n",
       "                scrambled_file_name_y_y  counts_d4_Rei  ratio_d4_to_d0_Rei  \n",
       "0  069261f8006cfcbb20320bdff2aba1ec.nd2             20           20.000000  \n",
       "1  268f675ba180336022880af8c7629f3b.nd2             17            5.666667  \n",
       "2  c90ce29d4ecf6d98ba9d47b329548fb5.nd2             34            8.500000  \n",
       "3  47cfb993d1e26d3aec78875faf1fa2f3.nd2             18            9.000000  \n",
       "4  197e829b537eb7c76f67b7bb70e0d347.nd2             23            4.600000  "
      ]
     },
     "execution_count": 21,
     "metadata": {},
     "output_type": "execute_result"
    }
   ],
   "source": [
    "# Merge the two data set and compare the countings of Rei and Kaz\n",
    "df_Kaz.rename(columns={'counts_d0': 'counts_d0_Kaz'}, inplace=True)\n",
    "df_Kaz.rename(columns={'counts_d4': 'counts_d4_Kaz'}, inplace=True)\n",
    "df_Kaz.rename(columns={'ratio_d4_to_d0': 'ratio_d4_to_d0_Kaz'}, inplace=True)\n",
    "\n",
    "df_Rei.rename(columns={'counts_d0': 'counts_d0_Rei'}, inplace=True)\n",
    "df_Rei.rename(columns={'counts_d4': 'counts_d4_Rei'}, inplace=True)\n",
    "df_Rei.rename(columns={'ratio_d4_to_d0': 'ratio_d4_to_d0_Rei'}, inplace=True)\n",
    "\n",
    "df = df_Kaz.merge(df_Rei, on=['file_name', 'groups'])\n",
    "df.head()"
   ]
  },
  {
   "cell_type": "code",
   "execution_count": 22,
   "metadata": {},
   "outputs": [
    {
     "data": {
      "text/plain": [
       "[<matplotlib.lines.Line2D at 0x7faf503dc910>]"
      ]
     },
     "execution_count": 22,
     "metadata": {},
     "output_type": "execute_result"
    },
    {
     "data": {
      "image/png": "[encoded data removed]",
      "text/plain": [
       "<Figure size 432x288 with 1 Axes>"
      ]
     },
     "metadata": {
      "needs_background": "light"
     },
     "output_type": "display_data"
    }
   ],
   "source": [
    "# plt.plot(df.ratio_d4_to_d0_Kaz, df.ratio_d4_to_d0_Rei, 'ok')\n",
    "plt.plot(df.counts_d4_Kaz, df.counts_d4_Rei, 'ok')"
   ]
  },
  {
   "cell_type": "code",
   "execution_count": 23,
   "metadata": {},
   "outputs": [
    {
     "data": {
      "text/plain": [
       "[<matplotlib.lines.Line2D at 0x7faf200645e0>]"
      ]
     },
     "execution_count": 23,
     "metadata": {},
     "output_type": "execute_result"
    },
    {
     "data": {
      "image/png": "[encoded data removed]",
      "text/plain": [
       "<Figure size 432x288 with 1 Axes>"
      ]
     },
     "metadata": {
      "needs_background": "light"
     },
     "output_type": "display_data"
    }
   ],
   "source": [
    "# plt.plot(df.ratio_d4_to_d0_Kaz, df.ratio_d4_to_d0_Rei, 'ok')\n",
    "plt.plot(df.counts_d0_Kaz, df.counts_d0_Rei, 'ok')"
   ]
  },
  {
   "cell_type": "code",
   "execution_count": 24,
   "metadata": {},
   "outputs": [],
   "source": [
    "df['counts_d0'] = (df['counts_d0_Rei'] + df['counts_d0_Kaz']) / 2\n",
    "df['counts_d4'] = (df['counts_d4_Rei'] + df['counts_d4_Kaz']) / 2\n",
    "df['ratio_d4_to_d0'] = df['counts_d4'] / df['counts_d0']"
   ]
  },
  {
   "cell_type": "code",
   "execution_count": 25,
   "metadata": {},
   "outputs": [
    {
     "name": "stdout",
     "output_type": "stream",
     "text": [
      "Summary of test:\n",
      "     Multiple Comparison of Means - Tukey HSD, FWER=0.05    \n",
      "===========================================================\n",
      "  group1     group2  meandiff p-adj   lower   upper  reject\n",
      "-----------------------------------------------------------\n",
      "sg-Control sg1-Itgb1  -3.1633 0.0066 -5.4997 -0.8268   True\n",
      "sg-Control sg2-Itgb1  -4.1438  0.001 -6.4803 -1.8073   True\n",
      "sg-Control sg3-Itgb1   -4.029  0.001 -6.3655 -1.6926   True\n",
      " sg1-Itgb1 sg2-Itgb1  -0.9805 0.6234  -3.317  1.3559  False\n",
      " sg1-Itgb1 sg3-Itgb1  -0.8658 0.6991 -3.2023  1.4707  False\n",
      " sg2-Itgb1 sg3-Itgb1   0.1148    0.9 -2.2217  2.4512  False\n",
      "-----------------------------------------------------------\n",
      "p values of all pair-wise tests:\n",
      " [0.00662687 0.001      0.001      0.62338528 0.69912088 0.9       ]\n"
     ]
    },
    {
     "data": {
      "text/plain": [
       "<statsmodels.sandbox.stats.multicomp.TukeyHSDResults at 0x7faf20089b50>"
      ]
     },
     "execution_count": 25,
     "metadata": {},
     "output_type": "execute_result"
    },
    {
     "data": {
      "image/png": "[encoded data removed]",
      "text/plain": [
       "<Figure size 432x288 with 1 Axes>"
      ]
     },
     "metadata": {
      "needs_background": "light"
     },
     "output_type": "display_data"
    }
   ],
   "source": [
    "# Inspect raw data if curious about how they look\n",
    "ax = sns.swarmplot(df.groups, df.ratio_d4_to_d0)\n",
    "\n",
    "# Perform a Tukey test across groups\n",
    "tukeyTest(df.ratio_d4_to_d0, df.groups)\n"
   ]
  },
  {
   "cell_type": "code",
   "execution_count": 31,
   "metadata": {},
   "outputs": [
    {
     "data": {
      "image/png": "[encoded data removed]",
      "text/plain": [
       "<Figure size 360x600 with 1 Axes>"
      ]
     },
     "metadata": {
      "needs_background": "light"
     },
     "output_type": "display_data"
    }
   ],
   "source": [
    "# Make plot for figure\n",
    "\n",
    "fig_width, fig_height = 1.2, 2.0 # inches\n",
    "\n",
    "line_width = .8\n",
    "output_prefix = '220517-plateI-E16-d4-d0-ratio-Itgb1'\n",
    "outputFigPath = '../jupyter_figures/' + output_prefix + '.svg'\n",
    "# outputFigPath = '../jupyter_figures/' + output_prefix + '.tif'\n",
    "\n",
    "fig = plt.figure(figsize=(fig_width,fig_height), dpi=300)\n",
    "# ax = fig.add_axes([0.28, 0.35, 0.67, 0.6])\n",
    "ax = fig.add_axes([0.35, 0.4, 0.6, 0.55])\n",
    "\n",
    "# palette_dict = {'sg-Control': 'black', 'sg1-Itgb1': 'blue', 'sg2-Itgb1': 'red'}\n",
    "\n",
    "sns.swarmplot(data = df,\n",
    "              x = 'groups', y = 'ratio_d4_to_d0',\n",
    "              color = 'blue',\n",
    "              alpha = 0.3,\n",
    "              size = 1.5\n",
    "             )\n",
    "sns.barplot(data = df,\n",
    "            x = 'groups', y = 'ratio_d4_to_d0',\n",
    "            ci = 'sd',\n",
    "            color=\".7\", # This a nicer looking lighter gray to my own taste\n",
    "            errwidth=.7, errcolor=\"k\", capsize=.2)\n",
    "\n",
    "change_bar_width(ax, .5)\n",
    "\n",
    "# rotate x tick labels if necessary\n",
    "x_labels = ax.get_xticklabels()\n",
    "ax.set_xticklabels(labels=x_labels, rotation=45, ha=\"right\")\n",
    "\n",
    "ax.set_yticks([0,5,10])\n",
    "\n",
    "plt.xlabel(\"\")\n",
    "plt.ylabel(\"Bud ratio\")\n",
    "\n",
    "# ax.get_legend().remove()\n",
    "\n",
    "for o in fig.findobj():\n",
    "    o.set_clip_on(False)\n",
    "for o in ax.findobj():\n",
    "    o.set_clip_on(False)\n",
    "\n",
    "plt.savefig(outputFigPath)"
   ]
  },
  {
   "cell_type": "code",
   "execution_count": null,
   "metadata": {},
   "outputs": [],
   "source": []
  }
 ],
 "metadata": {
  "kernelspec": {
   "display_name": "Python 3 (ipykernel)",
   "language": "python",
   "name": "python3"
  },
  "language_info": {
   "codemirror_mode": {
    "name": "ipython",
    "version": 3
   },
   "file_extension": ".py",
   "mimetype": "text/x-python",
   "name": "python",
   "nbconvert_exporter": "python",
   "pygments_lexer": "ipython3",
   "version": "3.9.5"
  }
 },
 "nbformat": 4,
 "nbformat_minor": 4
}
