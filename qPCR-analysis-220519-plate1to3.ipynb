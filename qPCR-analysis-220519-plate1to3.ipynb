{
 "cells": [
  {
   "cell_type": "code",
   "execution_count": 1,
   "id": "ec1f6d73-3ad7-4908-89d5-2f7ca6735fbf",
   "metadata": {},
   "outputs": [
    {
     "name": "stdout",
     "output_type": "stream",
     "text": [
      "mkdir: ../jupyter_figures: File exists\n"
     ]
    }
   ],
   "source": [
    "import sys, os, glob, warnings, logging\n",
    "import numpy as np\n",
    "import pandas as pd\n",
    "import matplotlib\n",
    "import matplotlib.pyplot as plt\n",
    "import seaborn as sns\n",
    "from scipy import stats\n",
    "from sw_plotting import change_bar_width\n",
    "from sw_utilities import tukeyTest\n",
    "from sw_qPCR import *\n",
    "\n",
    "logging.basicConfig(stream=sys.stdout, format='%(asctime)s - %(levelname)s - %(message)s', level=logging.ERROR)\n",
    "# logging.basicConfig(stream=sys.stdout, format='%(asctime)s - %(levelname)s - %(message)s', level=logging.INFO)\n",
    "# logging.basicConfig(stream=sys.stdout, format='%(asctime)s - %(levelname)s - %(message)s', level=logging.DEBUG)\n",
    "\n",
    "# ignore warnings\n",
    "warnings.filterwarnings('ignore')\n",
    "\n",
    "# plotting configuration\n",
    "font = {'family' : 'Arial',\n",
    "        'size'   : 7}\n",
    "matplotlib.rc('font', **font)\n",
    "plt.rcParams['svg.fonttype'] = 'none'\n",
    "\n",
    "# Make a folder if it is not already there to store exported figures\n",
    "!mkdir ../jupyter_figures\n"
   ]
  },
  {
   "cell_type": "code",
   "execution_count": 14,
   "id": "efcf0422-23ad-4b71-b55b-26a6719ed5a0",
   "metadata": {},
   "outputs": [
    {
     "data": {
      "text/html": [
       "<div>\n",
       "<style scoped>\n",
       "    .dataframe tbody tr th:only-of-type {\n",
       "        vertical-align: middle;\n",
       "    }\n",
       "\n",
       "    .dataframe tbody tr th {\n",
       "        vertical-align: top;\n",
       "    }\n",
       "\n",
       "    .dataframe thead th {\n",
       "        text-align: right;\n",
       "    }\n",
       "</style>\n",
       "<table border=\"1\" class=\"dataframe\">\n",
       "  <thead>\n",
       "    <tr style=\"text-align: right;\">\n",
       "      <th></th>\n",
       "      <th>Well</th>\n",
       "      <th>Sample</th>\n",
       "      <th>Primer</th>\n",
       "      <th>Cq</th>\n",
       "      <th>plate_id</th>\n",
       "      <th>sgRNA_id</th>\n",
       "      <th>group</th>\n",
       "      <th>well_id</th>\n",
       "      <th>relExp_25</th>\n",
       "    </tr>\n",
       "  </thead>\n",
       "  <tbody>\n",
       "    <tr>\n",
       "      <th>0</th>\n",
       "      <td>A01</td>\n",
       "      <td>A-188-1</td>\n",
       "      <td>Rps29 v1</td>\n",
       "      <td>19.334721</td>\n",
       "      <td>220519-plate1</td>\n",
       "      <td>188</td>\n",
       "      <td>A-188-1___Rps29 v1</td>\n",
       "      <td>220519-plate1-A01</td>\n",
       "      <td>50.747984</td>\n",
       "    </tr>\n",
       "    <tr>\n",
       "      <th>1</th>\n",
       "      <td>A02</td>\n",
       "      <td>A-188-2</td>\n",
       "      <td>Rps29 v1</td>\n",
       "      <td>19.577852</td>\n",
       "      <td>220519-plate1</td>\n",
       "      <td>188</td>\n",
       "      <td>A-188-2___Rps29 v1</td>\n",
       "      <td>220519-plate1-A02</td>\n",
       "      <td>42.877475</td>\n",
       "    </tr>\n",
       "    <tr>\n",
       "      <th>2</th>\n",
       "      <td>A03</td>\n",
       "      <td>A-188-3</td>\n",
       "      <td>Rps29 v1</td>\n",
       "      <td>19.335932</td>\n",
       "      <td>220519-plate1</td>\n",
       "      <td>188</td>\n",
       "      <td>A-188-3___Rps29 v1</td>\n",
       "      <td>220519-plate1-A03</td>\n",
       "      <td>50.705404</td>\n",
       "    </tr>\n",
       "    <tr>\n",
       "      <th>3</th>\n",
       "      <td>A04</td>\n",
       "      <td>A-188-4</td>\n",
       "      <td>Rps29 v1</td>\n",
       "      <td>19.627998</td>\n",
       "      <td>220519-plate1</td>\n",
       "      <td>188</td>\n",
       "      <td>A-188-4___Rps29 v1</td>\n",
       "      <td>220519-plate1-A04</td>\n",
       "      <td>41.412722</td>\n",
       "    </tr>\n",
       "    <tr>\n",
       "      <th>4</th>\n",
       "      <td>A05</td>\n",
       "      <td>A-188-5</td>\n",
       "      <td>Rps29 v1</td>\n",
       "      <td>20.491257</td>\n",
       "      <td>220519-plate1</td>\n",
       "      <td>188</td>\n",
       "      <td>A-188-5___Rps29 v1</td>\n",
       "      <td>220519-plate1-A05</td>\n",
       "      <td>22.764959</td>\n",
       "    </tr>\n",
       "  </tbody>\n",
       "</table>\n",
       "</div>"
      ],
      "text/plain": [
       "  Well   Sample    Primer         Cq       plate_id sgRNA_id  \\\n",
       "0  A01  A-188-1  Rps29 v1  19.334721  220519-plate1      188   \n",
       "1  A02  A-188-2  Rps29 v1  19.577852  220519-plate1      188   \n",
       "2  A03  A-188-3  Rps29 v1  19.335932  220519-plate1      188   \n",
       "3  A04  A-188-4  Rps29 v1  19.627998  220519-plate1      188   \n",
       "4  A05  A-188-5  Rps29 v1  20.491257  220519-plate1      188   \n",
       "\n",
       "                group            well_id  relExp_25  \n",
       "0  A-188-1___Rps29 v1  220519-plate1-A01  50.747984  \n",
       "1  A-188-2___Rps29 v1  220519-plate1-A02  42.877475  \n",
       "2  A-188-3___Rps29 v1  220519-plate1-A03  50.705404  \n",
       "3  A-188-4___Rps29 v1  220519-plate1-A04  41.412722  \n",
       "4  A-188-5___Rps29 v1  220519-plate1-A05  22.764959  "
      ]
     },
     "execution_count": 14,
     "metadata": {},
     "output_type": "execute_result"
    }
   ],
   "source": [
    "# Read in data from different plates and combine them\n",
    "plate_ids = ['220519-plate1', '220519-plate2', '220519-plate3']\n",
    "dfs = []\n",
    "for plate_id in plate_ids:\n",
    "    dfs.append(get_plate_data(plate_id))\n",
    "\n",
    "df = pd.concat(dfs)\n",
    "df.reset_index(inplace=True, drop=True)\n",
    "\n",
    "# Add a few helpful columns\n",
    "df['group'] = [df.Sample[i] + '___' + df.Primer[i] for i in range(len(df))]\n",
    "df['well_id'] = [df.plate_id[i] + '-' + df.Well[i] for i in range(len(df))]\n",
    "df['relExp_25'] = [2**(25-df.Cq[i]) for i in range(len(df))]\n",
    "\n",
    "df.head()"
   ]
  },
  {
   "cell_type": "code",
   "execution_count": 15,
   "id": "4e67a70f-7451-495f-b35f-93eadcf0659b",
   "metadata": {},
   "outputs": [
    {
     "data": {
      "image/png": "[encoded data removed]",
      "text/plain": [
       "<Figure size 840x360 with 1 Axes>"
      ]
     },
     "metadata": {
      "needs_background": "light"
     },
     "output_type": "display_data"
    }
   ],
   "source": [
    "plate_id = '220519-plate1'\n",
    "primer = ['Itga9 near sg v1', 'Itga9 near sg v2']\n",
    "# df_annotation = get_annotation_data(plate_id)\n",
    "\n",
    "plot_melting_curves(plate_id, primer, save_fig=False)"
   ]
  },
  {
   "cell_type": "code",
   "execution_count": 16,
   "id": "c4c82282-37d7-48e3-870c-7a0f420f172f",
   "metadata": {},
   "outputs": [],
   "source": [
    "df_sg1 = get_expression_data(df, 'Serpinh1 sg1 v2')"
   ]
  },
  {
   "cell_type": "code",
   "execution_count": 17,
   "id": "697fd19e-be65-4465-847c-fe2eed124674",
   "metadata": {},
   "outputs": [
    {
     "data": {
      "text/html": [
       "<div>\n",
       "<style scoped>\n",
       "    .dataframe tbody tr th:only-of-type {\n",
       "        vertical-align: middle;\n",
       "    }\n",
       "\n",
       "    .dataframe tbody tr th {\n",
       "        vertical-align: top;\n",
       "    }\n",
       "\n",
       "    .dataframe thead th {\n",
       "        text-align: right;\n",
       "    }\n",
       "</style>\n",
       "<table border=\"1\" class=\"dataframe\">\n",
       "  <thead>\n",
       "    <tr style=\"text-align: right;\">\n",
       "      <th></th>\n",
       "      <th>Sample</th>\n",
       "      <th>Cq_ref</th>\n",
       "      <th>relExp_25_x</th>\n",
       "      <th>Cq_test</th>\n",
       "      <th>relExp_25_y</th>\n",
       "      <th>deltaCq</th>\n",
       "      <th>relExp</th>\n",
       "      <th>Group</th>\n",
       "      <th>sgRNA_id</th>\n",
       "    </tr>\n",
       "  </thead>\n",
       "  <tbody>\n",
       "    <tr>\n",
       "      <th>0</th>\n",
       "      <td>A-188-1</td>\n",
       "      <td>19.308192</td>\n",
       "      <td>51.709623</td>\n",
       "      <td>24.121491</td>\n",
       "      <td>1.838877</td>\n",
       "      <td>4.813299</td>\n",
       "      <td>0.035567</td>\n",
       "      <td>A-188</td>\n",
       "      <td>188</td>\n",
       "    </tr>\n",
       "    <tr>\n",
       "      <th>1</th>\n",
       "      <td>A-188-2</td>\n",
       "      <td>19.454663</td>\n",
       "      <td>46.797256</td>\n",
       "      <td>24.288221</td>\n",
       "      <td>1.639209</td>\n",
       "      <td>4.833557</td>\n",
       "      <td>0.035071</td>\n",
       "      <td>A-188</td>\n",
       "      <td>188</td>\n",
       "    </tr>\n",
       "    <tr>\n",
       "      <th>2</th>\n",
       "      <td>A-188-3</td>\n",
       "      <td>19.239314</td>\n",
       "      <td>54.277856</td>\n",
       "      <td>24.143611</td>\n",
       "      <td>1.810665</td>\n",
       "      <td>4.904296</td>\n",
       "      <td>0.033393</td>\n",
       "      <td>A-188</td>\n",
       "      <td>188</td>\n",
       "    </tr>\n",
       "    <tr>\n",
       "      <th>3</th>\n",
       "      <td>A-188-4</td>\n",
       "      <td>19.452289</td>\n",
       "      <td>46.958306</td>\n",
       "      <td>24.888545</td>\n",
       "      <td>1.081469</td>\n",
       "      <td>5.436256</td>\n",
       "      <td>0.023095</td>\n",
       "      <td>A-188</td>\n",
       "      <td>188</td>\n",
       "    </tr>\n",
       "    <tr>\n",
       "      <th>4</th>\n",
       "      <td>A-188-5</td>\n",
       "      <td>20.507010</td>\n",
       "      <td>22.668028</td>\n",
       "      <td>26.952580</td>\n",
       "      <td>0.258375</td>\n",
       "      <td>6.445570</td>\n",
       "      <td>0.011473</td>\n",
       "      <td>A-188</td>\n",
       "      <td>188</td>\n",
       "    </tr>\n",
       "    <tr>\n",
       "      <th>5</th>\n",
       "      <td>A-228-1</td>\n",
       "      <td>19.869762</td>\n",
       "      <td>35.150132</td>\n",
       "      <td>26.942180</td>\n",
       "      <td>0.260256</td>\n",
       "      <td>7.072418</td>\n",
       "      <td>0.007430</td>\n",
       "      <td>A-228</td>\n",
       "      <td>228</td>\n",
       "    </tr>\n",
       "    <tr>\n",
       "      <th>6</th>\n",
       "      <td>A-228-2</td>\n",
       "      <td>20.397910</td>\n",
       "      <td>24.297695</td>\n",
       "      <td>28.012417</td>\n",
       "      <td>0.124185</td>\n",
       "      <td>7.614507</td>\n",
       "      <td>0.005103</td>\n",
       "      <td>A-228</td>\n",
       "      <td>228</td>\n",
       "    </tr>\n",
       "    <tr>\n",
       "      <th>7</th>\n",
       "      <td>A-228-3</td>\n",
       "      <td>20.466661</td>\n",
       "      <td>23.163913</td>\n",
       "      <td>27.626942</td>\n",
       "      <td>0.162221</td>\n",
       "      <td>7.160281</td>\n",
       "      <td>0.006991</td>\n",
       "      <td>A-228</td>\n",
       "      <td>228</td>\n",
       "    </tr>\n",
       "    <tr>\n",
       "      <th>8</th>\n",
       "      <td>A-228-4</td>\n",
       "      <td>19.722219</td>\n",
       "      <td>38.821736</td>\n",
       "      <td>26.797408</td>\n",
       "      <td>0.287744</td>\n",
       "      <td>7.075189</td>\n",
       "      <td>0.007416</td>\n",
       "      <td>A-228</td>\n",
       "      <td>228</td>\n",
       "    </tr>\n",
       "    <tr>\n",
       "      <th>9</th>\n",
       "      <td>A-228-5</td>\n",
       "      <td>19.968454</td>\n",
       "      <td>32.746717</td>\n",
       "      <td>27.165812</td>\n",
       "      <td>0.222870</td>\n",
       "      <td>7.197358</td>\n",
       "      <td>0.006814</td>\n",
       "      <td>A-228</td>\n",
       "      <td>228</td>\n",
       "    </tr>\n",
       "  </tbody>\n",
       "</table>\n",
       "</div>"
      ],
      "text/plain": [
       "    Sample     Cq_ref  relExp_25_x    Cq_test  relExp_25_y   deltaCq  \\\n",
       "0  A-188-1  19.308192    51.709623  24.121491     1.838877  4.813299   \n",
       "1  A-188-2  19.454663    46.797256  24.288221     1.639209  4.833557   \n",
       "2  A-188-3  19.239314    54.277856  24.143611     1.810665  4.904296   \n",
       "3  A-188-4  19.452289    46.958306  24.888545     1.081469  5.436256   \n",
       "4  A-188-5  20.507010    22.668028  26.952580     0.258375  6.445570   \n",
       "5  A-228-1  19.869762    35.150132  26.942180     0.260256  7.072418   \n",
       "6  A-228-2  20.397910    24.297695  28.012417     0.124185  7.614507   \n",
       "7  A-228-3  20.466661    23.163913  27.626942     0.162221  7.160281   \n",
       "8  A-228-4  19.722219    38.821736  26.797408     0.287744  7.075189   \n",
       "9  A-228-5  19.968454    32.746717  27.165812     0.222870  7.197358   \n",
       "\n",
       "     relExp  Group sgRNA_id  \n",
       "0  0.035567  A-188      188  \n",
       "1  0.035071  A-188      188  \n",
       "2  0.033393  A-188      188  \n",
       "3  0.023095  A-188      188  \n",
       "4  0.011473  A-188      188  \n",
       "5  0.007430  A-228      228  \n",
       "6  0.005103  A-228      228  \n",
       "7  0.006991  A-228      228  \n",
       "8  0.007416  A-228      228  \n",
       "9  0.006814  A-228      228  "
      ]
     },
     "execution_count": 17,
     "metadata": {},
     "output_type": "execute_result"
    }
   ],
   "source": [
    "df_sg1"
   ]
  },
  {
   "cell_type": "code",
   "execution_count": 18,
   "id": "4b470502-bb83-4815-97e9-a9dd204d42ef",
   "metadata": {},
   "outputs": [
    {
     "data": {
      "text/plain": [
       "<AxesSubplot:xlabel='Group', ylabel='relExp'>"
      ]
     },
     "execution_count": 18,
     "metadata": {},
     "output_type": "execute_result"
    },
    {
     "data": {
      "image/png": "[encoded data removed]",
      "text/plain": [
       "<Figure size 432x288 with 1 Axes>"
      ]
     },
     "metadata": {
      "needs_background": "light"
     },
     "output_type": "display_data"
    }
   ],
   "source": [
    "sns.barplot(data=df_sg1, x='Group', y='relExp')"
   ]
  },
  {
   "cell_type": "code",
   "execution_count": 19,
   "id": "b96876ad-46e2-446c-8b58-5947c1b37e2e",
   "metadata": {},
   "outputs": [
    {
     "data": {
      "text/plain": [
       "<AxesSubplot:xlabel='Group', ylabel='relExp'>"
      ]
     },
     "execution_count": 19,
     "metadata": {},
     "output_type": "execute_result"
    },
    {
     "data": {
      "image/png": "[encoded data removed]",
      "text/plain": [
       "<Figure size 432x288 with 1 Axes>"
      ]
     },
     "metadata": {
      "needs_background": "light"
     },
     "output_type": "display_data"
    }
   ],
   "source": [
    "sns.scatterplot(data=df_sg1, x='Group', y='relExp')"
   ]
  },
  {
   "cell_type": "code",
   "execution_count": 20,
   "id": "b6c69dab-e451-4279-9b6f-bf2f39fc6943",
   "metadata": {},
   "outputs": [],
   "source": [
    "df_sg2 = get_expression_data(df, 'Serpinh1 sg2 v1')"
   ]
  },
  {
   "cell_type": "code",
   "execution_count": 21,
   "id": "2be6a5c6-2e38-43d4-860e-c0236f6253de",
   "metadata": {},
   "outputs": [
    {
     "data": {
      "text/html": [
       "<div>\n",
       "<style scoped>\n",
       "    .dataframe tbody tr th:only-of-type {\n",
       "        vertical-align: middle;\n",
       "    }\n",
       "\n",
       "    .dataframe tbody tr th {\n",
       "        vertical-align: top;\n",
       "    }\n",
       "\n",
       "    .dataframe thead th {\n",
       "        text-align: right;\n",
       "    }\n",
       "</style>\n",
       "<table border=\"1\" class=\"dataframe\">\n",
       "  <thead>\n",
       "    <tr style=\"text-align: right;\">\n",
       "      <th></th>\n",
       "      <th>Sample</th>\n",
       "      <th>Cq_ref</th>\n",
       "      <th>relExp_25_x</th>\n",
       "      <th>Cq_test</th>\n",
       "      <th>relExp_25_y</th>\n",
       "      <th>deltaCq</th>\n",
       "      <th>relExp</th>\n",
       "      <th>Group</th>\n",
       "      <th>sgRNA_id</th>\n",
       "    </tr>\n",
       "  </thead>\n",
       "  <tbody>\n",
       "    <tr>\n",
       "      <th>0</th>\n",
       "      <td>A-188-1</td>\n",
       "      <td>19.308192</td>\n",
       "      <td>51.709623</td>\n",
       "      <td>24.375034</td>\n",
       "      <td>1.544511</td>\n",
       "      <td>5.066842</td>\n",
       "      <td>0.029835</td>\n",
       "      <td>A-188</td>\n",
       "      <td>188</td>\n",
       "    </tr>\n",
       "    <tr>\n",
       "      <th>1</th>\n",
       "      <td>A-188-2</td>\n",
       "      <td>19.454663</td>\n",
       "      <td>46.797256</td>\n",
       "      <td>24.565618</td>\n",
       "      <td>1.351385</td>\n",
       "      <td>5.110955</td>\n",
       "      <td>0.028937</td>\n",
       "      <td>A-188</td>\n",
       "      <td>188</td>\n",
       "    </tr>\n",
       "    <tr>\n",
       "      <th>2</th>\n",
       "      <td>A-188-3</td>\n",
       "      <td>19.239314</td>\n",
       "      <td>54.277856</td>\n",
       "      <td>24.470453</td>\n",
       "      <td>1.443624</td>\n",
       "      <td>5.231139</td>\n",
       "      <td>0.026624</td>\n",
       "      <td>A-188</td>\n",
       "      <td>188</td>\n",
       "    </tr>\n",
       "    <tr>\n",
       "      <th>3</th>\n",
       "      <td>A-188-4</td>\n",
       "      <td>19.452289</td>\n",
       "      <td>46.958306</td>\n",
       "      <td>25.152901</td>\n",
       "      <td>0.899671</td>\n",
       "      <td>5.700612</td>\n",
       "      <td>0.019228</td>\n",
       "      <td>A-188</td>\n",
       "      <td>188</td>\n",
       "    </tr>\n",
       "    <tr>\n",
       "      <th>4</th>\n",
       "      <td>A-188-5</td>\n",
       "      <td>20.507010</td>\n",
       "      <td>22.668028</td>\n",
       "      <td>27.132403</td>\n",
       "      <td>0.228081</td>\n",
       "      <td>6.625392</td>\n",
       "      <td>0.010129</td>\n",
       "      <td>A-188</td>\n",
       "      <td>188</td>\n",
       "    </tr>\n",
       "    <tr>\n",
       "      <th>5</th>\n",
       "      <td>A-229-1</td>\n",
       "      <td>20.070591</td>\n",
       "      <td>30.472156</td>\n",
       "      <td>27.268291</td>\n",
       "      <td>0.207599</td>\n",
       "      <td>7.197701</td>\n",
       "      <td>0.006812</td>\n",
       "      <td>A-229</td>\n",
       "      <td>229</td>\n",
       "    </tr>\n",
       "    <tr>\n",
       "      <th>6</th>\n",
       "      <td>A-229-2</td>\n",
       "      <td>20.670557</td>\n",
       "      <td>20.111401</td>\n",
       "      <td>28.247522</td>\n",
       "      <td>0.105413</td>\n",
       "      <td>7.576966</td>\n",
       "      <td>0.005237</td>\n",
       "      <td>A-229</td>\n",
       "      <td>229</td>\n",
       "    </tr>\n",
       "    <tr>\n",
       "      <th>7</th>\n",
       "      <td>A-229-3</td>\n",
       "      <td>19.766588</td>\n",
       "      <td>37.625153</td>\n",
       "      <td>27.228276</td>\n",
       "      <td>0.213472</td>\n",
       "      <td>7.461688</td>\n",
       "      <td>0.005673</td>\n",
       "      <td>A-229</td>\n",
       "      <td>229</td>\n",
       "    </tr>\n",
       "    <tr>\n",
       "      <th>8</th>\n",
       "      <td>A-229-4</td>\n",
       "      <td>19.765525</td>\n",
       "      <td>37.658369</td>\n",
       "      <td>26.545040</td>\n",
       "      <td>0.343046</td>\n",
       "      <td>6.779515</td>\n",
       "      <td>0.009103</td>\n",
       "      <td>A-229</td>\n",
       "      <td>229</td>\n",
       "    </tr>\n",
       "    <tr>\n",
       "      <th>9</th>\n",
       "      <td>A-229-5</td>\n",
       "      <td>19.735918</td>\n",
       "      <td>38.466698</td>\n",
       "      <td>26.342547</td>\n",
       "      <td>0.394739</td>\n",
       "      <td>6.606629</td>\n",
       "      <td>0.010261</td>\n",
       "      <td>A-229</td>\n",
       "      <td>229</td>\n",
       "    </tr>\n",
       "  </tbody>\n",
       "</table>\n",
       "</div>"
      ],
      "text/plain": [
       "    Sample     Cq_ref  relExp_25_x    Cq_test  relExp_25_y   deltaCq  \\\n",
       "0  A-188-1  19.308192    51.709623  24.375034     1.544511  5.066842   \n",
       "1  A-188-2  19.454663    46.797256  24.565618     1.351385  5.110955   \n",
       "2  A-188-3  19.239314    54.277856  24.470453     1.443624  5.231139   \n",
       "3  A-188-4  19.452289    46.958306  25.152901     0.899671  5.700612   \n",
       "4  A-188-5  20.507010    22.668028  27.132403     0.228081  6.625392   \n",
       "5  A-229-1  20.070591    30.472156  27.268291     0.207599  7.197701   \n",
       "6  A-229-2  20.670557    20.111401  28.247522     0.105413  7.576966   \n",
       "7  A-229-3  19.766588    37.625153  27.228276     0.213472  7.461688   \n",
       "8  A-229-4  19.765525    37.658369  26.545040     0.343046  6.779515   \n",
       "9  A-229-5  19.735918    38.466698  26.342547     0.394739  6.606629   \n",
       "\n",
       "     relExp  Group sgRNA_id  \n",
       "0  0.029835  A-188      188  \n",
       "1  0.028937  A-188      188  \n",
       "2  0.026624  A-188      188  \n",
       "3  0.019228  A-188      188  \n",
       "4  0.010129  A-188      188  \n",
       "5  0.006812  A-229      229  \n",
       "6  0.005237  A-229      229  \n",
       "7  0.005673  A-229      229  \n",
       "8  0.009103  A-229      229  \n",
       "9  0.010261  A-229      229  "
      ]
     },
     "execution_count": 21,
     "metadata": {},
     "output_type": "execute_result"
    }
   ],
   "source": [
    "df_sg2"
   ]
  },
  {
   "cell_type": "code",
   "execution_count": 22,
   "id": "67053bf4-dc70-423b-beab-9025898c0df9",
   "metadata": {
    "tags": []
   },
   "outputs": [
    {
     "data": {
      "text/plain": [
       "<AxesSubplot:xlabel='Group', ylabel='relExp'>"
      ]
     },
     "execution_count": 22,
     "metadata": {},
     "output_type": "execute_result"
    },
    {
     "data": {
      "image/png": "[encoded data removed]",
      "text/plain": [
       "<Figure size 432x288 with 1 Axes>"
      ]
     },
     "metadata": {
      "needs_background": "light"
     },
     "output_type": "display_data"
    }
   ],
   "source": [
    "sns.barplot(data=df_sg2, x='Group', y='relExp')"
   ]
  },
  {
   "cell_type": "code",
   "execution_count": 23,
   "id": "9c68a898-c7f6-47ab-9684-32ff9fc44529",
   "metadata": {},
   "outputs": [
    {
     "data": {
      "text/plain": [
       "<AxesSubplot:xlabel='Group', ylabel='relExp'>"
      ]
     },
     "execution_count": 23,
     "metadata": {},
     "output_type": "execute_result"
    },
    {
     "data": {
      "image/png": "[encoded data removed]",
      "text/plain": [
       "<Figure size 432x288 with 1 Axes>"
      ]
     },
     "metadata": {
      "needs_background": "light"
     },
     "output_type": "display_data"
    }
   ],
   "source": [
    "sns.scatterplot(data=df_sg2, x='Group', y='relExp')"
   ]
  },
  {
   "cell_type": "code",
   "execution_count": 24,
   "id": "90a8c40b-f26d-49a2-a900-ff29038991f8",
   "metadata": {},
   "outputs": [],
   "source": [
    "df_sg3 = get_expression_data(df, 'Serpinh1 sg3 v1')"
   ]
  },
  {
   "cell_type": "code",
   "execution_count": 26,
   "id": "cbf8acb1-bbed-4b32-a3d3-28554c7fbb4f",
   "metadata": {
    "tags": []
   },
   "outputs": [
    {
     "data": {
      "text/plain": [
       "<AxesSubplot:xlabel='Group', ylabel='relExp'>"
      ]
     },
     "execution_count": 26,
     "metadata": {},
     "output_type": "execute_result"
    },
    {
     "data": {
      "image/png": "[encoded data removed]",
      "text/plain": [
       "<Figure size 432x288 with 1 Axes>"
      ]
     },
     "metadata": {
      "needs_background": "light"
     },
     "output_type": "display_data"
    }
   ],
   "source": [
    "sns.barplot(data=df_sg3, x='Group', y='relExp')"
   ]
  },
  {
   "cell_type": "code",
   "execution_count": 27,
   "id": "b67385e5-eda6-496e-a542-8fc2579aeb4b",
   "metadata": {
    "tags": []
   },
   "outputs": [
    {
     "data": {
      "text/plain": [
       "<AxesSubplot:xlabel='Group', ylabel='relExp'>"
      ]
     },
     "execution_count": 27,
     "metadata": {},
     "output_type": "execute_result"
    },
    {
     "data": {
      "image/png": "[encoded data removed]",
      "text/plain": [
       "<Figure size 432x288 with 1 Axes>"
      ]
     },
     "metadata": {
      "needs_background": "light"
     },
     "output_type": "display_data"
    }
   ],
   "source": [
    "sns.scatterplot(data=df_sg3, x='Group', y='relExp')"
   ]
  },
  {
   "cell_type": "code",
   "execution_count": null,
   "id": "290aa8ee-5268-4e3b-9673-2c2f8d0ee91e",
   "metadata": {},
   "outputs": [],
   "source": []
  }
 ],
 "metadata": {
  "kernelspec": {
   "display_name": "Python 3 (ipykernel)",
   "language": "python",
   "name": "python3"
  },
  "language_info": {
   "codemirror_mode": {
    "name": "ipython",
    "version": 3
   },
   "file_extension": ".py",
   "mimetype": "text/x-python",
   "name": "python",
   "nbconvert_exporter": "python",
   "pygments_lexer": "ipython3",
   "version": "3.9.5"
  }
 },
 "nbformat": 4,
 "nbformat_minor": 5
}
