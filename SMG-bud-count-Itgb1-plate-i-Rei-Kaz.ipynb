{
 "cells": [
  {
   "cell_type": "code",
   "execution_count": 1,
   "metadata": {},
   "outputs": [
    {
     "name": "stdout",
     "output_type": "stream",
     "text": [
      "mkdir: ../jupyter_figures: File exists\n"
     ]
    }
   ],
   "source": [
    "import sys, os, glob, warnings, logging\n",
    "import numpy as np\n",
    "import pandas as pd\n",
    "import matplotlib\n",
    "import matplotlib.pyplot as plt\n",
    "import seaborn as sns\n",
    "from sw_plotting import change_bar_width, plotCountBar\n",
    "from sw_utilities import tukeyTest, getCountDFbyPrefix\n",
    "\n",
    "# logging.basicConfig(stream=sys.stdout, format='%(asctime)s - %(levelname)s - %(message)s', level=logging.DEBUG)\n",
    "# logging.basicConfig(stream=sys.stdout, format='%(asctime)s - %(levelname)s - %(message)s', level=logging.INFO)\n",
    "logging.basicConfig(stream=sys.stdout, format='%(asctime)s - %(levelname)s - %(message)s', level=logging.ERROR)\n",
    "\n",
    "# ignore warnings\n",
    "warnings.filterwarnings('ignore')\n",
    "\n",
    "# plotting configuration\n",
    "font = {'family' : 'Arial',\n",
    "        'size'   : 7}\n",
    "matplotlib.rc('font', **font)\n",
    "plt.rcParams['svg.fonttype'] = 'none'\n",
    "\n",
    "# Make a folder if it is not already there to store exported figures\n",
    "!mkdir ../jupyter_figures\n"
   ]
  },
  {
   "cell_type": "code",
   "execution_count": 3,
   "metadata": {},
   "outputs": [],
   "source": [
    "# Read in the count data by Kaz\n",
    "\n",
    "datasetPrefix = '20220530-plate-i-day4-ph-z-endpoint'\n",
    "datasetFolder = '../data/220509-30-for-bud-count-Kaz/count-all-planes/'\n",
    "df = getCountDFbyPrefix(datasetPrefix, datasetFolder)"
   ]
  },
  {
   "cell_type": "code",
   "execution_count": 4,
   "metadata": {},
   "outputs": [
    {
     "name": "stdout",
     "output_type": "stream",
     "text": [
      "Summary of test:\n",
      "     Multiple Comparison of Means - Tukey HSD, FWER=0.05     \n",
      "============================================================\n",
      "  group1     group2  meandiff p-adj   lower    upper  reject\n",
      "------------------------------------------------------------\n",
      "sg-Control sg1-Itgb1     -9.2 0.0157 -16.8348 -1.5652   True\n",
      "sg-Control sg2-Itgb1    -11.6 0.0025 -19.2348 -3.9652   True\n",
      "sg-Control sg3-Itgb1     -9.8   0.01 -17.4348 -2.1652   True\n",
      " sg1-Itgb1 sg2-Itgb1     -2.4 0.7858 -10.0348  5.2348  False\n",
      " sg1-Itgb1 sg3-Itgb1     -0.6    0.9  -8.2348  7.0348  False\n",
      " sg2-Itgb1 sg3-Itgb1      1.8    0.9  -5.8348  9.4348  False\n",
      "------------------------------------------------------------\n",
      "p values of all pair-wise tests:\n",
      " [0.01572119 0.00253016 0.00997651 0.78578634 0.9        0.9       ]\n"
     ]
    },
    {
     "data": {
      "image/png": "[encoded data removed]",
      "text/plain": [
       "<Figure size 432x288 with 1 Axes>"
      ]
     },
     "metadata": {
      "needs_background": "light"
     },
     "output_type": "display_data"
    }
   ],
   "source": [
    "# - For Itgb1 KO, plates i set up on 5/26/22\n",
    "# - Plate i\n",
    "## - D2-D6, LV-188\n",
    "## - D7-D11, LV-401\n",
    "## - E2-E6, LV-402\n",
    "## - E7-E11, LV-403\n",
    "\n",
    "groups = [\"sg-Control\"]*5 + [\"sg1-Itgb1\"]*5 + [\"sg2-Itgb1\"]*5 + [\"sg3-Itgb1\"]*5\n",
    "df[\"groups\"] = groups\n",
    "\n",
    "# Inspect raw data if curious about how they look\n",
    "ax = sns.swarmplot(df.groups, df.counts)\n",
    "# ax.set_ylim([0,50])\n",
    "\n",
    "# Perform a Tukey test across groups\n",
    "tukeyTest(df.counts, df.groups)\n",
    "\n",
    "# Use different variables to hold counting data by Kaz or Rei\n",
    "df_Kaz = df"
   ]
  },
  {
   "cell_type": "code",
   "execution_count": 5,
   "metadata": {},
   "outputs": [],
   "source": [
    "# Read in the count data by Rei\n",
    "\n",
    "datasetPrefix = '20220530-plate-i-day4-ph-z-endpoint'\n",
    "datasetFolder = '../data/220509-30-for-bud-count-Rei/count-all-planes/'\n",
    "df = getCountDFbyPrefix(datasetPrefix, datasetFolder)\n"
   ]
  },
  {
   "cell_type": "code",
   "execution_count": 6,
   "metadata": {},
   "outputs": [
    {
     "name": "stdout",
     "output_type": "stream",
     "text": [
      "Summary of test:\n",
      "     Multiple Comparison of Means - Tukey HSD, FWER=0.05     \n",
      "============================================================\n",
      "  group1     group2  meandiff p-adj   lower    upper  reject\n",
      "------------------------------------------------------------\n",
      "sg-Control sg1-Itgb1     -7.2 0.1472 -16.2797  1.8797  False\n",
      "sg-Control sg2-Itgb1    -11.6 0.0103 -20.6797 -2.5203   True\n",
      "sg-Control sg3-Itgb1    -10.8 0.0172 -19.8797 -1.7203   True\n",
      " sg1-Itgb1 sg2-Itgb1     -4.4 0.5232 -13.4797  4.6797  False\n",
      " sg1-Itgb1 sg3-Itgb1     -3.6 0.6591 -12.6797  5.4797  False\n",
      " sg2-Itgb1 sg3-Itgb1      0.8    0.9  -8.2797  9.8797  False\n",
      "------------------------------------------------------------\n",
      "p values of all pair-wise tests:\n",
      " [0.14724008 0.01033211 0.01719212 0.52324742 0.65911974 0.9       ]\n"
     ]
    },
    {
     "data": {
      "image/png": "[encoded data removed]",
      "text/plain": [
       "<Figure size 432x288 with 1 Axes>"
      ]
     },
     "metadata": {
      "needs_background": "light"
     },
     "output_type": "display_data"
    }
   ],
   "source": [
    "# - For Itgb1 KO, plates i set up on 5/26/22\n",
    "# - Plate i\n",
    "## - D2-D6, LV-188\n",
    "## - D7-D11, LV-401\n",
    "## - E2-E6, LV-402\n",
    "## - E7-E11, LV-403\n",
    "\n",
    "groups = [\"sg-Control\"]*5 + [\"sg1-Itgb1\"]*5 + [\"sg2-Itgb1\"]*5 + [\"sg3-Itgb1\"]*5\n",
    "df[\"groups\"] = groups\n",
    "\n",
    "# Inspect raw data if curious about how they look\n",
    "ax = sns.swarmplot(df.groups, df.counts)\n",
    "# ax.set_ylim([0,50])\n",
    "\n",
    "# Perform a Tukey test across groups\n",
    "tukeyTest(df.counts, df.groups)\n",
    "\n",
    "# Use different variables to hold counting data by Kaz or Rei\n",
    "df_Rei = df"
   ]
  },
  {
   "cell_type": "code",
   "execution_count": 7,
   "metadata": {},
   "outputs": [
    {
     "data": {
      "text/html": [
       "<div>\n",
       "<style scoped>\n",
       "    .dataframe tbody tr th:only-of-type {\n",
       "        vertical-align: middle;\n",
       "    }\n",
       "\n",
       "    .dataframe tbody tr th {\n",
       "        vertical-align: top;\n",
       "    }\n",
       "\n",
       "    .dataframe thead th {\n",
       "        text-align: right;\n",
       "    }\n",
       "</style>\n",
       "<table border=\"1\" class=\"dataframe\">\n",
       "  <thead>\n",
       "    <tr style=\"text-align: right;\">\n",
       "      <th></th>\n",
       "      <th>file_name</th>\n",
       "      <th>scrambled_file_name</th>\n",
       "      <th>counts_Kaz</th>\n",
       "      <th>groups</th>\n",
       "      <th>counts_Rei</th>\n",
       "    </tr>\n",
       "  </thead>\n",
       "  <tbody>\n",
       "    <tr>\n",
       "      <th>0</th>\n",
       "      <td>Plate07152021_WellD02_ChannelMono_Seq0000-reta...</td>\n",
       "      <td>52cb8992486bc3e11910ba1b2c18a5fc.nd2</td>\n",
       "      <td>25</td>\n",
       "      <td>sg-Control</td>\n",
       "      <td>31</td>\n",
       "    </tr>\n",
       "    <tr>\n",
       "      <th>1</th>\n",
       "      <td>Plate07152021_WellD03_ChannelMono_Seq0001.nd2</td>\n",
       "      <td>5a893865076ef87475dffc85634777ca.nd2</td>\n",
       "      <td>13</td>\n",
       "      <td>sg-Control</td>\n",
       "      <td>16</td>\n",
       "    </tr>\n",
       "    <tr>\n",
       "      <th>2</th>\n",
       "      <td>Plate07152021_WellD04_ChannelMono_Seq0000-reta...</td>\n",
       "      <td>02f37e5e19b113057f27bc7a92883f87.nd2</td>\n",
       "      <td>26</td>\n",
       "      <td>sg-Control</td>\n",
       "      <td>19</td>\n",
       "    </tr>\n",
       "    <tr>\n",
       "      <th>3</th>\n",
       "      <td>Plate07152021_WellD05_ChannelMono_Seq0003.nd2</td>\n",
       "      <td>791bc431f12678cb46fa404fbe07f72b.nd2</td>\n",
       "      <td>25</td>\n",
       "      <td>sg-Control</td>\n",
       "      <td>20</td>\n",
       "    </tr>\n",
       "    <tr>\n",
       "      <th>4</th>\n",
       "      <td>Plate07152021_WellD06_ChannelMono_Seq0004.nd2</td>\n",
       "      <td>3e220e8f458f2ae9d8c8e793a7bf9bca.nd2</td>\n",
       "      <td>20</td>\n",
       "      <td>sg-Control</td>\n",
       "      <td>14</td>\n",
       "    </tr>\n",
       "  </tbody>\n",
       "</table>\n",
       "</div>"
      ],
      "text/plain": [
       "                                           file_name  \\\n",
       "0  Plate07152021_WellD02_ChannelMono_Seq0000-reta...   \n",
       "1      Plate07152021_WellD03_ChannelMono_Seq0001.nd2   \n",
       "2  Plate07152021_WellD04_ChannelMono_Seq0000-reta...   \n",
       "3      Plate07152021_WellD05_ChannelMono_Seq0003.nd2   \n",
       "4      Plate07152021_WellD06_ChannelMono_Seq0004.nd2   \n",
       "\n",
       "                    scrambled_file_name  counts_Kaz      groups  counts_Rei  \n",
       "0  52cb8992486bc3e11910ba1b2c18a5fc.nd2          25  sg-Control          31  \n",
       "1  5a893865076ef87475dffc85634777ca.nd2          13  sg-Control          16  \n",
       "2  02f37e5e19b113057f27bc7a92883f87.nd2          26  sg-Control          19  \n",
       "3  791bc431f12678cb46fa404fbe07f72b.nd2          25  sg-Control          20  \n",
       "4  3e220e8f458f2ae9d8c8e793a7bf9bca.nd2          20  sg-Control          14  "
      ]
     },
     "execution_count": 7,
     "metadata": {},
     "output_type": "execute_result"
    }
   ],
   "source": [
    "# Merge the two data set and compare the countings of Rei and Kaz\n",
    "df_Kaz.rename(columns={'counts': 'counts_Kaz'}, inplace=True)\n",
    "df_Rei.rename(columns={'counts': 'counts_Rei'}, inplace=True)\n",
    "df = df_Kaz.merge(df_Rei, on=['file_name', 'scrambled_file_name', 'groups'])\n",
    "df.head()"
   ]
  },
  {
   "cell_type": "code",
   "execution_count": 8,
   "metadata": {},
   "outputs": [
    {
     "data": {
      "text/plain": [
       "[<matplotlib.lines.Line2D at 0x7f9a300b9ad0>]"
      ]
     },
     "execution_count": 8,
     "metadata": {},
     "output_type": "execute_result"
    },
    {
     "data": {
      "image/png": "[encoded data removed]",
      "text/plain": [
       "<Figure size 432x288 with 1 Axes>"
      ]
     },
     "metadata": {
      "needs_background": "light"
     },
     "output_type": "display_data"
    }
   ],
   "source": [
    "plt.plot(df.counts_Kaz, df.counts_Rei, 'ok')"
   ]
  },
  {
   "cell_type": "code",
   "execution_count": 9,
   "metadata": {},
   "outputs": [],
   "source": [
    "df['counts'] = (df['counts_Rei'] + df['counts_Kaz']) / 2"
   ]
  },
  {
   "cell_type": "code",
   "execution_count": 11,
   "metadata": {},
   "outputs": [
    {
     "name": "stdout",
     "output_type": "stream",
     "text": [
      "Summary of test:\n",
      "     Multiple Comparison of Means - Tukey HSD, FWER=0.05     \n",
      "============================================================\n",
      "  group1     group2  meandiff p-adj   lower    upper  reject\n",
      "------------------------------------------------------------\n",
      "sg-Control sg1-Itgb1     -8.2 0.0341 -15.8709 -0.5291   True\n",
      "sg-Control sg2-Itgb1    -11.6 0.0026 -19.2709 -3.9291   True\n",
      "sg-Control sg3-Itgb1    -10.3 0.0071 -17.9709 -2.6291   True\n",
      " sg1-Itgb1 sg2-Itgb1     -3.4  0.587 -11.0709  4.2709  False\n",
      " sg1-Itgb1 sg3-Itgb1     -2.1 0.8484  -9.7709  5.5709  False\n",
      " sg2-Itgb1 sg3-Itgb1      1.3    0.9  -6.3709  8.9709  False\n",
      "------------------------------------------------------------\n",
      "p values of all pair-wise tests:\n",
      " [0.03410873 0.00263857 0.00707177 0.58703271 0.84838166 0.9       ]\n"
     ]
    },
    {
     "data": {
      "text/plain": [
       "<statsmodels.sandbox.stats.multicomp.TukeyHSDResults at 0x7f9a690138d0>"
      ]
     },
     "execution_count": 11,
     "metadata": {},
     "output_type": "execute_result"
    },
    {
     "data": {
      "image/png": "[encoded data removed]",
      "text/plain": [
       "<Figure size 432x288 with 1 Axes>"
      ]
     },
     "metadata": {
      "needs_background": "light"
     },
     "output_type": "display_data"
    }
   ],
   "source": [
    "# Inspect raw data\n",
    "ax = sns.swarmplot(df.groups, df.counts)\n",
    "\n",
    "# Perform a Tukey test across groups\n",
    "tukeyTest(df.counts, df.groups)"
   ]
  },
  {
   "cell_type": "code",
   "execution_count": 12,
   "metadata": {},
   "outputs": [
    {
     "data": {
      "image/png": "[encoded data removed]",
      "text/plain": [
       "<Figure size 360x450 with 1 Axes>"
      ]
     },
     "metadata": {
      "needs_background": "light"
     },
     "output_type": "display_data"
    }
   ],
   "source": [
    "# Make plot for figure\n",
    "\n",
    "fig_width, fig_height = 1.2, 1.5 # inches\n",
    "line_width = .8\n",
    "output_prefix = '220530-plate-i-day4-Itgb1'\n",
    "outputFigPath = '../jupyter_figures/' + output_prefix + '.svg'\n",
    "# outputFigPath = '../jupyter_figures/' + output_prefix + '.tif'\n",
    "\n",
    "fig = plt.figure(figsize=(fig_width,fig_height), dpi=300)\n",
    "ax = fig.add_axes([0.28, 0.35, 0.67, 0.6])\n",
    "\n",
    "# palette_dict = {'sg-Control': 'black', 'sg1-Itgb1': 'blue', 'sg2-Itgb1': 'red'}\n",
    "\n",
    "sns.swarmplot(data = df,\n",
    "              x = 'groups', y = 'counts',\n",
    "              size = 2\n",
    "             )\n",
    "sns.barplot(data = df,\n",
    "            x = 'groups', y = 'counts',\n",
    "            ci = 'sd',\n",
    "            color=\".7\", # This a nicer looking lighter gray to my own taste\n",
    "            errwidth=.7, errcolor=\"k\", capsize=.2)\n",
    "\n",
    "change_bar_width(ax, .5)\n",
    "\n",
    "# rotate x tick labels if necessary\n",
    "x_labels = ax.get_xticklabels()\n",
    "ax.set_xticklabels(labels=x_labels, rotation=45, ha=\"right\")\n",
    "\n",
    "plt.xlabel(\"\")\n",
    "plt.ylabel(\"Bud count\")\n",
    "\n",
    "# ax.get_legend().remove()\n",
    "\n",
    "for o in fig.findobj():\n",
    "    o.set_clip_on(False)\n",
    "for o in ax.findobj():\n",
    "    o.set_clip_on(False)\n",
    "\n",
    "plt.savefig(outputFigPath)"
   ]
  },
  {
   "cell_type": "code",
   "execution_count": null,
   "metadata": {},
   "outputs": [],
   "source": []
  }
 ],
 "metadata": {
  "kernelspec": {
   "display_name": "Python 3 (ipykernel)",
   "language": "python",
   "name": "python3"
  },
  "language_info": {
   "codemirror_mode": {
    "name": "ipython",
    "version": 3
   },
   "file_extension": ".py",
   "mimetype": "text/x-python",
   "name": "python",
   "nbconvert_exporter": "python",
   "pygments_lexer": "ipython3",
   "version": "3.9.5"
  }
 },
 "nbformat": 4,
 "nbformat_minor": 4
}
