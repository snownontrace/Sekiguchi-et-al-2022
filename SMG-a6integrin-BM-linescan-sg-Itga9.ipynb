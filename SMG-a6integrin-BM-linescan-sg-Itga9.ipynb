{
 "cells": [
  {
   "cell_type": "code",
   "execution_count": 1,
   "metadata": {},
   "outputs": [
    {
     "name": "stdout",
     "output_type": "stream",
     "text": [
      "mkdir: ../jupyter_figures: File exists\n"
     ]
    }
   ],
   "source": [
    "import sys, os, glob, warnings, logging\n",
    "import numpy as np\n",
    "import pandas as pd\n",
    "import matplotlib\n",
    "import matplotlib.pyplot as plt\n",
    "import seaborn as sns\n",
    "from scipy import stats\n",
    "from sw_plotting import change_bar_width\n",
    "from sw_utilities import tukeyTest\n",
    "\n",
    "# logging.basicConfig(stream=sys.stdout, format='%(asctime)s - %(levelname)s - %(message)s', level=logging.DEBUG)\n",
    "logging.basicConfig(stream=sys.stdout, format='%(asctime)s - %(levelname)s - %(message)s', level=logging.INFO)\n",
    "\n",
    "# ignore warnings\n",
    "warnings.filterwarnings('ignore')\n",
    "\n",
    "# plotting configuration\n",
    "font = {'family' : 'Arial',\n",
    "        'size'   : 7}\n",
    "matplotlib.rc('font', **font)\n",
    "plt.rcParams['svg.fonttype'] = 'none'\n",
    "\n",
    "# Make a folder if it is not already there to store exported figures\n",
    "!mkdir ../jupyter_figures\n"
   ]
  },
  {
   "cell_type": "code",
   "execution_count": 2,
   "metadata": {},
   "outputs": [],
   "source": [
    "def get_linescan_data(folder, sgRNA, time_d, n_edges=5):\n",
    "    '''\n",
    "    Read in linescan data and annotate with meta data\n",
    "    \n",
    "    Inputs:\n",
    "    -------\n",
    "        - folder: the folder that contains the linescan output csv file\n",
    "        - sgRNA: which sgRNA was used for the treatment of this group\n",
    "        - time_d: how many days after culture the samples were collected\n",
    "        - n_edges: how many edges were quantified per sample\n",
    "        \n",
    "    Outputs:\n",
    "        - df: pandas data frame with linescan data and annotation data\n",
    "        \n",
    "    '''\n",
    "    \n",
    "    linescan_files = glob.glob(os.path.join(folder, '*.txt'))\n",
    "\n",
    "    if len(linescan_files) > 1:\n",
    "        print('There are more than 1 output file in', folder)\n",
    "        print('The newest one will be used.')\n",
    "        linescan_files = sorted(linescan_files,\n",
    "                                key = os.path.getmtime)\n",
    "        \n",
    "    df = pd.read_csv(linescan_files[-1])\n",
    "    \n",
    "    # annotate data\n",
    "    assert len(df) % 5 == 0\n",
    "    n_organoids = int(len(df) / 5)\n",
    "    \n",
    "    sample_ids = []\n",
    "    organoid_ids = []\n",
    "    for i in range(n_organoids):\n",
    "        for j in range(n_edges):\n",
    "            sample_ids.append(sgRNA + '_' + str(i+1))\n",
    "            organoid_ids.append( str(i+1) )\n",
    "    \n",
    "    df['sample_id'] = sample_ids\n",
    "    df['organoid_id'] = organoid_ids\n",
    "    df['sgRNA'] = [sgRNA]*len(df)\n",
    "    df['time_d'] = time_d\n",
    "    df['groups'] = [sgRNA + '_' + str(time_d)]*len(df)\n",
    "    \n",
    "    return df"
   ]
  },
  {
   "cell_type": "code",
   "execution_count": 3,
   "metadata": {},
   "outputs": [],
   "source": [
    "input_folder = '../data/220606-a6int-IF/across-BM'\n",
    "folders = glob.glob(os.path.join(input_folder, '*line-scan-output' + os.path.sep))"
   ]
  },
  {
   "cell_type": "code",
   "execution_count": 4,
   "metadata": {},
   "outputs": [],
   "source": [
    "dfs = []\n",
    "for folder in folders:\n",
    "    if folder.endswith(os.path.sep):\n",
    "        folder = folder[:-1]\n",
    "    sgRNA = os.path.basename(folder).split('-')[1]\n",
    "    time_d = 4\n",
    "    dfs.append(get_linescan_data(folder, sgRNA, time_d, n_edges=5))"
   ]
  },
  {
   "cell_type": "code",
   "execution_count": 5,
   "metadata": {},
   "outputs": [],
   "source": [
    "df = pd.concat(dfs)\n",
    "df.reset_index(drop=True, inplace=True)"
   ]
  },
  {
   "cell_type": "code",
   "execution_count": 6,
   "metadata": {},
   "outputs": [
    {
     "data": {
      "text/html": [
       "<div>\n",
       "<style scoped>\n",
       "    .dataframe tbody tr th:only-of-type {\n",
       "        vertical-align: middle;\n",
       "    }\n",
       "\n",
       "    .dataframe tbody tr th {\n",
       "        vertical-align: top;\n",
       "    }\n",
       "\n",
       "    .dataframe thead th {\n",
       "        text-align: right;\n",
       "    }\n",
       "</style>\n",
       "<table border=\"1\" class=\"dataframe\">\n",
       "  <thead>\n",
       "    <tr style=\"text-align: right;\">\n",
       "      <th></th>\n",
       "      <th>file_name</th>\n",
       "      <th>id</th>\n",
       "      <th>a6int_AUC</th>\n",
       "      <th>a6int_peak_height</th>\n",
       "      <th>z_position</th>\n",
       "      <th>sample_id</th>\n",
       "      <th>organoid_id</th>\n",
       "      <th>sgRNA</th>\n",
       "      <th>time_d</th>\n",
       "      <th>groups</th>\n",
       "    </tr>\n",
       "  </thead>\n",
       "  <tbody>\n",
       "    <tr>\n",
       "      <th>85</th>\n",
       "      <td>5</td>\n",
       "      <td>1</td>\n",
       "      <td>506.4681</td>\n",
       "      <td>915.8687</td>\n",
       "      <td>1</td>\n",
       "      <td>319_5</td>\n",
       "      <td>5</td>\n",
       "      <td>319</td>\n",
       "      <td>4</td>\n",
       "      <td>319_4</td>\n",
       "    </tr>\n",
       "    <tr>\n",
       "      <th>86</th>\n",
       "      <td>5</td>\n",
       "      <td>2</td>\n",
       "      <td>-1657.7425</td>\n",
       "      <td>595.1022</td>\n",
       "      <td>1</td>\n",
       "      <td>319_5</td>\n",
       "      <td>5</td>\n",
       "      <td>319</td>\n",
       "      <td>4</td>\n",
       "      <td>319_4</td>\n",
       "    </tr>\n",
       "    <tr>\n",
       "      <th>87</th>\n",
       "      <td>5</td>\n",
       "      <td>3</td>\n",
       "      <td>-2866.7707</td>\n",
       "      <td>656.3918</td>\n",
       "      <td>1</td>\n",
       "      <td>319_5</td>\n",
       "      <td>5</td>\n",
       "      <td>319</td>\n",
       "      <td>4</td>\n",
       "      <td>319_4</td>\n",
       "    </tr>\n",
       "    <tr>\n",
       "      <th>88</th>\n",
       "      <td>5</td>\n",
       "      <td>4</td>\n",
       "      <td>369.4836</td>\n",
       "      <td>672.6330</td>\n",
       "      <td>1</td>\n",
       "      <td>319_5</td>\n",
       "      <td>5</td>\n",
       "      <td>319</td>\n",
       "      <td>4</td>\n",
       "      <td>319_4</td>\n",
       "    </tr>\n",
       "    <tr>\n",
       "      <th>89</th>\n",
       "      <td>5</td>\n",
       "      <td>5</td>\n",
       "      <td>1897.1260</td>\n",
       "      <td>502.9492</td>\n",
       "      <td>1</td>\n",
       "      <td>319_5</td>\n",
       "      <td>5</td>\n",
       "      <td>319</td>\n",
       "      <td>4</td>\n",
       "      <td>319_4</td>\n",
       "    </tr>\n",
       "  </tbody>\n",
       "</table>\n",
       "</div>"
      ],
      "text/plain": [
       "    file_name  id  a6int_AUC  a6int_peak_height  z_position sample_id  \\\n",
       "85          5   1   506.4681           915.8687           1     319_5   \n",
       "86          5   2 -1657.7425           595.1022           1     319_5   \n",
       "87          5   3 -2866.7707           656.3918           1     319_5   \n",
       "88          5   4   369.4836           672.6330           1     319_5   \n",
       "89          5   5  1897.1260           502.9492           1     319_5   \n",
       "\n",
       "   organoid_id sgRNA  time_d groups  \n",
       "85           5   319       4  319_4  \n",
       "86           5   319       4  319_4  \n",
       "87           5   319       4  319_4  \n",
       "88           5   319       4  319_4  \n",
       "89           5   319       4  319_4  "
      ]
     },
     "execution_count": 6,
     "metadata": {},
     "output_type": "execute_result"
    }
   ],
   "source": [
    "df.tail()"
   ]
  },
  {
   "cell_type": "code",
   "execution_count": 7,
   "metadata": {},
   "outputs": [],
   "source": [
    "# normalize to the average of control\n",
    "ctrl_average = df[df.sgRNA=='188'].a6int_peak_height.mean()\n",
    "df['a6int_normed'] = df['a6int_peak_height'] / ctrl_average"
   ]
  },
  {
   "cell_type": "code",
   "execution_count": 21,
   "metadata": {},
   "outputs": [
    {
     "data": {
      "image/png": "[encoded data removed]",
      "text/plain": [
       "<Figure size 240x300 with 1 Axes>"
      ]
     },
     "metadata": {
      "needs_background": "light"
     },
     "output_type": "display_data"
    }
   ],
   "source": [
    "# Swarm plot of 4 categories\n",
    "\n",
    "outputPrefix = '220606-IF-a6-integrin-across-BM-sg-Itga9-d4-bar-swarm'\n",
    "outputFigPath = \"../jupyter_figures/\" + outputPrefix + \".svg\"\n",
    "\n",
    "fig_width = 0.8\n",
    "fig_height = 1.0\n",
    "\n",
    "fig = plt.figure(figsize=(fig_width,fig_height), dpi=300)\n",
    "ax = fig.add_axes([0.1, 0.1, 0.8, 0.8])\n",
    "# ax = fig.add_axes([0.35, 0.4, 0.6, 0.55])\n",
    "\n",
    "ax = sns.swarmplot(x='sgRNA', y='a6int_normed', data=df,\n",
    "                   hue='organoid_id',\n",
    "#                    palette={'1': 'red', '2': 'green', '3': 'blue', '4': yellow', '5': 'purple'},\n",
    "                   # color=\"blue\",\n",
    "                   alpha=0.5,\n",
    "                   size=1.0 )\n",
    "\n",
    "ax = sns.barplot(x='sgRNA', y='a6int_normed', data=df,\n",
    "                 color=\".7\", alpha=1.0,\n",
    "                 errwidth=.7, errcolor=\"k\", capsize=.2, ci='sd')\n",
    "\n",
    "# plt.ylim(0, 1.7)\n",
    "plt.ylim(0, 3.5)\n",
    "# plt.yticks([0, 3, 6])\n",
    "\n",
    "plt.xlabel(None)\n",
    "# plt.ylabel(r\"$\\beta$1-integrin intensity\")\n",
    "plt.ylabel('ITGA6 intensity')\n",
    "\n",
    "# make the bar width narrower\n",
    "change_bar_width(ax, .5)\n",
    "\n",
    "# rotate x tick labels\n",
    "# x_labels = ax.get_xticklabels()\n",
    "x_labels = ['sg-Control', 'sg1-Itga9', 'sg2-Itga9', 'sg3-Itga9']\n",
    "ax.set_xticklabels(labels=x_labels, rotation=45, ha=\"right\")\n",
    "\n",
    "ax.get_legend().remove()\n",
    "\n",
    "for o in fig.findobj():\n",
    "    o.set_clip_on(False)\n",
    "for o in ax.findobj():\n",
    "    o.set_clip_on(False)\n",
    "\n",
    "if outputFigPath is not None:\n",
    "    plt.savefig(outputFigPath)\n"
   ]
  },
  {
   "cell_type": "code",
   "execution_count": 9,
   "metadata": {},
   "outputs": [
    {
     "name": "stdout",
     "output_type": "stream",
     "text": [
      "188 n = 20\n",
      "317 n = 20\n",
      "318 n = 25\n",
      "319 n = 25\n"
     ]
    }
   ],
   "source": [
    "for i in df.sgRNA.unique():\n",
    "    print(i, 'n =', len(df[df.sgRNA==i]))"
   ]
  },
  {
   "cell_type": "code",
   "execution_count": 10,
   "metadata": {},
   "outputs": [
    {
     "name": "stdout",
     "output_type": "stream",
     "text": [
      "Summary of test:\n",
      " Multiple Comparison of Means - Tukey HSD, FWER=0.05\n",
      "===================================================\n",
      "group1 group2 meandiff p-adj   lower  upper  reject\n",
      "---------------------------------------------------\n",
      "   188    317  -0.0581    0.9  -0.413 0.2969  False\n",
      "   188    318  -0.3287 0.0584 -0.6655  0.008  False\n",
      "   188    319    -0.14 0.6752 -0.4768 0.1967  False\n",
      "   317    318  -0.2707 0.1596 -0.6074 0.0661  False\n",
      "   317    319   -0.082    0.9 -0.4187 0.2548  False\n",
      "   318    319   0.1887 0.4097 -0.1288 0.5062  False\n",
      "---------------------------------------------------\n",
      "p values of all pair-wise tests:\n",
      " [0.9        0.05837206 0.67522405 0.15955509 0.9        0.40974176]\n"
     ]
    },
    {
     "data": {
      "text/plain": [
       "<statsmodels.sandbox.stats.multicomp.TukeyHSDResults at 0x7ff940dda790>"
      ]
     },
     "execution_count": 10,
     "metadata": {},
     "output_type": "execute_result"
    }
   ],
   "source": [
    "tukeyTest(df.a6int_normed, df.sgRNA)"
   ]
  },
  {
   "cell_type": "code",
   "execution_count": 13,
   "metadata": {},
   "outputs": [
    {
     "data": {
      "text/plain": [
       "'../data/220606-a6int-IF/across-BM/220606-188-a6int-BM-line-scan-output/'"
      ]
     },
     "execution_count": 13,
     "metadata": {},
     "output_type": "execute_result"
    }
   ],
   "source": [
    "folders[0]"
   ]
  },
  {
   "cell_type": "code",
   "execution_count": 20,
   "metadata": {},
   "outputs": [
    {
     "data": {
      "image/png": "[encoded data removed]",
      "text/plain": [
       "<Figure size 150x150 with 1 Axes>"
      ]
     },
     "metadata": {
      "needs_background": "light"
     },
     "output_type": "display_data"
    }
   ],
   "source": [
    "# Example linescan profile\n",
    "\n",
    "\n",
    "raw_BM_linescan_files = glob.glob(os.path.join(folders[0], 'raw-BM-linescan-profile-record', '*a6int.txt'))\n",
    "i = 0\n",
    "df_example = pd.read_csv(raw_BM_linescan_files[i])\n",
    "\n",
    "df_example['pixels'] = list(range(len(df_example)))\n",
    "\n",
    "outputPrefix = '220606-a6-integrin-across-BM-line-scan-example'\n",
    "outputFigPath = \"../jupyter_figures/\" + outputPrefix + \".svg\"\n",
    "\n",
    "fig_width=0.5\n",
    "fig_height=0.5\n",
    "fig = plt.figure(figsize=(fig_width,fig_height), dpi=300)\n",
    "ax = fig.add_axes([0.1, 0.1, 0.8, 0.8])\n",
    "\n",
    "plt.plot(df_example.pixels, df_example.a6int_intensity, color='#00d000')\n",
    "\n",
    "for o in fig.findobj():\n",
    "    o.set_clip_on(False)\n",
    "for o in ax.findobj():\n",
    "    o.set_clip_on(False)\n",
    "\n",
    "if outputFigPath is not None:\n",
    "    plt.savefig(outputFigPath)\n"
   ]
  },
  {
   "cell_type": "code",
   "execution_count": null,
   "metadata": {},
   "outputs": [],
   "source": []
  }
 ],
 "metadata": {
  "kernelspec": {
   "display_name": "Python 3 (ipykernel)",
   "language": "python",
   "name": "python3"
  },
  "language_info": {
   "codemirror_mode": {
    "name": "ipython",
    "version": 3
   },
   "file_extension": ".py",
   "mimetype": "text/x-python",
   "name": "python",
   "nbconvert_exporter": "python",
   "pygments_lexer": "ipython3",
   "version": "3.9.5"
  }
 },
 "nbformat": 4,
 "nbformat_minor": 4
}
