{
 "cells": [
  {
   "cell_type": "code",
   "execution_count": 1,
   "id": "ec1f6d73-3ad7-4908-89d5-2f7ca6735fbf",
   "metadata": {},
   "outputs": [
    {
     "name": "stdout",
     "output_type": "stream",
     "text": [
      "mkdir: ../jupyter_figures: File exists\n"
     ]
    }
   ],
   "source": [
    "import sys, os, glob, warnings, logging\n",
    "import string\n",
    "import numpy as np\n",
    "import pandas as pd\n",
    "import matplotlib\n",
    "import matplotlib.pyplot as plt\n",
    "import seaborn as sns\n",
    "from scipy import stats\n",
    "from sw_plotting import change_bar_width\n",
    "from sw_utilities import tukeyTest\n",
    "from sw_qPCR import *\n",
    "\n",
    "logging.basicConfig(stream=sys.stdout, format='%(asctime)s - %(levelname)s - %(message)s', level=logging.ERROR)\n",
    "# logging.basicConfig(stream=sys.stdout, format='%(asctime)s - %(levelname)s - %(message)s', level=logging.INFO)\n",
    "# logging.basicConfig(stream=sys.stdout, format='%(asctime)s - %(levelname)s - %(message)s', level=logging.DEBUG)\n",
    "\n",
    "# ignore warnings\n",
    "warnings.filterwarnings('ignore')\n",
    "\n",
    "# plotting configuration\n",
    "font = {'family' : 'Arial',\n",
    "        'size'   : 7}\n",
    "matplotlib.rc('font', **font)\n",
    "plt.rcParams['svg.fonttype'] = 'none'\n",
    "\n",
    "# Make a folder if it is not already there to store exported figures\n",
    "!mkdir ../jupyter_figures\n"
   ]
  },
  {
   "cell_type": "code",
   "execution_count": 2,
   "id": "1659bc21-a926-4f2a-8994-993fca5223dc",
   "metadata": {},
   "outputs": [
    {
     "data": {
      "text/html": [
       "<div>\n",
       "<style scoped>\n",
       "    .dataframe tbody tr th:only-of-type {\n",
       "        vertical-align: middle;\n",
       "    }\n",
       "\n",
       "    .dataframe tbody tr th {\n",
       "        vertical-align: top;\n",
       "    }\n",
       "\n",
       "    .dataframe thead th {\n",
       "        text-align: right;\n",
       "    }\n",
       "</style>\n",
       "<table border=\"1\" class=\"dataframe\">\n",
       "  <thead>\n",
       "    <tr style=\"text-align: right;\">\n",
       "      <th></th>\n",
       "      <th>Well</th>\n",
       "      <th>Sample</th>\n",
       "      <th>Primer</th>\n",
       "      <th>Cq</th>\n",
       "      <th>plate_id</th>\n",
       "      <th>sgRNA_id</th>\n",
       "      <th>group</th>\n",
       "      <th>well_id</th>\n",
       "      <th>relExp_25</th>\n",
       "    </tr>\n",
       "  </thead>\n",
       "  <tbody>\n",
       "    <tr>\n",
       "      <th>0</th>\n",
       "      <td>A01</td>\n",
       "      <td>A-188-1</td>\n",
       "      <td>Rps29 v1</td>\n",
       "      <td>19.334721</td>\n",
       "      <td>220519-plate1</td>\n",
       "      <td>188</td>\n",
       "      <td>A-188-1___Rps29 v1</td>\n",
       "      <td>220519-plate1-A01</td>\n",
       "      <td>50.747984</td>\n",
       "    </tr>\n",
       "    <tr>\n",
       "      <th>1</th>\n",
       "      <td>A02</td>\n",
       "      <td>A-188-2</td>\n",
       "      <td>Rps29 v1</td>\n",
       "      <td>19.577852</td>\n",
       "      <td>220519-plate1</td>\n",
       "      <td>188</td>\n",
       "      <td>A-188-2___Rps29 v1</td>\n",
       "      <td>220519-plate1-A02</td>\n",
       "      <td>42.877475</td>\n",
       "    </tr>\n",
       "    <tr>\n",
       "      <th>2</th>\n",
       "      <td>A03</td>\n",
       "      <td>A-188-3</td>\n",
       "      <td>Rps29 v1</td>\n",
       "      <td>19.335932</td>\n",
       "      <td>220519-plate1</td>\n",
       "      <td>188</td>\n",
       "      <td>A-188-3___Rps29 v1</td>\n",
       "      <td>220519-plate1-A03</td>\n",
       "      <td>50.705404</td>\n",
       "    </tr>\n",
       "    <tr>\n",
       "      <th>3</th>\n",
       "      <td>A04</td>\n",
       "      <td>A-188-4</td>\n",
       "      <td>Rps29 v1</td>\n",
       "      <td>19.627998</td>\n",
       "      <td>220519-plate1</td>\n",
       "      <td>188</td>\n",
       "      <td>A-188-4___Rps29 v1</td>\n",
       "      <td>220519-plate1-A04</td>\n",
       "      <td>41.412722</td>\n",
       "    </tr>\n",
       "    <tr>\n",
       "      <th>4</th>\n",
       "      <td>A05</td>\n",
       "      <td>A-188-5</td>\n",
       "      <td>Rps29 v1</td>\n",
       "      <td>20.491257</td>\n",
       "      <td>220519-plate1</td>\n",
       "      <td>188</td>\n",
       "      <td>A-188-5___Rps29 v1</td>\n",
       "      <td>220519-plate1-A05</td>\n",
       "      <td>22.764959</td>\n",
       "    </tr>\n",
       "  </tbody>\n",
       "</table>\n",
       "</div>"
      ],
      "text/plain": [
       "  Well   Sample    Primer         Cq       plate_id sgRNA_id  \\\n",
       "0  A01  A-188-1  Rps29 v1  19.334721  220519-plate1      188   \n",
       "1  A02  A-188-2  Rps29 v1  19.577852  220519-plate1      188   \n",
       "2  A03  A-188-3  Rps29 v1  19.335932  220519-plate1      188   \n",
       "3  A04  A-188-4  Rps29 v1  19.627998  220519-plate1      188   \n",
       "4  A05  A-188-5  Rps29 v1  20.491257  220519-plate1      188   \n",
       "\n",
       "                group            well_id  relExp_25  \n",
       "0  A-188-1___Rps29 v1  220519-plate1-A01  50.747984  \n",
       "1  A-188-2___Rps29 v1  220519-plate1-A02  42.877475  \n",
       "2  A-188-3___Rps29 v1  220519-plate1-A03  50.705404  \n",
       "3  A-188-4___Rps29 v1  220519-plate1-A04  41.412722  \n",
       "4  A-188-5___Rps29 v1  220519-plate1-A05  22.764959  "
      ]
     },
     "execution_count": 2,
     "metadata": {},
     "output_type": "execute_result"
    }
   ],
   "source": [
    "# Read in data from different plates and combine them\n",
    "plate_ids = ['220519-plate1', '220519-plate2', '220519-plate3']\n",
    "dfs = []\n",
    "for plate_id in plate_ids:\n",
    "    dfs.append(get_plate_data(plate_id))\n",
    "\n",
    "df = pd.concat(dfs)\n",
    "df.reset_index(inplace=True, drop=True)\n",
    "\n",
    "# Add a few helpful columns\n",
    "df['group'] = [df.Sample[i] + '___' + df.Primer[i] for i in range(len(df))]\n",
    "df['well_id'] = [df.plate_id[i] + '-' + df.Well[i] for i in range(len(df))]\n",
    "df['relExp_25'] = [2**(25-df.Cq[i]) for i in range(len(df))]\n",
    "\n",
    "df.head()"
   ]
  },
  {
   "cell_type": "code",
   "execution_count": 3,
   "id": "003e775a-ebdf-46fd-b1e1-be8109fbb49e",
   "metadata": {
    "scrolled": true,
    "tags": []
   },
   "outputs": [],
   "source": [
    "# # Insepct the amplification and melting curves of each plate per primer to check\n",
    "# # if there are problematic data that should be excluded\n",
    "# primers = ['Rps29 v1', 'Serpinh1 sg1 v2', 'Serpinh1 sg2 v1', 'Serpinh1 sg3 v1']\n",
    "# for plate_id in plate_ids:\n",
    "#     df_annotation = get_annotation_data(plate_id)\n",
    "#     # for primer in df_annotation.Primer.unique():\n",
    "#     for primer in primers:\n",
    "#         plot_amplification_curves(plate_id, primer, ymax=None)\n",
    "#         plot_melting_curves(plate_id, primer)"
   ]
  },
  {
   "cell_type": "code",
   "execution_count": 4,
   "id": "a6e5651c-854a-4c02-b3b8-dba0fae3f6ce",
   "metadata": {},
   "outputs": [],
   "source": [
    "# Plots with abnormal curves:\n",
    "### 220519-plate1_Rps29v1_melting_curves\n",
    "### 220613-plate3_Rps29v1_amplification_curves\n",
    "### 220613-plate4_Serpinh1sg1v2_melting_curves\n",
    "### 220613-plate4_Serpinh1sg2v1_melting_curves"
   ]
  },
  {
   "cell_type": "code",
   "execution_count": 5,
   "id": "f86e65e4-b320-4d26-bcb9-c0b50081c4a1",
   "metadata": {
    "scrolled": true,
    "tags": []
   },
   "outputs": [],
   "source": [
    "# plate_id = '220519-plate1'\n",
    "# primer = 'Rps29 v1'\n",
    "# df_annotation = get_annotation_data(plate_id)\n",
    "# for sample in df_annotation.Sample.unique():\n",
    "#     plot_melting_curves(plate_id, primer, sample=sample, save_fig=False)"
   ]
  },
  {
   "cell_type": "code",
   "execution_count": 6,
   "id": "481e31a9-550d-491e-9f34-257fc9863ee4",
   "metadata": {
    "scrolled": true,
    "tags": []
   },
   "outputs": [],
   "source": [
    "# plate_id = '220613-plate3'\n",
    "# primer = 'Rps29 v1'\n",
    "# df_annotation = get_annotation_data(plate_id)\n",
    "# for sample in df_annotation.Sample.unique():\n",
    "#     plot_amplification_curves(plate_id, primer, sample=sample, save_fig=False)"
   ]
  },
  {
   "cell_type": "code",
   "execution_count": 7,
   "id": "48cc4ab4-63cf-4128-883f-6d28945d67a7",
   "metadata": {
    "scrolled": true,
    "tags": []
   },
   "outputs": [],
   "source": [
    "# ### 220613-plate4_Serpinh1sg1v2_melting_curves\n",
    "\n",
    "# plate_id = '220613-plate4'\n",
    "# primer = 'Serpinh1 sg1 v2'\n",
    "# df_annotation = get_annotation_data(plate_id)\n",
    "# for sample in df_annotation.Sample.unique():\n",
    "#     plot_melting_curves(plate_id, primer, sample=sample, save_fig=False)"
   ]
  },
  {
   "cell_type": "code",
   "execution_count": 8,
   "id": "26dc4070-d448-4729-b22b-eb1e1fdea66e",
   "metadata": {
    "scrolled": true,
    "tags": []
   },
   "outputs": [],
   "source": [
    "# ### 220613-plate4_Serpinh1sg2v1_melting_curves\n",
    "\n",
    "# plate_id = '220613-plate4'\n",
    "# primer = 'Serpinh1 sg2 v1'\n",
    "# df_annotation = get_annotation_data(plate_id)\n",
    "# for sample in df_annotation.Sample.unique():\n",
    "#     plot_melting_curves(plate_id, primer, sample=sample, save_fig=False)"
   ]
  },
  {
   "cell_type": "code",
   "execution_count": 9,
   "id": "91c6e4b9-9000-40ea-843c-220e3c542a81",
   "metadata": {},
   "outputs": [],
   "source": [
    "# By inspecting the curves above, curate a list of samples to exclude\n",
    "samples_to_exclude = ['H2O', 'a-228-2', 'b-229-6']\n",
    "\n",
    "df = df[~df.Sample.isin(samples_to_exclude)]\n",
    "df.reset_index(drop=True, inplace=True)"
   ]
  },
  {
   "cell_type": "code",
   "execution_count": 10,
   "id": "a9d93b5c-49a9-4bf0-91bf-22bbb8165303",
   "metadata": {},
   "outputs": [],
   "source": [
    "def remove_outliers(df, rel_std_threshold = 0.25):\n",
    "    ''''''\n",
    "    if 'group' not in df.columns:\n",
    "        df['group'] = [df.Sample[i] + '___' + df.Primer[i] for i in range(len(df))]\n",
    "    if 'well_id' not in df.columns:\n",
    "        df['well_id'] = [df.plate_id[i] + '-' + df.Well[i] for i in range(len(df))]\n",
    "    if 'relExp_25' not in df.columns:\n",
    "        df['relExp_25'] = [2**(25-df.Cq[i]) for i in range(len(df))]\n",
    "    \n",
    "    df_grouped = df.groupby('group').describe()['relExp_25'].reset_index()[['group', 'count', 'mean', 'std']]\n",
    "    df_grouped['rel_std'] = df_grouped['std'] / df_grouped['mean']\n",
    "    \n",
    "    # make empty lists\n",
    "    groups_to_remove, wells_to_remove = [], []\n",
    "    \n",
    "    # Remove groups with only 1 replicate\n",
    "    if df_grouped['count'].min()<2:\n",
    "        groups_to_remove = groups_to_remove + df_grouped[df_grouped['count']<2]['group'].unique()\n",
    "    \n",
    "    # For groups with 3 or more wells of data, when the relative std is larger than threshold:    \n",
    "    #     - Remove a single outlier well from the group, if that can lower relative std below threshold\n",
    "    #     - Otherwise, remove the entire group\n",
    "    for group in df_grouped[df_grouped['rel_std'] > rel_std_threshold]['group'].unique():\n",
    "        df_temp = df[df['group']==group]\n",
    "        if len(df_temp) < 3:\n",
    "            groups_to_remove.append(group)\n",
    "        else:\n",
    "            relExps = df_temp['relExp_25'].tolist()\n",
    "            well_ids = df_temp['well_id'].tolist()\n",
    "            relStds = []\n",
    "            for i in range(len(relExps)):\n",
    "                relExps_copy = relExps.copy()\n",
    "                del relExps_copy[i]\n",
    "                relStds.append(np.std(relExps_copy) / np.mean(relExps_copy))\n",
    "            if np.min(relStds) <= rel_std_threshold:\n",
    "                wells_to_remove.append(well_ids[np.argmin(relStds)])\n",
    "            else:\n",
    "                groups_to_remove.append(group)\n",
    "    \n",
    "    df_filtered = df[~df['well_id'].isin(wells_to_remove)]\n",
    "    df_filtered = df_filtered[~df_filtered['group'].isin(groups_to_remove)]\n",
    "    df_filtered.reset_index(drop=True, inplace=True)\n",
    "    \n",
    "    return df_filtered"
   ]
  },
  {
   "cell_type": "code",
   "execution_count": 11,
   "id": "e7e061f6-8279-4afb-8ee2-0ea75a283b73",
   "metadata": {},
   "outputs": [],
   "source": [
    "df = remove_outliers(df)"
   ]
  },
  {
   "cell_type": "code",
   "execution_count": 12,
   "id": "a19fb907-b47b-467d-8636-58114604bece",
   "metadata": {},
   "outputs": [
    {
     "data": {
      "text/plain": [
       "(219, 9)"
      ]
     },
     "execution_count": 12,
     "metadata": {},
     "output_type": "execute_result"
    }
   ],
   "source": [
    "df.shape"
   ]
  },
  {
   "cell_type": "code",
   "execution_count": 13,
   "id": "7992ee80-08c5-462c-8239-43a958a79fc9",
   "metadata": {},
   "outputs": [
    {
     "data": {
      "text/html": [
       "<div>\n",
       "<style scoped>\n",
       "    .dataframe tbody tr th:only-of-type {\n",
       "        vertical-align: middle;\n",
       "    }\n",
       "\n",
       "    .dataframe tbody tr th {\n",
       "        vertical-align: top;\n",
       "    }\n",
       "\n",
       "    .dataframe thead th {\n",
       "        text-align: right;\n",
       "    }\n",
       "</style>\n",
       "<table border=\"1\" class=\"dataframe\">\n",
       "  <thead>\n",
       "    <tr style=\"text-align: right;\">\n",
       "      <th></th>\n",
       "      <th>Well</th>\n",
       "      <th>Sample</th>\n",
       "      <th>Primer</th>\n",
       "      <th>Cq</th>\n",
       "      <th>plate_id</th>\n",
       "      <th>sgRNA_id</th>\n",
       "      <th>group</th>\n",
       "      <th>well_id</th>\n",
       "      <th>relExp_25</th>\n",
       "    </tr>\n",
       "  </thead>\n",
       "  <tbody>\n",
       "    <tr>\n",
       "      <th>0</th>\n",
       "      <td>A01</td>\n",
       "      <td>A-188-1</td>\n",
       "      <td>Rps29 v1</td>\n",
       "      <td>19.334721</td>\n",
       "      <td>220519-plate1</td>\n",
       "      <td>188</td>\n",
       "      <td>A-188-1___Rps29 v1</td>\n",
       "      <td>220519-plate1-A01</td>\n",
       "      <td>50.747984</td>\n",
       "    </tr>\n",
       "    <tr>\n",
       "      <th>1</th>\n",
       "      <td>A02</td>\n",
       "      <td>A-188-2</td>\n",
       "      <td>Rps29 v1</td>\n",
       "      <td>19.577852</td>\n",
       "      <td>220519-plate1</td>\n",
       "      <td>188</td>\n",
       "      <td>A-188-2___Rps29 v1</td>\n",
       "      <td>220519-plate1-A02</td>\n",
       "      <td>42.877475</td>\n",
       "    </tr>\n",
       "    <tr>\n",
       "      <th>2</th>\n",
       "      <td>A03</td>\n",
       "      <td>A-188-3</td>\n",
       "      <td>Rps29 v1</td>\n",
       "      <td>19.335932</td>\n",
       "      <td>220519-plate1</td>\n",
       "      <td>188</td>\n",
       "      <td>A-188-3___Rps29 v1</td>\n",
       "      <td>220519-plate1-A03</td>\n",
       "      <td>50.705404</td>\n",
       "    </tr>\n",
       "    <tr>\n",
       "      <th>3</th>\n",
       "      <td>A04</td>\n",
       "      <td>A-188-4</td>\n",
       "      <td>Rps29 v1</td>\n",
       "      <td>19.627998</td>\n",
       "      <td>220519-plate1</td>\n",
       "      <td>188</td>\n",
       "      <td>A-188-4___Rps29 v1</td>\n",
       "      <td>220519-plate1-A04</td>\n",
       "      <td>41.412722</td>\n",
       "    </tr>\n",
       "    <tr>\n",
       "      <th>4</th>\n",
       "      <td>A05</td>\n",
       "      <td>A-188-5</td>\n",
       "      <td>Rps29 v1</td>\n",
       "      <td>20.491257</td>\n",
       "      <td>220519-plate1</td>\n",
       "      <td>188</td>\n",
       "      <td>A-188-5___Rps29 v1</td>\n",
       "      <td>220519-plate1-A05</td>\n",
       "      <td>22.764959</td>\n",
       "    </tr>\n",
       "  </tbody>\n",
       "</table>\n",
       "</div>"
      ],
      "text/plain": [
       "  Well   Sample    Primer         Cq       plate_id sgRNA_id  \\\n",
       "0  A01  A-188-1  Rps29 v1  19.334721  220519-plate1      188   \n",
       "1  A02  A-188-2  Rps29 v1  19.577852  220519-plate1      188   \n",
       "2  A03  A-188-3  Rps29 v1  19.335932  220519-plate1      188   \n",
       "3  A04  A-188-4  Rps29 v1  19.627998  220519-plate1      188   \n",
       "4  A05  A-188-5  Rps29 v1  20.491257  220519-plate1      188   \n",
       "\n",
       "                group            well_id  relExp_25  \n",
       "0  A-188-1___Rps29 v1  220519-plate1-A01  50.747984  \n",
       "1  A-188-2___Rps29 v1  220519-plate1-A02  42.877475  \n",
       "2  A-188-3___Rps29 v1  220519-plate1-A03  50.705404  \n",
       "3  A-188-4___Rps29 v1  220519-plate1-A04  41.412722  \n",
       "4  A-188-5___Rps29 v1  220519-plate1-A05  22.764959  "
      ]
     },
     "execution_count": 13,
     "metadata": {},
     "output_type": "execute_result"
    }
   ],
   "source": [
    "df.head()"
   ]
  },
  {
   "cell_type": "code",
   "execution_count": 14,
   "id": "c4c82282-37d7-48e3-870c-7a0f420f172f",
   "metadata": {},
   "outputs": [],
   "source": [
    "df1 = get_expression_data(df, 'Serpinh1 sg1 v2')"
   ]
  },
  {
   "cell_type": "code",
   "execution_count": 15,
   "id": "8d72c707-5071-4fd9-ad7e-7ea76fe01696",
   "metadata": {},
   "outputs": [
    {
     "data": {
      "image/png": "[encoded data removed]",
      "text/plain": [
       "<Figure size 330x570 with 1 Axes>"
      ]
     },
     "metadata": {
      "needs_background": "light"
     },
     "output_type": "display_data"
    }
   ],
   "source": [
    "# Make plot for figure\n",
    "\n",
    "fig_width, fig_height = 1.1, 1.9 # inches\n",
    "line_width = .8\n",
    "output_prefix = 'qPCR-Serpinh1-sg1-220519'\n",
    "outputFigPath = '../jupyter_figures/' + output_prefix + '.svg'\n",
    "# outputFigPath = '../jupyter_figures/' + output_prefix + '.tif'\n",
    "\n",
    "fig = plt.figure(figsize=(fig_width,fig_height), dpi=300)\n",
    "ax = fig.add_axes([0.45, 0.3, 0.5, 0.65])\n",
    "\n",
    "# palette_dict = {'sg-Control': 'black', 'sg1-Itgb1': 'blue', 'sg2-Itgb1': 'red'}\n",
    "# plotting_order = ['FGF7_NRG1_ITS', 'NRG1_ITS', 'FGF7_ITS', 'FGF7', 'medium_only']\n",
    "\n",
    "sns.swarmplot(data = df1,\n",
    "              x = 'sgRNA_id', y = 'relExp',\n",
    "              size = 2,\n",
    "              # hue = 'replicate_id',\n",
    "              color = 'k',\n",
    "              # order = plotting_order,\n",
    "              # alpha = .5\n",
    "             )\n",
    "sns.barplot(data = df1,\n",
    "            x = 'sgRNA_id', y = 'relExp',\n",
    "            # order = plotting_order,\n",
    "            color=\".7\", # This a nicer looking lighter gray to my own taste\n",
    "            errwidth=.7, errcolor=\"k\", capsize=.2, ci='sd')\n",
    "\n",
    "change_bar_width(ax, .5)\n",
    "\n",
    "plt.ylim([0, 0.06])\n",
    "\n",
    "# rotate and customize x tick labels if necessary\n",
    "x_labels = ['sg-Control', 'sg1-Serpinh1']\n",
    "# ax.set_xticklabels(labels=x_labels)\n",
    "# x_labels = ax.get_xticklabels()\n",
    "ax.set_xticklabels(labels=x_labels, rotation=45, ha=\"right\")\n",
    "\n",
    "plt.xlabel('')\n",
    "plt.ylabel(r'Relative HSP47 expression')\n",
    "\n",
    "for o in fig.findobj():\n",
    "    o.set_clip_on(False)\n",
    "for o in ax.findobj():\n",
    "    o.set_clip_on(False)\n",
    "\n",
    "plt.savefig(outputFigPath)"
   ]
  },
  {
   "cell_type": "code",
   "execution_count": 16,
   "id": "b6c69dab-e451-4279-9b6f-bf2f39fc6943",
   "metadata": {},
   "outputs": [],
   "source": [
    "df2 = get_expression_data(df, 'Serpinh1 sg2 v1')"
   ]
  },
  {
   "cell_type": "code",
   "execution_count": 17,
   "id": "c2fbf160-e1ca-4eda-bcaf-ead03a96a332",
   "metadata": {},
   "outputs": [
    {
     "data": {
      "image/png": "[encoded data removed]",
      "text/plain": [
       "<Figure size 330x570 with 1 Axes>"
      ]
     },
     "metadata": {
      "needs_background": "light"
     },
     "output_type": "display_data"
    }
   ],
   "source": [
    "# Make plot for figure\n",
    "\n",
    "fig_width, fig_height = 1.1, 1.9 # inches\n",
    "line_width = .8\n",
    "output_prefix = 'qPCR-Serpinh1-sg2-220519'\n",
    "outputFigPath = '../jupyter_figures/' + output_prefix + '.svg'\n",
    "# outputFigPath = '../jupyter_figures/' + output_prefix + '.tif'\n",
    "\n",
    "fig = plt.figure(figsize=(fig_width,fig_height), dpi=300)\n",
    "ax = fig.add_axes([0.45, 0.3, 0.5, 0.65])\n",
    "\n",
    "# palette_dict = {'sg-Control': 'black', 'sg1-Itgb1': 'blue', 'sg2-Itgb1': 'red'}\n",
    "# plotting_order = ['FGF7_NRG1_ITS', 'NRG1_ITS', 'FGF7_ITS', 'FGF7', 'medium_only']\n",
    "\n",
    "sns.swarmplot(data = df2,\n",
    "              x = 'sgRNA_id', y = 'relExp',\n",
    "              size = 2,\n",
    "              # hue = 'replicate_id',\n",
    "              color = 'k',\n",
    "              # order = plotting_order,\n",
    "              # alpha = .5\n",
    "             )\n",
    "sns.barplot(data = df2,\n",
    "            x = 'sgRNA_id', y = 'relExp',\n",
    "            # order = plotting_order,\n",
    "            color=\".7\", # This a nicer looking lighter gray to my own taste\n",
    "            errwidth=.7, errcolor=\"k\", capsize=.2, ci='sd')\n",
    "\n",
    "change_bar_width(ax, .5)\n",
    "\n",
    "plt.ylim([0, 0.06])\n",
    "\n",
    "# rotate and customize x tick labels if necessary\n",
    "x_labels = ['sg-Control', 'sg2-Serpinh1']\n",
    "# ax.set_xticklabels(labels=x_labels)\n",
    "# x_labels = ax.get_xticklabels()\n",
    "ax.set_xticklabels(labels=x_labels, rotation=45, ha=\"right\")\n",
    "\n",
    "plt.xlabel('')\n",
    "plt.ylabel(r'Relative HSP47 expression')\n",
    "\n",
    "for o in fig.findobj():\n",
    "    o.set_clip_on(False)\n",
    "for o in ax.findobj():\n",
    "    o.set_clip_on(False)\n",
    "\n",
    "plt.savefig(outputFigPath)"
   ]
  },
  {
   "cell_type": "code",
   "execution_count": 18,
   "id": "50f60192-03c2-415a-8d1a-6833ee880564",
   "metadata": {},
   "outputs": [],
   "source": [
    "df3 = get_expression_data(df, 'Serpinh1 sg3 v1')"
   ]
  },
  {
   "cell_type": "code",
   "execution_count": 19,
   "id": "4595aac3-71de-4b10-93ce-f7ca40f649bf",
   "metadata": {},
   "outputs": [
    {
     "data": {
      "image/png": "[encoded data removed]",
      "text/plain": [
       "<Figure size 330x570 with 1 Axes>"
      ]
     },
     "metadata": {
      "needs_background": "light"
     },
     "output_type": "display_data"
    }
   ],
   "source": [
    "# Make plot for figure\n",
    "\n",
    "fig_width, fig_height = 1.1, 1.9 # inches\n",
    "line_width = .8\n",
    "output_prefix = 'qPCR-Serpinh1-sg3-220519'\n",
    "outputFigPath = '../jupyter_figures/' + output_prefix + '.svg'\n",
    "# outputFigPath = '../jupyter_figures/' + output_prefix + '.tif'\n",
    "\n",
    "fig = plt.figure(figsize=(fig_width,fig_height), dpi=300)\n",
    "ax = fig.add_axes([0.45, 0.3, 0.5, 0.65])\n",
    "\n",
    "# palette_dict = {'sg-Control': 'black', 'sg1-Itgb1': 'blue', 'sg2-Itgb1': 'red'}\n",
    "# plotting_order = ['FGF7_NRG1_ITS', 'NRG1_ITS', 'FGF7_ITS', 'FGF7', 'medium_only']\n",
    "\n",
    "sns.swarmplot(data = df3,\n",
    "              x = 'sgRNA_id', y = 'relExp',\n",
    "              size = 2,\n",
    "              # hue = 'replicate_id',\n",
    "              color = 'k',\n",
    "              # order = plotting_order,\n",
    "              # alpha = .5\n",
    "             )\n",
    "sns.barplot(data = df3,\n",
    "            x = 'sgRNA_id', y = 'relExp',\n",
    "            # order = plotting_order,\n",
    "            color=\".7\", # This a nicer looking lighter gray to my own taste\n",
    "            errwidth=.7, errcolor=\"k\", capsize=.2, ci='sd')\n",
    "\n",
    "change_bar_width(ax, .5)\n",
    "\n",
    "plt.ylim([0, 0.06])\n",
    "\n",
    "# rotate and customize x tick labels if necessary\n",
    "x_labels = ['sg-Control', 'sg3-Serpinh1']\n",
    "# ax.set_xticklabels(labels=x_labels)\n",
    "# x_labels = ax.get_xticklabels()\n",
    "ax.set_xticklabels(labels=x_labels, rotation=45, ha=\"right\")\n",
    "\n",
    "plt.xlabel('')\n",
    "plt.ylabel(r'Relative HSP47 expression')\n",
    "\n",
    "for o in fig.findobj():\n",
    "    o.set_clip_on(False)\n",
    "for o in ax.findobj():\n",
    "    o.set_clip_on(False)\n",
    "\n",
    "plt.savefig(outputFigPath)"
   ]
  },
  {
   "cell_type": "code",
   "execution_count": 20,
   "id": "29eb0273-5121-4de8-ba50-d828eaece73b",
   "metadata": {},
   "outputs": [
    {
     "name": "stdout",
     "output_type": "stream",
     "text": [
      "Summary of test:\n",
      " Multiple Comparison of Means - Tukey HSD, FWER=0.05\n",
      "===================================================\n",
      "group1 group2 meandiff p-adj  lower   upper  reject\n",
      "---------------------------------------------------\n",
      "   188    228   -0.021 0.002 -0.0317 -0.0102   True\n",
      "---------------------------------------------------\n",
      "p values of all pair-wise tests:\n",
      " [0.00203579]\n"
     ]
    },
    {
     "data": {
      "text/plain": [
       "<statsmodels.sandbox.stats.multicomp.TukeyHSDResults at 0x7ffc813101f0>"
      ]
     },
     "execution_count": 20,
     "metadata": {},
     "output_type": "execute_result"
    }
   ],
   "source": [
    "tukeyTest(df1.relExp, df1.sgRNA_id)"
   ]
  },
  {
   "cell_type": "code",
   "execution_count": 21,
   "id": "6c1c52ab-a720-42c9-b416-cb04381a9ba0",
   "metadata": {},
   "outputs": [
    {
     "name": "stdout",
     "output_type": "stream",
     "text": [
      "Summary of test:\n",
      " Multiple Comparison of Means - Tukey HSD, FWER=0.05 \n",
      "====================================================\n",
      "group1 group2 meandiff p-adj   lower   upper  reject\n",
      "----------------------------------------------------\n",
      "   188    229  -0.0155 0.0037 -0.0244 -0.0067   True\n",
      "----------------------------------------------------\n",
      "p values of all pair-wise tests:\n",
      " [0.00367999]\n"
     ]
    },
    {
     "data": {
      "text/plain": [
       "<statsmodels.sandbox.stats.multicomp.TukeyHSDResults at 0x7ffc8130dd00>"
      ]
     },
     "execution_count": 21,
     "metadata": {},
     "output_type": "execute_result"
    }
   ],
   "source": [
    "tukeyTest(df2.relExp, df2.sgRNA_id)"
   ]
  },
  {
   "cell_type": "code",
   "execution_count": 22,
   "id": "bd9a20ac-27af-487e-a983-ba8f2b43ed8d",
   "metadata": {},
   "outputs": [
    {
     "name": "stdout",
     "output_type": "stream",
     "text": [
      "Summary of test:\n",
      " Multiple Comparison of Means - Tukey HSD, FWER=0.05 \n",
      "====================================================\n",
      "group1 group2 meandiff p-adj   lower   upper  reject\n",
      "----------------------------------------------------\n",
      "   188    230  -0.0109 0.0245 -0.0201 -0.0018   True\n",
      "----------------------------------------------------\n",
      "p values of all pair-wise tests:\n",
      " [0.02448421]\n"
     ]
    },
    {
     "data": {
      "text/plain": [
       "<statsmodels.sandbox.stats.multicomp.TukeyHSDResults at 0x7ffca0a5a490>"
      ]
     },
     "execution_count": 22,
     "metadata": {},
     "output_type": "execute_result"
    }
   ],
   "source": [
    "tukeyTest(df3.relExp, df3.sgRNA_id)"
   ]
  },
  {
   "cell_type": "code",
   "execution_count": null,
   "id": "6626da09-1808-4786-a55d-a37c9034e8ef",
   "metadata": {},
   "outputs": [],
   "source": []
  }
 ],
 "metadata": {
  "kernelspec": {
   "display_name": "Python 3 (ipykernel)",
   "language": "python",
   "name": "python3"
  },
  "language_info": {
   "codemirror_mode": {
    "name": "ipython",
    "version": 3
   },
   "file_extension": ".py",
   "mimetype": "text/x-python",
   "name": "python",
   "nbconvert_exporter": "python",
   "pygments_lexer": "ipython3",
   "version": "3.9.5"
  }
 },
 "nbformat": 4,
 "nbformat_minor": 5
}
