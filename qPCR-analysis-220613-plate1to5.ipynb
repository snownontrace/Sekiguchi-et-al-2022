{
 "cells": [
  {
   "cell_type": "code",
   "execution_count": 1,
   "id": "ec1f6d73-3ad7-4908-89d5-2f7ca6735fbf",
   "metadata": {},
   "outputs": [
    {
     "name": "stdout",
     "output_type": "stream",
     "text": [
      "mkdir: ../jupyter_figures: File exists\n"
     ]
    }
   ],
   "source": [
    "import sys, os, glob, warnings, logging\n",
    "import string\n",
    "import numpy as np\n",
    "import pandas as pd\n",
    "import matplotlib\n",
    "import matplotlib.pyplot as plt\n",
    "import seaborn as sns\n",
    "from scipy import stats\n",
    "from sw_plotting import change_bar_width\n",
    "from sw_utilities import tukeyTest\n",
    "from sw_qPCR import *\n",
    "\n",
    "logging.basicConfig(stream=sys.stdout, format='%(asctime)s - %(levelname)s - %(message)s', level=logging.ERROR)\n",
    "# logging.basicConfig(stream=sys.stdout, format='%(asctime)s - %(levelname)s - %(message)s', level=logging.INFO)\n",
    "# logging.basicConfig(stream=sys.stdout, format='%(asctime)s - %(levelname)s - %(message)s', level=logging.DEBUG)\n",
    "\n",
    "# ignore warnings\n",
    "warnings.filterwarnings('ignore')\n",
    "\n",
    "# plotting configuration\n",
    "font = {'family' : 'Arial',\n",
    "        'size'   : 7}\n",
    "matplotlib.rc('font', **font)\n",
    "plt.rcParams['svg.fonttype'] = 'none'\n",
    "\n",
    "# Make a folder if it is not already there to store exported figures\n",
    "!mkdir ../jupyter_figures\n"
   ]
  },
  {
   "cell_type": "code",
   "execution_count": 2,
   "id": "f561ed82-2192-4426-8adf-df14b0d35732",
   "metadata": {},
   "outputs": [
    {
     "data": {
      "text/html": [
       "<div>\n",
       "<style scoped>\n",
       "    .dataframe tbody tr th:only-of-type {\n",
       "        vertical-align: middle;\n",
       "    }\n",
       "\n",
       "    .dataframe tbody tr th {\n",
       "        vertical-align: top;\n",
       "    }\n",
       "\n",
       "    .dataframe thead th {\n",
       "        text-align: right;\n",
       "    }\n",
       "</style>\n",
       "<table border=\"1\" class=\"dataframe\">\n",
       "  <thead>\n",
       "    <tr style=\"text-align: right;\">\n",
       "      <th></th>\n",
       "      <th>Well</th>\n",
       "      <th>Sample</th>\n",
       "      <th>Primer</th>\n",
       "      <th>Cq</th>\n",
       "      <th>plate_id</th>\n",
       "      <th>sgRNA_id</th>\n",
       "      <th>group</th>\n",
       "      <th>well_id</th>\n",
       "      <th>relExp_25</th>\n",
       "    </tr>\n",
       "  </thead>\n",
       "  <tbody>\n",
       "    <tr>\n",
       "      <th>0</th>\n",
       "      <td>A01</td>\n",
       "      <td>i-188-1</td>\n",
       "      <td>Rps29 v1</td>\n",
       "      <td>20.478409</td>\n",
       "      <td>220613-plate1</td>\n",
       "      <td>188</td>\n",
       "      <td>i-188-1___Rps29 v1</td>\n",
       "      <td>220613-plate1-A01</td>\n",
       "      <td>22.968604</td>\n",
       "    </tr>\n",
       "    <tr>\n",
       "      <th>1</th>\n",
       "      <td>A02</td>\n",
       "      <td>i-188-1</td>\n",
       "      <td>Rps29 v1</td>\n",
       "      <td>20.392192</td>\n",
       "      <td>220613-plate1</td>\n",
       "      <td>188</td>\n",
       "      <td>i-188-1___Rps29 v1</td>\n",
       "      <td>220613-plate1-A02</td>\n",
       "      <td>24.383081</td>\n",
       "    </tr>\n",
       "    <tr>\n",
       "      <th>2</th>\n",
       "      <td>A03</td>\n",
       "      <td>i-188-1</td>\n",
       "      <td>Rps29 v1</td>\n",
       "      <td>20.442585</td>\n",
       "      <td>220613-plate1</td>\n",
       "      <td>188</td>\n",
       "      <td>i-188-1___Rps29 v1</td>\n",
       "      <td>220613-plate1-A03</td>\n",
       "      <td>23.546076</td>\n",
       "    </tr>\n",
       "    <tr>\n",
       "      <th>3</th>\n",
       "      <td>A04</td>\n",
       "      <td>i-401-1</td>\n",
       "      <td>Rps29 v1</td>\n",
       "      <td>19.597035</td>\n",
       "      <td>220613-plate1</td>\n",
       "      <td>401</td>\n",
       "      <td>i-401-1___Rps29 v1</td>\n",
       "      <td>220613-plate1-A04</td>\n",
       "      <td>42.311129</td>\n",
       "    </tr>\n",
       "    <tr>\n",
       "      <th>4</th>\n",
       "      <td>A05</td>\n",
       "      <td>i-401-1</td>\n",
       "      <td>Rps29 v1</td>\n",
       "      <td>19.547194</td>\n",
       "      <td>220613-plate1</td>\n",
       "      <td>401</td>\n",
       "      <td>i-401-1___Rps29 v1</td>\n",
       "      <td>220613-plate1-A05</td>\n",
       "      <td>43.798397</td>\n",
       "    </tr>\n",
       "  </tbody>\n",
       "</table>\n",
       "</div>"
      ],
      "text/plain": [
       "  Well   Sample    Primer         Cq       plate_id sgRNA_id  \\\n",
       "0  A01  i-188-1  Rps29 v1  20.478409  220613-plate1      188   \n",
       "1  A02  i-188-1  Rps29 v1  20.392192  220613-plate1      188   \n",
       "2  A03  i-188-1  Rps29 v1  20.442585  220613-plate1      188   \n",
       "3  A04  i-401-1  Rps29 v1  19.597035  220613-plate1      401   \n",
       "4  A05  i-401-1  Rps29 v1  19.547194  220613-plate1      401   \n",
       "\n",
       "                group            well_id  relExp_25  \n",
       "0  i-188-1___Rps29 v1  220613-plate1-A01  22.968604  \n",
       "1  i-188-1___Rps29 v1  220613-plate1-A02  24.383081  \n",
       "2  i-188-1___Rps29 v1  220613-plate1-A03  23.546076  \n",
       "3  i-401-1___Rps29 v1  220613-plate1-A04  42.311129  \n",
       "4  i-401-1___Rps29 v1  220613-plate1-A05  43.798397  "
      ]
     },
     "execution_count": 2,
     "metadata": {},
     "output_type": "execute_result"
    }
   ],
   "source": [
    "# Read in data from different plates and combine them\n",
    "plate_ids = ['220613-plate1',\n",
    "             '220613-plate2',\n",
    "             '220613-plate3',\n",
    "             '220613-plate4',\n",
    "             '220613-plate5']\n",
    "dfs = []\n",
    "for plate_id in plate_ids:\n",
    "    dfs.append(get_plate_data(plate_id))\n",
    "\n",
    "df = pd.concat(dfs)\n",
    "df.reset_index(inplace=True, drop=True)\n",
    "\n",
    "# Add a few helpful columns\n",
    "df['group'] = [df.Sample[i] + '___' + df.Primer[i] for i in range(len(df))]\n",
    "df['well_id'] = [df.plate_id[i] + '-' + df.Well[i] for i in range(len(df))]\n",
    "df['relExp_25'] = [2**(25-df.Cq[i]) for i in range(len(df))]\n",
    "\n",
    "df.head()"
   ]
  },
  {
   "cell_type": "code",
   "execution_count": 3,
   "id": "c4c82282-37d7-48e3-870c-7a0f420f172f",
   "metadata": {},
   "outputs": [],
   "source": [
    "df1 = get_expression_data(df, 'Serpinh1 sg1 v2')"
   ]
  },
  {
   "cell_type": "code",
   "execution_count": 4,
   "id": "697fd19e-be65-4465-847c-fe2eed124674",
   "metadata": {},
   "outputs": [
    {
     "data": {
      "text/plain": [
       "<AxesSubplot:xlabel='Group', ylabel='relExp'>"
      ]
     },
     "execution_count": 4,
     "metadata": {},
     "output_type": "execute_result"
    },
    {
     "data": {
      "image/png": "[encoded data removed]",
      "text/plain": [
       "<Figure size 432x288 with 1 Axes>"
      ]
     },
     "metadata": {
      "needs_background": "light"
     },
     "output_type": "display_data"
    }
   ],
   "source": [
    "sns.barplot(data=df1, x='Group', y='relExp')\n",
    "sns.scatterplot(data=df1, x='Group', y='relExp')"
   ]
  },
  {
   "cell_type": "code",
   "execution_count": 5,
   "id": "447cdb0a-ccb5-4a0f-8580-f695c4c47450",
   "metadata": {},
   "outputs": [],
   "source": [
    "df2 = get_expression_data(df, 'Serpinh1 sg2 v1')"
   ]
  },
  {
   "cell_type": "code",
   "execution_count": 6,
   "id": "fc89fb9e-ebf5-45c0-be10-3bd1489dfd26",
   "metadata": {},
   "outputs": [
    {
     "data": {
      "text/plain": [
       "<AxesSubplot:xlabel='Group', ylabel='relExp'>"
      ]
     },
     "execution_count": 6,
     "metadata": {},
     "output_type": "execute_result"
    },
    {
     "data": {
      "image/png": "[encoded data removed]",
      "text/plain": [
       "<Figure size 432x288 with 1 Axes>"
      ]
     },
     "metadata": {
      "needs_background": "light"
     },
     "output_type": "display_data"
    }
   ],
   "source": [
    "sns.barplot(data=df2, x='Group', y='relExp')\n",
    "sns.scatterplot(data=df2, x='Group', y='relExp')"
   ]
  },
  {
   "cell_type": "code",
   "execution_count": 7,
   "id": "8c0e24ca-e97f-4d81-a48a-aaae4563e6fc",
   "metadata": {},
   "outputs": [],
   "source": [
    "df3 = get_expression_data(df, 'Serpinh1 sg3 v1')"
   ]
  },
  {
   "cell_type": "code",
   "execution_count": 8,
   "id": "d3e9c6fe-be4f-44c1-9c62-5d8db957971f",
   "metadata": {},
   "outputs": [
    {
     "data": {
      "text/plain": [
       "<AxesSubplot:xlabel='Group', ylabel='relExp'>"
      ]
     },
     "execution_count": 8,
     "metadata": {},
     "output_type": "execute_result"
    },
    {
     "data": {
      "image/png": "[encoded data removed]",
      "text/plain": [
       "<Figure size 432x288 with 1 Axes>"
      ]
     },
     "metadata": {
      "needs_background": "light"
     },
     "output_type": "display_data"
    }
   ],
   "source": [
    "sns.barplot(data=df3, x='Group', y='relExp')\n",
    "sns.scatterplot(data=df3, x='Group', y='relExp')"
   ]
  },
  {
   "cell_type": "code",
   "execution_count": null,
   "id": "1ac3d259-5160-4644-9b05-fd27042cc42e",
   "metadata": {},
   "outputs": [],
   "source": []
  }
 ],
 "metadata": {
  "kernelspec": {
   "display_name": "Python 3 (ipykernel)",
   "language": "python",
   "name": "python3"
  },
  "language_info": {
   "codemirror_mode": {
    "name": "ipython",
    "version": 3
   },
   "file_extension": ".py",
   "mimetype": "text/x-python",
   "name": "python",
   "nbconvert_exporter": "python",
   "pygments_lexer": "ipython3",
   "version": "3.9.5"
  }
 },
 "nbformat": 4,
 "nbformat_minor": 5
}
