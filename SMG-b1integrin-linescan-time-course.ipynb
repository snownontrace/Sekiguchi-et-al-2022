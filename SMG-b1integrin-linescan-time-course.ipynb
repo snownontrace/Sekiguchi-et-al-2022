{
 "cells": [
  {
   "cell_type": "code",
   "execution_count": 1,
   "metadata": {},
   "outputs": [
    {
     "name": "stdout",
     "output_type": "stream",
     "text": [
      "mkdir: ../jupyter_figures: File exists\n"
     ]
    }
   ],
   "source": [
    "import sys, os, glob, warnings, logging\n",
    "import numpy as np\n",
    "import pandas as pd\n",
    "import matplotlib\n",
    "import matplotlib.pyplot as plt\n",
    "import seaborn as sns\n",
    "from scipy import stats\n",
    "from sw_plotting import change_bar_width\n",
    "from sw_utilities import tukeyTest\n",
    "\n",
    "# logging.basicConfig(stream=sys.stdout, format='%(asctime)s - %(levelname)s - %(message)s', level=logging.DEBUG)\n",
    "logging.basicConfig(stream=sys.stdout, format='%(asctime)s - %(levelname)s - %(message)s', level=logging.INFO)\n",
    "\n",
    "# ignore warnings\n",
    "warnings.filterwarnings('ignore')\n",
    "\n",
    "# plotting configuration\n",
    "font = {'family' : 'Arial',\n",
    "        'size'   : 7}\n",
    "matplotlib.rc('font', **font)\n",
    "plt.rcParams['svg.fonttype'] = 'none'\n",
    "\n",
    "# Make a folder if it is not already there to store exported figures\n",
    "!mkdir ../jupyter_figures\n"
   ]
  },
  {
   "cell_type": "code",
   "execution_count": 45,
   "metadata": {},
   "outputs": [],
   "source": [
    "def get_linescan_data(folder, sgRNA, time_d, n_edges=5):\n",
    "    '''\n",
    "    Read in linescan data and annotate with meta data\n",
    "    \n",
    "    Inputs:\n",
    "    -------\n",
    "        - folder: the folder that contains the linescan output csv file\n",
    "        - sgRNA: which sgRNA was used for the treatment of this group\n",
    "        - time_d: how many days after culture the samples were collected\n",
    "        - n_edges: how many edges were quantified per sample\n",
    "        \n",
    "    Outputs:\n",
    "        - df: pandas data frame with linescan data and annotation data\n",
    "        \n",
    "    '''\n",
    "    \n",
    "    linescan_files = glob.glob(os.path.join(folder, '*.txt'))\n",
    "\n",
    "    if len(linescan_files) > 1:\n",
    "        print('There are more than 1 output file in', folder)\n",
    "        print('The newest one will be used.')\n",
    "        linescan_files = sorted(linescan_files,\n",
    "                                key = os.path.getmtime)\n",
    "        \n",
    "    df = pd.read_csv(linescan_files[-1])\n",
    "    \n",
    "    # annotate data\n",
    "    assert len(df) % 5 == 0\n",
    "    n_organoids = int(len(df) / 5)\n",
    "    \n",
    "    sample_ids = []\n",
    "    for i in range(n_organoids):\n",
    "        for j in range(n_edges):\n",
    "            sample_ids.append(sgRNA + '_' + str(i+1))\n",
    "    \n",
    "    df['sample_id'] = sample_ids\n",
    "    df['sgRNA'] = [sgRNA]*len(df)\n",
    "    df['time_d'] = time_d\n",
    "    df['groups'] = [sgRNA + '_' + str(time_d)]*len(df)\n",
    "    \n",
    "    return df"
   ]
  },
  {
   "cell_type": "code",
   "execution_count": 46,
   "metadata": {},
   "outputs": [],
   "source": [
    "input_folder = '../data/220608-b1int-IF-time-course'\n",
    "folders = glob.glob(os.path.join(input_folder, '*line-scan-output' + os.path.sep))"
   ]
  },
  {
   "cell_type": "code",
   "execution_count": 47,
   "metadata": {},
   "outputs": [],
   "source": [
    "dfs = []\n",
    "for folder in folders:\n",
    "    if folder.endswith(os.path.sep):\n",
    "        folder = folder[:-1]\n",
    "    sgRNA = os.path.basename(folder).split('-')[1]\n",
    "    time_d = int(os.path.basename(folder).split('-')[4][0])\n",
    "    dfs.append(get_linescan_data(folder, sgRNA, time_d, n_edges=5))"
   ]
  },
  {
   "cell_type": "code",
   "execution_count": 48,
   "metadata": {},
   "outputs": [],
   "source": [
    "df = pd.concat(dfs)\n",
    "df.reset_index(drop=True, inplace=True)"
   ]
  },
  {
   "cell_type": "code",
   "execution_count": 49,
   "metadata": {},
   "outputs": [
    {
     "data": {
      "text/html": [
       "<div>\n",
       "<style scoped>\n",
       "    .dataframe tbody tr th:only-of-type {\n",
       "        vertical-align: middle;\n",
       "    }\n",
       "\n",
       "    .dataframe tbody tr th {\n",
       "        vertical-align: top;\n",
       "    }\n",
       "\n",
       "    .dataframe thead th {\n",
       "        text-align: right;\n",
       "    }\n",
       "</style>\n",
       "<table border=\"1\" class=\"dataframe\">\n",
       "  <thead>\n",
       "    <tr style=\"text-align: right;\">\n",
       "      <th></th>\n",
       "      <th>file_name</th>\n",
       "      <th>edge_category</th>\n",
       "      <th>id</th>\n",
       "      <th>b1int_AUC</th>\n",
       "      <th>b1int_peak_height</th>\n",
       "      <th>NLSmSL_cell_1</th>\n",
       "      <th>NLSmSL_cell_2</th>\n",
       "      <th>z_position</th>\n",
       "      <th>sample_id</th>\n",
       "      <th>sgRNA</th>\n",
       "      <th>time_d</th>\n",
       "      <th>groups</th>\n",
       "    </tr>\n",
       "  </thead>\n",
       "  <tbody>\n",
       "    <tr>\n",
       "      <th>420</th>\n",
       "      <td>6</td>\n",
       "      <td>High_High</td>\n",
       "      <td>1</td>\n",
       "      <td>2084.8348</td>\n",
       "      <td>232.6014</td>\n",
       "      <td>6.6626</td>\n",
       "      <td>5.9507</td>\n",
       "      <td>1</td>\n",
       "      <td>no_virus_6</td>\n",
       "      <td>no_virus</td>\n",
       "      <td>0</td>\n",
       "      <td>no_virus_0</td>\n",
       "    </tr>\n",
       "    <tr>\n",
       "      <th>421</th>\n",
       "      <td>6</td>\n",
       "      <td>High_High</td>\n",
       "      <td>2</td>\n",
       "      <td>6719.4988</td>\n",
       "      <td>606.4597</td>\n",
       "      <td>5.4863</td>\n",
       "      <td>5.9859</td>\n",
       "      <td>1</td>\n",
       "      <td>no_virus_6</td>\n",
       "      <td>no_virus</td>\n",
       "      <td>0</td>\n",
       "      <td>no_virus_0</td>\n",
       "    </tr>\n",
       "    <tr>\n",
       "      <th>422</th>\n",
       "      <td>6</td>\n",
       "      <td>High_High</td>\n",
       "      <td>3</td>\n",
       "      <td>3955.5658</td>\n",
       "      <td>538.2629</td>\n",
       "      <td>6.5926</td>\n",
       "      <td>5.9035</td>\n",
       "      <td>1</td>\n",
       "      <td>no_virus_6</td>\n",
       "      <td>no_virus</td>\n",
       "      <td>0</td>\n",
       "      <td>no_virus_0</td>\n",
       "    </tr>\n",
       "    <tr>\n",
       "      <th>423</th>\n",
       "      <td>6</td>\n",
       "      <td>High_High</td>\n",
       "      <td>4</td>\n",
       "      <td>192.4889</td>\n",
       "      <td>85.2923</td>\n",
       "      <td>5.5230</td>\n",
       "      <td>5.4700</td>\n",
       "      <td>1</td>\n",
       "      <td>no_virus_6</td>\n",
       "      <td>no_virus</td>\n",
       "      <td>0</td>\n",
       "      <td>no_virus_0</td>\n",
       "    </tr>\n",
       "    <tr>\n",
       "      <th>424</th>\n",
       "      <td>6</td>\n",
       "      <td>High_High</td>\n",
       "      <td>5</td>\n",
       "      <td>1170.4729</td>\n",
       "      <td>89.8526</td>\n",
       "      <td>4.8460</td>\n",
       "      <td>5.8239</td>\n",
       "      <td>1</td>\n",
       "      <td>no_virus_6</td>\n",
       "      <td>no_virus</td>\n",
       "      <td>0</td>\n",
       "      <td>no_virus_0</td>\n",
       "    </tr>\n",
       "  </tbody>\n",
       "</table>\n",
       "</div>"
      ],
      "text/plain": [
       "     file_name edge_category  id  b1int_AUC  b1int_peak_height  NLSmSL_cell_1  \\\n",
       "420          6     High_High   1  2084.8348           232.6014         6.6626   \n",
       "421          6     High_High   2  6719.4988           606.4597         5.4863   \n",
       "422          6     High_High   3  3955.5658           538.2629         6.5926   \n",
       "423          6     High_High   4   192.4889            85.2923         5.5230   \n",
       "424          6     High_High   5  1170.4729            89.8526         4.8460   \n",
       "\n",
       "     NLSmSL_cell_2  z_position   sample_id     sgRNA  time_d      groups  \n",
       "420         5.9507           1  no_virus_6  no_virus       0  no_virus_0  \n",
       "421         5.9859           1  no_virus_6  no_virus       0  no_virus_0  \n",
       "422         5.9035           1  no_virus_6  no_virus       0  no_virus_0  \n",
       "423         5.4700           1  no_virus_6  no_virus       0  no_virus_0  \n",
       "424         5.8239           1  no_virus_6  no_virus       0  no_virus_0  "
      ]
     },
     "execution_count": 49,
     "metadata": {},
     "output_type": "execute_result"
    }
   ],
   "source": [
    "df.tail()"
   ]
  },
  {
   "cell_type": "code",
   "execution_count": 67,
   "metadata": {},
   "outputs": [],
   "source": [
    "df_d1 = df[df.time_d==1]\n",
    "ctrl_average = df_d1[df_d1.sgRNA=='188'].b1int_peak_height.mean()\n",
    "df_d1['b1int_normed'] = df_d1['b1int_peak_height'] / ctrl_average"
   ]
  },
  {
   "cell_type": "code",
   "execution_count": 94,
   "metadata": {},
   "outputs": [
    {
     "data": {
      "image/png": "[encoded data removed]",
      "text/plain": [
       "<Figure size 360x540 with 1 Axes>"
      ]
     },
     "metadata": {
      "needs_background": "light"
     },
     "output_type": "display_data"
    }
   ],
   "source": [
    "# Swarm plot of 4 categories\n",
    "\n",
    "outputPrefix = '220608-IF-b1-integrin-d1-bar-swarm'\n",
    "outputFigPath = \"../jupyter_figures/\" + outputPrefix + \".svg\"\n",
    "\n",
    "fig_width = 1.2\n",
    "fig_height = 1.8\n",
    "\n",
    "fig = plt.figure(figsize=(fig_width,fig_height), dpi=300)\n",
    "# ax = fig.add_axes([0.1, 0.1, 0.8, 0.8])\n",
    "ax = fig.add_axes([0.35, 0.4, 0.6, 0.55])\n",
    "\n",
    "ax = sns.swarmplot(x='groups', y='b1int_normed', data=df_d1,\n",
    "                   # hue='sample_id',\n",
    "#                    palette={'1': 'red', '2': 'green', '3': 'blue', '4': yellow', '5': 'purple'},\n",
    "                   color=\"blue\",\n",
    "                   size=1.0, alpha=.6)\n",
    "\n",
    "ax = sns.barplot(x='groups', y='b1int_normed', data=df_d1,\n",
    "                 color=\".7\", alpha=1.0,\n",
    "                 errwidth=.7, errcolor=\"k\", capsize=.2, ci='sd')\n",
    "\n",
    "plt.ylim(0, 1.7)\n",
    "plt.ylim(0, 2.7)\n",
    "# plt.yticks([0, 3, 6])\n",
    "\n",
    "plt.xlabel(None)\n",
    "# plt.ylabel(r\"$\\beta$1-integrin intensity\")\n",
    "plt.ylabel('ITGB1 intensity')\n",
    "\n",
    "# make the bar width narrower\n",
    "change_bar_width(ax, .5)\n",
    "\n",
    "# rotate x tick labels\n",
    "# x_labels = ax.get_xticklabels()\n",
    "x_labels = ['sg-Control', 'sg1-Itgb1', 'sg2-Itgb1', 'sg3-Itgb1']\n",
    "ax.set_xticklabels(labels=x_labels, rotation=45, ha=\"right\")\n",
    "\n",
    "# ax.get_legend().remove()\n",
    "\n",
    "for o in fig.findobj():\n",
    "    o.set_clip_on(False)\n",
    "for o in ax.findobj():\n",
    "    o.set_clip_on(False)\n",
    "\n",
    "if outputFigPath is not None:\n",
    "    plt.savefig(outputFigPath)\n"
   ]
  },
  {
   "cell_type": "code",
   "execution_count": 69,
   "metadata": {},
   "outputs": [
    {
     "name": "stdout",
     "output_type": "stream",
     "text": [
      "Summary of test:\n",
      " Multiple Comparison of Means - Tukey HSD, FWER=0.05 \n",
      "====================================================\n",
      "group1 group2 meandiff p-adj   lower   upper  reject\n",
      "----------------------------------------------------\n",
      " 188_1  401_1   -0.231  0.037  -0.452   -0.01   True\n",
      " 188_1  402_1  -0.6348  0.001 -0.8324 -0.4372   True\n",
      " 188_1  403_1  -0.6918  0.001 -0.8895 -0.4942   True\n",
      " 401_1  402_1  -0.4038  0.001 -0.6014 -0.2061   True\n",
      " 401_1  403_1  -0.4608  0.001 -0.6584 -0.2632   True\n",
      " 402_1  403_1   -0.057 0.7944 -0.2282  0.1141  False\n",
      "----------------------------------------------------\n",
      "p values of all pair-wise tests:\n",
      " [0.03699523 0.001      0.001      0.001      0.001      0.79443296]\n"
     ]
    },
    {
     "data": {
      "text/plain": [
       "<statsmodels.sandbox.stats.multicomp.TukeyHSDResults at 0x7f8ea8156c70>"
      ]
     },
     "execution_count": 69,
     "metadata": {},
     "output_type": "execute_result"
    }
   ],
   "source": [
    "tukeyTest(df_d1.b1int_normed, df_d1.groups)"
   ]
  },
  {
   "cell_type": "code",
   "execution_count": 74,
   "metadata": {},
   "outputs": [
    {
     "name": "stdout",
     "output_type": "stream",
     "text": [
      "188 n = 15\n",
      "401 n = 15\n",
      "402 n = 25\n",
      "403 n = 25\n"
     ]
    }
   ],
   "source": [
    "for i in df_d1.sgRNA.unique():\n",
    "    print(i, 'n =', len(df_d1[df_d1.sgRNA==i]))"
   ]
  },
  {
   "cell_type": "code",
   "execution_count": 66,
   "metadata": {},
   "outputs": [],
   "source": [
    "df_d2 = df[df.time_d==2]\n",
    "ctrl_average = df_d2[df_d2.sgRNA=='188'].b1int_peak_height.mean()\n",
    "df_d2['b1int_normed'] = df_d2['b1int_peak_height'] / ctrl_average"
   ]
  },
  {
   "cell_type": "code",
   "execution_count": 92,
   "metadata": {},
   "outputs": [
    {
     "data": {
      "image/png": "[encoded data removed]",
      "text/plain": [
       "<Figure size 360x540 with 1 Axes>"
      ]
     },
     "metadata": {
      "needs_background": "light"
     },
     "output_type": "display_data"
    }
   ],
   "source": [
    "# Swarm plot of 4 categories\n",
    "\n",
    "outputPrefix = '220608-IF-b1-integrin-d2-bar-swarm'\n",
    "outputFigPath = \"../jupyter_figures/\" + outputPrefix + \".svg\"\n",
    "\n",
    "fig_width = 1.2\n",
    "fig_height = 1.8\n",
    "\n",
    "fig = plt.figure(figsize=(fig_width,fig_height), dpi=300)\n",
    "# ax = fig.add_axes([0.1, 0.1, 0.8, 0.8])\n",
    "ax = fig.add_axes([0.35, 0.4, 0.6, 0.55])\n",
    "\n",
    "ax = sns.swarmplot(x='groups', y='b1int_normed', data=df_d2,\n",
    "                   # hue='sample_id',\n",
    "#                    palette={'1': 'red', '2': 'green', '3': 'blue', '4': yellow', '5': 'purple'},\n",
    "                   color=\"blue\",\n",
    "                   size=1.0, alpha=.6)\n",
    "\n",
    "ax = sns.barplot(x='groups', y='b1int_normed', data=df_d2,\n",
    "                 color=\".7\", alpha=1.0,\n",
    "                 errwidth=.7, errcolor=\"k\", capsize=.2, ci='sd')\n",
    "\n",
    "plt.ylim(0, 1.7)\n",
    "plt.ylim(0, 2.7)\n",
    "# plt.yticks([0, 3, 6])\n",
    "\n",
    "plt.xlabel(None)\n",
    "# plt.ylabel(r\"$\\beta$1-integrin intensity\")\n",
    "plt.ylabel('ITGB1 intensity')\n",
    "\n",
    "# make the bar width narrower\n",
    "change_bar_width(ax, .5)\n",
    "\n",
    "# rotate x tick labels\n",
    "# x_labels = ax.get_xticklabels()\n",
    "x_labels = ['sg-Control', 'sg1-Itgb1', 'sg2-Itgb1', 'sg3-Itgb1']\n",
    "ax.set_xticklabels(labels=x_labels, rotation=45, ha=\"right\")\n",
    "\n",
    "# ax.get_legend().remove()\n",
    "\n",
    "for o in fig.findobj():\n",
    "    o.set_clip_on(False)\n",
    "for o in ax.findobj():\n",
    "    o.set_clip_on(False)\n",
    "\n",
    "if outputFigPath is not None:\n",
    "    plt.savefig(outputFigPath)\n"
   ]
  },
  {
   "cell_type": "code",
   "execution_count": 71,
   "metadata": {},
   "outputs": [
    {
     "name": "stdout",
     "output_type": "stream",
     "text": [
      "Summary of test:\n",
      " Multiple Comparison of Means - Tukey HSD, FWER=0.05 \n",
      "====================================================\n",
      "group1 group2 meandiff p-adj   lower   upper  reject\n",
      "----------------------------------------------------\n",
      " 188_2  401_2  -0.5498  0.001 -0.7277 -0.3718   True\n",
      " 188_2  402_2   -0.766  0.001 -0.9548 -0.5772   True\n",
      " 188_2  403_2  -0.8095  0.001 -0.9875 -0.6315   True\n",
      " 401_2  402_2  -0.2162 0.0181  -0.405 -0.0275   True\n",
      " 401_2  403_2  -0.2597 0.0014 -0.4377 -0.0817   True\n",
      " 402_2  403_2  -0.0435    0.9 -0.2323  0.1453  False\n",
      "----------------------------------------------------\n",
      "p values of all pair-wise tests:\n",
      " [0.001      0.001      0.001      0.01809277 0.00137611 0.9       ]\n"
     ]
    },
    {
     "data": {
      "text/plain": [
       "<statsmodels.sandbox.stats.multicomp.TukeyHSDResults at 0x7f8e9862e100>"
      ]
     },
     "execution_count": 71,
     "metadata": {},
     "output_type": "execute_result"
    }
   ],
   "source": [
    "tukeyTest(df_d2.b1int_normed, df_d2.groups)"
   ]
  },
  {
   "cell_type": "code",
   "execution_count": 73,
   "metadata": {},
   "outputs": [
    {
     "name": "stdout",
     "output_type": "stream",
     "text": [
      "188 n = 25\n",
      "401 n = 25\n",
      "402 n = 20\n",
      "403 n = 25\n"
     ]
    }
   ],
   "source": [
    "for i in df_d2.sgRNA.unique():\n",
    "    print(i, 'n =', len(df_d2[df_d2.sgRNA==i]))"
   ]
  },
  {
   "cell_type": "code",
   "execution_count": 75,
   "metadata": {},
   "outputs": [],
   "source": [
    "df_d4 = df[df.time_d==4]\n",
    "ctrl_average = df_d4[df_d4.sgRNA=='188'].b1int_peak_height.mean()\n",
    "df_d4['b1int_normed'] = df_d4['b1int_peak_height'] / ctrl_average"
   ]
  },
  {
   "cell_type": "code",
   "execution_count": 89,
   "metadata": {},
   "outputs": [
    {
     "data": {
      "image/png": "[encoded data removed]",
      "text/plain": [
       "<Figure size 360x540 with 1 Axes>"
      ]
     },
     "metadata": {
      "needs_background": "light"
     },
     "output_type": "display_data"
    }
   ],
   "source": [
    "# Swarm plot of 4 categories\n",
    "\n",
    "outputPrefix = '220608-IF-b1-integrin-d4-bar-swarm'\n",
    "outputFigPath = \"../jupyter_figures/\" + outputPrefix + \".svg\"\n",
    "\n",
    "fig_width = 1.2\n",
    "fig_height = 1.8\n",
    "\n",
    "fig = plt.figure(figsize=(fig_width,fig_height), dpi=300)\n",
    "# ax = fig.add_axes([0.1, 0.1, 0.8, 0.8])\n",
    "ax = fig.add_axes([0.35, 0.4, 0.6, 0.55])\n",
    "\n",
    "ax = sns.swarmplot(x='groups', y='b1int_normed', data=df_d4,\n",
    "                   # hue='sample_id',\n",
    "#                    palette={'1': 'red', '2': 'green', '3': 'blue', '4': yellow', '5': 'purple'},\n",
    "                   color=\"blue\",\n",
    "                   size=1.0, alpha=.6)\n",
    "\n",
    "ax = sns.barplot(x='groups', y='b1int_normed', data=df_d4,\n",
    "                 color=\".7\", alpha=1.0,\n",
    "                 errwidth=.7, errcolor=\"k\", capsize=.2, ci='sd')\n",
    "\n",
    "plt.ylim(0, 1.7)\n",
    "plt.ylim(0, 2.7)\n",
    "# plt.yticks([0, 3, 6])\n",
    "\n",
    "plt.xlabel(None)\n",
    "# plt.ylabel(r\"$\\beta$1-integrin intensity\")\n",
    "plt.ylabel('ITGB1 intensity')\n",
    "\n",
    "# make the bar width narrower\n",
    "change_bar_width(ax, .5)\n",
    "\n",
    "# rotate x tick labels\n",
    "# x_labels = ax.get_xticklabels()\n",
    "x_labels = ['sg-Control', 'sg1-Itgb1', 'sg2-Itgb1', 'sg3-Itgb1']\n",
    "ax.set_xticklabels(labels=x_labels, rotation=45, ha=\"right\")\n",
    "\n",
    "# ax.get_legend().remove()\n",
    "\n",
    "for o in fig.findobj():\n",
    "    o.set_clip_on(False)\n",
    "for o in ax.findobj():\n",
    "    o.set_clip_on(False)\n",
    "\n",
    "if outputFigPath is not None:\n",
    "    plt.savefig(outputFigPath)\n"
   ]
  },
  {
   "cell_type": "code",
   "execution_count": 77,
   "metadata": {},
   "outputs": [
    {
     "name": "stdout",
     "output_type": "stream",
     "text": [
      "Summary of test:\n",
      " Multiple Comparison of Means - Tukey HSD, FWER=0.05 \n",
      "====================================================\n",
      "group1 group2 meandiff p-adj   lower   upper  reject\n",
      "----------------------------------------------------\n",
      " 188_4  401_4   -0.756  0.001  -0.955  -0.557   True\n",
      " 188_4  402_4  -0.7082  0.001 -0.9071 -0.5092   True\n",
      " 188_4  403_4  -0.7016  0.001 -0.8771 -0.5262   True\n",
      " 401_4  402_4   0.0479    0.9 -0.1511  0.2468  False\n",
      " 401_4  403_4   0.0544 0.8321 -0.1211  0.2298  False\n",
      " 402_4  403_4   0.0065    0.9 -0.1689   0.182  False\n",
      "----------------------------------------------------\n",
      "p values of all pair-wise tests:\n",
      " [0.001     0.001     0.001     0.9       0.8321047 0.9      ]\n"
     ]
    },
    {
     "data": {
      "text/plain": [
       "<statsmodels.sandbox.stats.multicomp.TukeyHSDResults at 0x7f8ee9a4f970>"
      ]
     },
     "execution_count": 77,
     "metadata": {},
     "output_type": "execute_result"
    }
   ],
   "source": [
    "tukeyTest(df_d4.b1int_normed, df_d4.groups)"
   ]
  },
  {
   "cell_type": "code",
   "execution_count": 78,
   "metadata": {},
   "outputs": [
    {
     "name": "stdout",
     "output_type": "stream",
     "text": [
      "188 n = 25\n",
      "401 n = 25\n",
      "402 n = 25\n",
      "403 n = 45\n"
     ]
    }
   ],
   "source": [
    "for i in df_d4.sgRNA.unique():\n",
    "    print(i, 'n =', len(df_d4[df_d4.sgRNA==i]))"
   ]
  },
  {
   "cell_type": "code",
   "execution_count": 79,
   "metadata": {},
   "outputs": [],
   "source": [
    "df_d7 = df[df.time_d==7]\n",
    "ctrl_average = df_d7[df_d7.sgRNA=='188'].b1int_peak_height.mean()\n",
    "df_d7['b1int_normed'] = df_d7['b1int_peak_height'] / ctrl_average"
   ]
  },
  {
   "cell_type": "code",
   "execution_count": 87,
   "metadata": {},
   "outputs": [
    {
     "data": {
      "image/png": "[encoded data removed]",
      "text/plain": [
       "<Figure size 360x540 with 1 Axes>"
      ]
     },
     "metadata": {
      "needs_background": "light"
     },
     "output_type": "display_data"
    }
   ],
   "source": [
    "# Swarm plot of 4 categories\n",
    "\n",
    "outputPrefix = '220608-IF-b1-integrin-d7-bar-swarm'\n",
    "outputFigPath = \"../jupyter_figures/\" + outputPrefix + \".svg\"\n",
    "\n",
    "fig_width = 1.2\n",
    "fig_height = 1.8\n",
    "\n",
    "fig = plt.figure(figsize=(fig_width,fig_height), dpi=300)\n",
    "# ax = fig.add_axes([0.1, 0.1, 0.8, 0.8])\n",
    "ax = fig.add_axes([0.35, 0.4, 0.6, 0.55])\n",
    "\n",
    "ax = sns.swarmplot(x='groups', y='b1int_normed', data=df_d7,\n",
    "                   # hue='sample_id',\n",
    "                   color=\"blue\",\n",
    "                   size=1.0, alpha=.6)\n",
    "\n",
    "ax = sns.barplot(x='groups', y='b1int_normed', data=df_d7,\n",
    "                 color=\".7\", alpha=1.0,\n",
    "                 errwidth=.7, errcolor=\"k\", capsize=.2, ci='sd')\n",
    "\n",
    "# plt.ylim(0, 1.7)\n",
    "plt.ylim(0, 2.7)\n",
    "# plt.yticks([0, 3, 6])\n",
    "\n",
    "plt.xlabel(None)\n",
    "# plt.ylabel(r\"$\\beta$1-integrin intensity\")\n",
    "plt.ylabel('ITGB1 intensity')\n",
    "\n",
    "# make the bar width narrower\n",
    "change_bar_width(ax, .5)\n",
    "\n",
    "# rotate x tick labels\n",
    "# x_labels = ax.get_xticklabels()\n",
    "x_labels = ['sg-Control', 'sg1-Itgb1', 'sg2-Itgb1', 'sg3-Itgb1']\n",
    "ax.set_xticklabels(labels=x_labels, rotation=45, ha=\"right\")\n",
    "\n",
    "# ax.get_legend().remove()\n",
    "\n",
    "for o in fig.findobj():\n",
    "    o.set_clip_on(False)\n",
    "for o in ax.findobj():\n",
    "    o.set_clip_on(False)\n",
    "\n",
    "if outputFigPath is not None:\n",
    "    plt.savefig(outputFigPath)\n"
   ]
  },
  {
   "cell_type": "code",
   "execution_count": 95,
   "metadata": {},
   "outputs": [
    {
     "name": "stdout",
     "output_type": "stream",
     "text": [
      "Summary of test:\n",
      " Multiple Comparison of Means - Tukey HSD, FWER=0.05\n",
      "===================================================\n",
      "group1 group2 meandiff p-adj  lower   upper  reject\n",
      "---------------------------------------------------\n",
      " 188_7  401_7    -0.78 0.001 -0.9805 -0.5795   True\n",
      " 188_7  402_7  -0.7534 0.001 -0.9539 -0.5529   True\n",
      " 188_7  403_7  -0.7761 0.001 -0.9766 -0.5756   True\n",
      " 401_7  402_7   0.0266   0.9 -0.1739  0.2271  False\n",
      " 401_7  403_7   0.0039   0.9 -0.1966  0.2044  False\n",
      " 402_7  403_7  -0.0227   0.9 -0.2232  0.1778  False\n",
      "---------------------------------------------------\n",
      "p values of all pair-wise tests:\n",
      " [0.001 0.001 0.001 0.9   0.9   0.9  ]\n"
     ]
    },
    {
     "data": {
      "text/plain": [
       "<statsmodels.sandbox.stats.multicomp.TukeyHSDResults at 0x7f8eba24dc70>"
      ]
     },
     "execution_count": 95,
     "metadata": {},
     "output_type": "execute_result"
    }
   ],
   "source": [
    "tukeyTest(df_d7.b1int_normed, df_d7.groups)"
   ]
  },
  {
   "cell_type": "code",
   "execution_count": 81,
   "metadata": {},
   "outputs": [
    {
     "name": "stdout",
     "output_type": "stream",
     "text": [
      "188 n = 25\n",
      "401 n = 25\n",
      "402 n = 25\n",
      "403 n = 25\n"
     ]
    }
   ],
   "source": [
    "for i in df_d7.sgRNA.unique():\n",
    "    print(i, 'n =', len(df_d7[df_d7.sgRNA==i]))"
   ]
  },
  {
   "cell_type": "code",
   "execution_count": null,
   "metadata": {},
   "outputs": [],
   "source": []
  }
 ],
 "metadata": {
  "kernelspec": {
   "display_name": "Python 3 (ipykernel)",
   "language": "python",
   "name": "python3"
  },
  "language_info": {
   "codemirror_mode": {
    "name": "ipython",
    "version": 3
   },
   "file_extension": ".py",
   "mimetype": "text/x-python",
   "name": "python",
   "nbconvert_exporter": "python",
   "pygments_lexer": "ipython3",
   "version": "3.9.5"
  }
 },
 "nbformat": 4,
 "nbformat_minor": 4
}
