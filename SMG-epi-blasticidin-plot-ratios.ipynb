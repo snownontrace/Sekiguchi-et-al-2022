{
 "cells": [
  {
   "cell_type": "code",
   "execution_count": 44,
   "id": "5618354b-6d2b-4107-bdaf-76387afa00cc",
   "metadata": {},
   "outputs": [
    {
     "name": "stdout",
     "output_type": "stream",
     "text": [
      "mkdir: ../jupyter_figures: File exists\n"
     ]
    }
   ],
   "source": [
    "import sys, os, glob, warnings, logging\n",
    "import numpy as np\n",
    "import pandas as pd\n",
    "import matplotlib\n",
    "import matplotlib.pyplot as plt\n",
    "import seaborn as sns\n",
    "from sw_plotting import change_bar_width\n",
    "from sw_utilities import tukeyTest\n",
    "\n",
    "# logging.basicConfig(stream=sys.stdout, format='%(asctime)s - %(levelname)s - %(message)s', level=logging.DEBUG)\n",
    "# logging.basicConfig(stream=sys.stdout, format='%(asctime)s - %(levelname)s - %(message)s', level=logging.INFO)\n",
    "logging.basicConfig(stream=sys.stdout, format='%(asctime)s - %(levelname)s - %(message)s', level=logging.ERROR)\n",
    "\n",
    "# ignore warnings\n",
    "warnings.filterwarnings('ignore')\n",
    "\n",
    "# plotting configuration\n",
    "font = {'family' : 'Arial',\n",
    "        'size'   : 7}\n",
    "matplotlib.rc('font', **font)\n",
    "plt.rcParams['svg.fonttype'] = 'none'\n",
    "\n",
    "# Make a folder if it is not already there to store exported figures\n",
    "!mkdir ../jupyter_figures\n"
   ]
  },
  {
   "cell_type": "code",
   "execution_count": 45,
   "id": "08f8a42d-ed83-4593-9c54-bf5734b58820",
   "metadata": {},
   "outputs": [],
   "source": [
    "# read in the ratio data\n",
    "\n",
    "data_folder = '../data/220601-X-188-blast-test/220601-X-188-no-blast-40x-output'\n",
    "df = pd.read_csv(os.path.join(data_folder, 'ratio_per_sample_no_blast.csv'),\n",
    "                 header=None)\n",
    "df.columns = ['ratio_pos']\n",
    "df['groups'] = ['-blast']*len(df)\n",
    "df1 = df"
   ]
  },
  {
   "cell_type": "code",
   "execution_count": 46,
   "id": "80468c14-00f7-4271-a491-7168985bb56a",
   "metadata": {},
   "outputs": [],
   "source": [
    "# read in the ratio data\n",
    "\n",
    "data_folder = '../data/220601-X-188-blast-test/220601-X-188-add-blast-40x-output'\n",
    "df = pd.read_csv(os.path.join(data_folder, 'ratio_per_sample_blast.csv'),\n",
    "                 header=None)\n",
    "df.columns = ['ratio_pos']\n",
    "df['groups'] = ['+blast']*len(df)\n",
    "df2 = df"
   ]
  },
  {
   "cell_type": "code",
   "execution_count": 47,
   "id": "5005eefa-7865-454e-a40e-e450500839c3",
   "metadata": {},
   "outputs": [],
   "source": [
    "df = pd.concat([df1, df2])"
   ]
  },
  {
   "cell_type": "code",
   "execution_count": 48,
   "id": "e18ba04e-03e2-4732-9f18-59c88392ccf7",
   "metadata": {},
   "outputs": [
    {
     "data": {
      "text/html": [
       "<div>\n",
       "<style scoped>\n",
       "    .dataframe tbody tr th:only-of-type {\n",
       "        vertical-align: middle;\n",
       "    }\n",
       "\n",
       "    .dataframe tbody tr th {\n",
       "        vertical-align: top;\n",
       "    }\n",
       "\n",
       "    .dataframe thead th {\n",
       "        text-align: right;\n",
       "    }\n",
       "</style>\n",
       "<table border=\"1\" class=\"dataframe\">\n",
       "  <thead>\n",
       "    <tr style=\"text-align: right;\">\n",
       "      <th></th>\n",
       "      <th>ratio_pos</th>\n",
       "      <th>groups</th>\n",
       "    </tr>\n",
       "  </thead>\n",
       "  <tbody>\n",
       "    <tr>\n",
       "      <th>0</th>\n",
       "      <td>0.671772</td>\n",
       "      <td>-blast</td>\n",
       "    </tr>\n",
       "    <tr>\n",
       "      <th>1</th>\n",
       "      <td>0.235474</td>\n",
       "      <td>-blast</td>\n",
       "    </tr>\n",
       "    <tr>\n",
       "      <th>2</th>\n",
       "      <td>0.744713</td>\n",
       "      <td>-blast</td>\n",
       "    </tr>\n",
       "    <tr>\n",
       "      <th>3</th>\n",
       "      <td>0.671441</td>\n",
       "      <td>-blast</td>\n",
       "    </tr>\n",
       "    <tr>\n",
       "      <th>4</th>\n",
       "      <td>0.287152</td>\n",
       "      <td>-blast</td>\n",
       "    </tr>\n",
       "    <tr>\n",
       "      <th>5</th>\n",
       "      <td>0.586357</td>\n",
       "      <td>-blast</td>\n",
       "    </tr>\n",
       "    <tr>\n",
       "      <th>6</th>\n",
       "      <td>0.663912</td>\n",
       "      <td>-blast</td>\n",
       "    </tr>\n",
       "    <tr>\n",
       "      <th>7</th>\n",
       "      <td>0.429020</td>\n",
       "      <td>-blast</td>\n",
       "    </tr>\n",
       "    <tr>\n",
       "      <th>8</th>\n",
       "      <td>0.479491</td>\n",
       "      <td>-blast</td>\n",
       "    </tr>\n",
       "    <tr>\n",
       "      <th>9</th>\n",
       "      <td>0.302711</td>\n",
       "      <td>-blast</td>\n",
       "    </tr>\n",
       "    <tr>\n",
       "      <th>10</th>\n",
       "      <td>0.831008</td>\n",
       "      <td>+blast</td>\n",
       "    </tr>\n",
       "    <tr>\n",
       "      <th>11</th>\n",
       "      <td>0.637241</td>\n",
       "      <td>+blast</td>\n",
       "    </tr>\n",
       "    <tr>\n",
       "      <th>12</th>\n",
       "      <td>0.946612</td>\n",
       "      <td>+blast</td>\n",
       "    </tr>\n",
       "    <tr>\n",
       "      <th>13</th>\n",
       "      <td>0.788679</td>\n",
       "      <td>+blast</td>\n",
       "    </tr>\n",
       "    <tr>\n",
       "      <th>14</th>\n",
       "      <td>0.660300</td>\n",
       "      <td>+blast</td>\n",
       "    </tr>\n",
       "    <tr>\n",
       "      <th>15</th>\n",
       "      <td>0.809470</td>\n",
       "      <td>+blast</td>\n",
       "    </tr>\n",
       "    <tr>\n",
       "      <th>16</th>\n",
       "      <td>0.869688</td>\n",
       "      <td>+blast</td>\n",
       "    </tr>\n",
       "    <tr>\n",
       "      <th>17</th>\n",
       "      <td>0.787843</td>\n",
       "      <td>+blast</td>\n",
       "    </tr>\n",
       "    <tr>\n",
       "      <th>18</th>\n",
       "      <td>0.910314</td>\n",
       "      <td>+blast</td>\n",
       "    </tr>\n",
       "    <tr>\n",
       "      <th>19</th>\n",
       "      <td>0.801980</td>\n",
       "      <td>+blast</td>\n",
       "    </tr>\n",
       "  </tbody>\n",
       "</table>\n",
       "</div>"
      ],
      "text/plain": [
       "    ratio_pos  groups\n",
       "0    0.671772  -blast\n",
       "1    0.235474  -blast\n",
       "2    0.744713  -blast\n",
       "3    0.671441  -blast\n",
       "4    0.287152  -blast\n",
       "5    0.586357  -blast\n",
       "6    0.663912  -blast\n",
       "7    0.429020  -blast\n",
       "8    0.479491  -blast\n",
       "9    0.302711  -blast\n",
       "10   0.831008  +blast\n",
       "11   0.637241  +blast\n",
       "12   0.946612  +blast\n",
       "13   0.788679  +blast\n",
       "14   0.660300  +blast\n",
       "15   0.809470  +blast\n",
       "16   0.869688  +blast\n",
       "17   0.787843  +blast\n",
       "18   0.910314  +blast\n",
       "19   0.801980  +blast"
      ]
     },
     "execution_count": 48,
     "metadata": {},
     "output_type": "execute_result"
    }
   ],
   "source": [
    "df.reset_index(drop=True, inplace=True)\n",
    "df"
   ]
  },
  {
   "cell_type": "code",
   "execution_count": 49,
   "id": "5bea4686-605f-4486-8489-c15bd2193cee",
   "metadata": {},
   "outputs": [],
   "source": [
    "df['ratio_pos_percent'] = df['ratio_pos']*100"
   ]
  },
  {
   "cell_type": "code",
   "execution_count": 50,
   "id": "7f52fdbf-f1a1-41f9-abeb-b7a95840aaab",
   "metadata": {},
   "outputs": [
    {
     "data": {
      "text/html": [
       "<div>\n",
       "<style scoped>\n",
       "    .dataframe tbody tr th:only-of-type {\n",
       "        vertical-align: middle;\n",
       "    }\n",
       "\n",
       "    .dataframe tbody tr th {\n",
       "        vertical-align: top;\n",
       "    }\n",
       "\n",
       "    .dataframe thead th {\n",
       "        text-align: right;\n",
       "    }\n",
       "</style>\n",
       "<table border=\"1\" class=\"dataframe\">\n",
       "  <thead>\n",
       "    <tr style=\"text-align: right;\">\n",
       "      <th></th>\n",
       "      <th>count</th>\n",
       "      <th>mean</th>\n",
       "      <th>std</th>\n",
       "      <th>min</th>\n",
       "      <th>25%</th>\n",
       "      <th>50%</th>\n",
       "      <th>75%</th>\n",
       "      <th>max</th>\n",
       "    </tr>\n",
       "    <tr>\n",
       "      <th>groups</th>\n",
       "      <th></th>\n",
       "      <th></th>\n",
       "      <th></th>\n",
       "      <th></th>\n",
       "      <th></th>\n",
       "      <th></th>\n",
       "      <th></th>\n",
       "      <th></th>\n",
       "    </tr>\n",
       "  </thead>\n",
       "  <tbody>\n",
       "    <tr>\n",
       "      <th>+blast</th>\n",
       "      <td>10.0</td>\n",
       "      <td>80.431357</td>\n",
       "      <td>9.756598</td>\n",
       "      <td>63.724138</td>\n",
       "      <td>78.805181</td>\n",
       "      <td>80.572516</td>\n",
       "      <td>86.001823</td>\n",
       "      <td>94.661191</td>\n",
       "    </tr>\n",
       "    <tr>\n",
       "      <th>-blast</th>\n",
       "      <td>10.0</td>\n",
       "      <td>50.720426</td>\n",
       "      <td>18.626392</td>\n",
       "      <td>23.547401</td>\n",
       "      <td>33.428803</td>\n",
       "      <td>53.292392</td>\n",
       "      <td>66.955898</td>\n",
       "      <td>74.471299</td>\n",
       "    </tr>\n",
       "  </tbody>\n",
       "</table>\n",
       "</div>"
      ],
      "text/plain": [
       "        count       mean        std        min        25%        50%  \\\n",
       "groups                                                                 \n",
       "+blast   10.0  80.431357   9.756598  63.724138  78.805181  80.572516   \n",
       "-blast   10.0  50.720426  18.626392  23.547401  33.428803  53.292392   \n",
       "\n",
       "              75%        max  \n",
       "groups                        \n",
       "+blast  86.001823  94.661191  \n",
       "-blast  66.955898  74.471299  "
      ]
     },
     "execution_count": 50,
     "metadata": {},
     "output_type": "execute_result"
    }
   ],
   "source": [
    "df.groupby('groups').describe()['ratio_pos_percent']"
   ]
  },
  {
   "cell_type": "code",
   "execution_count": 43,
   "id": "bbd96679-37d4-4998-8383-b139fd03e155",
   "metadata": {},
   "outputs": [
    {
     "data": {
      "image/png": "[encoded data removed]",
      "text/plain": [
       "<Figure size 300x600 with 1 Axes>"
      ]
     },
     "metadata": {
      "needs_background": "light"
     },
     "output_type": "display_data"
    }
   ],
   "source": [
    "# Make plot for figure\n",
    "\n",
    "fig_width, fig_height = 1.0, 2.0 # inches\n",
    "line_width = .8\n",
    "output_prefix = '220601-X-188-blast-ratios'\n",
    "outputFigPath = '../jupyter_figures/' + output_prefix + '.svg'\n",
    "# outputFigPath = '../jupyter_figures/' + output_prefix + '.tif'\n",
    "\n",
    "fig = plt.figure(figsize=(fig_width,fig_height), dpi=300)\n",
    "ax = fig.add_axes([0.45, 0.15, 0.5, 0.8])\n",
    "\n",
    "sns.swarmplot(data = df,\n",
    "              x = 'groups', y = 'ratio_pos_percent',\n",
    "              color='#ff00ff',\n",
    "              size = 3\n",
    "             )\n",
    "sns.barplot(data = df,\n",
    "            x = 'groups', y = 'ratio_pos_percent',\n",
    "            ci = 'sd',\n",
    "            color=\".7\", # This a nicer looking lighter gray to my own taste\n",
    "            errwidth=.7, errcolor=\"k\", capsize=.2)\n",
    "\n",
    "change_bar_width(ax, .5)\n",
    "\n",
    "# rotate x tick labels if necessary\n",
    "x_labels = ax.get_xticklabels()\n",
    "ax.set_xticklabels(labels=x_labels, rotation=45, ha=\"right\")\n",
    "\n",
    "plt.xlabel(\"\")\n",
    "plt.ylabel(\"Transdued cells %\")\n",
    "plt.ylim([0,100])\n",
    "\n",
    "# ax.get_legend().remove()\n",
    "\n",
    "for o in fig.findobj():\n",
    "    o.set_clip_on(False)\n",
    "for o in ax.findobj():\n",
    "    o.set_clip_on(False)\n",
    "\n",
    "plt.savefig(outputFigPath)"
   ]
  },
  {
   "cell_type": "code",
   "execution_count": 29,
   "id": "24d7fc0d-17e8-4eba-bca1-dfea5829dde7",
   "metadata": {},
   "outputs": [
    {
     "name": "stdout",
     "output_type": "stream",
     "text": [
      "Summary of test:\n",
      "  Multiple Comparison of Means - Tukey HSD, FWER=0.05 \n",
      "=====================================================\n",
      "group1 group2 meandiff p-adj  lower    upper   reject\n",
      "-----------------------------------------------------\n",
      "+blast -blast -29.7109 0.001 -43.6806 -15.7412   True\n",
      "-----------------------------------------------------\n",
      "p values of all pair-wise tests:\n",
      " 0.001\n"
     ]
    },
    {
     "data": {
      "text/plain": [
       "<statsmodels.sandbox.stats.multicomp.TukeyHSDResults at 0x7fcb69d96700>"
      ]
     },
     "execution_count": 29,
     "metadata": {},
     "output_type": "execute_result"
    }
   ],
   "source": [
    "tukeyTest(df['ratio_pos_percent'], df['groups'])"
   ]
  },
  {
   "cell_type": "code",
   "execution_count": null,
   "id": "788cf6af-ddcb-419c-be15-5f7c1b8be9fc",
   "metadata": {},
   "outputs": [],
   "source": []
  }
 ],
 "metadata": {
  "kernelspec": {
   "display_name": "Python 3 (ipykernel)",
   "language": "python",
   "name": "python3"
  },
  "language_info": {
   "codemirror_mode": {
    "name": "ipython",
    "version": 3
   },
   "file_extension": ".py",
   "mimetype": "text/x-python",
   "name": "python",
   "nbconvert_exporter": "python",
   "pygments_lexer": "ipython3",
   "version": "3.9.5"
  }
 },
 "nbformat": 4,
 "nbformat_minor": 5
}
