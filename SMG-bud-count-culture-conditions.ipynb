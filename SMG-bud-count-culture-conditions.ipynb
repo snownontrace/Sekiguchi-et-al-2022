{
 "cells": [
  {
   "cell_type": "code",
   "execution_count": 1,
   "metadata": {},
   "outputs": [
    {
     "name": "stdout",
     "output_type": "stream",
     "text": [
      "mkdir: ../jupyter_figures: File exists\n"
     ]
    }
   ],
   "source": [
    "import sys, os, glob, warnings, logging\n",
    "import numpy as np\n",
    "import pandas as pd\n",
    "import matplotlib\n",
    "import matplotlib.pyplot as plt\n",
    "import seaborn as sns\n",
    "from sw_plotting import change_bar_width, plotCountBar\n",
    "from sw_utilities import tukeyTest, getCountDFbyPrefix\n",
    "\n",
    "# logging.basicConfig(stream=sys.stdout, format='%(asctime)s - %(levelname)s - %(message)s', level=logging.DEBUG)\n",
    "# logging.basicConfig(stream=sys.stdout, format='%(asctime)s - %(levelname)s - %(message)s', level=logging.INFO)\n",
    "logging.basicConfig(stream=sys.stdout, format='%(asctime)s - %(levelname)s - %(message)s', level=logging.ERROR)\n",
    "\n",
    "# ignore warnings\n",
    "warnings.filterwarnings('ignore')\n",
    "\n",
    "# plotting configuration\n",
    "font = {'family' : 'Arial',\n",
    "        'size'   : 7}\n",
    "matplotlib.rc('font', **font)\n",
    "plt.rcParams['svg.fonttype'] = 'none'\n",
    "\n",
    "# Make a folder if it is not already there to store exported figures\n",
    "!mkdir ../jupyter_figures\n"
   ]
  },
  {
   "cell_type": "code",
   "execution_count": 2,
   "metadata": {},
   "outputs": [
    {
     "data": {
      "text/html": [
       "<div>\n",
       "<style scoped>\n",
       "    .dataframe tbody tr th:only-of-type {\n",
       "        vertical-align: middle;\n",
       "    }\n",
       "\n",
       "    .dataframe tbody tr th {\n",
       "        vertical-align: top;\n",
       "    }\n",
       "\n",
       "    .dataframe thead th {\n",
       "        text-align: right;\n",
       "    }\n",
       "</style>\n",
       "<table border=\"1\" class=\"dataframe\">\n",
       "  <thead>\n",
       "    <tr style=\"text-align: right;\">\n",
       "      <th></th>\n",
       "      <th>file name</th>\n",
       "      <th>bud_number</th>\n",
       "      <th>culture_condition</th>\n",
       "      <th>replicate_id</th>\n",
       "    </tr>\n",
       "  </thead>\n",
       "  <tbody>\n",
       "    <tr>\n",
       "      <th>0</th>\n",
       "      <td>1_1_48h.JPG</td>\n",
       "      <td>14</td>\n",
       "      <td>FGF7_NRG1_ITS</td>\n",
       "      <td>1</td>\n",
       "    </tr>\n",
       "    <tr>\n",
       "      <th>1</th>\n",
       "      <td>1_2_48h.JPG</td>\n",
       "      <td>8</td>\n",
       "      <td>FGF7_NRG1_ITS</td>\n",
       "      <td>1</td>\n",
       "    </tr>\n",
       "    <tr>\n",
       "      <th>2</th>\n",
       "      <td>1_3_48h.JPG</td>\n",
       "      <td>10</td>\n",
       "      <td>FGF7_NRG1_ITS</td>\n",
       "      <td>1</td>\n",
       "    </tr>\n",
       "    <tr>\n",
       "      <th>3</th>\n",
       "      <td>1_4_48h.JPG</td>\n",
       "      <td>8</td>\n",
       "      <td>FGF7_NRG1_ITS</td>\n",
       "      <td>1</td>\n",
       "    </tr>\n",
       "    <tr>\n",
       "      <th>4</th>\n",
       "      <td>1_6_48h.JPG</td>\n",
       "      <td>8</td>\n",
       "      <td>FGF7_NRG1_ITS</td>\n",
       "      <td>1</td>\n",
       "    </tr>\n",
       "  </tbody>\n",
       "</table>\n",
       "</div>"
      ],
      "text/plain": [
       "     file name  bud_number culture_condition  replicate_id\n",
       "0  1_1_48h.JPG          14     FGF7_NRG1_ITS             1\n",
       "1  1_2_48h.JPG           8     FGF7_NRG1_ITS             1\n",
       "2  1_3_48h.JPG          10     FGF7_NRG1_ITS             1\n",
       "3  1_4_48h.JPG           8     FGF7_NRG1_ITS             1\n",
       "4  1_6_48h.JPG           8     FGF7_NRG1_ITS             1"
      ]
     },
     "execution_count": 2,
     "metadata": {},
     "output_type": "execute_result"
    }
   ],
   "source": [
    "# Read in the raw data sets to plot\n",
    "\n",
    "df = pd.read_csv('../data/culture-conditions-bud-count-and-images/culture-conditions-bud-count-Rei.csv')\n",
    "df.head()\n"
   ]
  },
  {
   "cell_type": "code",
   "execution_count": 3,
   "metadata": {
    "tags": []
   },
   "outputs": [
    {
     "data": {
      "image/png": "[encoded data removed]",
      "text/plain": [
       "<Figure size 420x360 with 1 Axes>"
      ]
     },
     "metadata": {
      "needs_background": "light"
     },
     "output_type": "display_data"
    }
   ],
   "source": [
    "# Make plot for figure\n",
    "\n",
    "fig_width, fig_height = 1.4, 1.2 # inches\n",
    "line_width = .8\n",
    "output_prefix = 'SMG-single-bud-culture-conditions'\n",
    "outputFigPath = '../jupyter_figures/' + output_prefix + '.svg'\n",
    "# outputFigPath = '../jupyter_figures/' + output_prefix + '.tif'\n",
    "\n",
    "fig = plt.figure(figsize=(fig_width,fig_height), dpi=300)\n",
    "ax = fig.add_axes([0.3, 0.14, 0.65, 0.81])\n",
    "\n",
    "# palette_dict = {'sg-Control': 'black', 'sg1-Itgb1': 'blue', 'sg2-Itgb1': 'red'}\n",
    "plotting_order = ['FGF7_NRG1_ITS', 'NRG1_ITS', 'FGF7_ITS', 'FGF7', 'medium_only']\n",
    "\n",
    "sns.swarmplot(data = df,\n",
    "              x = 'culture_condition', y = 'bud_number',\n",
    "              size = 2,\n",
    "              # hue = 'replicate_id',\n",
    "              color = 'k',\n",
    "              order = plotting_order,\n",
    "#               alpha = .5,\n",
    "#               palette = palette_dict,\n",
    "             )\n",
    "sns.barplot(data = df,\n",
    "            x = 'culture_condition', y = 'bud_number',\n",
    "            order = plotting_order,\n",
    "            color=\".7\", # This a nicer looking lighter gray to my own taste\n",
    "            errwidth=.7, errcolor=\"k\", capsize=.2, ci='sd')\n",
    "\n",
    "change_bar_width(ax, .5)\n",
    "\n",
    "y_max = 18\n",
    "plt.ylim([0,y_max])\n",
    "\n",
    "# rotate and customize x tick labels if necessary\n",
    "x_labels = [1, 2, 3, 4, 5]\n",
    "ax.set_xticklabels(labels=x_labels)\n",
    "# x_labels = ax.get_xticklabels()\n",
    "# ax.set_xticklabels(labels=x_labels, rotation=45, ha=\"right\")\n",
    "\n",
    "plt.xlabel(\"\")\n",
    "plt.ylabel(\"Bud number\")\n",
    "\n",
    "for o in fig.findobj():\n",
    "    o.set_clip_on(False)\n",
    "for o in ax.findobj():\n",
    "    o.set_clip_on(False)\n",
    "\n",
    "plt.savefig(outputFigPath)"
   ]
  },
  {
   "cell_type": "code",
   "execution_count": 4,
   "metadata": {},
   "outputs": [
    {
     "name": "stdout",
     "output_type": "stream",
     "text": [
      "Summary of test:\n",
      "         Multiple Comparison of Means - Tukey HSD, FWER=0.05        \n",
      "===================================================================\n",
      "    group1        group2    meandiff p-adj   lower    upper  reject\n",
      "-------------------------------------------------------------------\n",
      "         FGF7      FGF7_ITS   2.5303 0.0018   0.7425  4.3181   True\n",
      "         FGF7 FGF7_NRG1_ITS   3.7821  0.001   2.0675  5.4966   True\n",
      "         FGF7      NRG1_ITS  -4.8333  0.001  -6.4921 -3.1746   True\n",
      "         FGF7   medium_only  -4.8333  0.001  -6.6671 -2.9995   True\n",
      "     FGF7_ITS FGF7_NRG1_ITS   1.2517 0.2744  -0.5028  3.0063  False\n",
      "     FGF7_ITS      NRG1_ITS  -7.3636  0.001  -9.0637 -5.6635   True\n",
      "     FGF7_ITS   medium_only  -7.3636  0.001  -9.2349 -5.4923   True\n",
      "FGF7_NRG1_ITS      NRG1_ITS  -8.6154  0.001 -10.2383 -6.9925   True\n",
      "FGF7_NRG1_ITS   medium_only  -8.6154  0.001 -10.4168 -6.8139   True\n",
      "     NRG1_ITS   medium_only      0.0    0.9  -1.7485  1.7485  False\n",
      "-------------------------------------------------------------------\n",
      "p values of all pair-wise tests:\n",
      " [0.00175691 0.001      0.001      0.001      0.27436529 0.001\n",
      " 0.001      0.001      0.001      0.9       ]\n"
     ]
    },
    {
     "data": {
      "text/plain": [
       "<statsmodels.sandbox.stats.multicomp.TukeyHSDResults at 0x7fdc580f3b20>"
      ]
     },
     "execution_count": 4,
     "metadata": {},
     "output_type": "execute_result"
    }
   ],
   "source": [
    "tukeyTest(df.bud_number, df.culture_condition)"
   ]
  },
  {
   "cell_type": "code",
   "execution_count": 5,
   "metadata": {},
   "outputs": [
    {
     "name": "stdout",
     "output_type": "stream",
     "text": [
      "FGF7_NRG1_ITS n= 13\n",
      "FGF7_ITS n= 11\n",
      "NRG1_ITS n= 15\n",
      "FGF7 n= 12\n",
      "medium_only n= 10\n"
     ]
    }
   ],
   "source": [
    "for i in df.culture_condition.unique():\n",
    "    print(i, 'n=', len(df[df.culture_condition==i]))"
   ]
  },
  {
   "cell_type": "code",
   "execution_count": null,
   "metadata": {},
   "outputs": [],
   "source": []
  }
 ],
 "metadata": {
  "kernelspec": {
   "display_name": "Python 3 (ipykernel)",
   "language": "python",
   "name": "python3"
  },
  "language_info": {
   "codemirror_mode": {
    "name": "ipython",
    "version": 3
   },
   "file_extension": ".py",
   "mimetype": "text/x-python",
   "name": "python",
   "nbconvert_exporter": "python",
   "pygments_lexer": "ipython3",
   "version": "3.9.5"
  }
 },
 "nbformat": 4,
 "nbformat_minor": 4
}
