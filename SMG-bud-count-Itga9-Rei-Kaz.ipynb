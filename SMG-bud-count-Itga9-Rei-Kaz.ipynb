{
 "cells": [
  {
   "cell_type": "code",
   "execution_count": 1,
   "metadata": {},
   "outputs": [
    {
     "name": "stdout",
     "output_type": "stream",
     "text": [
      "mkdir: ../jupyter_figures: File exists\n"
     ]
    }
   ],
   "source": [
    "import sys, os, glob, warnings, logging\n",
    "import numpy as np\n",
    "import pandas as pd\n",
    "import matplotlib\n",
    "import matplotlib.pyplot as plt\n",
    "import seaborn as sns\n",
    "from sw_plotting import change_bar_width, plotCountBar\n",
    "from sw_utilities import tukeyTest, getCountDFbyPrefix, get_annotated_countDF\n",
    "\n",
    "# logging.basicConfig(stream=sys.stdout, format='%(asctime)s - %(levelname)s - %(message)s', level=logging.DEBUG)\n",
    "# logging.basicConfig(stream=sys.stdout, format='%(asctime)s - %(levelname)s - %(message)s', level=logging.INFO)\n",
    "logging.basicConfig(stream=sys.stdout, format='%(asctime)s - %(levelname)s - %(message)s', level=logging.ERROR)\n",
    "\n",
    "# ignore warnings\n",
    "warnings.filterwarnings('ignore')\n",
    "\n",
    "# plotting configuration\n",
    "font = {'family' : 'Arial',\n",
    "        'size'   : 7}\n",
    "matplotlib.rc('font', **font)\n",
    "plt.rcParams['svg.fonttype'] = 'none'\n",
    "\n",
    "# Make a folder if it is not already there to store exported figures\n",
    "!mkdir ../jupyter_figures\n"
   ]
  },
  {
   "cell_type": "code",
   "execution_count": 3,
   "metadata": {},
   "outputs": [],
   "source": [
    "# Read in the count data by Kaz\n",
    "\n",
    "datasetFolder = '../data/220509-30-for-bud-count-Kaz/sg-Itga9/'\n",
    "\n",
    "files = glob.glob(os.path.join(datasetFolder, '*fileNameRecord.txt'))\n",
    "\n",
    "datasetPrefixes = []\n",
    "for f in files:\n",
    "    datasetPrefixes.append('-'.join(os.path.basename(f).split('-')[:3]))\n",
    "\n",
    "sgRNAs = [\"sg-Control\"]*5 + [\"sg1-Itga9\"]*5 + [\"sg2-Itga9\"]*5 + [\"sg3-Itga9\"]*5\n",
    "dfs = []\n",
    "for datasetPrefix in datasetPrefixes:\n",
    "    dfs.append( get_annotated_countDF(datasetPrefix, datasetFolder, sgRNAs) )\n",
    "\n",
    "df = pd.concat(dfs)\n",
    "df.reset_index(drop=True, inplace=True)\n",
    "df_Kaz = df"
   ]
  },
  {
   "cell_type": "code",
   "execution_count": 4,
   "metadata": {},
   "outputs": [
    {
     "data": {
      "text/html": [
       "<div>\n",
       "<style scoped>\n",
       "    .dataframe tbody tr th:only-of-type {\n",
       "        vertical-align: middle;\n",
       "    }\n",
       "\n",
       "    .dataframe tbody tr th {\n",
       "        vertical-align: top;\n",
       "    }\n",
       "\n",
       "    .dataframe thead th {\n",
       "        text-align: right;\n",
       "    }\n",
       "</style>\n",
       "<table border=\"1\" class=\"dataframe\">\n",
       "  <thead>\n",
       "    <tr style=\"text-align: right;\">\n",
       "      <th></th>\n",
       "      <th>file_name</th>\n",
       "      <th>scrambled_file_name</th>\n",
       "      <th>counts</th>\n",
       "      <th>sample_id</th>\n",
       "      <th>sgRNA</th>\n",
       "      <th>time_d</th>\n",
       "      <th>groups</th>\n",
       "    </tr>\n",
       "  </thead>\n",
       "  <tbody>\n",
       "    <tr>\n",
       "      <th>0</th>\n",
       "      <td>Plate07152021_WellD02_ChannelMono_Seq0000.nd2</td>\n",
       "      <td>df9053302a6fc5ac6993d26f84e35e31.nd2</td>\n",
       "      <td>40</td>\n",
       "      <td>plateB_4_01</td>\n",
       "      <td>sg-Control</td>\n",
       "      <td>4</td>\n",
       "      <td>sg-Control_4</td>\n",
       "    </tr>\n",
       "    <tr>\n",
       "      <th>1</th>\n",
       "      <td>Plate07152021_WellD03_ChannelMono_Seq0001.nd2</td>\n",
       "      <td>b82eb17c7b93202d28e7cf9ebf1d7fbd.nd2</td>\n",
       "      <td>54</td>\n",
       "      <td>plateB_4_02</td>\n",
       "      <td>sg-Control</td>\n",
       "      <td>4</td>\n",
       "      <td>sg-Control_4</td>\n",
       "    </tr>\n",
       "    <tr>\n",
       "      <th>2</th>\n",
       "      <td>Plate07152021_WellD04_ChannelMono_Seq0002.nd2</td>\n",
       "      <td>7a825ba231a9ce2ee4b427c74905aac6.nd2</td>\n",
       "      <td>68</td>\n",
       "      <td>plateB_4_03</td>\n",
       "      <td>sg-Control</td>\n",
       "      <td>4</td>\n",
       "      <td>sg-Control_4</td>\n",
       "    </tr>\n",
       "    <tr>\n",
       "      <th>3</th>\n",
       "      <td>Plate07152021_WellD05_ChannelMono_Seq0003.nd2</td>\n",
       "      <td>f54179ba949d5b1d8089d6ee564d1beb.nd2</td>\n",
       "      <td>31</td>\n",
       "      <td>plateB_4_04</td>\n",
       "      <td>sg-Control</td>\n",
       "      <td>4</td>\n",
       "      <td>sg-Control_4</td>\n",
       "    </tr>\n",
       "    <tr>\n",
       "      <th>4</th>\n",
       "      <td>Plate07152021_WellD06_ChannelMono_Seq0004.nd2</td>\n",
       "      <td>208da9f7e03ed8da93dcbcd298b508e0.nd2</td>\n",
       "      <td>38</td>\n",
       "      <td>plateB_4_05</td>\n",
       "      <td>sg-Control</td>\n",
       "      <td>4</td>\n",
       "      <td>sg-Control_4</td>\n",
       "    </tr>\n",
       "  </tbody>\n",
       "</table>\n",
       "</div>"
      ],
      "text/plain": [
       "                                       file_name  \\\n",
       "0  Plate07152021_WellD02_ChannelMono_Seq0000.nd2   \n",
       "1  Plate07152021_WellD03_ChannelMono_Seq0001.nd2   \n",
       "2  Plate07152021_WellD04_ChannelMono_Seq0002.nd2   \n",
       "3  Plate07152021_WellD05_ChannelMono_Seq0003.nd2   \n",
       "4  Plate07152021_WellD06_ChannelMono_Seq0004.nd2   \n",
       "\n",
       "                    scrambled_file_name  counts    sample_id       sgRNA  \\\n",
       "0  df9053302a6fc5ac6993d26f84e35e31.nd2      40  plateB_4_01  sg-Control   \n",
       "1  b82eb17c7b93202d28e7cf9ebf1d7fbd.nd2      54  plateB_4_02  sg-Control   \n",
       "2  7a825ba231a9ce2ee4b427c74905aac6.nd2      68  plateB_4_03  sg-Control   \n",
       "3  f54179ba949d5b1d8089d6ee564d1beb.nd2      31  plateB_4_04  sg-Control   \n",
       "4  208da9f7e03ed8da93dcbcd298b508e0.nd2      38  plateB_4_05  sg-Control   \n",
       "\n",
       "   time_d        groups  \n",
       "0       4  sg-Control_4  \n",
       "1       4  sg-Control_4  \n",
       "2       4  sg-Control_4  \n",
       "3       4  sg-Control_4  \n",
       "4       4  sg-Control_4  "
      ]
     },
     "execution_count": 4,
     "metadata": {},
     "output_type": "execute_result"
    }
   ],
   "source": [
    "df_Kaz.head()"
   ]
  },
  {
   "cell_type": "code",
   "execution_count": 6,
   "metadata": {},
   "outputs": [],
   "source": [
    "# Read in the count data by Rei\n",
    "\n",
    "datasetFolder = '../data/220509-30-for-bud-count-Rei/sg-Itga9/'\n",
    "\n",
    "files = glob.glob(os.path.join(datasetFolder, '*fileNameRecord.txt'))\n",
    "\n",
    "datasetPrefixes = []\n",
    "for f in files:\n",
    "    datasetPrefixes.append('-'.join(os.path.basename(f).split('-')[:3]))\n",
    "\n",
    "sgRNAs = [\"sg-Control\"]*5 + [\"sg1-Itga9\"]*5 + [\"sg2-Itga9\"]*5 + [\"sg3-Itga9\"]*5\n",
    "dfs = []\n",
    "for datasetPrefix in datasetPrefixes:\n",
    "    dfs.append( get_annotated_countDF(datasetPrefix, datasetFolder, sgRNAs) )\n",
    "\n",
    "df = pd.concat(dfs)\n",
    "df.reset_index(drop=True, inplace=True)\n",
    "df_Rei = df"
   ]
  },
  {
   "cell_type": "code",
   "execution_count": 7,
   "metadata": {},
   "outputs": [
    {
     "data": {
      "text/html": [
       "<div>\n",
       "<style scoped>\n",
       "    .dataframe tbody tr th:only-of-type {\n",
       "        vertical-align: middle;\n",
       "    }\n",
       "\n",
       "    .dataframe tbody tr th {\n",
       "        vertical-align: top;\n",
       "    }\n",
       "\n",
       "    .dataframe thead th {\n",
       "        text-align: right;\n",
       "    }\n",
       "</style>\n",
       "<table border=\"1\" class=\"dataframe\">\n",
       "  <thead>\n",
       "    <tr style=\"text-align: right;\">\n",
       "      <th></th>\n",
       "      <th>file_name</th>\n",
       "      <th>scrambled_file_name</th>\n",
       "      <th>counts_Kaz</th>\n",
       "      <th>sample_id</th>\n",
       "      <th>sgRNA</th>\n",
       "      <th>time_d</th>\n",
       "      <th>groups</th>\n",
       "      <th>counts_Rei</th>\n",
       "    </tr>\n",
       "  </thead>\n",
       "  <tbody>\n",
       "    <tr>\n",
       "      <th>0</th>\n",
       "      <td>Plate07152021_WellD02_ChannelMono_Seq0000.nd2</td>\n",
       "      <td>df9053302a6fc5ac6993d26f84e35e31.nd2</td>\n",
       "      <td>40</td>\n",
       "      <td>plateB_4_01</td>\n",
       "      <td>sg-Control</td>\n",
       "      <td>4</td>\n",
       "      <td>sg-Control_4</td>\n",
       "      <td>18</td>\n",
       "    </tr>\n",
       "    <tr>\n",
       "      <th>1</th>\n",
       "      <td>Plate07152021_WellD03_ChannelMono_Seq0001.nd2</td>\n",
       "      <td>b82eb17c7b93202d28e7cf9ebf1d7fbd.nd2</td>\n",
       "      <td>54</td>\n",
       "      <td>plateB_4_02</td>\n",
       "      <td>sg-Control</td>\n",
       "      <td>4</td>\n",
       "      <td>sg-Control_4</td>\n",
       "      <td>28</td>\n",
       "    </tr>\n",
       "    <tr>\n",
       "      <th>2</th>\n",
       "      <td>Plate07152021_WellD04_ChannelMono_Seq0002.nd2</td>\n",
       "      <td>7a825ba231a9ce2ee4b427c74905aac6.nd2</td>\n",
       "      <td>68</td>\n",
       "      <td>plateB_4_03</td>\n",
       "      <td>sg-Control</td>\n",
       "      <td>4</td>\n",
       "      <td>sg-Control_4</td>\n",
       "      <td>39</td>\n",
       "    </tr>\n",
       "    <tr>\n",
       "      <th>3</th>\n",
       "      <td>Plate07152021_WellD05_ChannelMono_Seq0003.nd2</td>\n",
       "      <td>f54179ba949d5b1d8089d6ee564d1beb.nd2</td>\n",
       "      <td>31</td>\n",
       "      <td>plateB_4_04</td>\n",
       "      <td>sg-Control</td>\n",
       "      <td>4</td>\n",
       "      <td>sg-Control_4</td>\n",
       "      <td>17</td>\n",
       "    </tr>\n",
       "    <tr>\n",
       "      <th>4</th>\n",
       "      <td>Plate07152021_WellD06_ChannelMono_Seq0004.nd2</td>\n",
       "      <td>208da9f7e03ed8da93dcbcd298b508e0.nd2</td>\n",
       "      <td>38</td>\n",
       "      <td>plateB_4_05</td>\n",
       "      <td>sg-Control</td>\n",
       "      <td>4</td>\n",
       "      <td>sg-Control_4</td>\n",
       "      <td>30</td>\n",
       "    </tr>\n",
       "  </tbody>\n",
       "</table>\n",
       "</div>"
      ],
      "text/plain": [
       "                                       file_name  \\\n",
       "0  Plate07152021_WellD02_ChannelMono_Seq0000.nd2   \n",
       "1  Plate07152021_WellD03_ChannelMono_Seq0001.nd2   \n",
       "2  Plate07152021_WellD04_ChannelMono_Seq0002.nd2   \n",
       "3  Plate07152021_WellD05_ChannelMono_Seq0003.nd2   \n",
       "4  Plate07152021_WellD06_ChannelMono_Seq0004.nd2   \n",
       "\n",
       "                    scrambled_file_name  counts_Kaz    sample_id       sgRNA  \\\n",
       "0  df9053302a6fc5ac6993d26f84e35e31.nd2          40  plateB_4_01  sg-Control   \n",
       "1  b82eb17c7b93202d28e7cf9ebf1d7fbd.nd2          54  plateB_4_02  sg-Control   \n",
       "2  7a825ba231a9ce2ee4b427c74905aac6.nd2          68  plateB_4_03  sg-Control   \n",
       "3  f54179ba949d5b1d8089d6ee564d1beb.nd2          31  plateB_4_04  sg-Control   \n",
       "4  208da9f7e03ed8da93dcbcd298b508e0.nd2          38  plateB_4_05  sg-Control   \n",
       "\n",
       "   time_d        groups  counts_Rei  \n",
       "0       4  sg-Control_4          18  \n",
       "1       4  sg-Control_4          28  \n",
       "2       4  sg-Control_4          39  \n",
       "3       4  sg-Control_4          17  \n",
       "4       4  sg-Control_4          30  "
      ]
     },
     "execution_count": 7,
     "metadata": {},
     "output_type": "execute_result"
    }
   ],
   "source": [
    "# Merge the two data set and compare the countings of Rei and Kaz\n",
    "df_Kaz.rename(columns={'counts': 'counts_Kaz'}, inplace=True)\n",
    "df_Rei.rename(columns={'counts': 'counts_Rei'}, inplace=True)\n",
    "df = df_Kaz.merge(df_Rei, on=['file_name',\n",
    "                              'scrambled_file_name',\n",
    "                              'sample_id',\n",
    "                              'sgRNA',\n",
    "                              'time_d',\n",
    "                              'groups'])\n",
    "df.head()"
   ]
  },
  {
   "cell_type": "code",
   "execution_count": 15,
   "metadata": {},
   "outputs": [],
   "source": [
    "# exclude the samples where the sample is outside\n",
    "# the field of view or severely off-focus\n",
    "samples_to_exclue = ['plateB_4_14', # outside imaging field\n",
    "                     'plateC_4_08', # dead\n",
    "                    ]\n",
    "df = df[~df.sample_id.isin(samples_to_exclue)]"
   ]
  },
  {
   "cell_type": "code",
   "execution_count": 16,
   "metadata": {},
   "outputs": [],
   "source": [
    "# calculate average counting data\n",
    "df['counts'] = (df['counts_Rei'] + df['counts_Kaz']) / 2"
   ]
  },
  {
   "cell_type": "code",
   "execution_count": 27,
   "metadata": {},
   "outputs": [
    {
     "data": {
      "image/png": "[encoded data removed]",
      "text/plain": [
       "<Figure size 240x360 with 1 Axes>"
      ]
     },
     "metadata": {
      "needs_background": "light"
     },
     "output_type": "display_data"
    }
   ],
   "source": [
    "# Make plot for figure\n",
    "\n",
    "fig_width, fig_height = 0.8, 1.2 # inches\n",
    "\n",
    "line_width = .8\n",
    "output_prefix = '220516-plateBCE-E13-d4-sg-Itga9'\n",
    "outputFigPath = '../jupyter_figures/' + output_prefix + '.svg'\n",
    "# outputFigPath = '../jupyter_figures/' + output_prefix + '.tif'\n",
    "\n",
    "fig = plt.figure(figsize=(fig_width,fig_height), dpi=300)\n",
    "# ax = fig.add_axes([0.28, 0.35, 0.67, 0.6])\n",
    "ax = fig.add_axes([0.1, 0.1, 0.8, 0.8])\n",
    "\n",
    "sns.swarmplot(data = df,\n",
    "              x = 'sgRNA', y = 'counts',\n",
    "              color = 'blue',\n",
    "              alpha = 0.3,\n",
    "              size = 1.5\n",
    "             )\n",
    "sns.barplot(data = df,\n",
    "            x = 'sgRNA', y = 'counts',\n",
    "            ci = 'sd',\n",
    "            color=\".7\", # This a nicer looking lighter gray to my own taste\n",
    "            errwidth=.7, errcolor=\"k\", capsize=.2)\n",
    "\n",
    "plt.ylim(0, 64)\n",
    "change_bar_width(ax, .5)\n",
    "\n",
    "# rotate x tick labels if necessary\n",
    "x_labels = ax.get_xticklabels()\n",
    "ax.set_xticklabels(labels=x_labels, rotation=45, ha=\"right\")\n",
    "\n",
    "plt.xlabel(\"\")\n",
    "plt.ylabel(\"Bud count\")\n",
    "\n",
    "# ax.get_legend().remove()\n",
    "\n",
    "for o in fig.findobj():\n",
    "    o.set_clip_on(False)\n",
    "for o in ax.findobj():\n",
    "    o.set_clip_on(False)\n",
    "\n",
    "plt.savefig(outputFigPath)"
   ]
  },
  {
   "cell_type": "code",
   "execution_count": 18,
   "metadata": {},
   "outputs": [
    {
     "name": "stdout",
     "output_type": "stream",
     "text": [
      "Summary of test:\n",
      "     Multiple Comparison of Means - Tukey HSD, FWER=0.05     \n",
      "============================================================\n",
      "  group1     group2  meandiff p-adj   lower    upper  reject\n",
      "------------------------------------------------------------\n",
      "sg-Control sg1-Itga9  -7.7714  0.132 -17.0718   1.529  False\n",
      "sg-Control sg2-Itga9  -8.1643 0.1046 -17.4647  1.1361  False\n",
      "sg-Control sg3-Itga9  -6.5667 0.2381 -15.7053   2.572  False\n",
      " sg1-Itga9 sg2-Itga9  -0.3929    0.9  -9.8522  9.0665  False\n",
      " sg1-Itga9 sg3-Itga9   1.2048    0.9  -8.0956 10.5051  False\n",
      " sg2-Itga9 sg3-Itga9   1.5976    0.9  -7.7028  10.898  False\n",
      "------------------------------------------------------------\n",
      "p values of all pair-wise tests:\n",
      " [0.13198167 0.10457461 0.23813352 0.9        0.9        0.9       ]\n"
     ]
    },
    {
     "data": {
      "text/plain": [
       "<statsmodels.sandbox.stats.multicomp.TukeyHSDResults at 0x7fb56a70bca0>"
      ]
     },
     "execution_count": 18,
     "metadata": {},
     "output_type": "execute_result"
    }
   ],
   "source": [
    "tukeyTest(df.counts, df.sgRNA)"
   ]
  },
  {
   "cell_type": "code",
   "execution_count": 19,
   "metadata": {},
   "outputs": [
    {
     "name": "stdout",
     "output_type": "stream",
     "text": [
      "sg-Control n = 15\n",
      "sg1-Itga9 n = 14\n",
      "sg2-Itga9 n = 14\n",
      "sg3-Itga9 n = 15\n"
     ]
    }
   ],
   "source": [
    "for i in df.sgRNA.unique():\n",
    "    print(i, 'n =', len(df[df.sgRNA==i]))"
   ]
  },
  {
   "cell_type": "code",
   "execution_count": null,
   "metadata": {},
   "outputs": [],
   "source": []
  }
 ],
 "metadata": {
  "kernelspec": {
   "display_name": "Python 3 (ipykernel)",
   "language": "python",
   "name": "python3"
  },
  "language_info": {
   "codemirror_mode": {
    "name": "ipython",
    "version": 3
   },
   "file_extension": ".py",
   "mimetype": "text/x-python",
   "name": "python",
   "nbconvert_exporter": "python",
   "pygments_lexer": "ipython3",
   "version": "3.9.5"
  }
 },
 "nbformat": 4,
 "nbformat_minor": 4
}
