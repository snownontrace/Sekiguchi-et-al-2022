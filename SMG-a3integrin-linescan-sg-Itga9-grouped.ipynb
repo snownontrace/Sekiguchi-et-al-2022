{
 "cells": [
  {
   "cell_type": "code",
   "execution_count": 1,
   "metadata": {},
   "outputs": [
    {
     "name": "stdout",
     "output_type": "stream",
     "text": [
      "mkdir: ../jupyter_figures: File exists\n"
     ]
    }
   ],
   "source": [
    "import sys, os, glob, warnings, logging\n",
    "import numpy as np\n",
    "import pandas as pd\n",
    "import matplotlib\n",
    "import matplotlib.pyplot as plt\n",
    "import seaborn as sns\n",
    "from scipy import stats\n",
    "from sw_plotting import change_bar_width\n",
    "from sw_utilities import tukeyTest\n",
    "\n",
    "# logging.basicConfig(stream=sys.stdout, format='%(asctime)s - %(levelname)s - %(message)s', level=logging.DEBUG)\n",
    "logging.basicConfig(stream=sys.stdout, format='%(asctime)s - %(levelname)s - %(message)s', level=logging.INFO)\n",
    "\n",
    "# ignore warnings\n",
    "warnings.filterwarnings('ignore')\n",
    "\n",
    "# plotting configuration\n",
    "font = {'family' : 'Arial',\n",
    "        'size'   : 7}\n",
    "matplotlib.rc('font', **font)\n",
    "plt.rcParams['svg.fonttype'] = 'none'\n",
    "\n",
    "# Make a folder if it is not already there to store exported figures\n",
    "!mkdir ../jupyter_figures\n"
   ]
  },
  {
   "cell_type": "code",
   "execution_count": 2,
   "metadata": {},
   "outputs": [],
   "source": [
    "def get_linescan_data(folder, sgRNA, time_d, n_edges=5):\n",
    "    '''\n",
    "    Read in linescan data and annotate with meta data\n",
    "    \n",
    "    Inputs:\n",
    "    -------\n",
    "        - folder: the folder that contains the linescan output csv file\n",
    "        - sgRNA: which sgRNA was used for the treatment of this group\n",
    "        - time_d: how many days after culture the samples were collected\n",
    "        - n_edges: how many edges were quantified per sample\n",
    "        \n",
    "    Outputs:\n",
    "        - df: pandas data frame with linescan data and annotation data\n",
    "        \n",
    "    '''\n",
    "    \n",
    "    linescan_files = glob.glob(os.path.join(folder, '*.txt'))\n",
    "\n",
    "    if len(linescan_files) > 1:\n",
    "        print('There are more than 1 output file in', folder)\n",
    "        print('The newest one will be used.')\n",
    "        linescan_files = sorted(linescan_files,\n",
    "                                key = os.path.getmtime)\n",
    "        \n",
    "    df = pd.read_csv(linescan_files[-1])\n",
    "    \n",
    "    # annotate data\n",
    "    assert len(df) % 5 == 0\n",
    "    n_organoids = int(len(df) / 5)\n",
    "    \n",
    "    sample_ids = []\n",
    "    organoid_ids = []\n",
    "    for i in range(n_organoids):\n",
    "        for j in range(n_edges):\n",
    "            sample_ids.append(sgRNA + '_' + str(i+1))\n",
    "            organoid_ids.append( str(i+1) )\n",
    "    \n",
    "    df['sample_id'] = sample_ids\n",
    "    df['organoid_id'] = organoid_ids\n",
    "    df['sgRNA'] = [sgRNA]*len(df)\n",
    "    df['time_d'] = time_d\n",
    "    df['groups'] = [sgRNA + '_' + str(time_d)]*len(df)\n",
    "    \n",
    "    return df"
   ]
  },
  {
   "cell_type": "code",
   "execution_count": 3,
   "metadata": {},
   "outputs": [],
   "source": [
    "input_folder = '../data/220606-a3int-IF'\n",
    "folders = glob.glob(os.path.join(input_folder, '*line-scan-output' + os.path.sep))"
   ]
  },
  {
   "cell_type": "code",
   "execution_count": 4,
   "metadata": {},
   "outputs": [],
   "source": [
    "dfs = []\n",
    "for folder in folders:\n",
    "    if folder.endswith(os.path.sep):\n",
    "        folder = folder[:-1]\n",
    "    sgRNA = os.path.basename(folder).split('-')[1]\n",
    "    time_d = 4\n",
    "    dfs.append(get_linescan_data(folder, sgRNA, time_d, n_edges=5))"
   ]
  },
  {
   "cell_type": "code",
   "execution_count": 5,
   "metadata": {},
   "outputs": [],
   "source": [
    "df = pd.concat(dfs)\n",
    "df.reset_index(drop=True, inplace=True)"
   ]
  },
  {
   "cell_type": "code",
   "execution_count": 6,
   "metadata": {},
   "outputs": [
    {
     "data": {
      "text/html": [
       "<div>\n",
       "<style scoped>\n",
       "    .dataframe tbody tr th:only-of-type {\n",
       "        vertical-align: middle;\n",
       "    }\n",
       "\n",
       "    .dataframe tbody tr th {\n",
       "        vertical-align: top;\n",
       "    }\n",
       "\n",
       "    .dataframe thead th {\n",
       "        text-align: right;\n",
       "    }\n",
       "</style>\n",
       "<table border=\"1\" class=\"dataframe\">\n",
       "  <thead>\n",
       "    <tr style=\"text-align: right;\">\n",
       "      <th></th>\n",
       "      <th>file_name</th>\n",
       "      <th>edge_category</th>\n",
       "      <th>id</th>\n",
       "      <th>a3int_AUC</th>\n",
       "      <th>a3int_peak_height</th>\n",
       "      <th>NLSmSL_cell_1</th>\n",
       "      <th>NLSmSL_cell_2</th>\n",
       "      <th>z_position</th>\n",
       "      <th>sample_id</th>\n",
       "      <th>organoid_id</th>\n",
       "      <th>sgRNA</th>\n",
       "      <th>time_d</th>\n",
       "      <th>groups</th>\n",
       "    </tr>\n",
       "  </thead>\n",
       "  <tbody>\n",
       "    <tr>\n",
       "      <th>80</th>\n",
       "      <td>4</td>\n",
       "      <td>High_High</td>\n",
       "      <td>1</td>\n",
       "      <td>1614.4828</td>\n",
       "      <td>434.1611</td>\n",
       "      <td>100.2405</td>\n",
       "      <td>141.9268</td>\n",
       "      <td>1</td>\n",
       "      <td>319_4</td>\n",
       "      <td>4</td>\n",
       "      <td>319</td>\n",
       "      <td>4</td>\n",
       "      <td>319_4</td>\n",
       "    </tr>\n",
       "    <tr>\n",
       "      <th>81</th>\n",
       "      <td>4</td>\n",
       "      <td>High_High</td>\n",
       "      <td>2</td>\n",
       "      <td>-183.6052</td>\n",
       "      <td>168.7956</td>\n",
       "      <td>161.0382</td>\n",
       "      <td>352.6743</td>\n",
       "      <td>1</td>\n",
       "      <td>319_4</td>\n",
       "      <td>4</td>\n",
       "      <td>319</td>\n",
       "      <td>4</td>\n",
       "      <td>319_4</td>\n",
       "    </tr>\n",
       "    <tr>\n",
       "      <th>82</th>\n",
       "      <td>4</td>\n",
       "      <td>High_High</td>\n",
       "      <td>3</td>\n",
       "      <td>843.5868</td>\n",
       "      <td>295.6452</td>\n",
       "      <td>227.1358</td>\n",
       "      <td>260.8445</td>\n",
       "      <td>1</td>\n",
       "      <td>319_4</td>\n",
       "      <td>4</td>\n",
       "      <td>319</td>\n",
       "      <td>4</td>\n",
       "      <td>319_4</td>\n",
       "    </tr>\n",
       "    <tr>\n",
       "      <th>83</th>\n",
       "      <td>4</td>\n",
       "      <td>High_High</td>\n",
       "      <td>4</td>\n",
       "      <td>1728.4787</td>\n",
       "      <td>235.3561</td>\n",
       "      <td>426.1702</td>\n",
       "      <td>309.2403</td>\n",
       "      <td>1</td>\n",
       "      <td>319_4</td>\n",
       "      <td>4</td>\n",
       "      <td>319</td>\n",
       "      <td>4</td>\n",
       "      <td>319_4</td>\n",
       "    </tr>\n",
       "    <tr>\n",
       "      <th>84</th>\n",
       "      <td>4</td>\n",
       "      <td>High_High</td>\n",
       "      <td>5</td>\n",
       "      <td>4775.3020</td>\n",
       "      <td>761.2314</td>\n",
       "      <td>256.4160</td>\n",
       "      <td>226.0904</td>\n",
       "      <td>1</td>\n",
       "      <td>319_4</td>\n",
       "      <td>4</td>\n",
       "      <td>319</td>\n",
       "      <td>4</td>\n",
       "      <td>319_4</td>\n",
       "    </tr>\n",
       "  </tbody>\n",
       "</table>\n",
       "</div>"
      ],
      "text/plain": [
       "    file_name edge_category  id  a3int_AUC  a3int_peak_height  NLSmSL_cell_1  \\\n",
       "80          4     High_High   1  1614.4828           434.1611       100.2405   \n",
       "81          4     High_High   2  -183.6052           168.7956       161.0382   \n",
       "82          4     High_High   3   843.5868           295.6452       227.1358   \n",
       "83          4     High_High   4  1728.4787           235.3561       426.1702   \n",
       "84          4     High_High   5  4775.3020           761.2314       256.4160   \n",
       "\n",
       "    NLSmSL_cell_2  z_position sample_id organoid_id sgRNA  time_d groups  \n",
       "80       141.9268           1     319_4           4   319       4  319_4  \n",
       "81       352.6743           1     319_4           4   319       4  319_4  \n",
       "82       260.8445           1     319_4           4   319       4  319_4  \n",
       "83       309.2403           1     319_4           4   319       4  319_4  \n",
       "84       226.0904           1     319_4           4   319       4  319_4  "
      ]
     },
     "execution_count": 6,
     "metadata": {},
     "output_type": "execute_result"
    }
   ],
   "source": [
    "df.tail()"
   ]
  },
  {
   "cell_type": "code",
   "execution_count": 7,
   "metadata": {},
   "outputs": [],
   "source": [
    "# # normalize to the average of control\n",
    "# ctrl_average = df[df.sgRNA=='188'].a3int_peak_height.mean()\n",
    "# df['a3int_normed'] = df['a3int_peak_height'] / ctrl_average"
   ]
  },
  {
   "cell_type": "code",
   "execution_count": 9,
   "metadata": {},
   "outputs": [],
   "source": [
    "df_grouped = df.groupby('sample_id').describe()['a3int_peak_height'].reset_index()\n",
    "df_grouped['sgRNA'] = [i[:-2] for i in df_grouped.sample_id]"
   ]
  },
  {
   "cell_type": "code",
   "execution_count": 10,
   "metadata": {},
   "outputs": [],
   "source": [
    "ctrl_average = df_grouped[df.sgRNA=='188']['mean'].mean()\n",
    "df_grouped['a3int_normed'] = df_grouped['mean'] / ctrl_average "
   ]
  },
  {
   "cell_type": "code",
   "execution_count": 12,
   "metadata": {},
   "outputs": [],
   "source": [
    "# normalize to the average of control\n",
    "# ctrl_average = df[df.sgRNA=='188'].a6int_peak_height.mean()\n",
    "df['a3int_normed'] = df['a3int_peak_height'] / ctrl_average"
   ]
  },
  {
   "cell_type": "code",
   "execution_count": 14,
   "metadata": {},
   "outputs": [
    {
     "data": {
      "image/png": "[encoded data removed]",
      "text/plain": [
       "<Figure size 360x540 with 1 Axes>"
      ]
     },
     "metadata": {
      "needs_background": "light"
     },
     "output_type": "display_data"
    }
   ],
   "source": [
    "# Swarm plot of 4 categories\n",
    "\n",
    "outputPrefix = '220606-IF-a3-integrin-sg-Itga9-d4-grouped-bar-swarm'\n",
    "outputFigPath = \"../jupyter_figures/\" + outputPrefix + \".svg\"\n",
    "\n",
    "fig_width = 1.2\n",
    "fig_height = 1.8\n",
    "\n",
    "fig = plt.figure(figsize=(fig_width,fig_height), dpi=300)\n",
    "# ax = fig.add_axes([0.1, 0.1, 0.8, 0.8])\n",
    "ax = fig.add_axes([0.35, 0.4, 0.6, 0.55])\n",
    "\n",
    "ax = sns.swarmplot(x='sgRNA', y='a3int_normed', data=df,\n",
    "                   hue='organoid_id',\n",
    "#                    palette={'1': 'red', '2': 'green', '3': 'blue', '4': yellow', '5': 'purple'},\n",
    "                   # color=\"blue\",\n",
    "                   alpha=0.5,\n",
    "                   size=1.0 )\n",
    "\n",
    "ax = sns.barplot(x='sgRNA', y='a3int_normed', data=df_grouped,\n",
    "                 color=\".7\", alpha=1.0,\n",
    "                 errwidth=.7, errcolor=\"k\", capsize=.2, ci='sd')\n",
    "\n",
    "# plt.ylim(0, 1.7)\n",
    "# plt.ylim(0, 2.7)\n",
    "# plt.yticks([0, 3, 6])\n",
    "\n",
    "plt.xlabel(None)\n",
    "# plt.ylabel(r\"$\\beta$1-integrin intensity\")\n",
    "plt.ylabel('ITGA3 intensity')\n",
    "\n",
    "# make the bar width narrower\n",
    "change_bar_width(ax, .5)\n",
    "\n",
    "# rotate x tick labels\n",
    "# x_labels = ax.get_xticklabels()\n",
    "x_labels = ['sg-Control', 'sg1-Itga9', 'sg2-Itga9', 'sg3-Itga9']\n",
    "ax.set_xticklabels(labels=x_labels, rotation=45, ha=\"right\")\n",
    "\n",
    "ax.get_legend().remove()\n",
    "\n",
    "for o in fig.findobj():\n",
    "    o.set_clip_on(False)\n",
    "for o in ax.findobj():\n",
    "    o.set_clip_on(False)\n",
    "\n",
    "if outputFigPath is not None:\n",
    "    plt.savefig(outputFigPath)\n"
   ]
  },
  {
   "cell_type": "code",
   "execution_count": 16,
   "metadata": {},
   "outputs": [
    {
     "name": "stdout",
     "output_type": "stream",
     "text": [
      "Summary of test:\n",
      " Multiple Comparison of Means - Tukey HSD, FWER=0.05 \n",
      "====================================================\n",
      "group1 group2 meandiff p-adj   lower   upper  reject\n",
      "----------------------------------------------------\n",
      "   188    317  -0.4081 0.0064 -0.7268 -0.0894   True\n",
      "   188    318  -0.1418 0.6321 -0.4605  0.1769  False\n",
      "   188    319  -0.4331 0.0034 -0.7518 -0.1144   True\n",
      "   317    318   0.2663 0.1687 -0.0696  0.6023  False\n",
      "   317    319   -0.025    0.9 -0.3609   0.311  False\n",
      "   318    319  -0.2913 0.1127 -0.6272  0.0446  False\n",
      "----------------------------------------------------\n",
      "p values of all pair-wise tests:\n",
      " [0.00643324 0.63213169 0.00337872 0.16866405 0.9        0.11271531]\n"
     ]
    },
    {
     "data": {
      "text/plain": [
       "<statsmodels.sandbox.stats.multicomp.TukeyHSDResults at 0x7fcb1a3a79a0>"
      ]
     },
     "execution_count": 16,
     "metadata": {},
     "output_type": "execute_result"
    }
   ],
   "source": [
    "tukeyTest(df.a3int_normed, df.sgRNA)"
   ]
  },
  {
   "cell_type": "code",
   "execution_count": 17,
   "metadata": {},
   "outputs": [
    {
     "name": "stdout",
     "output_type": "stream",
     "text": [
      "Summary of test:\n",
      " Multiple Comparison of Means - Tukey HSD, FWER=0.05 \n",
      "====================================================\n",
      "group1 group2 meandiff p-adj   lower   upper  reject\n",
      "----------------------------------------------------\n",
      "   188    317  -0.4081 0.0512 -0.8181  0.0019  False\n",
      "   188    318  -0.1418 0.7259 -0.5518  0.2682  False\n",
      "   188    319  -0.4331 0.0372  -0.843 -0.0231   True\n",
      "   317    318   0.2663 0.3129 -0.1658  0.6985  False\n",
      "   317    319   -0.025    0.9 -0.4571  0.4072  False\n",
      "   318    319  -0.2913 0.2452 -0.7234  0.1409  False\n",
      "----------------------------------------------------\n",
      "p values of all pair-wise tests:\n",
      " [0.05121097 0.72586557 0.03716786 0.31286335 0.9        0.24518577]\n"
     ]
    },
    {
     "data": {
      "text/plain": [
       "<statsmodels.sandbox.stats.multicomp.TukeyHSDResults at 0x7fcb1a337100>"
      ]
     },
     "execution_count": 17,
     "metadata": {},
     "output_type": "execute_result"
    }
   ],
   "source": [
    "tukeyTest(df_grouped.a3int_normed, df_grouped.sgRNA)"
   ]
  },
  {
   "cell_type": "code",
   "execution_count": 16,
   "metadata": {},
   "outputs": [
    {
     "name": "stdout",
     "output_type": "stream",
     "text": [
      "188 n = 25\n",
      "317 n = 20\n",
      "318 n = 20\n",
      "319 n = 20\n"
     ]
    }
   ],
   "source": [
    "for i in df.sgRNA.unique():\n",
    "    print(i, 'n =', len(df[df.sgRNA==i]))"
   ]
  },
  {
   "cell_type": "code",
   "execution_count": null,
   "metadata": {},
   "outputs": [],
   "source": []
  }
 ],
 "metadata": {
  "kernelspec": {
   "display_name": "Python 3 (ipykernel)",
   "language": "python",
   "name": "python3"
  },
  "language_info": {
   "codemirror_mode": {
    "name": "ipython",
    "version": 3
   },
   "file_extension": ".py",
   "mimetype": "text/x-python",
   "name": "python",
   "nbconvert_exporter": "python",
   "pygments_lexer": "ipython3",
   "version": "3.9.5"
  }
 },
 "nbformat": 4,
 "nbformat_minor": 4
}
