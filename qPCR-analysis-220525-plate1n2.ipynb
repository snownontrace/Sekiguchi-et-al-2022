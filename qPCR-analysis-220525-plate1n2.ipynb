{
 "cells": [
  {
   "cell_type": "code",
   "execution_count": 10,
   "id": "ec1f6d73-3ad7-4908-89d5-2f7ca6735fbf",
   "metadata": {},
   "outputs": [
    {
     "name": "stdout",
     "output_type": "stream",
     "text": [
      "mkdir: ../jupyter_figures: File exists\n"
     ]
    }
   ],
   "source": [
    "import sys, os, glob, warnings, logging\n",
    "import string\n",
    "import numpy as np\n",
    "import pandas as pd\n",
    "import matplotlib\n",
    "import matplotlib.pyplot as plt\n",
    "import seaborn as sns\n",
    "from scipy import stats\n",
    "from sw_plotting import change_bar_width\n",
    "from sw_utilities import tukeyTest\n",
    "\n",
    "logging.basicConfig(stream=sys.stdout, format='%(asctime)s - %(levelname)s - %(message)s', level=logging.ERROR)\n",
    "# logging.basicConfig(stream=sys.stdout, format='%(asctime)s - %(levelname)s - %(message)s', level=logging.INFO)\n",
    "# logging.basicConfig(stream=sys.stdout, format='%(asctime)s - %(levelname)s - %(message)s', level=logging.DEBUG)\n",
    "\n",
    "# ignore warnings\n",
    "warnings.filterwarnings('ignore')\n",
    "\n",
    "# plotting configuration\n",
    "font = {'family' : 'Arial',\n",
    "        'size'   : 7}\n",
    "matplotlib.rc('font', **font)\n",
    "plt.rcParams['svg.fonttype'] = 'none'\n",
    "\n",
    "# Make a folder if it is not already there to store exported figures\n",
    "!mkdir ../jupyter_figures\n"
   ]
  },
  {
   "cell_type": "code",
   "execution_count": 25,
   "id": "f561ed82-2192-4426-8adf-df14b0d35732",
   "metadata": {},
   "outputs": [],
   "source": [
    "def layout_to_annotation(plate_id,\n",
    "                         data_folder='../data/qPCR-data',\n",
    "                         template_layout_file=None,\n",
    "                         primer_layout_file=None):\n",
    "    '''\n",
    "    '''\n",
    "    if template_layout_file is None:\n",
    "        template_layout_files = glob.glob(os.path.join(data_folder, '*'+plate_id+'*template*layout*.csv'))\n",
    "        assert len(template_layout_files) == 1\n",
    "        template_layout_file = template_layout_files[0]\n",
    "    \n",
    "    if primer_layout_file is None:\n",
    "        primer_layout_files = glob.glob(os.path.join(data_folder, '*'+plate_id+'*primer*layout*.csv'))\n",
    "        assert len(primer_layout_files) == 1\n",
    "        primer_layout_file = primer_layout_files[0]\n",
    "    \n",
    "    # Extract template information\n",
    "    with open(template_layout_file, 'r') as f:\n",
    "        lines = f.readlines()\n",
    "    assert lines[0].startswith('template')\n",
    "    \n",
    "    template_list = []\n",
    "    for line in lines[1:]:\n",
    "        temp = line.strip().split(',')\n",
    "        assert len(temp) == 13\n",
    "        template_list = template_list + temp[1:]\n",
    "\n",
    "    assert len(template_list) == 96\n",
    "    \n",
    "    # Extract primer information\n",
    "    with open(primer_layout_file, 'r') as f:\n",
    "        lines = f.readlines()\n",
    "    assert lines[0].startswith('primer')\n",
    "    \n",
    "    primer_list = []\n",
    "    for line in lines[1:]:\n",
    "        temp = line.strip().split(',')\n",
    "        assert len(temp) == 13\n",
    "        primer_list = primer_list + temp[1:]\n",
    "\n",
    "    assert len(primer_list) == 96\n",
    "    \n",
    "    wells = []\n",
    "    for i in string.ascii_uppercase[:8]:\n",
    "        for j in range(1,13):\n",
    "            wells.append(i+'{:02d}'.format(j))\n",
    "    \n",
    "    annotation_file = os.path.join(data_folder, plate_id+'-annotation.csv')\n",
    "    with open(annotation_file, 'w') as f:\n",
    "        f.write(','.join(['Well', 'Sample', 'Primer']) + '\\n')\n",
    "        for i in range(96):\n",
    "            f.write(','.join([wells[i], template_list[i], primer_list[i]]) + '\\n')"
   ]
  },
  {
   "cell_type": "code",
   "execution_count": 29,
   "id": "29cf1fd1-af0b-460f-ab20-94cf83041b6e",
   "metadata": {},
   "outputs": [],
   "source": [
    "def get_plate_data(plate_id, data_folder='../data/qPCR-data'):\n",
    "    ''' Given a plate id:\n",
    "          1. Locate the annotation csv file and the quantification Cq results csv file\n",
    "          2. Extract useful data, merge and return the data frame\n",
    "    '''\n",
    "    layout_to_annotation(plate_id)\n",
    "    annotation_files = glob.glob(os.path.join(data_folder, '*'+plate_id+'*annotation.csv'))\n",
    "    assert len(annotation_files) == 1\n",
    "    annotation_file = annotation_files[0]\n",
    "    \n",
    "    exported_csv_folders = glob.glob(os.path.join(data_folder, '*'+plate_id+'*'+os.path.sep))\n",
    "    assert len(exported_csv_folders) == 1\n",
    "    exported_csv_folder = exported_csv_folders[0]\n",
    "    \n",
    "    data_files = glob.glob(os.path.join(exported_csv_folder, '*Quantification Cq Results.csv'))\n",
    "    assert len(data_files) == 1\n",
    "    data_file = data_files[0]\n",
    "    \n",
    "    df = pd.read_csv(annotation_file)\n",
    "    df_annotation = df[['Well', 'Sample', 'Primer']]\n",
    "    \n",
    "    df = pd.read_csv(data_file)\n",
    "    df_data = df[['Well', 'Cq']]\n",
    "    \n",
    "    df = df_annotation.merge(df_data, on='Well')\n",
    "    df.dropna(inplace=True)\n",
    "    \n",
    "    return df\n",
    "\n",
    "def get_expression_data(df, test_primer, ref_primer='Rps29 v1'):\n",
    "    ''' From the data frame containing qPCR data and annotation, \n",
    "        calculate average values of replicates and deltaCq values of each sample\n",
    "        \n",
    "    '''\n",
    "    for i in ['Well', 'Sample', 'Primer', 'Cq']:\n",
    "        assert i in df.columns\n",
    "    \n",
    "    df_ref = df[df.Primer==ref_primer]\n",
    "    df_ref.rename(columns={'Cq': 'Cq_ref'}, inplace=True)\n",
    "    \n",
    "    df_test = df[df.Primer==test_primer]\n",
    "    df_test.rename(columns={'Cq': 'Cq_test'}, inplace=True)\n",
    "    \n",
    "    # calculate average values of technical replicates\n",
    "    df_ref_mean = df_ref.groupby('Sample').mean()\n",
    "    df_ref_mean.reset_index(inplace=True)\n",
    "    \n",
    "    df_test_mean = df_test.groupby('Sample').mean()\n",
    "    df_test_mean.reset_index(inplace=True)\n",
    "    \n",
    "    df = df_ref_mean.merge(df_test_mean, on='Sample')\n",
    "    df['deltaCq'] = df.Cq_test - df.Cq_ref\n",
    "    df['relExp'] = 2**(-df.deltaCq)\n",
    "    df['Group'] = [df.Sample[i][:-2] for i in range(len(df))]\n",
    "    \n",
    "    return df\n"
   ]
  },
  {
   "cell_type": "code",
   "execution_count": 30,
   "id": "efcf0422-23ad-4b71-b55b-26a6719ed5a0",
   "metadata": {},
   "outputs": [],
   "source": [
    "# Read in both plate 1 and 2 data\n",
    "df_plate1 = get_plate_data('20220525-plate1')\n",
    "df_plate2 = get_plate_data('20220525-plate2')"
   ]
  },
  {
   "cell_type": "code",
   "execution_count": 31,
   "id": "4a33278c-da84-40cb-aec5-68f7e58deaa7",
   "metadata": {},
   "outputs": [],
   "source": [
    "# Concatenate the data (stacking up and down)\n",
    "df = pd.concat([df_plate1, df_plate2])\n",
    "df.reset_index(inplace=True, drop=True)"
   ]
  },
  {
   "cell_type": "code",
   "execution_count": 32,
   "id": "f9906e3e-cd0e-4837-aba8-23a2c5d37064",
   "metadata": {},
   "outputs": [
    {
     "data": {
      "text/html": [
       "<div>\n",
       "<style scoped>\n",
       "    .dataframe tbody tr th:only-of-type {\n",
       "        vertical-align: middle;\n",
       "    }\n",
       "\n",
       "    .dataframe tbody tr th {\n",
       "        vertical-align: top;\n",
       "    }\n",
       "\n",
       "    .dataframe thead th {\n",
       "        text-align: right;\n",
       "    }\n",
       "</style>\n",
       "<table border=\"1\" class=\"dataframe\">\n",
       "  <thead>\n",
       "    <tr style=\"text-align: right;\">\n",
       "      <th></th>\n",
       "      <th>Well</th>\n",
       "      <th>Sample</th>\n",
       "      <th>Primer</th>\n",
       "      <th>Cq</th>\n",
       "    </tr>\n",
       "  </thead>\n",
       "  <tbody>\n",
       "    <tr>\n",
       "      <th>0</th>\n",
       "      <td>A01</td>\n",
       "      <td>B-188-1</td>\n",
       "      <td>Rps29 v1</td>\n",
       "      <td>22.365004</td>\n",
       "    </tr>\n",
       "    <tr>\n",
       "      <th>1</th>\n",
       "      <td>A02</td>\n",
       "      <td>B-188-1</td>\n",
       "      <td>Rps29 v1</td>\n",
       "      <td>22.255025</td>\n",
       "    </tr>\n",
       "    <tr>\n",
       "      <th>2</th>\n",
       "      <td>A03</td>\n",
       "      <td>B-188-1</td>\n",
       "      <td>Rps29 v1</td>\n",
       "      <td>22.269795</td>\n",
       "    </tr>\n",
       "    <tr>\n",
       "      <th>3</th>\n",
       "      <td>A04</td>\n",
       "      <td>B-188-1</td>\n",
       "      <td>Itga9 sg1 v1</td>\n",
       "      <td>30.422193</td>\n",
       "    </tr>\n",
       "    <tr>\n",
       "      <th>4</th>\n",
       "      <td>A05</td>\n",
       "      <td>B-188-1</td>\n",
       "      <td>Itga9 sg1 v1</td>\n",
       "      <td>30.570743</td>\n",
       "    </tr>\n",
       "    <tr>\n",
       "      <th>...</th>\n",
       "      <td>...</td>\n",
       "      <td>...</td>\n",
       "      <td>...</td>\n",
       "      <td>...</td>\n",
       "    </tr>\n",
       "    <tr>\n",
       "      <th>145</th>\n",
       "      <td>H07</td>\n",
       "      <td>B-319-1</td>\n",
       "      <td>Itga9 sg3 v2</td>\n",
       "      <td>33.991596</td>\n",
       "    </tr>\n",
       "    <tr>\n",
       "      <th>146</th>\n",
       "      <td>H08</td>\n",
       "      <td>B-319-2</td>\n",
       "      <td>Itga9 sg3 v2</td>\n",
       "      <td>34.287464</td>\n",
       "    </tr>\n",
       "    <tr>\n",
       "      <th>147</th>\n",
       "      <td>H09</td>\n",
       "      <td>B-319-3</td>\n",
       "      <td>Itga9 sg3 v2</td>\n",
       "      <td>34.444428</td>\n",
       "    </tr>\n",
       "    <tr>\n",
       "      <th>148</th>\n",
       "      <td>H10</td>\n",
       "      <td>B-319-4</td>\n",
       "      <td>Itga9 sg3 v2</td>\n",
       "      <td>36.009095</td>\n",
       "    </tr>\n",
       "    <tr>\n",
       "      <th>149</th>\n",
       "      <td>H11</td>\n",
       "      <td>B-319-5</td>\n",
       "      <td>Itga9 sg3 v2</td>\n",
       "      <td>37.797811</td>\n",
       "    </tr>\n",
       "  </tbody>\n",
       "</table>\n",
       "<p>150 rows × 4 columns</p>\n",
       "</div>"
      ],
      "text/plain": [
       "    Well   Sample        Primer         Cq\n",
       "0    A01  B-188-1      Rps29 v1  22.365004\n",
       "1    A02  B-188-1      Rps29 v1  22.255025\n",
       "2    A03  B-188-1      Rps29 v1  22.269795\n",
       "3    A04  B-188-1  Itga9 sg1 v1  30.422193\n",
       "4    A05  B-188-1  Itga9 sg1 v1  30.570743\n",
       "..   ...      ...           ...        ...\n",
       "145  H07  B-319-1  Itga9 sg3 v2  33.991596\n",
       "146  H08  B-319-2  Itga9 sg3 v2  34.287464\n",
       "147  H09  B-319-3  Itga9 sg3 v2  34.444428\n",
       "148  H10  B-319-4  Itga9 sg3 v2  36.009095\n",
       "149  H11  B-319-5  Itga9 sg3 v2  37.797811\n",
       "\n",
       "[150 rows x 4 columns]"
      ]
     },
     "execution_count": 32,
     "metadata": {},
     "output_type": "execute_result"
    }
   ],
   "source": [
    "df"
   ]
  },
  {
   "cell_type": "code",
   "execution_count": 33,
   "id": "c4c82282-37d7-48e3-870c-7a0f420f172f",
   "metadata": {},
   "outputs": [],
   "source": [
    "df_sg1 = get_expression_data(df, 'Itga9 sg1 v1')"
   ]
  },
  {
   "cell_type": "code",
   "execution_count": 34,
   "id": "697fd19e-be65-4465-847c-fe2eed124674",
   "metadata": {},
   "outputs": [
    {
     "data": {
      "text/html": [
       "<div>\n",
       "<style scoped>\n",
       "    .dataframe tbody tr th:only-of-type {\n",
       "        vertical-align: middle;\n",
       "    }\n",
       "\n",
       "    .dataframe tbody tr th {\n",
       "        vertical-align: top;\n",
       "    }\n",
       "\n",
       "    .dataframe thead th {\n",
       "        text-align: right;\n",
       "    }\n",
       "</style>\n",
       "<table border=\"1\" class=\"dataframe\">\n",
       "  <thead>\n",
       "    <tr style=\"text-align: right;\">\n",
       "      <th></th>\n",
       "      <th>Sample</th>\n",
       "      <th>Cq_ref</th>\n",
       "      <th>Cq_test</th>\n",
       "      <th>deltaCq</th>\n",
       "      <th>relExp</th>\n",
       "      <th>Group</th>\n",
       "    </tr>\n",
       "  </thead>\n",
       "  <tbody>\n",
       "    <tr>\n",
       "      <th>0</th>\n",
       "      <td>B-188-1</td>\n",
       "      <td>22.296608</td>\n",
       "      <td>30.482439</td>\n",
       "      <td>8.185831</td>\n",
       "      <td>0.003434</td>\n",
       "      <td>B-188</td>\n",
       "    </tr>\n",
       "    <tr>\n",
       "      <th>1</th>\n",
       "      <td>B-188-2</td>\n",
       "      <td>19.685096</td>\n",
       "      <td>28.442445</td>\n",
       "      <td>8.757349</td>\n",
       "      <td>0.002311</td>\n",
       "      <td>B-188</td>\n",
       "    </tr>\n",
       "    <tr>\n",
       "      <th>2</th>\n",
       "      <td>B-188-3</td>\n",
       "      <td>19.329868</td>\n",
       "      <td>27.929631</td>\n",
       "      <td>8.599764</td>\n",
       "      <td>0.002578</td>\n",
       "      <td>B-188</td>\n",
       "    </tr>\n",
       "    <tr>\n",
       "      <th>3</th>\n",
       "      <td>B-188-4</td>\n",
       "      <td>20.838192</td>\n",
       "      <td>28.543398</td>\n",
       "      <td>7.705205</td>\n",
       "      <td>0.004792</td>\n",
       "      <td>B-188</td>\n",
       "    </tr>\n",
       "    <tr>\n",
       "      <th>4</th>\n",
       "      <td>B-188-5</td>\n",
       "      <td>20.293072</td>\n",
       "      <td>28.970089</td>\n",
       "      <td>8.677016</td>\n",
       "      <td>0.002443</td>\n",
       "      <td>B-188</td>\n",
       "    </tr>\n",
       "    <tr>\n",
       "      <th>5</th>\n",
       "      <td>B-317-1</td>\n",
       "      <td>22.139458</td>\n",
       "      <td>31.110888</td>\n",
       "      <td>8.971430</td>\n",
       "      <td>0.001992</td>\n",
       "      <td>B-317</td>\n",
       "    </tr>\n",
       "    <tr>\n",
       "      <th>6</th>\n",
       "      <td>B-317-2</td>\n",
       "      <td>19.743959</td>\n",
       "      <td>28.762788</td>\n",
       "      <td>9.018830</td>\n",
       "      <td>0.001928</td>\n",
       "      <td>B-317</td>\n",
       "    </tr>\n",
       "    <tr>\n",
       "      <th>7</th>\n",
       "      <td>B-317-3</td>\n",
       "      <td>20.788395</td>\n",
       "      <td>28.016689</td>\n",
       "      <td>7.228294</td>\n",
       "      <td>0.006669</td>\n",
       "      <td>B-317</td>\n",
       "    </tr>\n",
       "    <tr>\n",
       "      <th>8</th>\n",
       "      <td>B-317-4</td>\n",
       "      <td>20.320073</td>\n",
       "      <td>27.917217</td>\n",
       "      <td>7.597144</td>\n",
       "      <td>0.005165</td>\n",
       "      <td>B-317</td>\n",
       "    </tr>\n",
       "    <tr>\n",
       "      <th>9</th>\n",
       "      <td>B-317-5</td>\n",
       "      <td>19.854365</td>\n",
       "      <td>28.056246</td>\n",
       "      <td>8.201881</td>\n",
       "      <td>0.003396</td>\n",
       "      <td>B-317</td>\n",
       "    </tr>\n",
       "  </tbody>\n",
       "</table>\n",
       "</div>"
      ],
      "text/plain": [
       "    Sample     Cq_ref    Cq_test   deltaCq    relExp  Group\n",
       "0  B-188-1  22.296608  30.482439  8.185831  0.003434  B-188\n",
       "1  B-188-2  19.685096  28.442445  8.757349  0.002311  B-188\n",
       "2  B-188-3  19.329868  27.929631  8.599764  0.002578  B-188\n",
       "3  B-188-4  20.838192  28.543398  7.705205  0.004792  B-188\n",
       "4  B-188-5  20.293072  28.970089  8.677016  0.002443  B-188\n",
       "5  B-317-1  22.139458  31.110888  8.971430  0.001992  B-317\n",
       "6  B-317-2  19.743959  28.762788  9.018830  0.001928  B-317\n",
       "7  B-317-3  20.788395  28.016689  7.228294  0.006669  B-317\n",
       "8  B-317-4  20.320073  27.917217  7.597144  0.005165  B-317\n",
       "9  B-317-5  19.854365  28.056246  8.201881  0.003396  B-317"
      ]
     },
     "execution_count": 34,
     "metadata": {},
     "output_type": "execute_result"
    }
   ],
   "source": [
    "df_sg1"
   ]
  },
  {
   "cell_type": "code",
   "execution_count": 35,
   "id": "4b470502-bb83-4815-97e9-a9dd204d42ef",
   "metadata": {},
   "outputs": [
    {
     "data": {
      "text/plain": [
       "<AxesSubplot:xlabel='Group', ylabel='relExp'>"
      ]
     },
     "execution_count": 35,
     "metadata": {},
     "output_type": "execute_result"
    },
    {
     "data": {
      "image/png": "[encoded data removed]",
      "text/plain": [
       "<Figure size 432x288 with 1 Axes>"
      ]
     },
     "metadata": {
      "needs_background": "light"
     },
     "output_type": "display_data"
    }
   ],
   "source": [
    "sns.barplot(data=df_sg1, x='Group', y='relExp')"
   ]
  },
  {
   "cell_type": "code",
   "execution_count": 36,
   "id": "b96876ad-46e2-446c-8b58-5947c1b37e2e",
   "metadata": {},
   "outputs": [
    {
     "data": {
      "text/plain": [
       "<AxesSubplot:xlabel='Group', ylabel='relExp'>"
      ]
     },
     "execution_count": 36,
     "metadata": {},
     "output_type": "execute_result"
    },
    {
     "data": {
      "image/png": "[encoded data removed]",
      "text/plain": [
       "<Figure size 432x288 with 1 Axes>"
      ]
     },
     "metadata": {
      "needs_background": "light"
     },
     "output_type": "display_data"
    }
   ],
   "source": [
    "sns.scatterplot(data=df_sg1, x='Group', y='relExp')"
   ]
  },
  {
   "cell_type": "code",
   "execution_count": 37,
   "id": "b6c69dab-e451-4279-9b6f-bf2f39fc6943",
   "metadata": {},
   "outputs": [],
   "source": [
    "df_sg2 = get_expression_data(df, 'Itga9 sg2 v2')"
   ]
  },
  {
   "cell_type": "code",
   "execution_count": 38,
   "id": "2be6a5c6-2e38-43d4-860e-c0236f6253de",
   "metadata": {},
   "outputs": [
    {
     "data": {
      "text/html": [
       "<div>\n",
       "<style scoped>\n",
       "    .dataframe tbody tr th:only-of-type {\n",
       "        vertical-align: middle;\n",
       "    }\n",
       "\n",
       "    .dataframe tbody tr th {\n",
       "        vertical-align: top;\n",
       "    }\n",
       "\n",
       "    .dataframe thead th {\n",
       "        text-align: right;\n",
       "    }\n",
       "</style>\n",
       "<table border=\"1\" class=\"dataframe\">\n",
       "  <thead>\n",
       "    <tr style=\"text-align: right;\">\n",
       "      <th></th>\n",
       "      <th>Sample</th>\n",
       "      <th>Cq_ref</th>\n",
       "      <th>Cq_test</th>\n",
       "      <th>deltaCq</th>\n",
       "      <th>relExp</th>\n",
       "      <th>Group</th>\n",
       "    </tr>\n",
       "  </thead>\n",
       "  <tbody>\n",
       "    <tr>\n",
       "      <th>0</th>\n",
       "      <td>B-188-1</td>\n",
       "      <td>22.296608</td>\n",
       "      <td>35.959532</td>\n",
       "      <td>13.662924</td>\n",
       "      <td>0.000077</td>\n",
       "      <td>B-188</td>\n",
       "    </tr>\n",
       "    <tr>\n",
       "      <th>1</th>\n",
       "      <td>B-188-2</td>\n",
       "      <td>19.685096</td>\n",
       "      <td>34.736312</td>\n",
       "      <td>15.051216</td>\n",
       "      <td>0.000029</td>\n",
       "      <td>B-188</td>\n",
       "    </tr>\n",
       "    <tr>\n",
       "      <th>2</th>\n",
       "      <td>B-188-3</td>\n",
       "      <td>19.329868</td>\n",
       "      <td>34.833278</td>\n",
       "      <td>15.503410</td>\n",
       "      <td>0.000022</td>\n",
       "      <td>B-188</td>\n",
       "    </tr>\n",
       "    <tr>\n",
       "      <th>3</th>\n",
       "      <td>B-188-4</td>\n",
       "      <td>20.838192</td>\n",
       "      <td>34.498038</td>\n",
       "      <td>13.659846</td>\n",
       "      <td>0.000077</td>\n",
       "      <td>B-188</td>\n",
       "    </tr>\n",
       "    <tr>\n",
       "      <th>4</th>\n",
       "      <td>B-188-5</td>\n",
       "      <td>20.293072</td>\n",
       "      <td>35.893704</td>\n",
       "      <td>15.600631</td>\n",
       "      <td>0.000020</td>\n",
       "      <td>B-188</td>\n",
       "    </tr>\n",
       "    <tr>\n",
       "      <th>5</th>\n",
       "      <td>B-318-1</td>\n",
       "      <td>22.519284</td>\n",
       "      <td>34.588696</td>\n",
       "      <td>12.069412</td>\n",
       "      <td>0.000233</td>\n",
       "      <td>B-318</td>\n",
       "    </tr>\n",
       "    <tr>\n",
       "      <th>6</th>\n",
       "      <td>B-318-2</td>\n",
       "      <td>20.849718</td>\n",
       "      <td>34.355151</td>\n",
       "      <td>13.505434</td>\n",
       "      <td>0.000086</td>\n",
       "      <td>B-318</td>\n",
       "    </tr>\n",
       "    <tr>\n",
       "      <th>7</th>\n",
       "      <td>B-318-3</td>\n",
       "      <td>20.775141</td>\n",
       "      <td>35.867548</td>\n",
       "      <td>15.092407</td>\n",
       "      <td>0.000029</td>\n",
       "      <td>B-318</td>\n",
       "    </tr>\n",
       "    <tr>\n",
       "      <th>8</th>\n",
       "      <td>B-318-4</td>\n",
       "      <td>19.641979</td>\n",
       "      <td>33.940019</td>\n",
       "      <td>14.298040</td>\n",
       "      <td>0.000050</td>\n",
       "      <td>B-318</td>\n",
       "    </tr>\n",
       "    <tr>\n",
       "      <th>9</th>\n",
       "      <td>B-318-5</td>\n",
       "      <td>20.237146</td>\n",
       "      <td>35.166236</td>\n",
       "      <td>14.929090</td>\n",
       "      <td>0.000032</td>\n",
       "      <td>B-318</td>\n",
       "    </tr>\n",
       "  </tbody>\n",
       "</table>\n",
       "</div>"
      ],
      "text/plain": [
       "    Sample     Cq_ref    Cq_test    deltaCq    relExp  Group\n",
       "0  B-188-1  22.296608  35.959532  13.662924  0.000077  B-188\n",
       "1  B-188-2  19.685096  34.736312  15.051216  0.000029  B-188\n",
       "2  B-188-3  19.329868  34.833278  15.503410  0.000022  B-188\n",
       "3  B-188-4  20.838192  34.498038  13.659846  0.000077  B-188\n",
       "4  B-188-5  20.293072  35.893704  15.600631  0.000020  B-188\n",
       "5  B-318-1  22.519284  34.588696  12.069412  0.000233  B-318\n",
       "6  B-318-2  20.849718  34.355151  13.505434  0.000086  B-318\n",
       "7  B-318-3  20.775141  35.867548  15.092407  0.000029  B-318\n",
       "8  B-318-4  19.641979  33.940019  14.298040  0.000050  B-318\n",
       "9  B-318-5  20.237146  35.166236  14.929090  0.000032  B-318"
      ]
     },
     "execution_count": 38,
     "metadata": {},
     "output_type": "execute_result"
    }
   ],
   "source": [
    "df_sg2"
   ]
  },
  {
   "cell_type": "code",
   "execution_count": 39,
   "id": "67053bf4-dc70-423b-beab-9025898c0df9",
   "metadata": {
    "tags": []
   },
   "outputs": [
    {
     "data": {
      "text/plain": [
       "<AxesSubplot:xlabel='Group', ylabel='relExp'>"
      ]
     },
     "execution_count": 39,
     "metadata": {},
     "output_type": "execute_result"
    },
    {
     "data": {
      "image/png": "[encoded data removed]",
      "text/plain": [
       "<Figure size 432x288 with 1 Axes>"
      ]
     },
     "metadata": {
      "needs_background": "light"
     },
     "output_type": "display_data"
    }
   ],
   "source": [
    "sns.barplot(data=df_sg2, x='Group', y='relExp')"
   ]
  },
  {
   "cell_type": "code",
   "execution_count": 40,
   "id": "9c68a898-c7f6-47ab-9684-32ff9fc44529",
   "metadata": {},
   "outputs": [
    {
     "data": {
      "text/plain": [
       "<AxesSubplot:xlabel='Group', ylabel='relExp'>"
      ]
     },
     "execution_count": 40,
     "metadata": {},
     "output_type": "execute_result"
    },
    {
     "data": {
      "image/png": "[encoded data removed]",
      "text/plain": [
       "<Figure size 432x288 with 1 Axes>"
      ]
     },
     "metadata": {
      "needs_background": "light"
     },
     "output_type": "display_data"
    }
   ],
   "source": [
    "sns.scatterplot(data=df_sg2, x='Group', y='relExp')"
   ]
  },
  {
   "cell_type": "code",
   "execution_count": 41,
   "id": "e33bb47a-22d2-4c9b-b4a7-82f96edaf06e",
   "metadata": {},
   "outputs": [],
   "source": [
    "df_Itgb1 = get_expression_data(df, 'Itga9 sg3 v2')"
   ]
  },
  {
   "cell_type": "code",
   "execution_count": 42,
   "id": "fa52bedc-2de0-4bfd-84c6-311510d8ea91",
   "metadata": {},
   "outputs": [
    {
     "data": {
      "text/plain": [
       "<AxesSubplot:xlabel='Group', ylabel='relExp'>"
      ]
     },
     "execution_count": 42,
     "metadata": {},
     "output_type": "execute_result"
    },
    {
     "data": {
      "image/png": "[encoded data removed]",
      "text/plain": [
       "<Figure size 432x288 with 1 Axes>"
      ]
     },
     "metadata": {
      "needs_background": "light"
     },
     "output_type": "display_data"
    }
   ],
   "source": [
    "sns.barplot(data=df_Itgb1, x='Group', y='relExp')"
   ]
  },
  {
   "cell_type": "code",
   "execution_count": 44,
   "id": "30609e94-6208-4e91-8aad-f173f72cf360",
   "metadata": {},
   "outputs": [
    {
     "data": {
      "image/png": "[encoded data removed]",
      "text/plain": [
       "<Figure size 432x288 with 1 Axes>"
      ]
     },
     "metadata": {
      "needs_background": "light"
     },
     "output_type": "display_data"
    }
   ],
   "source": [
    "ax=sns.scatterplot(data=df_Itgb1, x='Group', y='relExp')"
   ]
  },
  {
   "cell_type": "code",
   "execution_count": null,
   "id": "290aa8ee-5268-4e3b-9673-2c2f8d0ee91e",
   "metadata": {},
   "outputs": [],
   "source": []
  }
 ],
 "metadata": {
  "kernelspec": {
   "display_name": "Python 3 (ipykernel)",
   "language": "python",
   "name": "python3"
  },
  "language_info": {
   "codemirror_mode": {
    "name": "ipython",
    "version": 3
   },
   "file_extension": ".py",
   "mimetype": "text/x-python",
   "name": "python",
   "nbconvert_exporter": "python",
   "pygments_lexer": "ipython3",
   "version": "3.9.5"
  }
 },
 "nbformat": 4,
 "nbformat_minor": 5
}
