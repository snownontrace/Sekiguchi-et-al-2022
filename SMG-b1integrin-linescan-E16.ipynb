{
 "cells": [
  {
   "cell_type": "code",
   "execution_count": 1,
   "metadata": {},
   "outputs": [
    {
     "name": "stdout",
     "output_type": "stream",
     "text": [
      "mkdir: ../jupyter_figures: File exists\n"
     ]
    }
   ],
   "source": [
    "import sys, os, glob, warnings, logging\n",
    "import numpy as np\n",
    "import pandas as pd\n",
    "import matplotlib\n",
    "import matplotlib.pyplot as plt\n",
    "import seaborn as sns\n",
    "from scipy import stats\n",
    "from sw_plotting import change_bar_width\n",
    "from sw_utilities import tukeyTest\n",
    "\n",
    "# logging.basicConfig(stream=sys.stdout, format='%(asctime)s - %(levelname)s - %(message)s', level=logging.DEBUG)\n",
    "logging.basicConfig(stream=sys.stdout, format='%(asctime)s - %(levelname)s - %(message)s', level=logging.INFO)\n",
    "\n",
    "# ignore warnings\n",
    "warnings.filterwarnings('ignore')\n",
    "\n",
    "# plotting configuration\n",
    "font = {'family' : 'Arial',\n",
    "        'size'   : 7}\n",
    "matplotlib.rc('font', **font)\n",
    "plt.rcParams['svg.fonttype'] = 'none'\n",
    "\n",
    "# Make a folder if it is not already there to store exported figures\n",
    "!mkdir ../jupyter_figures\n"
   ]
  },
  {
   "cell_type": "code",
   "execution_count": 2,
   "metadata": {},
   "outputs": [],
   "source": [
    "def get_linescan_data(folder, sgRNA, time_d, n_edges=5):\n",
    "    '''\n",
    "    Read in linescan data and annotate with meta data\n",
    "    \n",
    "    Inputs:\n",
    "    -------\n",
    "        - folder: the folder that contains the linescan output csv file\n",
    "        - sgRNA: which sgRNA was used for the treatment of this group\n",
    "        - time_d: how many days after culture the samples were collected\n",
    "        - n_edges: how many edges were quantified per sample\n",
    "        \n",
    "    Outputs:\n",
    "        - df: pandas data frame with linescan data and annotation data\n",
    "        \n",
    "    '''\n",
    "    \n",
    "    linescan_files = glob.glob(os.path.join(folder, '*.txt'))\n",
    "\n",
    "    if len(linescan_files) > 1:\n",
    "        print('There are more than 1 output file in', folder)\n",
    "        print('The newest one will be used.')\n",
    "        linescan_files = sorted(linescan_files,\n",
    "                                key = os.path.getmtime)\n",
    "        \n",
    "    df = pd.read_csv(linescan_files[-1])\n",
    "    \n",
    "    # annotate data\n",
    "    assert len(df) % 5 == 0\n",
    "    n_organoids = int(len(df) / 5)\n",
    "    \n",
    "    sample_ids = []\n",
    "    for i in range(n_organoids):\n",
    "        for j in range(n_edges):\n",
    "            sample_ids.append(sgRNA + '_' + str(i+1))\n",
    "    \n",
    "    df['sample_id'] = sample_ids\n",
    "    df['sgRNA'] = [sgRNA]*len(df)\n",
    "    df['time_d'] = time_d\n",
    "    df['groups'] = [sgRNA + '_' + str(time_d)]*len(df)\n",
    "    \n",
    "    return df"
   ]
  },
  {
   "cell_type": "code",
   "execution_count": 3,
   "metadata": {},
   "outputs": [],
   "source": [
    "input_folder = '../data/220608-b1int-IF-E16/'\n",
    "folders = glob.glob(os.path.join(input_folder, '*line-scan-output' + os.path.sep))"
   ]
  },
  {
   "cell_type": "code",
   "execution_count": 4,
   "metadata": {},
   "outputs": [],
   "source": [
    "dfs = []\n",
    "for folder in folders:\n",
    "    if folder.endswith(os.path.sep):\n",
    "        folder = folder[:-1]\n",
    "    sgRNA = os.path.basename(folder).split('-')[2]\n",
    "    time_d = 4\n",
    "    dfs.append(get_linescan_data(folder, sgRNA, time_d, n_edges=5))"
   ]
  },
  {
   "cell_type": "code",
   "execution_count": 5,
   "metadata": {},
   "outputs": [],
   "source": [
    "df = pd.concat(dfs)\n",
    "df.reset_index(drop=True, inplace=True)"
   ]
  },
  {
   "cell_type": "code",
   "execution_count": 6,
   "metadata": {},
   "outputs": [
    {
     "data": {
      "text/html": [
       "<div>\n",
       "<style scoped>\n",
       "    .dataframe tbody tr th:only-of-type {\n",
       "        vertical-align: middle;\n",
       "    }\n",
       "\n",
       "    .dataframe tbody tr th {\n",
       "        vertical-align: top;\n",
       "    }\n",
       "\n",
       "    .dataframe thead th {\n",
       "        text-align: right;\n",
       "    }\n",
       "</style>\n",
       "<table border=\"1\" class=\"dataframe\">\n",
       "  <thead>\n",
       "    <tr style=\"text-align: right;\">\n",
       "      <th></th>\n",
       "      <th>file_name</th>\n",
       "      <th>edge_category</th>\n",
       "      <th>id</th>\n",
       "      <th>b1int_AUC</th>\n",
       "      <th>b1int_peak_height</th>\n",
       "      <th>NLSmSL_cell_1</th>\n",
       "      <th>NLSmSL_cell_2</th>\n",
       "      <th>z_position</th>\n",
       "      <th>sample_id</th>\n",
       "      <th>sgRNA</th>\n",
       "      <th>time_d</th>\n",
       "      <th>groups</th>\n",
       "    </tr>\n",
       "  </thead>\n",
       "  <tbody>\n",
       "    <tr>\n",
       "      <th>160</th>\n",
       "      <td>3</td>\n",
       "      <td>High_High</td>\n",
       "      <td>1</td>\n",
       "      <td>169.3868</td>\n",
       "      <td>22.7746</td>\n",
       "      <td>1715.1177</td>\n",
       "      <td>1000.0299</td>\n",
       "      <td>1</td>\n",
       "      <td>403_3</td>\n",
       "      <td>403</td>\n",
       "      <td>4</td>\n",
       "      <td>403_4</td>\n",
       "    </tr>\n",
       "    <tr>\n",
       "      <th>161</th>\n",
       "      <td>3</td>\n",
       "      <td>High_High</td>\n",
       "      <td>2</td>\n",
       "      <td>441.8480</td>\n",
       "      <td>40.0999</td>\n",
       "      <td>815.4210</td>\n",
       "      <td>1369.2257</td>\n",
       "      <td>1</td>\n",
       "      <td>403_3</td>\n",
       "      <td>403</td>\n",
       "      <td>4</td>\n",
       "      <td>403_4</td>\n",
       "    </tr>\n",
       "    <tr>\n",
       "      <th>162</th>\n",
       "      <td>3</td>\n",
       "      <td>High_High</td>\n",
       "      <td>3</td>\n",
       "      <td>-103.7256</td>\n",
       "      <td>30.4196</td>\n",
       "      <td>4095.0000</td>\n",
       "      <td>1843.2200</td>\n",
       "      <td>1</td>\n",
       "      <td>403_3</td>\n",
       "      <td>403</td>\n",
       "      <td>4</td>\n",
       "      <td>403_4</td>\n",
       "    </tr>\n",
       "    <tr>\n",
       "      <th>163</th>\n",
       "      <td>3</td>\n",
       "      <td>High_High</td>\n",
       "      <td>4</td>\n",
       "      <td>939.8510</td>\n",
       "      <td>68.4402</td>\n",
       "      <td>3008.0131</td>\n",
       "      <td>3025.0636</td>\n",
       "      <td>1</td>\n",
       "      <td>403_3</td>\n",
       "      <td>403</td>\n",
       "      <td>4</td>\n",
       "      <td>403_4</td>\n",
       "    </tr>\n",
       "    <tr>\n",
       "      <th>164</th>\n",
       "      <td>3</td>\n",
       "      <td>High_High</td>\n",
       "      <td>5</td>\n",
       "      <td>221.6023</td>\n",
       "      <td>25.0188</td>\n",
       "      <td>1400.8460</td>\n",
       "      <td>1428.5251</td>\n",
       "      <td>1</td>\n",
       "      <td>403_3</td>\n",
       "      <td>403</td>\n",
       "      <td>4</td>\n",
       "      <td>403_4</td>\n",
       "    </tr>\n",
       "  </tbody>\n",
       "</table>\n",
       "</div>"
      ],
      "text/plain": [
       "     file_name edge_category  id  b1int_AUC  b1int_peak_height  NLSmSL_cell_1  \\\n",
       "160          3     High_High   1   169.3868            22.7746      1715.1177   \n",
       "161          3     High_High   2   441.8480            40.0999       815.4210   \n",
       "162          3     High_High   3  -103.7256            30.4196      4095.0000   \n",
       "163          3     High_High   4   939.8510            68.4402      3008.0131   \n",
       "164          3     High_High   5   221.6023            25.0188      1400.8460   \n",
       "\n",
       "     NLSmSL_cell_2  z_position sample_id sgRNA  time_d groups  \n",
       "160      1000.0299           1     403_3   403       4  403_4  \n",
       "161      1369.2257           1     403_3   403       4  403_4  \n",
       "162      1843.2200           1     403_3   403       4  403_4  \n",
       "163      3025.0636           1     403_3   403       4  403_4  \n",
       "164      1428.5251           1     403_3   403       4  403_4  "
      ]
     },
     "execution_count": 6,
     "metadata": {},
     "output_type": "execute_result"
    }
   ],
   "source": [
    "df.tail()"
   ]
  },
  {
   "cell_type": "code",
   "execution_count": 7,
   "metadata": {},
   "outputs": [],
   "source": [
    "ctrl_average = df[df.sgRNA=='188'].b1int_peak_height.mean()\n",
    "df['b1int_normed'] = df['b1int_peak_height'] / ctrl_average"
   ]
  },
  {
   "cell_type": "code",
   "execution_count": 13,
   "metadata": {},
   "outputs": [
    {
     "data": {
      "image/png": "[encoded data removed]",
      "text/plain": [
       "<Figure size 360x540 with 1 Axes>"
      ]
     },
     "metadata": {
      "needs_background": "light"
     },
     "output_type": "display_data"
    }
   ],
   "source": [
    "# Swarm plot of 4 categories\n",
    "\n",
    "outputPrefix = '220608-IF-b1-integrin-E16-d4-bar-swarm'\n",
    "outputFigPath = \"../jupyter_figures/\" + outputPrefix + \".svg\"\n",
    "\n",
    "fig_width = 1.2\n",
    "fig_height = 1.8\n",
    "\n",
    "fig = plt.figure(figsize=(fig_width,fig_height), dpi=300)\n",
    "# ax = fig.add_axes([0.1, 0.1, 0.8, 0.8])\n",
    "ax = fig.add_axes([0.35, 0.4, 0.6, 0.55])\n",
    "\n",
    "ax = sns.swarmplot(x='groups', y='b1int_normed', data=df,\n",
    "                   # hue='sample_id',\n",
    "#                    palette={'1': 'red', '2': 'green', '3': 'blue', '4': yellow', '5': 'purple'},\n",
    "                   color=\"blue\",\n",
    "                   size=1.0, alpha=.6)\n",
    "\n",
    "ax = sns.barplot(x='groups', y='b1int_normed', data=df,\n",
    "                 color=\".7\", alpha=1.0,\n",
    "                 errwidth=.7, errcolor=\"k\", capsize=.2, ci='sd')\n",
    "\n",
    "# plt.ylim(0, 1.7)\n",
    "# plt.ylim(0, 2.7)\n",
    "# plt.yticks([0, 3, 6])\n",
    "\n",
    "plt.xlabel(None)\n",
    "# plt.ylabel(r\"$\\beta$1-integrin intensity\")\n",
    "plt.ylabel('ITGB1 intensity')\n",
    "\n",
    "# make the bar width narrower\n",
    "change_bar_width(ax, .5)\n",
    "\n",
    "# rotate x tick labels\n",
    "# x_labels = ax.get_xticklabels()\n",
    "x_labels = ['sg-Control', 'sg1-Itgb1', 'sg2-Itgb1', 'sg3-Itgb1']\n",
    "ax.set_xticklabels(labels=x_labels, rotation=45, ha=\"right\")\n",
    "\n",
    "# ax.get_legend().remove()\n",
    "\n",
    "for o in fig.findobj():\n",
    "    o.set_clip_on(False)\n",
    "for o in ax.findobj():\n",
    "    o.set_clip_on(False)\n",
    "\n",
    "if outputFigPath is not None:\n",
    "    plt.savefig(outputFigPath)\n"
   ]
  },
  {
   "cell_type": "code",
   "execution_count": 10,
   "metadata": {},
   "outputs": [
    {
     "name": "stdout",
     "output_type": "stream",
     "text": [
      "Summary of test:\n",
      " Multiple Comparison of Means - Tukey HSD, FWER=0.05 \n",
      "====================================================\n",
      "group1 group2 meandiff p-adj   lower   upper  reject\n",
      "----------------------------------------------------\n",
      " 188_4  401_4  -0.6693  0.001 -0.8653 -0.4733   True\n",
      " 188_4  402_4  -0.6995  0.001 -0.9198 -0.4793   True\n",
      " 188_4  403_4   -0.729  0.001 -0.9313 -0.5267   True\n",
      " 401_4  402_4  -0.0302    0.9  -0.255  0.1946  False\n",
      " 401_4  403_4  -0.0597 0.8656  -0.267  0.1475  False\n",
      " 402_4  403_4  -0.0295    0.9 -0.2598  0.2009  False\n",
      "----------------------------------------------------\n",
      "p values of all pair-wise tests:\n",
      " [0.001      0.001      0.001      0.9        0.86560462 0.9       ]\n"
     ]
    },
    {
     "data": {
      "text/plain": [
       "<statsmodels.sandbox.stats.multicomp.TukeyHSDResults at 0x7f9c38277af0>"
      ]
     },
     "execution_count": 10,
     "metadata": {},
     "output_type": "execute_result"
    }
   ],
   "source": [
    "tukeyTest(df.b1int_normed, df.groups)"
   ]
  },
  {
   "cell_type": "code",
   "execution_count": 12,
   "metadata": {},
   "outputs": [
    {
     "name": "stdout",
     "output_type": "stream",
     "text": [
      "188 n = 50\n",
      "401 n = 45\n",
      "402 n = 30\n",
      "403 n = 40\n"
     ]
    }
   ],
   "source": [
    "for i in df.sgRNA.unique():\n",
    "    print(i, 'n =', len(df[df.sgRNA==i]))"
   ]
  },
  {
   "cell_type": "code",
   "execution_count": null,
   "metadata": {},
   "outputs": [],
   "source": []
  }
 ],
 "metadata": {
  "kernelspec": {
   "display_name": "Python 3 (ipykernel)",
   "language": "python",
   "name": "python3"
  },
  "language_info": {
   "codemirror_mode": {
    "name": "ipython",
    "version": 3
   },
   "file_extension": ".py",
   "mimetype": "text/x-python",
   "name": "python",
   "nbconvert_exporter": "python",
   "pygments_lexer": "ipython3",
   "version": "3.9.5"
  }
 },
 "nbformat": 4,
 "nbformat_minor": 4
}
