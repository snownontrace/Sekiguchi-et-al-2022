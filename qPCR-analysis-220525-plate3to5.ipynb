{
 "cells": [
  {
   "cell_type": "code",
   "execution_count": 1,
   "id": "ec1f6d73-3ad7-4908-89d5-2f7ca6735fbf",
   "metadata": {},
   "outputs": [
    {
     "name": "stdout",
     "output_type": "stream",
     "text": [
      "mkdir: ../jupyter_figures: File exists\n"
     ]
    }
   ],
   "source": [
    "import sys, os, glob, warnings, logging\n",
    "import string\n",
    "import numpy as np\n",
    "import pandas as pd\n",
    "import matplotlib\n",
    "import matplotlib.pyplot as plt\n",
    "import seaborn as sns\n",
    "from scipy import stats\n",
    "from sw_plotting import change_bar_width\n",
    "from sw_utilities import tukeyTest\n",
    "\n",
    "logging.basicConfig(stream=sys.stdout, format='%(asctime)s - %(levelname)s - %(message)s', level=logging.ERROR)\n",
    "# logging.basicConfig(stream=sys.stdout, format='%(asctime)s - %(levelname)s - %(message)s', level=logging.INFO)\n",
    "# logging.basicConfig(stream=sys.stdout, format='%(asctime)s - %(levelname)s - %(message)s', level=logging.DEBUG)\n",
    "\n",
    "# ignore warnings\n",
    "warnings.filterwarnings('ignore')\n",
    "\n",
    "# plotting configuration\n",
    "font = {'family' : 'Arial',\n",
    "        'size'   : 7}\n",
    "matplotlib.rc('font', **font)\n",
    "plt.rcParams['svg.fonttype'] = 'none'\n",
    "\n",
    "# Make a folder if it is not already there to store exported figures\n",
    "!mkdir ../jupyter_figures\n"
   ]
  },
  {
   "cell_type": "code",
   "execution_count": 2,
   "id": "f561ed82-2192-4426-8adf-df14b0d35732",
   "metadata": {},
   "outputs": [],
   "source": [
    "def layout_to_annotation(plate_id,\n",
    "                         data_folder='../data/qPCR-data',\n",
    "                         template_layout_file=None,\n",
    "                         primer_layout_file=None):\n",
    "    '''\n",
    "    '''\n",
    "    if template_layout_file is None:\n",
    "        template_layout_files = glob.glob(os.path.join(data_folder, '*'+plate_id+'*template*layout*.csv'))\n",
    "        assert len(template_layout_files) == 1\n",
    "        template_layout_file = template_layout_files[0]\n",
    "    \n",
    "    if primer_layout_file is None:\n",
    "        primer_layout_files = glob.glob(os.path.join(data_folder, '*'+plate_id+'*primer*layout*.csv'))\n",
    "        assert len(primer_layout_files) == 1\n",
    "        primer_layout_file = primer_layout_files[0]\n",
    "    \n",
    "    # Extract template information\n",
    "    with open(template_layout_file, 'r') as f:\n",
    "        lines = f.readlines()\n",
    "    assert lines[0].startswith('template')\n",
    "    \n",
    "    template_list = []\n",
    "    for line in lines[1:]:\n",
    "        temp = line.strip().split(',')\n",
    "        assert len(temp) == 13\n",
    "        template_list = template_list + temp[1:]\n",
    "\n",
    "    assert len(template_list) == 96\n",
    "    \n",
    "    # Extract primer information\n",
    "    with open(primer_layout_file, 'r') as f:\n",
    "        lines = f.readlines()\n",
    "    assert lines[0].startswith('primer')\n",
    "    \n",
    "    primer_list = []\n",
    "    for line in lines[1:]:\n",
    "        temp = line.strip().split(',')\n",
    "        assert len(temp) == 13\n",
    "        primer_list = primer_list + temp[1:]\n",
    "\n",
    "    assert len(primer_list) == 96\n",
    "    \n",
    "    wells = []\n",
    "    for i in string.ascii_uppercase[:8]:\n",
    "        for j in range(1,13):\n",
    "            wells.append(i+'{:02d}'.format(j))\n",
    "    \n",
    "    annotation_file = os.path.join(data_folder, plate_id+'-annotation.csv')\n",
    "    with open(annotation_file, 'w') as f:\n",
    "        f.write(','.join(['Well', 'Sample', 'Primer']) + '\\n')\n",
    "        for i in range(96):\n",
    "            f.write(','.join([wells[i], template_list[i], primer_list[i]]) + '\\n')"
   ]
  },
  {
   "cell_type": "code",
   "execution_count": 3,
   "id": "29cf1fd1-af0b-460f-ab20-94cf83041b6e",
   "metadata": {},
   "outputs": [],
   "source": [
    "def get_plate_data(plate_id, data_folder='../data/qPCR-data'):\n",
    "    ''' Given a plate id:\n",
    "          1. Locate the annotation csv file and the quantification Cq results csv file\n",
    "          2. Extract useful data, merge and return the data frame\n",
    "    '''\n",
    "    layout_to_annotation(plate_id)\n",
    "    annotation_files = glob.glob(os.path.join(data_folder, '*'+plate_id+'*annotation.csv'))\n",
    "    assert len(annotation_files) == 1\n",
    "    annotation_file = annotation_files[0]\n",
    "    \n",
    "    exported_csv_folders = glob.glob(os.path.join(data_folder, '*'+plate_id+'*'+os.path.sep))\n",
    "    assert len(exported_csv_folders) == 1\n",
    "    exported_csv_folder = exported_csv_folders[0]\n",
    "    \n",
    "    data_files = glob.glob(os.path.join(exported_csv_folder, '*Quantification Cq Results.csv'))\n",
    "    assert len(data_files) == 1\n",
    "    data_file = data_files[0]\n",
    "    \n",
    "    df = pd.read_csv(annotation_file)\n",
    "    df_annotation = df[['Well', 'Sample', 'Primer']]\n",
    "    \n",
    "    df = pd.read_csv(data_file)\n",
    "    df_data = df[['Well', 'Cq']]\n",
    "    \n",
    "    df = df_annotation.merge(df_data, on='Well')\n",
    "    df.dropna(inplace=True)\n",
    "    \n",
    "    return df\n",
    "\n",
    "def get_expression_data(df, test_primer, ref_primer='Rps29 v1'):\n",
    "    ''' From the data frame containing qPCR data and annotation, \n",
    "        calculate average values of replicates and deltaCq values of each sample\n",
    "        \n",
    "    '''\n",
    "    for i in ['Well', 'Sample', 'Primer', 'Cq']:\n",
    "        assert i in df.columns\n",
    "    \n",
    "    df_ref = df[df.Primer==ref_primer]\n",
    "    df_ref.rename(columns={'Cq': 'Cq_ref'}, inplace=True)\n",
    "    \n",
    "    df_test = df[df.Primer==test_primer]\n",
    "    df_test.rename(columns={'Cq': 'Cq_test'}, inplace=True)\n",
    "    \n",
    "    # calculate average values of technical replicates\n",
    "    df_ref_mean = df_ref.groupby('Sample').mean()\n",
    "    df_ref_mean.reset_index(inplace=True)\n",
    "    \n",
    "    df_test_mean = df_test.groupby('Sample').mean()\n",
    "    df_test_mean.reset_index(inplace=True)\n",
    "    \n",
    "    df = df_ref_mean.merge(df_test_mean, on='Sample')\n",
    "    df['deltaCq'] = df.Cq_test - df.Cq_ref\n",
    "    df['relExp'] = 2**(-df.deltaCq)\n",
    "    df['Group'] = [df.Sample[i][:-2] for i in range(len(df))]\n",
    "    \n",
    "    return df\n"
   ]
  },
  {
   "cell_type": "code",
   "execution_count": 4,
   "id": "efcf0422-23ad-4b71-b55b-26a6719ed5a0",
   "metadata": {},
   "outputs": [],
   "source": [
    "# Read in data\n",
    "df_plate3 = get_plate_data('20220525-plate3')\n",
    "df_plate4 = get_plate_data('20220525-plate4')\n",
    "df_plate5 = get_plate_data('20220525-plate5')"
   ]
  },
  {
   "cell_type": "code",
   "execution_count": 5,
   "id": "4a33278c-da84-40cb-aec5-68f7e58deaa7",
   "metadata": {},
   "outputs": [],
   "source": [
    "# Concatenate the data (stacking up and down)\n",
    "df = pd.concat([df_plate3, df_plate4, df_plate5])\n",
    "df.reset_index(inplace=True, drop=True)"
   ]
  },
  {
   "cell_type": "code",
   "execution_count": 6,
   "id": "f9906e3e-cd0e-4837-aba8-23a2c5d37064",
   "metadata": {},
   "outputs": [
    {
     "data": {
      "text/html": [
       "<div>\n",
       "<style scoped>\n",
       "    .dataframe tbody tr th:only-of-type {\n",
       "        vertical-align: middle;\n",
       "    }\n",
       "\n",
       "    .dataframe tbody tr th {\n",
       "        vertical-align: top;\n",
       "    }\n",
       "\n",
       "    .dataframe thead th {\n",
       "        text-align: right;\n",
       "    }\n",
       "</style>\n",
       "<table border=\"1\" class=\"dataframe\">\n",
       "  <thead>\n",
       "    <tr style=\"text-align: right;\">\n",
       "      <th></th>\n",
       "      <th>Well</th>\n",
       "      <th>Sample</th>\n",
       "      <th>Primer</th>\n",
       "      <th>Cq</th>\n",
       "    </tr>\n",
       "  </thead>\n",
       "  <tbody>\n",
       "    <tr>\n",
       "      <th>0</th>\n",
       "      <td>A01</td>\n",
       "      <td>1-188-1</td>\n",
       "      <td>Rps29 v1</td>\n",
       "      <td>19.870996</td>\n",
       "    </tr>\n",
       "    <tr>\n",
       "      <th>1</th>\n",
       "      <td>A02</td>\n",
       "      <td>1-188-1</td>\n",
       "      <td>Rps29 v1</td>\n",
       "      <td>19.804993</td>\n",
       "    </tr>\n",
       "    <tr>\n",
       "      <th>2</th>\n",
       "      <td>A03</td>\n",
       "      <td>1-188-1</td>\n",
       "      <td>Rps29 v1</td>\n",
       "      <td>19.605794</td>\n",
       "    </tr>\n",
       "    <tr>\n",
       "      <th>3</th>\n",
       "      <td>A04</td>\n",
       "      <td>1-188-1</td>\n",
       "      <td>Itgb1 sg1 v1</td>\n",
       "      <td>23.618603</td>\n",
       "    </tr>\n",
       "    <tr>\n",
       "      <th>4</th>\n",
       "      <td>A05</td>\n",
       "      <td>1-188-1</td>\n",
       "      <td>Itgb1 sg1 v1</td>\n",
       "      <td>23.529432</td>\n",
       "    </tr>\n",
       "    <tr>\n",
       "      <th>...</th>\n",
       "      <td>...</td>\n",
       "      <td>...</td>\n",
       "      <td>...</td>\n",
       "      <td>...</td>\n",
       "    </tr>\n",
       "    <tr>\n",
       "      <th>235</th>\n",
       "      <td>H02</td>\n",
       "      <td>2-403-8</td>\n",
       "      <td>Rps29 v1</td>\n",
       "      <td>22.945891</td>\n",
       "    </tr>\n",
       "    <tr>\n",
       "      <th>236</th>\n",
       "      <td>H03</td>\n",
       "      <td>2-403-8</td>\n",
       "      <td>Rps29 v1</td>\n",
       "      <td>23.041317</td>\n",
       "    </tr>\n",
       "    <tr>\n",
       "      <th>237</th>\n",
       "      <td>H04</td>\n",
       "      <td>2-403-8</td>\n",
       "      <td>Itgb1 sg3 v1</td>\n",
       "      <td>28.543950</td>\n",
       "    </tr>\n",
       "    <tr>\n",
       "      <th>238</th>\n",
       "      <td>H05</td>\n",
       "      <td>2-403-8</td>\n",
       "      <td>Itgb1 sg3 v1</td>\n",
       "      <td>28.589372</td>\n",
       "    </tr>\n",
       "    <tr>\n",
       "      <th>239</th>\n",
       "      <td>H06</td>\n",
       "      <td>2-403-8</td>\n",
       "      <td>Itgb1 sg3 v1</td>\n",
       "      <td>28.786691</td>\n",
       "    </tr>\n",
       "  </tbody>\n",
       "</table>\n",
       "<p>240 rows × 4 columns</p>\n",
       "</div>"
      ],
      "text/plain": [
       "    Well   Sample        Primer         Cq\n",
       "0    A01  1-188-1      Rps29 v1  19.870996\n",
       "1    A02  1-188-1      Rps29 v1  19.804993\n",
       "2    A03  1-188-1      Rps29 v1  19.605794\n",
       "3    A04  1-188-1  Itgb1 sg1 v1  23.618603\n",
       "4    A05  1-188-1  Itgb1 sg1 v1  23.529432\n",
       "..   ...      ...           ...        ...\n",
       "235  H02  2-403-8      Rps29 v1  22.945891\n",
       "236  H03  2-403-8      Rps29 v1  23.041317\n",
       "237  H04  2-403-8  Itgb1 sg3 v1  28.543950\n",
       "238  H05  2-403-8  Itgb1 sg3 v1  28.589372\n",
       "239  H06  2-403-8  Itgb1 sg3 v1  28.786691\n",
       "\n",
       "[240 rows x 4 columns]"
      ]
     },
     "execution_count": 6,
     "metadata": {},
     "output_type": "execute_result"
    }
   ],
   "source": [
    "df"
   ]
  },
  {
   "cell_type": "code",
   "execution_count": 7,
   "id": "c4c82282-37d7-48e3-870c-7a0f420f172f",
   "metadata": {},
   "outputs": [],
   "source": [
    "df_sg1 = get_expression_data(df, 'Itgb1 sg1 v1')"
   ]
  },
  {
   "cell_type": "code",
   "execution_count": 8,
   "id": "697fd19e-be65-4465-847c-fe2eed124674",
   "metadata": {},
   "outputs": [
    {
     "data": {
      "text/html": [
       "<div>\n",
       "<style scoped>\n",
       "    .dataframe tbody tr th:only-of-type {\n",
       "        vertical-align: middle;\n",
       "    }\n",
       "\n",
       "    .dataframe tbody tr th {\n",
       "        vertical-align: top;\n",
       "    }\n",
       "\n",
       "    .dataframe thead th {\n",
       "        text-align: right;\n",
       "    }\n",
       "</style>\n",
       "<table border=\"1\" class=\"dataframe\">\n",
       "  <thead>\n",
       "    <tr style=\"text-align: right;\">\n",
       "      <th></th>\n",
       "      <th>Sample</th>\n",
       "      <th>Cq_ref</th>\n",
       "      <th>Cq_test</th>\n",
       "      <th>deltaCq</th>\n",
       "      <th>relExp</th>\n",
       "      <th>Group</th>\n",
       "    </tr>\n",
       "  </thead>\n",
       "  <tbody>\n",
       "    <tr>\n",
       "      <th>0</th>\n",
       "      <td>1-188-1</td>\n",
       "      <td>19.760594</td>\n",
       "      <td>23.503611</td>\n",
       "      <td>3.743017</td>\n",
       "      <td>0.074686</td>\n",
       "      <td>1-188</td>\n",
       "    </tr>\n",
       "    <tr>\n",
       "      <th>1</th>\n",
       "      <td>1-188-2</td>\n",
       "      <td>20.973606</td>\n",
       "      <td>25.302116</td>\n",
       "      <td>4.328509</td>\n",
       "      <td>0.049772</td>\n",
       "      <td>1-188</td>\n",
       "    </tr>\n",
       "    <tr>\n",
       "      <th>2</th>\n",
       "      <td>1-188-3</td>\n",
       "      <td>19.399780</td>\n",
       "      <td>23.625935</td>\n",
       "      <td>4.226155</td>\n",
       "      <td>0.053432</td>\n",
       "      <td>1-188</td>\n",
       "    </tr>\n",
       "    <tr>\n",
       "      <th>3</th>\n",
       "      <td>1-188-4</td>\n",
       "      <td>20.766016</td>\n",
       "      <td>24.974736</td>\n",
       "      <td>4.208720</td>\n",
       "      <td>0.054082</td>\n",
       "      <td>1-188</td>\n",
       "    </tr>\n",
       "    <tr>\n",
       "      <th>4</th>\n",
       "      <td>1-188-5</td>\n",
       "      <td>24.878703</td>\n",
       "      <td>29.384501</td>\n",
       "      <td>4.505798</td>\n",
       "      <td>0.044017</td>\n",
       "      <td>1-188</td>\n",
       "    </tr>\n",
       "    <tr>\n",
       "      <th>5</th>\n",
       "      <td>1-188-6</td>\n",
       "      <td>21.794087</td>\n",
       "      <td>25.636496</td>\n",
       "      <td>3.842409</td>\n",
       "      <td>0.069714</td>\n",
       "      <td>1-188</td>\n",
       "    </tr>\n",
       "    <tr>\n",
       "      <th>6</th>\n",
       "      <td>1-188-7</td>\n",
       "      <td>20.799839</td>\n",
       "      <td>25.311534</td>\n",
       "      <td>4.511695</td>\n",
       "      <td>0.043837</td>\n",
       "      <td>1-188</td>\n",
       "    </tr>\n",
       "    <tr>\n",
       "      <th>7</th>\n",
       "      <td>1-188-8</td>\n",
       "      <td>20.836073</td>\n",
       "      <td>24.483958</td>\n",
       "      <td>3.647885</td>\n",
       "      <td>0.079777</td>\n",
       "      <td>1-188</td>\n",
       "    </tr>\n",
       "    <tr>\n",
       "      <th>8</th>\n",
       "      <td>1-401-1</td>\n",
       "      <td>20.254450</td>\n",
       "      <td>25.330177</td>\n",
       "      <td>5.075727</td>\n",
       "      <td>0.029652</td>\n",
       "      <td>1-401</td>\n",
       "    </tr>\n",
       "    <tr>\n",
       "      <th>9</th>\n",
       "      <td>1-401-2</td>\n",
       "      <td>19.663666</td>\n",
       "      <td>24.744556</td>\n",
       "      <td>5.080890</td>\n",
       "      <td>0.029546</td>\n",
       "      <td>1-401</td>\n",
       "    </tr>\n",
       "    <tr>\n",
       "      <th>10</th>\n",
       "      <td>1-401-3</td>\n",
       "      <td>19.343486</td>\n",
       "      <td>24.437431</td>\n",
       "      <td>5.093944</td>\n",
       "      <td>0.029280</td>\n",
       "      <td>1-401</td>\n",
       "    </tr>\n",
       "    <tr>\n",
       "      <th>11</th>\n",
       "      <td>1-401-4</td>\n",
       "      <td>20.253024</td>\n",
       "      <td>24.788365</td>\n",
       "      <td>4.535340</td>\n",
       "      <td>0.043125</td>\n",
       "      <td>1-401</td>\n",
       "    </tr>\n",
       "    <tr>\n",
       "      <th>12</th>\n",
       "      <td>1-401-5</td>\n",
       "      <td>21.087898</td>\n",
       "      <td>25.971990</td>\n",
       "      <td>4.884092</td>\n",
       "      <td>0.033864</td>\n",
       "      <td>1-401</td>\n",
       "    </tr>\n",
       "    <tr>\n",
       "      <th>13</th>\n",
       "      <td>1-401-6</td>\n",
       "      <td>22.010307</td>\n",
       "      <td>27.089591</td>\n",
       "      <td>5.079284</td>\n",
       "      <td>0.029579</td>\n",
       "      <td>1-401</td>\n",
       "    </tr>\n",
       "    <tr>\n",
       "      <th>14</th>\n",
       "      <td>1-401-7</td>\n",
       "      <td>19.456925</td>\n",
       "      <td>24.049150</td>\n",
       "      <td>4.592225</td>\n",
       "      <td>0.041457</td>\n",
       "      <td>1-401</td>\n",
       "    </tr>\n",
       "    <tr>\n",
       "      <th>15</th>\n",
       "      <td>1-401-8</td>\n",
       "      <td>20.567791</td>\n",
       "      <td>25.365366</td>\n",
       "      <td>4.797576</td>\n",
       "      <td>0.035957</td>\n",
       "      <td>1-401</td>\n",
       "    </tr>\n",
       "  </tbody>\n",
       "</table>\n",
       "</div>"
      ],
      "text/plain": [
       "     Sample     Cq_ref    Cq_test   deltaCq    relExp  Group\n",
       "0   1-188-1  19.760594  23.503611  3.743017  0.074686  1-188\n",
       "1   1-188-2  20.973606  25.302116  4.328509  0.049772  1-188\n",
       "2   1-188-3  19.399780  23.625935  4.226155  0.053432  1-188\n",
       "3   1-188-4  20.766016  24.974736  4.208720  0.054082  1-188\n",
       "4   1-188-5  24.878703  29.384501  4.505798  0.044017  1-188\n",
       "5   1-188-6  21.794087  25.636496  3.842409  0.069714  1-188\n",
       "6   1-188-7  20.799839  25.311534  4.511695  0.043837  1-188\n",
       "7   1-188-8  20.836073  24.483958  3.647885  0.079777  1-188\n",
       "8   1-401-1  20.254450  25.330177  5.075727  0.029652  1-401\n",
       "9   1-401-2  19.663666  24.744556  5.080890  0.029546  1-401\n",
       "10  1-401-3  19.343486  24.437431  5.093944  0.029280  1-401\n",
       "11  1-401-4  20.253024  24.788365  4.535340  0.043125  1-401\n",
       "12  1-401-5  21.087898  25.971990  4.884092  0.033864  1-401\n",
       "13  1-401-6  22.010307  27.089591  5.079284  0.029579  1-401\n",
       "14  1-401-7  19.456925  24.049150  4.592225  0.041457  1-401\n",
       "15  1-401-8  20.567791  25.365366  4.797576  0.035957  1-401"
      ]
     },
     "execution_count": 8,
     "metadata": {},
     "output_type": "execute_result"
    }
   ],
   "source": [
    "df_sg1"
   ]
  },
  {
   "cell_type": "code",
   "execution_count": 9,
   "id": "4b470502-bb83-4815-97e9-a9dd204d42ef",
   "metadata": {},
   "outputs": [
    {
     "data": {
      "text/plain": [
       "<AxesSubplot:xlabel='Group', ylabel='relExp'>"
      ]
     },
     "execution_count": 9,
     "metadata": {},
     "output_type": "execute_result"
    },
    {
     "data": {
      "image/png": "[encoded data removed]",
      "text/plain": [
       "<Figure size 432x288 with 1 Axes>"
      ]
     },
     "metadata": {
      "needs_background": "light"
     },
     "output_type": "display_data"
    }
   ],
   "source": [
    "sns.barplot(data=df_sg1, x='Group', y='relExp')"
   ]
  },
  {
   "cell_type": "code",
   "execution_count": 10,
   "id": "b96876ad-46e2-446c-8b58-5947c1b37e2e",
   "metadata": {},
   "outputs": [
    {
     "data": {
      "text/plain": [
       "<AxesSubplot:xlabel='Group', ylabel='relExp'>"
      ]
     },
     "execution_count": 10,
     "metadata": {},
     "output_type": "execute_result"
    },
    {
     "data": {
      "image/png": "[encoded data removed]",
      "text/plain": [
       "<Figure size 432x288 with 1 Axes>"
      ]
     },
     "metadata": {
      "needs_background": "light"
     },
     "output_type": "display_data"
    }
   ],
   "source": [
    "sns.scatterplot(data=df_sg1, x='Group', y='relExp')"
   ]
  },
  {
   "cell_type": "code",
   "execution_count": 11,
   "id": "b6c69dab-e451-4279-9b6f-bf2f39fc6943",
   "metadata": {},
   "outputs": [],
   "source": [
    "df_sg2 = get_expression_data(df, 'Itgb1 sg2 v1')"
   ]
  },
  {
   "cell_type": "code",
   "execution_count": 12,
   "id": "2be6a5c6-2e38-43d4-860e-c0236f6253de",
   "metadata": {},
   "outputs": [
    {
     "data": {
      "text/html": [
       "<div>\n",
       "<style scoped>\n",
       "    .dataframe tbody tr th:only-of-type {\n",
       "        vertical-align: middle;\n",
       "    }\n",
       "\n",
       "    .dataframe tbody tr th {\n",
       "        vertical-align: top;\n",
       "    }\n",
       "\n",
       "    .dataframe thead th {\n",
       "        text-align: right;\n",
       "    }\n",
       "</style>\n",
       "<table border=\"1\" class=\"dataframe\">\n",
       "  <thead>\n",
       "    <tr style=\"text-align: right;\">\n",
       "      <th></th>\n",
       "      <th>Sample</th>\n",
       "      <th>Cq_ref</th>\n",
       "      <th>Cq_test</th>\n",
       "      <th>deltaCq</th>\n",
       "      <th>relExp</th>\n",
       "      <th>Group</th>\n",
       "    </tr>\n",
       "  </thead>\n",
       "  <tbody>\n",
       "    <tr>\n",
       "      <th>0</th>\n",
       "      <td>1-188-1</td>\n",
       "      <td>19.760594</td>\n",
       "      <td>23.256513</td>\n",
       "      <td>3.495919</td>\n",
       "      <td>0.088639</td>\n",
       "      <td>1-188</td>\n",
       "    </tr>\n",
       "    <tr>\n",
       "      <th>1</th>\n",
       "      <td>1-188-2</td>\n",
       "      <td>20.973606</td>\n",
       "      <td>24.970328</td>\n",
       "      <td>3.996722</td>\n",
       "      <td>0.062642</td>\n",
       "      <td>1-188</td>\n",
       "    </tr>\n",
       "    <tr>\n",
       "      <th>2</th>\n",
       "      <td>1-188-3</td>\n",
       "      <td>19.399780</td>\n",
       "      <td>23.291593</td>\n",
       "      <td>3.891813</td>\n",
       "      <td>0.067367</td>\n",
       "      <td>1-188</td>\n",
       "    </tr>\n",
       "    <tr>\n",
       "      <th>3</th>\n",
       "      <td>1-188-4</td>\n",
       "      <td>20.766016</td>\n",
       "      <td>24.677269</td>\n",
       "      <td>3.911253</td>\n",
       "      <td>0.066465</td>\n",
       "      <td>1-188</td>\n",
       "    </tr>\n",
       "    <tr>\n",
       "      <th>4</th>\n",
       "      <td>1-188-5</td>\n",
       "      <td>24.878703</td>\n",
       "      <td>28.771838</td>\n",
       "      <td>3.893136</td>\n",
       "      <td>0.067305</td>\n",
       "      <td>1-188</td>\n",
       "    </tr>\n",
       "    <tr>\n",
       "      <th>5</th>\n",
       "      <td>1-188-6</td>\n",
       "      <td>21.794087</td>\n",
       "      <td>25.226742</td>\n",
       "      <td>3.432656</td>\n",
       "      <td>0.092612</td>\n",
       "      <td>1-188</td>\n",
       "    </tr>\n",
       "    <tr>\n",
       "      <th>6</th>\n",
       "      <td>1-188-7</td>\n",
       "      <td>20.799839</td>\n",
       "      <td>25.114199</td>\n",
       "      <td>4.314361</td>\n",
       "      <td>0.050263</td>\n",
       "      <td>1-188</td>\n",
       "    </tr>\n",
       "    <tr>\n",
       "      <th>7</th>\n",
       "      <td>1-188-8</td>\n",
       "      <td>20.836073</td>\n",
       "      <td>24.104698</td>\n",
       "      <td>3.268625</td>\n",
       "      <td>0.103764</td>\n",
       "      <td>1-188</td>\n",
       "    </tr>\n",
       "    <tr>\n",
       "      <th>8</th>\n",
       "      <td>2-402-1</td>\n",
       "      <td>21.064817</td>\n",
       "      <td>26.177930</td>\n",
       "      <td>5.113113</td>\n",
       "      <td>0.028893</td>\n",
       "      <td>2-402</td>\n",
       "    </tr>\n",
       "    <tr>\n",
       "      <th>9</th>\n",
       "      <td>2-402-2</td>\n",
       "      <td>20.133946</td>\n",
       "      <td>25.040474</td>\n",
       "      <td>4.906528</td>\n",
       "      <td>0.033342</td>\n",
       "      <td>2-402</td>\n",
       "    </tr>\n",
       "    <tr>\n",
       "      <th>10</th>\n",
       "      <td>2-402-3</td>\n",
       "      <td>20.513455</td>\n",
       "      <td>25.758629</td>\n",
       "      <td>5.245174</td>\n",
       "      <td>0.026366</td>\n",
       "      <td>2-402</td>\n",
       "    </tr>\n",
       "    <tr>\n",
       "      <th>11</th>\n",
       "      <td>2-402-4</td>\n",
       "      <td>22.439045</td>\n",
       "      <td>27.699840</td>\n",
       "      <td>5.260796</td>\n",
       "      <td>0.026082</td>\n",
       "      <td>2-402</td>\n",
       "    </tr>\n",
       "    <tr>\n",
       "      <th>12</th>\n",
       "      <td>2-402-5</td>\n",
       "      <td>22.179948</td>\n",
       "      <td>27.798803</td>\n",
       "      <td>5.618854</td>\n",
       "      <td>0.020350</td>\n",
       "      <td>2-402</td>\n",
       "    </tr>\n",
       "    <tr>\n",
       "      <th>13</th>\n",
       "      <td>2-402-6</td>\n",
       "      <td>21.738101</td>\n",
       "      <td>27.153316</td>\n",
       "      <td>5.415215</td>\n",
       "      <td>0.023435</td>\n",
       "      <td>2-402</td>\n",
       "    </tr>\n",
       "    <tr>\n",
       "      <th>14</th>\n",
       "      <td>2-402-7</td>\n",
       "      <td>19.407327</td>\n",
       "      <td>24.333140</td>\n",
       "      <td>4.925813</td>\n",
       "      <td>0.032899</td>\n",
       "      <td>2-402</td>\n",
       "    </tr>\n",
       "    <tr>\n",
       "      <th>15</th>\n",
       "      <td>2-402-8</td>\n",
       "      <td>22.096200</td>\n",
       "      <td>27.378234</td>\n",
       "      <td>5.282034</td>\n",
       "      <td>0.025701</td>\n",
       "      <td>2-402</td>\n",
       "    </tr>\n",
       "  </tbody>\n",
       "</table>\n",
       "</div>"
      ],
      "text/plain": [
       "     Sample     Cq_ref    Cq_test   deltaCq    relExp  Group\n",
       "0   1-188-1  19.760594  23.256513  3.495919  0.088639  1-188\n",
       "1   1-188-2  20.973606  24.970328  3.996722  0.062642  1-188\n",
       "2   1-188-3  19.399780  23.291593  3.891813  0.067367  1-188\n",
       "3   1-188-4  20.766016  24.677269  3.911253  0.066465  1-188\n",
       "4   1-188-5  24.878703  28.771838  3.893136  0.067305  1-188\n",
       "5   1-188-6  21.794087  25.226742  3.432656  0.092612  1-188\n",
       "6   1-188-7  20.799839  25.114199  4.314361  0.050263  1-188\n",
       "7   1-188-8  20.836073  24.104698  3.268625  0.103764  1-188\n",
       "8   2-402-1  21.064817  26.177930  5.113113  0.028893  2-402\n",
       "9   2-402-2  20.133946  25.040474  4.906528  0.033342  2-402\n",
       "10  2-402-3  20.513455  25.758629  5.245174  0.026366  2-402\n",
       "11  2-402-4  22.439045  27.699840  5.260796  0.026082  2-402\n",
       "12  2-402-5  22.179948  27.798803  5.618854  0.020350  2-402\n",
       "13  2-402-6  21.738101  27.153316  5.415215  0.023435  2-402\n",
       "14  2-402-7  19.407327  24.333140  4.925813  0.032899  2-402\n",
       "15  2-402-8  22.096200  27.378234  5.282034  0.025701  2-402"
      ]
     },
     "execution_count": 12,
     "metadata": {},
     "output_type": "execute_result"
    }
   ],
   "source": [
    "df_sg2"
   ]
  },
  {
   "cell_type": "code",
   "execution_count": 13,
   "id": "67053bf4-dc70-423b-beab-9025898c0df9",
   "metadata": {
    "tags": []
   },
   "outputs": [
    {
     "data": {
      "text/plain": [
       "<AxesSubplot:xlabel='Group', ylabel='relExp'>"
      ]
     },
     "execution_count": 13,
     "metadata": {},
     "output_type": "execute_result"
    },
    {
     "data": {
      "image/png": "[encoded data removed]",
      "text/plain": [
       "<Figure size 432x288 with 1 Axes>"
      ]
     },
     "metadata": {
      "needs_background": "light"
     },
     "output_type": "display_data"
    }
   ],
   "source": [
    "sns.barplot(data=df_sg2, x='Group', y='relExp')"
   ]
  },
  {
   "cell_type": "code",
   "execution_count": 14,
   "id": "9c68a898-c7f6-47ab-9684-32ff9fc44529",
   "metadata": {},
   "outputs": [
    {
     "data": {
      "text/plain": [
       "<AxesSubplot:xlabel='Group', ylabel='relExp'>"
      ]
     },
     "execution_count": 14,
     "metadata": {},
     "output_type": "execute_result"
    },
    {
     "data": {
      "image/png": "[encoded data removed]",
      "text/plain": [
       "<Figure size 432x288 with 1 Axes>"
      ]
     },
     "metadata": {
      "needs_background": "light"
     },
     "output_type": "display_data"
    }
   ],
   "source": [
    "sns.scatterplot(data=df_sg2, x='Group', y='relExp')"
   ]
  },
  {
   "cell_type": "code",
   "execution_count": 18,
   "id": "e33bb47a-22d2-4c9b-b4a7-82f96edaf06e",
   "metadata": {},
   "outputs": [],
   "source": [
    "df_sg3 = get_expression_data(df, 'Itgb1 sg3 v1')"
   ]
  },
  {
   "cell_type": "code",
   "execution_count": 19,
   "id": "fa52bedc-2de0-4bfd-84c6-311510d8ea91",
   "metadata": {},
   "outputs": [
    {
     "data": {
      "text/plain": [
       "<AxesSubplot:xlabel='Group', ylabel='relExp'>"
      ]
     },
     "execution_count": 19,
     "metadata": {},
     "output_type": "execute_result"
    },
    {
     "data": {
      "image/png": "[encoded data removed]",
      "text/plain": [
       "<Figure size 432x288 with 1 Axes>"
      ]
     },
     "metadata": {
      "needs_background": "light"
     },
     "output_type": "display_data"
    }
   ],
   "source": [
    "sns.barplot(data=df_sg3, x='Group', y='relExp')"
   ]
  },
  {
   "cell_type": "code",
   "execution_count": 20,
   "id": "30609e94-6208-4e91-8aad-f173f72cf360",
   "metadata": {},
   "outputs": [
    {
     "data": {
      "image/png": "[encoded data removed]",
      "text/plain": [
       "<Figure size 432x288 with 1 Axes>"
      ]
     },
     "metadata": {
      "needs_background": "light"
     },
     "output_type": "display_data"
    }
   ],
   "source": [
    "ax=sns.scatterplot(data=df_sg3, x='Group', y='relExp')"
   ]
  },
  {
   "cell_type": "code",
   "execution_count": null,
   "id": "2bffe1f3-3923-42eb-a02b-bac1ab9501dc",
   "metadata": {},
   "outputs": [],
   "source": []
  }
 ],
 "metadata": {
  "kernelspec": {
   "display_name": "Python 3 (ipykernel)",
   "language": "python",
   "name": "python3"
  },
  "language_info": {
   "codemirror_mode": {
    "name": "ipython",
    "version": 3
   },
   "file_extension": ".py",
   "mimetype": "text/x-python",
   "name": "python",
   "nbconvert_exporter": "python",
   "pygments_lexer": "ipython3",
   "version": "3.9.5"
  }
 },
 "nbformat": 4,
 "nbformat_minor": 5
}
